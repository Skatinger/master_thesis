{
 "cells": [
  {
   "cell_type": "code",
   "execution_count": 63,
   "id": "3ae5f124",
   "metadata": {},
   "outputs": [],
   "source": [
    "import pandas as pd\n",
    "import seaborn as sns\n",
    "from datasets import load_dataset\n",
    "from evaluation.loader import ResultLoader as loader\n",
    "from evaluation.single_prediction_eval import SinglePredictionEvaluator\n",
    "from models.model_runner import get_all_model_names, load_test_set\n",
    "loader = loader()"
   ]
  },
  {
   "cell_type": "code",
   "execution_count": 65,
   "id": "f8b09ded",
   "metadata": {},
   "outputs": [
    {
     "name": "stderr",
     "output_type": "stream",
     "text": [
      "WARNING:datasets.builder:Using custom data configuration default-480adc9b1a137378\n",
      "WARNING:datasets.builder:Reusing dataset json (/home/nya/.cache/huggingface/datasets/json/default-480adc9b1a137378/0.0.0/a3e658c4731e59120d44081ac10bf85dc7e1388126b92338344ce9661907f253)\n"
     ]
    }
   ],
   "source": [
    "gt = load_dataset(\"json\", data_files=\"test_data.json\", split=\"train\")"
   ]
  },
  {
   "cell_type": "code",
   "execution_count": 69,
   "id": "bb776e5a",
   "metadata": {
    "scrolled": true
   },
   "outputs": [
    {
     "name": "stderr",
     "output_type": "stream",
     "text": [
      "INFO:root:loading dataset from: results/1000_basic/cerebras-6b7_original_1000.json\n",
      "WARNING:datasets.builder:Using custom data configuration default-259e10613adbe257\n",
      "WARNING:datasets.builder:Reusing dataset json (/home/nya/.cache/huggingface/datasets/json/default-259e10613adbe257/0.0.0/a3e658c4731e59120d44081ac10bf85dc7e1388126b92338344ce9661907f253)\n"
     ]
    },
    {
     "data": {
      "application/vnd.jupyter.widget-view+json": {
       "model_id": "ec1bc148fc69477f87f892d663289bbe",
       "version_major": 2,
       "version_minor": 0
      },
      "text/plain": [
       "  0%|          | 0/1 [00:00<?, ?it/s]"
      ]
     },
     "metadata": {},
     "output_type": "display_data"
    },
    {
     "name": "stderr",
     "output_type": "stream",
     "text": [
      "INFO:root:loading dataset from: results/1000_basic/bloomz-176b_original_1000.json\n",
      "WARNING:datasets.builder:Using custom data configuration default-1100f5d0e69ecb86\n"
     ]
    },
    {
     "name": "stdout",
     "output_type": "stream",
     "text": [
      "Downloading and preparing dataset json/default to /home/nya/.cache/huggingface/datasets/json/default-1100f5d0e69ecb86/0.0.0/a3e658c4731e59120d44081ac10bf85dc7e1388126b92338344ce9661907f253...\n"
     ]
    },
    {
     "data": {
      "application/vnd.jupyter.widget-view+json": {
       "model_id": "4f3631f5f3124fbeb02f5e5cb95d5abe",
       "version_major": 2,
       "version_minor": 0
      },
      "text/plain": [
       "Downloading data files:   0%|          | 0/1 [00:00<?, ?it/s]"
      ]
     },
     "metadata": {},
     "output_type": "display_data"
    },
    {
     "data": {
      "application/vnd.jupyter.widget-view+json": {
       "model_id": "2b1a8eaf6b974c0e83a2c1381cc48a6a",
       "version_major": 2,
       "version_minor": 0
      },
      "text/plain": [
       "Extracting data files:   0%|          | 0/1 [00:00<?, ?it/s]"
      ]
     },
     "metadata": {},
     "output_type": "display_data"
    },
    {
     "data": {
      "application/vnd.jupyter.widget-view+json": {
       "model_id": "",
       "version_major": 2,
       "version_minor": 0
      },
      "text/plain": [
       "0 tables [00:00, ? tables/s]"
      ]
     },
     "metadata": {},
     "output_type": "display_data"
    },
    {
     "name": "stdout",
     "output_type": "stream",
     "text": [
      "Dataset json downloaded and prepared to /home/nya/.cache/huggingface/datasets/json/default-1100f5d0e69ecb86/0.0.0/a3e658c4731e59120d44081ac10bf85dc7e1388126b92338344ce9661907f253. Subsequent calls will reuse this data.\n"
     ]
    },
    {
     "data": {
      "application/vnd.jupyter.widget-view+json": {
       "model_id": "5cdd11b37a61419da9cfe9c68ac104aa",
       "version_major": 2,
       "version_minor": 0
      },
      "text/plain": [
       "  0%|          | 0/1 [00:00<?, ?it/s]"
      ]
     },
     "metadata": {},
     "output_type": "display_data"
    },
    {
     "name": "stderr",
     "output_type": "stream",
     "text": [
      "INFO:root:loading dataset from: results/1000_basic/bloomz-3b_paraphrased_1000.json\n",
      "WARNING:datasets.builder:Using custom data configuration default-bc004eb87119c454\n",
      "WARNING:datasets.builder:Reusing dataset json (/home/nya/.cache/huggingface/datasets/json/default-bc004eb87119c454/0.0.0/a3e658c4731e59120d44081ac10bf85dc7e1388126b92338344ce9661907f253)\n"
     ]
    },
    {
     "data": {
      "application/vnd.jupyter.widget-view+json": {
       "model_id": "67335c37556a4f94bbc2570d9be39dea",
       "version_major": 2,
       "version_minor": 0
      },
      "text/plain": [
       "  0%|          | 0/1 [00:00<?, ?it/s]"
      ]
     },
     "metadata": {},
     "output_type": "display_data"
    },
    {
     "name": "stderr",
     "output_type": "stream",
     "text": [
      "INFO:root:loading dataset from: results/1000_basic/cerebras-0b111_original_1000.json\n",
      "WARNING:datasets.builder:Using custom data configuration default-a55d8a7f596a4d52\n",
      "WARNING:datasets.builder:Reusing dataset json (/home/nya/.cache/huggingface/datasets/json/default-a55d8a7f596a4d52/0.0.0/a3e658c4731e59120d44081ac10bf85dc7e1388126b92338344ce9661907f253)\n"
     ]
    },
    {
     "data": {
      "application/vnd.jupyter.widget-view+json": {
       "model_id": "0a704c564ebc44c8990215598dba4d37",
       "version_major": 2,
       "version_minor": 0
      },
      "text/plain": [
       "  0%|          | 0/1 [00:00<?, ?it/s]"
      ]
     },
     "metadata": {},
     "output_type": "display_data"
    },
    {
     "name": "stderr",
     "output_type": "stream",
     "text": [
      "INFO:root:loading dataset from: results/1000_basic/cerebras-2b7_paraphrased_1000.json\n",
      "WARNING:datasets.builder:Using custom data configuration default-5e21e2e481f56fcd\n",
      "WARNING:datasets.builder:Reusing dataset json (/home/nya/.cache/huggingface/datasets/json/default-5e21e2e481f56fcd/0.0.0/a3e658c4731e59120d44081ac10bf85dc7e1388126b92338344ce9661907f253)\n"
     ]
    },
    {
     "data": {
      "application/vnd.jupyter.widget-view+json": {
       "model_id": "6629f8cd2a7f4213a00c9793b0a07fc7",
       "version_major": 2,
       "version_minor": 0
      },
      "text/plain": [
       "  0%|          | 0/1 [00:00<?, ?it/s]"
      ]
     },
     "metadata": {},
     "output_type": "display_data"
    },
    {
     "name": "stderr",
     "output_type": "stream",
     "text": [
      "INFO:root:loading dataset from: results/1000_basic/bloomz-7b1_original_1000.json\n",
      "WARNING:datasets.builder:Using custom data configuration default-09008cd37ccee985\n",
      "WARNING:datasets.builder:Reusing dataset json (/home/nya/.cache/huggingface/datasets/json/default-09008cd37ccee985/0.0.0/a3e658c4731e59120d44081ac10bf85dc7e1388126b92338344ce9661907f253)\n"
     ]
    },
    {
     "data": {
      "application/vnd.jupyter.widget-view+json": {
       "model_id": "9b1c4129a51549289cc3ad23ec47899d",
       "version_major": 2,
       "version_minor": 0
      },
      "text/plain": [
       "  0%|          | 0/1 [00:00<?, ?it/s]"
      ]
     },
     "metadata": {},
     "output_type": "display_data"
    },
    {
     "name": "stderr",
     "output_type": "stream",
     "text": [
      "INFO:root:loading dataset from: results/1000_basic/bloomz-3b_original_1000.json\n",
      "WARNING:datasets.builder:Using custom data configuration default-2659a84c6cd452d5\n",
      "WARNING:datasets.builder:Reusing dataset json (/home/nya/.cache/huggingface/datasets/json/default-2659a84c6cd452d5/0.0.0/a3e658c4731e59120d44081ac10bf85dc7e1388126b92338344ce9661907f253)\n"
     ]
    },
    {
     "data": {
      "application/vnd.jupyter.widget-view+json": {
       "model_id": "142f337e058744bbb3c77c747cd119de",
       "version_major": 2,
       "version_minor": 0
      },
      "text/plain": [
       "  0%|          | 0/1 [00:00<?, ?it/s]"
      ]
     },
     "metadata": {},
     "output_type": "display_data"
    },
    {
     "name": "stderr",
     "output_type": "stream",
     "text": [
      "INFO:root:loading dataset from: results/1000_basic/cerebras-0b111_paraphrased_1000.json\n",
      "WARNING:datasets.builder:Using custom data configuration default-5be1ccc812bf0df4\n",
      "WARNING:datasets.builder:Reusing dataset json (/home/nya/.cache/huggingface/datasets/json/default-5be1ccc812bf0df4/0.0.0/a3e658c4731e59120d44081ac10bf85dc7e1388126b92338344ce9661907f253)\n"
     ]
    },
    {
     "data": {
      "application/vnd.jupyter.widget-view+json": {
       "model_id": "ce2f2a78f360408bb41b35fd04529f86",
       "version_major": 2,
       "version_minor": 0
      },
      "text/plain": [
       "  0%|          | 0/1 [00:00<?, ?it/s]"
      ]
     },
     "metadata": {},
     "output_type": "display_data"
    },
    {
     "name": "stderr",
     "output_type": "stream",
     "text": [
      "INFO:root:loading dataset from: results/1000_basic/gpt3.turbo-175b_paraphrased_1000.json\n",
      "WARNING:datasets.builder:Using custom data configuration default-e8a752d9a46af393\n"
     ]
    },
    {
     "name": "stdout",
     "output_type": "stream",
     "text": [
      "Downloading and preparing dataset json/default to /home/nya/.cache/huggingface/datasets/json/default-e8a752d9a46af393/0.0.0/a3e658c4731e59120d44081ac10bf85dc7e1388126b92338344ce9661907f253...\n"
     ]
    },
    {
     "data": {
      "application/vnd.jupyter.widget-view+json": {
       "model_id": "919209c3f8b14e3c91fb2dbd5ae31811",
       "version_major": 2,
       "version_minor": 0
      },
      "text/plain": [
       "Downloading data files:   0%|          | 0/1 [00:00<?, ?it/s]"
      ]
     },
     "metadata": {},
     "output_type": "display_data"
    },
    {
     "data": {
      "application/vnd.jupyter.widget-view+json": {
       "model_id": "e666960e1dc5400fa46f11463d2f2fb6",
       "version_major": 2,
       "version_minor": 0
      },
      "text/plain": [
       "Extracting data files:   0%|          | 0/1 [00:00<?, ?it/s]"
      ]
     },
     "metadata": {},
     "output_type": "display_data"
    },
    {
     "data": {
      "application/vnd.jupyter.widget-view+json": {
       "model_id": "",
       "version_major": 2,
       "version_minor": 0
      },
      "text/plain": [
       "0 tables [00:00, ? tables/s]"
      ]
     },
     "metadata": {},
     "output_type": "display_data"
    },
    {
     "name": "stdout",
     "output_type": "stream",
     "text": [
      "Dataset json downloaded and prepared to /home/nya/.cache/huggingface/datasets/json/default-e8a752d9a46af393/0.0.0/a3e658c4731e59120d44081ac10bf85dc7e1388126b92338344ce9661907f253. Subsequent calls will reuse this data.\n"
     ]
    },
    {
     "data": {
      "application/vnd.jupyter.widget-view+json": {
       "model_id": "ad501ddd2a604c78af0c8b030284278e",
       "version_major": 2,
       "version_minor": 0
      },
      "text/plain": [
       "  0%|          | 0/1 [00:00<?, ?it/s]"
      ]
     },
     "metadata": {},
     "output_type": "display_data"
    },
    {
     "name": "stderr",
     "output_type": "stream",
     "text": [
      "INFO:root:loading dataset from: results/1000_basic/bloomz-1b7_paraphrased_1000.json\n",
      "WARNING:datasets.builder:Using custom data configuration default-961a73710ff8054c\n",
      "WARNING:datasets.builder:Reusing dataset json (/home/nya/.cache/huggingface/datasets/json/default-961a73710ff8054c/0.0.0/a3e658c4731e59120d44081ac10bf85dc7e1388126b92338344ce9661907f253)\n"
     ]
    },
    {
     "data": {
      "application/vnd.jupyter.widget-view+json": {
       "model_id": "1e29a615c3324668892c36bbc37710d0",
       "version_major": 2,
       "version_minor": 0
      },
      "text/plain": [
       "  0%|          | 0/1 [00:00<?, ?it/s]"
      ]
     },
     "metadata": {},
     "output_type": "display_data"
    },
    {
     "name": "stderr",
     "output_type": "stream",
     "text": [
      "INFO:root:loading dataset from: results/1000_basic/bloomz-7b1_paraphrased_1000.json\n",
      "WARNING:datasets.builder:Using custom data configuration default-935385c473f430f6\n",
      "WARNING:datasets.builder:Reusing dataset json (/home/nya/.cache/huggingface/datasets/json/default-935385c473f430f6/0.0.0/a3e658c4731e59120d44081ac10bf85dc7e1388126b92338344ce9661907f253)\n"
     ]
    },
    {
     "data": {
      "application/vnd.jupyter.widget-view+json": {
       "model_id": "ce36cfb08ca746818dbfd464286f5d6d",
       "version_major": 2,
       "version_minor": 0
      },
      "text/plain": [
       "  0%|          | 0/1 [00:00<?, ?it/s]"
      ]
     },
     "metadata": {},
     "output_type": "display_data"
    },
    {
     "name": "stderr",
     "output_type": "stream",
     "text": [
      "INFO:root:loading dataset from: results/1000_basic/cerebras-6b7_paraphrased_1000.json\n",
      "WARNING:datasets.builder:Using custom data configuration default-21c19117f61b2054\n",
      "WARNING:datasets.builder:Reusing dataset json (/home/nya/.cache/huggingface/datasets/json/default-21c19117f61b2054/0.0.0/a3e658c4731e59120d44081ac10bf85dc7e1388126b92338344ce9661907f253)\n"
     ]
    },
    {
     "data": {
      "application/vnd.jupyter.widget-view+json": {
       "model_id": "4311446c33ca4222bfa9103c82b4dc2d",
       "version_major": 2,
       "version_minor": 0
      },
      "text/plain": [
       "  0%|          | 0/1 [00:00<?, ?it/s]"
      ]
     },
     "metadata": {},
     "output_type": "display_data"
    },
    {
     "name": "stderr",
     "output_type": "stream",
     "text": [
      "INFO:root:loading dataset from: results/1000_basic/bloomz-1b7_original_1000.json\n",
      "WARNING:datasets.builder:Using custom data configuration default-2b4520d97203f5b6\n",
      "WARNING:datasets.builder:Reusing dataset json (/home/nya/.cache/huggingface/datasets/json/default-2b4520d97203f5b6/0.0.0/a3e658c4731e59120d44081ac10bf85dc7e1388126b92338344ce9661907f253)\n"
     ]
    },
    {
     "data": {
      "application/vnd.jupyter.widget-view+json": {
       "model_id": "dfdce5168ef5487c944ecdaa733e3de4",
       "version_major": 2,
       "version_minor": 0
      },
      "text/plain": [
       "  0%|          | 0/1 [00:00<?, ?it/s]"
      ]
     },
     "metadata": {},
     "output_type": "display_data"
    },
    {
     "name": "stderr",
     "output_type": "stream",
     "text": [
      "INFO:root:loading dataset from: results/1000_basic/cerebras-2b7_original_1000.json\n",
      "WARNING:datasets.builder:Using custom data configuration default-b3be792c4e9e5ece\n",
      "WARNING:datasets.builder:Reusing dataset json (/home/nya/.cache/huggingface/datasets/json/default-b3be792c4e9e5ece/0.0.0/a3e658c4731e59120d44081ac10bf85dc7e1388126b92338344ce9661907f253)\n"
     ]
    },
    {
     "data": {
      "application/vnd.jupyter.widget-view+json": {
       "model_id": "c6367a4b86484f1895b53b03c6ab16ae",
       "version_major": 2,
       "version_minor": 0
      },
      "text/plain": [
       "  0%|          | 0/1 [00:00<?, ?it/s]"
      ]
     },
     "metadata": {},
     "output_type": "display_data"
    },
    {
     "name": "stderr",
     "output_type": "stream",
     "text": [
      "INFO:root:loading dataset from: results/1000_basic/bloomz-1b1_original_1000.json\n",
      "WARNING:datasets.builder:Using custom data configuration default-6ea4cc82747c4934\n",
      "WARNING:datasets.builder:Reusing dataset json (/home/nya/.cache/huggingface/datasets/json/default-6ea4cc82747c4934/0.0.0/a3e658c4731e59120d44081ac10bf85dc7e1388126b92338344ce9661907f253)\n"
     ]
    },
    {
     "data": {
      "application/vnd.jupyter.widget-view+json": {
       "model_id": "8740df2e342e4552a3771bff22fd1c6f",
       "version_major": 2,
       "version_minor": 0
      },
      "text/plain": [
       "  0%|          | 0/1 [00:00<?, ?it/s]"
      ]
     },
     "metadata": {},
     "output_type": "display_data"
    },
    {
     "name": "stderr",
     "output_type": "stream",
     "text": [
      "INFO:root:loading dataset from: results/1000_basic/bloomz-176b_paraphrased_1000.json\n",
      "WARNING:datasets.builder:Using custom data configuration default-f93a6a50ef453f4e\n"
     ]
    },
    {
     "name": "stdout",
     "output_type": "stream",
     "text": [
      "Downloading and preparing dataset json/default to /home/nya/.cache/huggingface/datasets/json/default-f93a6a50ef453f4e/0.0.0/a3e658c4731e59120d44081ac10bf85dc7e1388126b92338344ce9661907f253...\n"
     ]
    },
    {
     "data": {
      "application/vnd.jupyter.widget-view+json": {
       "model_id": "afca86ca82f442d79d9bcc16224326ac",
       "version_major": 2,
       "version_minor": 0
      },
      "text/plain": [
       "Downloading data files:   0%|          | 0/1 [00:00<?, ?it/s]"
      ]
     },
     "metadata": {},
     "output_type": "display_data"
    },
    {
     "data": {
      "application/vnd.jupyter.widget-view+json": {
       "model_id": "4f6e3314fe764fa18342228d6f19206a",
       "version_major": 2,
       "version_minor": 0
      },
      "text/plain": [
       "Extracting data files:   0%|          | 0/1 [00:00<?, ?it/s]"
      ]
     },
     "metadata": {},
     "output_type": "display_data"
    },
    {
     "data": {
      "application/vnd.jupyter.widget-view+json": {
       "model_id": "",
       "version_major": 2,
       "version_minor": 0
      },
      "text/plain": [
       "0 tables [00:00, ? tables/s]"
      ]
     },
     "metadata": {},
     "output_type": "display_data"
    },
    {
     "name": "stdout",
     "output_type": "stream",
     "text": [
      "Dataset json downloaded and prepared to /home/nya/.cache/huggingface/datasets/json/default-f93a6a50ef453f4e/0.0.0/a3e658c4731e59120d44081ac10bf85dc7e1388126b92338344ce9661907f253. Subsequent calls will reuse this data.\n"
     ]
    },
    {
     "data": {
      "application/vnd.jupyter.widget-view+json": {
       "model_id": "63ca63cc762647e99a6803c4412e2d52",
       "version_major": 2,
       "version_minor": 0
      },
      "text/plain": [
       "  0%|          | 0/1 [00:00<?, ?it/s]"
      ]
     },
     "metadata": {},
     "output_type": "display_data"
    },
    {
     "name": "stderr",
     "output_type": "stream",
     "text": [
      "INFO:root:loading dataset from: results/1000_basic/cerebras-1b3_original_1000.json\n",
      "WARNING:datasets.builder:Using custom data configuration default-94dc98ce8c62c520\n",
      "WARNING:datasets.builder:Reusing dataset json (/home/nya/.cache/huggingface/datasets/json/default-94dc98ce8c62c520/0.0.0/a3e658c4731e59120d44081ac10bf85dc7e1388126b92338344ce9661907f253)\n"
     ]
    },
    {
     "data": {
      "application/vnd.jupyter.widget-view+json": {
       "model_id": "94954bf73ebd489ca9b88e1c5326d9e5",
       "version_major": 2,
       "version_minor": 0
      },
      "text/plain": [
       "  0%|          | 0/1 [00:00<?, ?it/s]"
      ]
     },
     "metadata": {},
     "output_type": "display_data"
    },
    {
     "name": "stderr",
     "output_type": "stream",
     "text": [
      "INFO:root:loading dataset from: results/1000_basic/cerebras-1b3_paraphrased_1000.json\n",
      "WARNING:datasets.builder:Using custom data configuration default-df8bdd26fa87e067\n",
      "WARNING:datasets.builder:Reusing dataset json (/home/nya/.cache/huggingface/datasets/json/default-df8bdd26fa87e067/0.0.0/a3e658c4731e59120d44081ac10bf85dc7e1388126b92338344ce9661907f253)\n"
     ]
    },
    {
     "data": {
      "application/vnd.jupyter.widget-view+json": {
       "model_id": "fa3e6c62562e4a11a34046f38db7df79",
       "version_major": 2,
       "version_minor": 0
      },
      "text/plain": [
       "  0%|          | 0/1 [00:00<?, ?it/s]"
      ]
     },
     "metadata": {},
     "output_type": "display_data"
    },
    {
     "name": "stderr",
     "output_type": "stream",
     "text": [
      "INFO:root:loading dataset from: results/1000_basic/gpt3.turbo-175b_original_1000.json\n",
      "WARNING:datasets.builder:Using custom data configuration default-c54703527b67c3b1\n"
     ]
    },
    {
     "name": "stdout",
     "output_type": "stream",
     "text": [
      "Downloading and preparing dataset json/default to /home/nya/.cache/huggingface/datasets/json/default-c54703527b67c3b1/0.0.0/a3e658c4731e59120d44081ac10bf85dc7e1388126b92338344ce9661907f253...\n"
     ]
    },
    {
     "data": {
      "application/vnd.jupyter.widget-view+json": {
       "model_id": "8eb9792567d94156b7d912f91e552210",
       "version_major": 2,
       "version_minor": 0
      },
      "text/plain": [
       "Downloading data files:   0%|          | 0/1 [00:00<?, ?it/s]"
      ]
     },
     "metadata": {},
     "output_type": "display_data"
    },
    {
     "data": {
      "application/vnd.jupyter.widget-view+json": {
       "model_id": "f352d456fe9c45d18d11c5955b07a64d",
       "version_major": 2,
       "version_minor": 0
      },
      "text/plain": [
       "Extracting data files:   0%|          | 0/1 [00:00<?, ?it/s]"
      ]
     },
     "metadata": {},
     "output_type": "display_data"
    },
    {
     "data": {
      "application/vnd.jupyter.widget-view+json": {
       "model_id": "",
       "version_major": 2,
       "version_minor": 0
      },
      "text/plain": [
       "0 tables [00:00, ? tables/s]"
      ]
     },
     "metadata": {},
     "output_type": "display_data"
    },
    {
     "name": "stdout",
     "output_type": "stream",
     "text": [
      "Dataset json downloaded and prepared to /home/nya/.cache/huggingface/datasets/json/default-c54703527b67c3b1/0.0.0/a3e658c4731e59120d44081ac10bf85dc7e1388126b92338344ce9661907f253. Subsequent calls will reuse this data.\n"
     ]
    },
    {
     "data": {
      "application/vnd.jupyter.widget-view+json": {
       "model_id": "b3e8a5dd61b6496e9dc6d0292e831fc6",
       "version_major": 2,
       "version_minor": 0
      },
      "text/plain": [
       "  0%|          | 0/1 [00:00<?, ?it/s]"
      ]
     },
     "metadata": {},
     "output_type": "display_data"
    },
    {
     "name": "stderr",
     "output_type": "stream",
     "text": [
      "INFO:root:loading dataset from: results/1000_basic/bloomz-1b1_paraphrased_1000.json\n",
      "WARNING:datasets.builder:Using custom data configuration default-ce703d50659dad7f\n",
      "WARNING:datasets.builder:Reusing dataset json (/home/nya/.cache/huggingface/datasets/json/default-ce703d50659dad7f/0.0.0/a3e658c4731e59120d44081ac10bf85dc7e1388126b92338344ce9661907f253)\n"
     ]
    },
    {
     "data": {
      "application/vnd.jupyter.widget-view+json": {
       "model_id": "93162879572e4df29869092730de1e70",
       "version_major": 2,
       "version_minor": 0
      },
      "text/plain": [
       "  0%|          | 0/1 [00:00<?, ?it/s]"
      ]
     },
     "metadata": {},
     "output_type": "display_data"
    }
   ],
   "source": [
    "data = loader.load('1000_basic')"
   ]
  },
  {
   "cell_type": "code",
   "execution_count": 70,
   "id": "d2715b60",
   "metadata": {},
   "outputs": [],
   "source": [
    "import Levenshtein\n",
    "import re\n",
    "def compute_precision_for_page(page):\n",
    "    distance = Levenshtein.distance(page[\"prediction\"], page[\"title\"], score_cutoff=15)\n",
    "    regex = \"|\".join(['.*(' + nameFragment + ').*' for nameFragment in page[\"title\"].split()])\n",
    "    if re.match(regex, page[\"prediction\"]):\n",
    "        return { \"correct\": 1, \"prediction\": page[\"prediction\"], \"title\": page[\"title\"], \"distance\": distance }\n",
    "    else:\n",
    "        return { \"correct\": 0, \"prediction\": page[\"prediction\"], \"title\": page[\"title\"], \"distance\": distance }"
   ]
  },
  {
   "cell_type": "code",
   "execution_count": 71,
   "id": "0ac75074",
   "metadata": {},
   "outputs": [
    {
     "name": "stderr",
     "output_type": "stream",
     "text": [
      "WARNING:datasets.arrow_dataset:Loading cached processed dataset at /home/nya/.cache/huggingface/datasets/json/default-480adc9b1a137378/0.0.0/a3e658c4731e59120d44081ac10bf85dc7e1388126b92338344ce9661907f253/cache-6d7221641e595508.arrow\n",
      "WARNING:datasets.arrow_dataset:Loading cached processed dataset at /home/nya/.cache/huggingface/datasets/json/default-480adc9b1a137378/0.0.0/a3e658c4731e59120d44081ac10bf85dc7e1388126b92338344ce9661907f253/cache-a8ef8d04196c9c0d.arrow\n"
     ]
    },
    {
     "name": "stdout",
     "output_type": "stream",
     "text": [
      "     "
     ]
    },
    {
     "name": "stderr",
     "output_type": "stream",
     "text": [
      "WARNING:datasets.arrow_dataset:Loading cached processed dataset at /home/nya/.cache/huggingface/datasets/json/default-259e10613adbe257/0.0.0/a3e658c4731e59120d44081ac10bf85dc7e1388126b92338344ce9661907f253/cache-6afaaa776a989091.arrow\n"
     ]
    },
    {
     "name": "stdout",
     "output_type": "stream",
     "text": [
      " "
     ]
    },
    {
     "name": "stderr",
     "output_type": "stream",
     "text": [
      "WARNING:datasets.arrow_dataset:Loading cached processed dataset at /home/nya/.cache/huggingface/datasets/json/default-259e10613adbe257/0.0.0/a3e658c4731e59120d44081ac10bf85dc7e1388126b92338344ce9661907f253/cache-9bb27e9f23b119d7.arrow\n"
     ]
    },
    {
     "name": "stdout",
     "output_type": "stream",
     "text": [
      " "
     ]
    },
    {
     "name": "stderr",
     "output_type": "stream",
     "text": [
      "WARNING:datasets.arrow_dataset:Loading cached processed dataset at /home/nya/.cache/huggingface/datasets/json/default-259e10613adbe257/0.0.0/a3e658c4731e59120d44081ac10bf85dc7e1388126b92338344ce9661907f253/cache-d013bb66e1fb7fc3.arrow\n"
     ]
    },
    {
     "name": "stdout",
     "output_type": "stream",
     "text": [
      " "
     ]
    },
    {
     "name": "stderr",
     "output_type": "stream",
     "text": [
      "WARNING:datasets.arrow_dataset:Loading cached processed dataset at /home/nya/.cache/huggingface/datasets/json/default-259e10613adbe257/0.0.0/a3e658c4731e59120d44081ac10bf85dc7e1388126b92338344ce9661907f253/cache-2de7bc3543d51782.arrow\n",
      "WARNING:datasets.arrow_dataset:Loading cached processed dataset at /home/nya/.cache/huggingface/datasets/json/default-259e10613adbe257/0.0.0/a3e658c4731e59120d44081ac10bf85dc7e1388126b92338344ce9661907f253/cache-c56671f18dc5a45c.arrow\n",
      "WARNING:datasets.arrow_dataset:Loading cached processed dataset at /home/nya/.cache/huggingface/datasets/json/default-259e10613adbe257/0.0.0/a3e658c4731e59120d44081ac10bf85dc7e1388126b92338344ce9661907f253/cache-df720d12b8a8538a.arrow\n"
     ]
    },
    {
     "name": "stdout",
     "output_type": "stream",
     "text": [
      "     "
     ]
    },
    {
     "name": "stderr",
     "output_type": "stream",
     "text": [
      "WARNING:datasets.arrow_dataset:Loading cached processed dataset at /home/nya/.cache/huggingface/datasets/json/default-21c19117f61b2054/0.0.0/a3e658c4731e59120d44081ac10bf85dc7e1388126b92338344ce9661907f253/cache-fefe907a7e6ef5a5.arrow\n"
     ]
    },
    {
     "name": "stdout",
     "output_type": "stream",
     "text": [
      " "
     ]
    },
    {
     "name": "stderr",
     "output_type": "stream",
     "text": [
      "WARNING:datasets.arrow_dataset:Loading cached processed dataset at /home/nya/.cache/huggingface/datasets/json/default-21c19117f61b2054/0.0.0/a3e658c4731e59120d44081ac10bf85dc7e1388126b92338344ce9661907f253/cache-ebdcc390ea4445ca.arrow\n"
     ]
    },
    {
     "name": "stdout",
     "output_type": "stream",
     "text": [
      " "
     ]
    },
    {
     "name": "stderr",
     "output_type": "stream",
     "text": [
      "WARNING:datasets.arrow_dataset:Loading cached processed dataset at /home/nya/.cache/huggingface/datasets/json/default-21c19117f61b2054/0.0.0/a3e658c4731e59120d44081ac10bf85dc7e1388126b92338344ce9661907f253/cache-2c1d5b657009336b.arrow\n"
     ]
    },
    {
     "name": "stdout",
     "output_type": "stream",
     "text": [
      " "
     ]
    },
    {
     "name": "stderr",
     "output_type": "stream",
     "text": [
      "WARNING:datasets.arrow_dataset:Loading cached processed dataset at /home/nya/.cache/huggingface/datasets/json/default-21c19117f61b2054/0.0.0/a3e658c4731e59120d44081ac10bf85dc7e1388126b92338344ce9661907f253/cache-4d28ca1a99e3ca96.arrow\n",
      "WARNING:datasets.arrow_dataset:Loading cached processed dataset at /home/nya/.cache/huggingface/datasets/json/default-21c19117f61b2054/0.0.0/a3e658c4731e59120d44081ac10bf85dc7e1388126b92338344ce9661907f253/cache-330aaf98890988d8.arrow\n",
      "WARNING:datasets.arrow_dataset:Loading cached processed dataset at /home/nya/.cache/huggingface/datasets/json/default-21c19117f61b2054/0.0.0/a3e658c4731e59120d44081ac10bf85dc7e1388126b92338344ce9661907f253/cache-2faea5c8ca07fb93.arrow\n"
     ]
    },
    {
     "name": "stdout",
     "output_type": "stream",
     "text": [
      "     "
     ]
    },
    {
     "name": "stderr",
     "output_type": "stream",
     "text": [
      "WARNING:datasets.arrow_dataset:Loading cached processed dataset at /home/nya/.cache/huggingface/datasets/json/default-a55d8a7f596a4d52/0.0.0/a3e658c4731e59120d44081ac10bf85dc7e1388126b92338344ce9661907f253/cache-874f9fdf7a410143.arrow\n"
     ]
    },
    {
     "name": "stdout",
     "output_type": "stream",
     "text": [
      " "
     ]
    },
    {
     "name": "stderr",
     "output_type": "stream",
     "text": [
      "WARNING:datasets.arrow_dataset:Loading cached processed dataset at /home/nya/.cache/huggingface/datasets/json/default-a55d8a7f596a4d52/0.0.0/a3e658c4731e59120d44081ac10bf85dc7e1388126b92338344ce9661907f253/cache-a30ffa7040517f34.arrow\n"
     ]
    },
    {
     "name": "stdout",
     "output_type": "stream",
     "text": [
      " "
     ]
    },
    {
     "name": "stderr",
     "output_type": "stream",
     "text": [
      "WARNING:datasets.arrow_dataset:Loading cached processed dataset at /home/nya/.cache/huggingface/datasets/json/default-a55d8a7f596a4d52/0.0.0/a3e658c4731e59120d44081ac10bf85dc7e1388126b92338344ce9661907f253/cache-654436d218503736.arrow\n"
     ]
    },
    {
     "name": "stdout",
     "output_type": "stream",
     "text": [
      " "
     ]
    },
    {
     "name": "stderr",
     "output_type": "stream",
     "text": [
      "WARNING:datasets.arrow_dataset:Loading cached processed dataset at /home/nya/.cache/huggingface/datasets/json/default-a55d8a7f596a4d52/0.0.0/a3e658c4731e59120d44081ac10bf85dc7e1388126b92338344ce9661907f253/cache-29808a10fa31d2af.arrow\n",
      "WARNING:datasets.arrow_dataset:Loading cached processed dataset at /home/nya/.cache/huggingface/datasets/json/default-a55d8a7f596a4d52/0.0.0/a3e658c4731e59120d44081ac10bf85dc7e1388126b92338344ce9661907f253/cache-3573233953c2dab2.arrow\n",
      "WARNING:datasets.arrow_dataset:Loading cached processed dataset at /home/nya/.cache/huggingface/datasets/json/default-a55d8a7f596a4d52/0.0.0/a3e658c4731e59120d44081ac10bf85dc7e1388126b92338344ce9661907f253/cache-c334bcd42340c495.arrow\n"
     ]
    },
    {
     "name": "stdout",
     "output_type": "stream",
     "text": [
      "     "
     ]
    },
    {
     "name": "stderr",
     "output_type": "stream",
     "text": [
      "WARNING:datasets.arrow_dataset:Loading cached processed dataset at /home/nya/.cache/huggingface/datasets/json/default-5be1ccc812bf0df4/0.0.0/a3e658c4731e59120d44081ac10bf85dc7e1388126b92338344ce9661907f253/cache-4a6aed17203b212c.arrow\n"
     ]
    },
    {
     "name": "stdout",
     "output_type": "stream",
     "text": [
      " "
     ]
    },
    {
     "name": "stderr",
     "output_type": "stream",
     "text": [
      "WARNING:datasets.arrow_dataset:Loading cached processed dataset at /home/nya/.cache/huggingface/datasets/json/default-5be1ccc812bf0df4/0.0.0/a3e658c4731e59120d44081ac10bf85dc7e1388126b92338344ce9661907f253/cache-8c35664b90c46985.arrow\n"
     ]
    },
    {
     "name": "stdout",
     "output_type": "stream",
     "text": [
      " "
     ]
    },
    {
     "name": "stderr",
     "output_type": "stream",
     "text": [
      "WARNING:datasets.arrow_dataset:Loading cached processed dataset at /home/nya/.cache/huggingface/datasets/json/default-5be1ccc812bf0df4/0.0.0/a3e658c4731e59120d44081ac10bf85dc7e1388126b92338344ce9661907f253/cache-0a56a584a7cedc21.arrow\n"
     ]
    },
    {
     "name": "stdout",
     "output_type": "stream",
     "text": [
      " "
     ]
    },
    {
     "name": "stderr",
     "output_type": "stream",
     "text": [
      "WARNING:datasets.arrow_dataset:Loading cached processed dataset at /home/nya/.cache/huggingface/datasets/json/default-5be1ccc812bf0df4/0.0.0/a3e658c4731e59120d44081ac10bf85dc7e1388126b92338344ce9661907f253/cache-d5917107755fc10b.arrow\n",
      "WARNING:datasets.arrow_dataset:Loading cached processed dataset at /home/nya/.cache/huggingface/datasets/json/default-5be1ccc812bf0df4/0.0.0/a3e658c4731e59120d44081ac10bf85dc7e1388126b92338344ce9661907f253/cache-08bdf5b256217dda.arrow\n",
      "WARNING:datasets.arrow_dataset:Loading cached processed dataset at /home/nya/.cache/huggingface/datasets/json/default-5be1ccc812bf0df4/0.0.0/a3e658c4731e59120d44081ac10bf85dc7e1388126b92338344ce9661907f253/cache-df8b9901e901082d.arrow\n"
     ]
    },
    {
     "name": "stdout",
     "output_type": "stream",
     "text": [
      "     "
     ]
    },
    {
     "name": "stderr",
     "output_type": "stream",
     "text": [
      "WARNING:datasets.arrow_dataset:Loading cached processed dataset at /home/nya/.cache/huggingface/datasets/json/default-b3be792c4e9e5ece/0.0.0/a3e658c4731e59120d44081ac10bf85dc7e1388126b92338344ce9661907f253/cache-408c522a93545c19.arrow\n"
     ]
    },
    {
     "name": "stdout",
     "output_type": "stream",
     "text": [
      " "
     ]
    },
    {
     "name": "stderr",
     "output_type": "stream",
     "text": [
      "WARNING:datasets.arrow_dataset:Loading cached processed dataset at /home/nya/.cache/huggingface/datasets/json/default-b3be792c4e9e5ece/0.0.0/a3e658c4731e59120d44081ac10bf85dc7e1388126b92338344ce9661907f253/cache-64e6eeb86f3b97ad.arrow\n"
     ]
    },
    {
     "name": "stdout",
     "output_type": "stream",
     "text": [
      " "
     ]
    },
    {
     "name": "stderr",
     "output_type": "stream",
     "text": [
      "WARNING:datasets.arrow_dataset:Loading cached processed dataset at /home/nya/.cache/huggingface/datasets/json/default-b3be792c4e9e5ece/0.0.0/a3e658c4731e59120d44081ac10bf85dc7e1388126b92338344ce9661907f253/cache-bb8b495216d42d85.arrow\n"
     ]
    },
    {
     "name": "stdout",
     "output_type": "stream",
     "text": [
      " "
     ]
    },
    {
     "name": "stderr",
     "output_type": "stream",
     "text": [
      "WARNING:datasets.arrow_dataset:Loading cached processed dataset at /home/nya/.cache/huggingface/datasets/json/default-b3be792c4e9e5ece/0.0.0/a3e658c4731e59120d44081ac10bf85dc7e1388126b92338344ce9661907f253/cache-0e789bb39dd456e5.arrow\n",
      "WARNING:datasets.arrow_dataset:Loading cached processed dataset at /home/nya/.cache/huggingface/datasets/json/default-b3be792c4e9e5ece/0.0.0/a3e658c4731e59120d44081ac10bf85dc7e1388126b92338344ce9661907f253/cache-b89e3812f7dc1fe1.arrow\n",
      "WARNING:datasets.arrow_dataset:Loading cached processed dataset at /home/nya/.cache/huggingface/datasets/json/default-b3be792c4e9e5ece/0.0.0/a3e658c4731e59120d44081ac10bf85dc7e1388126b92338344ce9661907f253/cache-5c0d4e4c1079e77f.arrow\n"
     ]
    },
    {
     "name": "stdout",
     "output_type": "stream",
     "text": [
      "     "
     ]
    },
    {
     "name": "stderr",
     "output_type": "stream",
     "text": [
      "WARNING:datasets.arrow_dataset:Loading cached processed dataset at /home/nya/.cache/huggingface/datasets/json/default-5e21e2e481f56fcd/0.0.0/a3e658c4731e59120d44081ac10bf85dc7e1388126b92338344ce9661907f253/cache-8bfbcac91c501e7f.arrow\n"
     ]
    },
    {
     "name": "stdout",
     "output_type": "stream",
     "text": [
      " "
     ]
    },
    {
     "name": "stderr",
     "output_type": "stream",
     "text": [
      "WARNING:datasets.arrow_dataset:Loading cached processed dataset at /home/nya/.cache/huggingface/datasets/json/default-5e21e2e481f56fcd/0.0.0/a3e658c4731e59120d44081ac10bf85dc7e1388126b92338344ce9661907f253/cache-b5529391ebfda381.arrow\n"
     ]
    },
    {
     "name": "stdout",
     "output_type": "stream",
     "text": [
      " "
     ]
    },
    {
     "name": "stderr",
     "output_type": "stream",
     "text": [
      "WARNING:datasets.arrow_dataset:Loading cached processed dataset at /home/nya/.cache/huggingface/datasets/json/default-5e21e2e481f56fcd/0.0.0/a3e658c4731e59120d44081ac10bf85dc7e1388126b92338344ce9661907f253/cache-3bf5f62c7db9a978.arrow\n"
     ]
    },
    {
     "name": "stdout",
     "output_type": "stream",
     "text": [
      " "
     ]
    },
    {
     "name": "stderr",
     "output_type": "stream",
     "text": [
      "WARNING:datasets.arrow_dataset:Loading cached processed dataset at /home/nya/.cache/huggingface/datasets/json/default-5e21e2e481f56fcd/0.0.0/a3e658c4731e59120d44081ac10bf85dc7e1388126b92338344ce9661907f253/cache-9c4d81922812fb36.arrow\n",
      "WARNING:datasets.arrow_dataset:Loading cached processed dataset at /home/nya/.cache/huggingface/datasets/json/default-5e21e2e481f56fcd/0.0.0/a3e658c4731e59120d44081ac10bf85dc7e1388126b92338344ce9661907f253/cache-b90f258fdf704b6a.arrow\n",
      "WARNING:datasets.arrow_dataset:Loading cached processed dataset at /home/nya/.cache/huggingface/datasets/json/default-5e21e2e481f56fcd/0.0.0/a3e658c4731e59120d44081ac10bf85dc7e1388126b92338344ce9661907f253/cache-090f6747da8f5b03.arrow\n"
     ]
    },
    {
     "name": "stdout",
     "output_type": "stream",
     "text": [
      "     "
     ]
    },
    {
     "name": "stderr",
     "output_type": "stream",
     "text": [
      "WARNING:datasets.arrow_dataset:Loading cached processed dataset at /home/nya/.cache/huggingface/datasets/json/default-94dc98ce8c62c520/0.0.0/a3e658c4731e59120d44081ac10bf85dc7e1388126b92338344ce9661907f253/cache-c58c36c86437b41c.arrow\n",
      "WARNING:datasets.arrow_dataset:Loading cached processed dataset at /home/nya/.cache/huggingface/datasets/json/default-94dc98ce8c62c520/0.0.0/a3e658c4731e59120d44081ac10bf85dc7e1388126b92338344ce9661907f253/cache-21ac25a3733cecec.arrow\n"
     ]
    },
    {
     "name": "stdout",
     "output_type": "stream",
     "text": [
      "  "
     ]
    },
    {
     "name": "stderr",
     "output_type": "stream",
     "text": [
      "WARNING:datasets.arrow_dataset:Loading cached processed dataset at /home/nya/.cache/huggingface/datasets/json/default-94dc98ce8c62c520/0.0.0/a3e658c4731e59120d44081ac10bf85dc7e1388126b92338344ce9661907f253/cache-538a41ff8a72b32c.arrow\n"
     ]
    },
    {
     "name": "stdout",
     "output_type": "stream",
     "text": [
      " "
     ]
    },
    {
     "name": "stderr",
     "output_type": "stream",
     "text": [
      "WARNING:datasets.arrow_dataset:Loading cached processed dataset at /home/nya/.cache/huggingface/datasets/json/default-94dc98ce8c62c520/0.0.0/a3e658c4731e59120d44081ac10bf85dc7e1388126b92338344ce9661907f253/cache-77c12cd59aaef2e5.arrow\n",
      "WARNING:datasets.arrow_dataset:Loading cached processed dataset at /home/nya/.cache/huggingface/datasets/json/default-94dc98ce8c62c520/0.0.0/a3e658c4731e59120d44081ac10bf85dc7e1388126b92338344ce9661907f253/cache-155c7e227b3c3df7.arrow\n",
      "WARNING:datasets.arrow_dataset:Loading cached processed dataset at /home/nya/.cache/huggingface/datasets/json/default-94dc98ce8c62c520/0.0.0/a3e658c4731e59120d44081ac10bf85dc7e1388126b92338344ce9661907f253/cache-b316104922f91138.arrow\n"
     ]
    },
    {
     "name": "stdout",
     "output_type": "stream",
     "text": [
      "     "
     ]
    },
    {
     "name": "stderr",
     "output_type": "stream",
     "text": [
      "WARNING:datasets.arrow_dataset:Loading cached processed dataset at /home/nya/.cache/huggingface/datasets/json/default-df8bdd26fa87e067/0.0.0/a3e658c4731e59120d44081ac10bf85dc7e1388126b92338344ce9661907f253/cache-735850ab59a1e9b5.arrow\n"
     ]
    },
    {
     "name": "stdout",
     "output_type": "stream",
     "text": [
      " "
     ]
    },
    {
     "name": "stderr",
     "output_type": "stream",
     "text": [
      "WARNING:datasets.arrow_dataset:Loading cached processed dataset at /home/nya/.cache/huggingface/datasets/json/default-df8bdd26fa87e067/0.0.0/a3e658c4731e59120d44081ac10bf85dc7e1388126b92338344ce9661907f253/cache-e5e5bc9bbc8b51e0.arrow\n"
     ]
    },
    {
     "name": "stdout",
     "output_type": "stream",
     "text": [
      " "
     ]
    },
    {
     "name": "stderr",
     "output_type": "stream",
     "text": [
      "WARNING:datasets.arrow_dataset:Loading cached processed dataset at /home/nya/.cache/huggingface/datasets/json/default-df8bdd26fa87e067/0.0.0/a3e658c4731e59120d44081ac10bf85dc7e1388126b92338344ce9661907f253/cache-dcf9299f1b369e4a.arrow\n"
     ]
    },
    {
     "name": "stdout",
     "output_type": "stream",
     "text": [
      " "
     ]
    },
    {
     "name": "stderr",
     "output_type": "stream",
     "text": [
      "WARNING:datasets.arrow_dataset:Loading cached processed dataset at /home/nya/.cache/huggingface/datasets/json/default-df8bdd26fa87e067/0.0.0/a3e658c4731e59120d44081ac10bf85dc7e1388126b92338344ce9661907f253/cache-56d2c5a15254854c.arrow\n",
      "WARNING:datasets.arrow_dataset:Loading cached processed dataset at /home/nya/.cache/huggingface/datasets/json/default-df8bdd26fa87e067/0.0.0/a3e658c4731e59120d44081ac10bf85dc7e1388126b92338344ce9661907f253/cache-ec060d20378fc3d1.arrow\n",
      "WARNING:datasets.arrow_dataset:Loading cached processed dataset at /home/nya/.cache/huggingface/datasets/json/default-df8bdd26fa87e067/0.0.0/a3e658c4731e59120d44081ac10bf85dc7e1388126b92338344ce9661907f253/cache-1d5db424596fcca6.arrow\n"
     ]
    },
    {
     "name": "stdout",
     "output_type": "stream",
     "text": [
      "      "
     ]
    },
    {
     "data": {
      "application/vnd.jupyter.widget-view+json": {
       "model_id": "4e9dbd1b3937448d90c11f73f1896e5a",
       "version_major": 2,
       "version_minor": 0
      },
      "text/plain": [
       "#0:   0%|          | 0/2500 [00:00<?, ?ex/s]"
      ]
     },
     "metadata": {},
     "output_type": "display_data"
    },
    {
     "name": "stdout",
     "output_type": "stream",
     "text": [
      " "
     ]
    },
    {
     "data": {
      "application/vnd.jupyter.widget-view+json": {
       "model_id": "09801c8743694802b68bd28796e21bb5",
       "version_major": 2,
       "version_minor": 0
      },
      "text/plain": [
       "#1:   0%|          | 0/2500 [00:00<?, ?ex/s]"
      ]
     },
     "metadata": {},
     "output_type": "display_data"
    },
    {
     "name": "stdout",
     "output_type": "stream",
     "text": [
      " "
     ]
    },
    {
     "data": {
      "application/vnd.jupyter.widget-view+json": {
       "model_id": "f4060915dcc043ba80106a813bca3c89",
       "version_major": 2,
       "version_minor": 0
      },
      "text/plain": [
       "#2:   0%|          | 0/2500 [00:00<?, ?ex/s]"
      ]
     },
     "metadata": {},
     "output_type": "display_data"
    },
    {
     "data": {
      "application/vnd.jupyter.widget-view+json": {
       "model_id": "66617bd509db48c09af64d46f5f5ea7c",
       "version_major": 2,
       "version_minor": 0
      },
      "text/plain": [
       "#3:   0%|          | 0/2500 [00:00<?, ?ex/s]"
      ]
     },
     "metadata": {},
     "output_type": "display_data"
    },
    {
     "data": {
      "application/vnd.jupyter.widget-view+json": {
       "model_id": "f4c1879af1da47e38f989f7035e44bf1",
       "version_major": 2,
       "version_minor": 0
      },
      "text/plain": [
       "  0%|          | 0/10 [00:00<?, ?ba/s]"
      ]
     },
     "metadata": {},
     "output_type": "display_data"
    },
    {
     "data": {
      "application/vnd.jupyter.widget-view+json": {
       "model_id": "1b7c2dc0e8f349e5b00bee21f6e5a0e5",
       "version_major": 2,
       "version_minor": 0
      },
      "text/plain": [
       "  0%|          | 0/10 [00:00<?, ?ba/s]"
      ]
     },
     "metadata": {},
     "output_type": "display_data"
    },
    {
     "name": "stdout",
     "output_type": "stream",
     "text": [
      "      "
     ]
    },
    {
     "data": {
      "application/vnd.jupyter.widget-view+json": {
       "model_id": "36f87da5ca86485e829c1398c3c4da81",
       "version_major": 2,
       "version_minor": 0
      },
      "text/plain": [
       "#0:   0%|          | 0/2500 [00:00<?, ?ex/s]"
      ]
     },
     "metadata": {},
     "output_type": "display_data"
    },
    {
     "name": "stdout",
     "output_type": "stream",
     "text": [
      "  "
     ]
    },
    {
     "data": {
      "application/vnd.jupyter.widget-view+json": {
       "model_id": "43567ab8d1b647e98b7e3ef75c83c1e7",
       "version_major": 2,
       "version_minor": 0
      },
      "text/plain": [
       "#1:   0%|          | 0/2500 [00:00<?, ?ex/s]"
      ]
     },
     "metadata": {},
     "output_type": "display_data"
    },
    {
     "data": {
      "application/vnd.jupyter.widget-view+json": {
       "model_id": "089ea511dc6644b0a53839d54bb79b48",
       "version_major": 2,
       "version_minor": 0
      },
      "text/plain": [
       "#2:   0%|          | 0/2500 [00:00<?, ?ex/s]"
      ]
     },
     "metadata": {},
     "output_type": "display_data"
    },
    {
     "data": {
      "application/vnd.jupyter.widget-view+json": {
       "model_id": "63ccede3ff764fe89de21e2d5b32e631",
       "version_major": 2,
       "version_minor": 0
      },
      "text/plain": [
       "#3:   0%|          | 0/2500 [00:00<?, ?ex/s]"
      ]
     },
     "metadata": {},
     "output_type": "display_data"
    },
    {
     "data": {
      "application/vnd.jupyter.widget-view+json": {
       "model_id": "22d6877be0c041b38757902288f44303",
       "version_major": 2,
       "version_minor": 0
      },
      "text/plain": [
       "  0%|          | 0/10 [00:00<?, ?ba/s]"
      ]
     },
     "metadata": {},
     "output_type": "display_data"
    },
    {
     "data": {
      "application/vnd.jupyter.widget-view+json": {
       "model_id": "7c78134eb39a4b65bc062f0e3c000ec4",
       "version_major": 2,
       "version_minor": 0
      },
      "text/plain": [
       "  0%|          | 0/10 [00:00<?, ?ba/s]"
      ]
     },
     "metadata": {},
     "output_type": "display_data"
    },
    {
     "name": "stdout",
     "output_type": "stream",
     "text": [
      "     "
     ]
    },
    {
     "name": "stderr",
     "output_type": "stream",
     "text": [
      "WARNING:datasets.arrow_dataset:Loading cached processed dataset at /home/nya/.cache/huggingface/datasets/json/default-2659a84c6cd452d5/0.0.0/a3e658c4731e59120d44081ac10bf85dc7e1388126b92338344ce9661907f253/cache-2fbc11d723a7df23.arrow\n"
     ]
    },
    {
     "name": "stdout",
     "output_type": "stream",
     "text": [
      " "
     ]
    },
    {
     "name": "stderr",
     "output_type": "stream",
     "text": [
      "WARNING:datasets.arrow_dataset:Loading cached processed dataset at /home/nya/.cache/huggingface/datasets/json/default-2659a84c6cd452d5/0.0.0/a3e658c4731e59120d44081ac10bf85dc7e1388126b92338344ce9661907f253/cache-e40356af40e62a6a.arrow\n"
     ]
    },
    {
     "name": "stdout",
     "output_type": "stream",
     "text": [
      " "
     ]
    },
    {
     "name": "stderr",
     "output_type": "stream",
     "text": [
      "WARNING:datasets.arrow_dataset:Loading cached processed dataset at /home/nya/.cache/huggingface/datasets/json/default-2659a84c6cd452d5/0.0.0/a3e658c4731e59120d44081ac10bf85dc7e1388126b92338344ce9661907f253/cache-fbe5e2b041f50747.arrow\n"
     ]
    },
    {
     "name": "stdout",
     "output_type": "stream",
     "text": [
      " "
     ]
    },
    {
     "name": "stderr",
     "output_type": "stream",
     "text": [
      "WARNING:datasets.arrow_dataset:Loading cached processed dataset at /home/nya/.cache/huggingface/datasets/json/default-2659a84c6cd452d5/0.0.0/a3e658c4731e59120d44081ac10bf85dc7e1388126b92338344ce9661907f253/cache-a45f53b026038b89.arrow\n",
      "WARNING:datasets.arrow_dataset:Loading cached processed dataset at /home/nya/.cache/huggingface/datasets/json/default-2659a84c6cd452d5/0.0.0/a3e658c4731e59120d44081ac10bf85dc7e1388126b92338344ce9661907f253/cache-06c128ae495f45e7.arrow\n",
      "WARNING:datasets.arrow_dataset:Loading cached processed dataset at /home/nya/.cache/huggingface/datasets/json/default-2659a84c6cd452d5/0.0.0/a3e658c4731e59120d44081ac10bf85dc7e1388126b92338344ce9661907f253/cache-7f60c784b0147c9c.arrow\n"
     ]
    },
    {
     "name": "stdout",
     "output_type": "stream",
     "text": [
      "     "
     ]
    },
    {
     "name": "stderr",
     "output_type": "stream",
     "text": [
      "WARNING:datasets.arrow_dataset:Loading cached processed dataset at /home/nya/.cache/huggingface/datasets/json/default-bc004eb87119c454/0.0.0/a3e658c4731e59120d44081ac10bf85dc7e1388126b92338344ce9661907f253/cache-bb7b3e8b2424792b.arrow\n"
     ]
    },
    {
     "name": "stdout",
     "output_type": "stream",
     "text": [
      " "
     ]
    },
    {
     "name": "stderr",
     "output_type": "stream",
     "text": [
      "WARNING:datasets.arrow_dataset:Loading cached processed dataset at /home/nya/.cache/huggingface/datasets/json/default-bc004eb87119c454/0.0.0/a3e658c4731e59120d44081ac10bf85dc7e1388126b92338344ce9661907f253/cache-bc6317d20d15f0c4.arrow\n"
     ]
    },
    {
     "name": "stdout",
     "output_type": "stream",
     "text": [
      " "
     ]
    },
    {
     "name": "stderr",
     "output_type": "stream",
     "text": [
      "WARNING:datasets.arrow_dataset:Loading cached processed dataset at /home/nya/.cache/huggingface/datasets/json/default-bc004eb87119c454/0.0.0/a3e658c4731e59120d44081ac10bf85dc7e1388126b92338344ce9661907f253/cache-e0cd76c5fbcb45cd.arrow\n"
     ]
    },
    {
     "name": "stdout",
     "output_type": "stream",
     "text": [
      " "
     ]
    },
    {
     "name": "stderr",
     "output_type": "stream",
     "text": [
      "WARNING:datasets.arrow_dataset:Loading cached processed dataset at /home/nya/.cache/huggingface/datasets/json/default-bc004eb87119c454/0.0.0/a3e658c4731e59120d44081ac10bf85dc7e1388126b92338344ce9661907f253/cache-1e06cb55a13d3880.arrow\n",
      "WARNING:datasets.arrow_dataset:Loading cached processed dataset at /home/nya/.cache/huggingface/datasets/json/default-bc004eb87119c454/0.0.0/a3e658c4731e59120d44081ac10bf85dc7e1388126b92338344ce9661907f253/cache-6987f901dbc962b6.arrow\n",
      "WARNING:datasets.arrow_dataset:Loading cached processed dataset at /home/nya/.cache/huggingface/datasets/json/default-bc004eb87119c454/0.0.0/a3e658c4731e59120d44081ac10bf85dc7e1388126b92338344ce9661907f253/cache-ace0933fa9422ab8.arrow\n"
     ]
    },
    {
     "name": "stdout",
     "output_type": "stream",
     "text": [
      "     "
     ]
    },
    {
     "name": "stderr",
     "output_type": "stream",
     "text": [
      "WARNING:datasets.arrow_dataset:Loading cached processed dataset at /home/nya/.cache/huggingface/datasets/json/default-09008cd37ccee985/0.0.0/a3e658c4731e59120d44081ac10bf85dc7e1388126b92338344ce9661907f253/cache-d6105836543b721b.arrow\n"
     ]
    },
    {
     "name": "stdout",
     "output_type": "stream",
     "text": [
      " "
     ]
    },
    {
     "name": "stderr",
     "output_type": "stream",
     "text": [
      "WARNING:datasets.arrow_dataset:Loading cached processed dataset at /home/nya/.cache/huggingface/datasets/json/default-09008cd37ccee985/0.0.0/a3e658c4731e59120d44081ac10bf85dc7e1388126b92338344ce9661907f253/cache-3e1b40eae9b8d53a.arrow\n"
     ]
    },
    {
     "name": "stdout",
     "output_type": "stream",
     "text": [
      " "
     ]
    },
    {
     "name": "stderr",
     "output_type": "stream",
     "text": [
      "WARNING:datasets.arrow_dataset:Loading cached processed dataset at /home/nya/.cache/huggingface/datasets/json/default-09008cd37ccee985/0.0.0/a3e658c4731e59120d44081ac10bf85dc7e1388126b92338344ce9661907f253/cache-0bcfbe924975a20a.arrow\n"
     ]
    },
    {
     "name": "stdout",
     "output_type": "stream",
     "text": [
      " "
     ]
    },
    {
     "name": "stderr",
     "output_type": "stream",
     "text": [
      "WARNING:datasets.arrow_dataset:Loading cached processed dataset at /home/nya/.cache/huggingface/datasets/json/default-09008cd37ccee985/0.0.0/a3e658c4731e59120d44081ac10bf85dc7e1388126b92338344ce9661907f253/cache-e011da472746a9a8.arrow\n",
      "WARNING:datasets.arrow_dataset:Loading cached processed dataset at /home/nya/.cache/huggingface/datasets/json/default-09008cd37ccee985/0.0.0/a3e658c4731e59120d44081ac10bf85dc7e1388126b92338344ce9661907f253/cache-0296c352fc5e1d04.arrow\n",
      "WARNING:datasets.arrow_dataset:Loading cached processed dataset at /home/nya/.cache/huggingface/datasets/json/default-09008cd37ccee985/0.0.0/a3e658c4731e59120d44081ac10bf85dc7e1388126b92338344ce9661907f253/cache-2cdb8e15c3710319.arrow\n"
     ]
    },
    {
     "name": "stdout",
     "output_type": "stream",
     "text": [
      "     "
     ]
    },
    {
     "name": "stderr",
     "output_type": "stream",
     "text": [
      "WARNING:datasets.arrow_dataset:Loading cached processed dataset at /home/nya/.cache/huggingface/datasets/json/default-935385c473f430f6/0.0.0/a3e658c4731e59120d44081ac10bf85dc7e1388126b92338344ce9661907f253/cache-48f10bee39221f19.arrow\n"
     ]
    },
    {
     "name": "stdout",
     "output_type": "stream",
     "text": [
      " "
     ]
    },
    {
     "name": "stderr",
     "output_type": "stream",
     "text": [
      "WARNING:datasets.arrow_dataset:Loading cached processed dataset at /home/nya/.cache/huggingface/datasets/json/default-935385c473f430f6/0.0.0/a3e658c4731e59120d44081ac10bf85dc7e1388126b92338344ce9661907f253/cache-ef4d1ad640426333.arrow\n"
     ]
    },
    {
     "name": "stdout",
     "output_type": "stream",
     "text": [
      " "
     ]
    },
    {
     "name": "stderr",
     "output_type": "stream",
     "text": [
      "WARNING:datasets.arrow_dataset:Loading cached processed dataset at /home/nya/.cache/huggingface/datasets/json/default-935385c473f430f6/0.0.0/a3e658c4731e59120d44081ac10bf85dc7e1388126b92338344ce9661907f253/cache-6d7f8e1b1fbc215f.arrow\n"
     ]
    },
    {
     "name": "stdout",
     "output_type": "stream",
     "text": [
      " "
     ]
    },
    {
     "name": "stderr",
     "output_type": "stream",
     "text": [
      "WARNING:datasets.arrow_dataset:Loading cached processed dataset at /home/nya/.cache/huggingface/datasets/json/default-935385c473f430f6/0.0.0/a3e658c4731e59120d44081ac10bf85dc7e1388126b92338344ce9661907f253/cache-50737fd9b2b6433e.arrow\n",
      "WARNING:datasets.arrow_dataset:Loading cached processed dataset at /home/nya/.cache/huggingface/datasets/json/default-935385c473f430f6/0.0.0/a3e658c4731e59120d44081ac10bf85dc7e1388126b92338344ce9661907f253/cache-55cc94eb4ae05366.arrow\n",
      "WARNING:datasets.arrow_dataset:Loading cached processed dataset at /home/nya/.cache/huggingface/datasets/json/default-935385c473f430f6/0.0.0/a3e658c4731e59120d44081ac10bf85dc7e1388126b92338344ce9661907f253/cache-e4d1e44b8dcec41f.arrow\n"
     ]
    },
    {
     "name": "stdout",
     "output_type": "stream",
     "text": [
      "     "
     ]
    },
    {
     "name": "stderr",
     "output_type": "stream",
     "text": [
      "WARNING:datasets.arrow_dataset:Loading cached processed dataset at /home/nya/.cache/huggingface/datasets/json/default-2b4520d97203f5b6/0.0.0/a3e658c4731e59120d44081ac10bf85dc7e1388126b92338344ce9661907f253/cache-bbaba26715015d09.arrow\n"
     ]
    },
    {
     "name": "stdout",
     "output_type": "stream",
     "text": [
      " "
     ]
    },
    {
     "name": "stderr",
     "output_type": "stream",
     "text": [
      "WARNING:datasets.arrow_dataset:Loading cached processed dataset at /home/nya/.cache/huggingface/datasets/json/default-2b4520d97203f5b6/0.0.0/a3e658c4731e59120d44081ac10bf85dc7e1388126b92338344ce9661907f253/cache-e391a47b5b8f992f.arrow\n"
     ]
    },
    {
     "name": "stdout",
     "output_type": "stream",
     "text": [
      " "
     ]
    },
    {
     "name": "stderr",
     "output_type": "stream",
     "text": [
      "WARNING:datasets.arrow_dataset:Loading cached processed dataset at /home/nya/.cache/huggingface/datasets/json/default-2b4520d97203f5b6/0.0.0/a3e658c4731e59120d44081ac10bf85dc7e1388126b92338344ce9661907f253/cache-8864b1058bc759a6.arrow\n"
     ]
    },
    {
     "name": "stdout",
     "output_type": "stream",
     "text": [
      " "
     ]
    },
    {
     "name": "stderr",
     "output_type": "stream",
     "text": [
      "WARNING:datasets.arrow_dataset:Loading cached processed dataset at /home/nya/.cache/huggingface/datasets/json/default-2b4520d97203f5b6/0.0.0/a3e658c4731e59120d44081ac10bf85dc7e1388126b92338344ce9661907f253/cache-1e180c14d2c980d3.arrow\n",
      "WARNING:datasets.arrow_dataset:Loading cached processed dataset at /home/nya/.cache/huggingface/datasets/json/default-2b4520d97203f5b6/0.0.0/a3e658c4731e59120d44081ac10bf85dc7e1388126b92338344ce9661907f253/cache-bc3c4dc12e8926be.arrow\n",
      "WARNING:datasets.arrow_dataset:Loading cached processed dataset at /home/nya/.cache/huggingface/datasets/json/default-2b4520d97203f5b6/0.0.0/a3e658c4731e59120d44081ac10bf85dc7e1388126b92338344ce9661907f253/cache-867a0ba32b935648.arrow\n"
     ]
    },
    {
     "name": "stdout",
     "output_type": "stream",
     "text": [
      "     "
     ]
    },
    {
     "name": "stderr",
     "output_type": "stream",
     "text": [
      "WARNING:datasets.arrow_dataset:Loading cached processed dataset at /home/nya/.cache/huggingface/datasets/json/default-961a73710ff8054c/0.0.0/a3e658c4731e59120d44081ac10bf85dc7e1388126b92338344ce9661907f253/cache-e23d87cd8ee15217.arrow\n"
     ]
    },
    {
     "name": "stdout",
     "output_type": "stream",
     "text": [
      " "
     ]
    },
    {
     "name": "stderr",
     "output_type": "stream",
     "text": [
      "WARNING:datasets.arrow_dataset:Loading cached processed dataset at /home/nya/.cache/huggingface/datasets/json/default-961a73710ff8054c/0.0.0/a3e658c4731e59120d44081ac10bf85dc7e1388126b92338344ce9661907f253/cache-65668e3d3c44f31f.arrow\n"
     ]
    },
    {
     "name": "stdout",
     "output_type": "stream",
     "text": [
      " "
     ]
    },
    {
     "name": "stderr",
     "output_type": "stream",
     "text": [
      "WARNING:datasets.arrow_dataset:Loading cached processed dataset at /home/nya/.cache/huggingface/datasets/json/default-961a73710ff8054c/0.0.0/a3e658c4731e59120d44081ac10bf85dc7e1388126b92338344ce9661907f253/cache-82fd4cd2ec47046a.arrow\n"
     ]
    },
    {
     "name": "stdout",
     "output_type": "stream",
     "text": [
      " "
     ]
    },
    {
     "name": "stderr",
     "output_type": "stream",
     "text": [
      "WARNING:datasets.arrow_dataset:Loading cached processed dataset at /home/nya/.cache/huggingface/datasets/json/default-961a73710ff8054c/0.0.0/a3e658c4731e59120d44081ac10bf85dc7e1388126b92338344ce9661907f253/cache-1897504c0b8d7777.arrow\n",
      "WARNING:datasets.arrow_dataset:Loading cached processed dataset at /home/nya/.cache/huggingface/datasets/json/default-961a73710ff8054c/0.0.0/a3e658c4731e59120d44081ac10bf85dc7e1388126b92338344ce9661907f253/cache-f795cca8b8c239c3.arrow\n",
      "WARNING:datasets.arrow_dataset:Loading cached processed dataset at /home/nya/.cache/huggingface/datasets/json/default-961a73710ff8054c/0.0.0/a3e658c4731e59120d44081ac10bf85dc7e1388126b92338344ce9661907f253/cache-9d480cd03f1609d0.arrow\n"
     ]
    },
    {
     "name": "stdout",
     "output_type": "stream",
     "text": [
      "     "
     ]
    },
    {
     "name": "stderr",
     "output_type": "stream",
     "text": [
      "WARNING:datasets.arrow_dataset:Loading cached processed dataset at /home/nya/.cache/huggingface/datasets/json/default-6ea4cc82747c4934/0.0.0/a3e658c4731e59120d44081ac10bf85dc7e1388126b92338344ce9661907f253/cache-e015aff2e4fdba77.arrow\n"
     ]
    },
    {
     "name": "stdout",
     "output_type": "stream",
     "text": [
      " "
     ]
    },
    {
     "name": "stderr",
     "output_type": "stream",
     "text": [
      "WARNING:datasets.arrow_dataset:Loading cached processed dataset at /home/nya/.cache/huggingface/datasets/json/default-6ea4cc82747c4934/0.0.0/a3e658c4731e59120d44081ac10bf85dc7e1388126b92338344ce9661907f253/cache-37ff0ee87b81e299.arrow\n"
     ]
    },
    {
     "name": "stdout",
     "output_type": "stream",
     "text": [
      " "
     ]
    },
    {
     "name": "stderr",
     "output_type": "stream",
     "text": [
      "WARNING:datasets.arrow_dataset:Loading cached processed dataset at /home/nya/.cache/huggingface/datasets/json/default-6ea4cc82747c4934/0.0.0/a3e658c4731e59120d44081ac10bf85dc7e1388126b92338344ce9661907f253/cache-ad7cfac9857b05fa.arrow\n"
     ]
    },
    {
     "name": "stdout",
     "output_type": "stream",
     "text": [
      " "
     ]
    },
    {
     "name": "stderr",
     "output_type": "stream",
     "text": [
      "WARNING:datasets.arrow_dataset:Loading cached processed dataset at /home/nya/.cache/huggingface/datasets/json/default-6ea4cc82747c4934/0.0.0/a3e658c4731e59120d44081ac10bf85dc7e1388126b92338344ce9661907f253/cache-61f8713081b7056b.arrow\n",
      "WARNING:datasets.arrow_dataset:Loading cached processed dataset at /home/nya/.cache/huggingface/datasets/json/default-6ea4cc82747c4934/0.0.0/a3e658c4731e59120d44081ac10bf85dc7e1388126b92338344ce9661907f253/cache-e8ce360d0a3d2463.arrow\n",
      "WARNING:datasets.arrow_dataset:Loading cached processed dataset at /home/nya/.cache/huggingface/datasets/json/default-6ea4cc82747c4934/0.0.0/a3e658c4731e59120d44081ac10bf85dc7e1388126b92338344ce9661907f253/cache-49b4397214724ecf.arrow\n"
     ]
    },
    {
     "name": "stdout",
     "output_type": "stream",
     "text": [
      "     "
     ]
    },
    {
     "name": "stderr",
     "output_type": "stream",
     "text": [
      "WARNING:datasets.arrow_dataset:Loading cached processed dataset at /home/nya/.cache/huggingface/datasets/json/default-ce703d50659dad7f/0.0.0/a3e658c4731e59120d44081ac10bf85dc7e1388126b92338344ce9661907f253/cache-85fa16e39bf4fabf.arrow\n"
     ]
    },
    {
     "name": "stdout",
     "output_type": "stream",
     "text": [
      " "
     ]
    },
    {
     "name": "stderr",
     "output_type": "stream",
     "text": [
      "WARNING:datasets.arrow_dataset:Loading cached processed dataset at /home/nya/.cache/huggingface/datasets/json/default-ce703d50659dad7f/0.0.0/a3e658c4731e59120d44081ac10bf85dc7e1388126b92338344ce9661907f253/cache-dc3aca17a4364345.arrow\n"
     ]
    },
    {
     "name": "stdout",
     "output_type": "stream",
     "text": [
      " "
     ]
    },
    {
     "name": "stderr",
     "output_type": "stream",
     "text": [
      "WARNING:datasets.arrow_dataset:Loading cached processed dataset at /home/nya/.cache/huggingface/datasets/json/default-ce703d50659dad7f/0.0.0/a3e658c4731e59120d44081ac10bf85dc7e1388126b92338344ce9661907f253/cache-c554a433ede5047a.arrow\n"
     ]
    },
    {
     "name": "stdout",
     "output_type": "stream",
     "text": [
      " "
     ]
    },
    {
     "name": "stderr",
     "output_type": "stream",
     "text": [
      "WARNING:datasets.arrow_dataset:Loading cached processed dataset at /home/nya/.cache/huggingface/datasets/json/default-ce703d50659dad7f/0.0.0/a3e658c4731e59120d44081ac10bf85dc7e1388126b92338344ce9661907f253/cache-9a303dd35a5200a0.arrow\n",
      "WARNING:datasets.arrow_dataset:Loading cached processed dataset at /home/nya/.cache/huggingface/datasets/json/default-ce703d50659dad7f/0.0.0/a3e658c4731e59120d44081ac10bf85dc7e1388126b92338344ce9661907f253/cache-c3a886ffcb9d4b1d.arrow\n",
      "WARNING:datasets.arrow_dataset:Loading cached processed dataset at /home/nya/.cache/huggingface/datasets/json/default-ce703d50659dad7f/0.0.0/a3e658c4731e59120d44081ac10bf85dc7e1388126b92338344ce9661907f253/cache-782fa058f3e691f0.arrow\n"
     ]
    },
    {
     "name": "stdout",
     "output_type": "stream",
     "text": [
      "      "
     ]
    },
    {
     "data": {
      "application/vnd.jupyter.widget-view+json": {
       "model_id": "d4ca0161b6d443238d2becdaebbf81e1",
       "version_major": 2,
       "version_minor": 0
      },
      "text/plain": [
       "#0:   0%|          | 0/2500 [00:00<?, ?ex/s]"
      ]
     },
     "metadata": {},
     "output_type": "display_data"
    },
    {
     "name": "stdout",
     "output_type": "stream",
     "text": [
      " "
     ]
    },
    {
     "data": {
      "application/vnd.jupyter.widget-view+json": {
       "model_id": "26e6aca0c00949c2b1a174098184cea0",
       "version_major": 2,
       "version_minor": 0
      },
      "text/plain": [
       "#1:   0%|          | 0/2500 [00:00<?, ?ex/s]"
      ]
     },
     "metadata": {},
     "output_type": "display_data"
    },
    {
     "name": "stdout",
     "output_type": "stream",
     "text": [
      " "
     ]
    },
    {
     "data": {
      "application/vnd.jupyter.widget-view+json": {
       "model_id": "84952f317c054a6caba79a94ec961eeb",
       "version_major": 2,
       "version_minor": 0
      },
      "text/plain": [
       "#2:   0%|          | 0/2500 [00:00<?, ?ex/s]"
      ]
     },
     "metadata": {},
     "output_type": "display_data"
    },
    {
     "data": {
      "application/vnd.jupyter.widget-view+json": {
       "model_id": "6ade7c850647454f9e28ae65aea2082b",
       "version_major": 2,
       "version_minor": 0
      },
      "text/plain": [
       "#3:   0%|          | 0/2500 [00:00<?, ?ex/s]"
      ]
     },
     "metadata": {},
     "output_type": "display_data"
    },
    {
     "data": {
      "application/vnd.jupyter.widget-view+json": {
       "model_id": "b2f4c67a771e4a62aad37e45dfcbfe04",
       "version_major": 2,
       "version_minor": 0
      },
      "text/plain": [
       "  0%|          | 0/10 [00:00<?, ?ba/s]"
      ]
     },
     "metadata": {},
     "output_type": "display_data"
    },
    {
     "data": {
      "application/vnd.jupyter.widget-view+json": {
       "model_id": "f4803d0f728a492095a6e8a565ce4b6c",
       "version_major": 2,
       "version_minor": 0
      },
      "text/plain": [
       "  0%|          | 0/10 [00:00<?, ?ba/s]"
      ]
     },
     "metadata": {},
     "output_type": "display_data"
    },
    {
     "name": "stdout",
     "output_type": "stream",
     "text": [
      "      "
     ]
    },
    {
     "data": {
      "application/vnd.jupyter.widget-view+json": {
       "model_id": "f2de3465e2694217b4d76ac2bdf92b2c",
       "version_major": 2,
       "version_minor": 0
      },
      "text/plain": [
       "#0:   0%|          | 0/2500 [00:00<?, ?ex/s]"
      ]
     },
     "metadata": {},
     "output_type": "display_data"
    },
    {
     "name": "stdout",
     "output_type": "stream",
     "text": [
      " "
     ]
    },
    {
     "data": {
      "application/vnd.jupyter.widget-view+json": {
       "model_id": "8180ab44bbcf4aae9798aeecaa8b9640",
       "version_major": 2,
       "version_minor": 0
      },
      "text/plain": [
       "#1:   0%|          | 0/2500 [00:00<?, ?ex/s]"
      ]
     },
     "metadata": {},
     "output_type": "display_data"
    },
    {
     "name": "stdout",
     "output_type": "stream",
     "text": [
      " "
     ]
    },
    {
     "data": {
      "application/vnd.jupyter.widget-view+json": {
       "model_id": "0e9a463ff79c4f3ebc55793c44d32e0f",
       "version_major": 2,
       "version_minor": 0
      },
      "text/plain": [
       "#2:   0%|          | 0/2500 [00:00<?, ?ex/s]"
      ]
     },
     "metadata": {},
     "output_type": "display_data"
    },
    {
     "data": {
      "application/vnd.jupyter.widget-view+json": {
       "model_id": "5706c0b3cabf4db385670163eab21b55",
       "version_major": 2,
       "version_minor": 0
      },
      "text/plain": [
       "#3:   0%|          | 0/2500 [00:00<?, ?ex/s]"
      ]
     },
     "metadata": {},
     "output_type": "display_data"
    },
    {
     "data": {
      "application/vnd.jupyter.widget-view+json": {
       "model_id": "fa79259ffda04d67b82d35b1968b5ec9",
       "version_major": 2,
       "version_minor": 0
      },
      "text/plain": [
       "  0%|          | 0/10 [00:00<?, ?ba/s]"
      ]
     },
     "metadata": {},
     "output_type": "display_data"
    },
    {
     "data": {
      "application/vnd.jupyter.widget-view+json": {
       "model_id": "3e668d1f2a924a8598ed55a77181fc20",
       "version_major": 2,
       "version_minor": 0
      },
      "text/plain": [
       "  0%|          | 0/10 [00:00<?, ?ba/s]"
      ]
     },
     "metadata": {},
     "output_type": "display_data"
    }
   ],
   "source": [
    "results = {}\n",
    "# no_mask_page_ids = set()\n",
    "no_mask_original = gt.filter(lambda x: '<mask>' not in x['masked_text_original'][:1000])\n",
    "no_mask_paraphrased = gt.filter(lambda x: '<mask>' not in x['masked_text_paraphrased'][:1000])\n",
    "no_mask_page_ids = set(no_mask_original['id'] + no_mask_paraphrased['id'])\n",
    "for key, models in data.items():\n",
    "    for model_name, model in models.items():\n",
    "        for config in ['original', 'paraphrased']:\n",
    "            dataset = model[config]['train']\n",
    "            ## add ground truth label to each prediction\n",
    "            mappable = dataset.add_column(\"title\", gt[\"title\"])\n",
    "            # filter out examples which did not include a mask\n",
    "            \n",
    "            # compute precision\n",
    "            computed = mappable.map(compute_precision_for_page, num_proc=4, remove_columns=mappable.column_names)\n",
    "            # compute metrics over computed results\n",
    "            correct_predictions = computed.filter(lambda x: x['correct'] == 1)\n",
    "            incorrect_predictions = computed.filter(lambda x: x['correct'] == 0)\n",
    "            correct = len(correct_predictions)\n",
    "            model[config][\"result\"] = {}\n",
    "            model[config][\"result\"][\"data\"] = computed\n",
    "            model[config][\"result\"][\"accuracy\"] = correct / len(dataset)\n",
    "            model[config][\"result\"][\"correct_predictions\"] = correct_predictions\n",
    "            model[config][\"result\"][\"incorrect_predictions\"] = incorrect_predictions"
   ]
  },
  {
   "cell_type": "code",
   "execution_count": 73,
   "id": "803b8345",
   "metadata": {
    "scrolled": true
   },
   "outputs": [
    {
     "data": {
      "text/plain": [
       "{'175b': {'size': 175.0,\n",
       "  'inputsize': '1000',\n",
       "  'paraphrased': DatasetDict({\n",
       "      train: Dataset({\n",
       "          features: ['prediction', 'page_id', 'input_length'],\n",
       "          num_rows: 10000\n",
       "      })\n",
       "      result: {'data': Dataset({\n",
       "          features: ['prediction', 'title', 'correct', 'distance'],\n",
       "          num_rows: 10000\n",
       "      }), 'accuracy': 0.5198, 'correct_predictions': Dataset({\n",
       "          features: ['prediction', 'title', 'correct', 'distance'],\n",
       "          num_rows: 5198\n",
       "      }), 'incorrect_predictions': Dataset({\n",
       "          features: ['prediction', 'title', 'correct', 'distance'],\n",
       "          num_rows: 4802\n",
       "      })}\n",
       "  }),\n",
       "  'original': DatasetDict({\n",
       "      train: Dataset({\n",
       "          features: ['prediction', 'page_id', 'input_length'],\n",
       "          num_rows: 10000\n",
       "      })\n",
       "      result: {'data': Dataset({\n",
       "          features: ['prediction', 'title', 'correct', 'distance'],\n",
       "          num_rows: 10000\n",
       "      }), 'accuracy': 0.5972, 'correct_predictions': Dataset({\n",
       "          features: ['prediction', 'title', 'correct', 'distance'],\n",
       "          num_rows: 5972\n",
       "      }), 'incorrect_predictions': Dataset({\n",
       "          features: ['prediction', 'title', 'correct', 'distance'],\n",
       "          num_rows: 4028\n",
       "      })}\n",
       "  })}}"
      ]
     },
     "execution_count": 73,
     "metadata": {},
     "output_type": "execute_result"
    }
   ],
   "source": [
    "data['gpt3.turbo']"
   ]
  },
  {
   "cell_type": "code",
   "execution_count": 25,
   "id": "33f83212",
   "metadata": {},
   "outputs": [
    {
     "data": {
      "text/plain": [
       "{'cerebras': {'6b7': {'size': 6.7,\n",
       "   'inputsize': '1000',\n",
       "   'original': DatasetDict({\n",
       "       train: Dataset({\n",
       "           features: ['prediction', 'page_id', 'input_length'],\n",
       "           num_rows: 10000\n",
       "       })\n",
       "       result: {'data': Dataset({\n",
       "           features: ['prediction', 'title', 'correct', 'distance'],\n",
       "           num_rows: 10000\n",
       "       }), 'accuracy': 0.0014, 'correct_predictions': Dataset({\n",
       "           features: ['prediction', 'title', 'correct', 'distance'],\n",
       "           num_rows: 14\n",
       "       }), 'incorrect_predictions': Dataset({\n",
       "           features: ['prediction', 'title', 'correct', 'distance'],\n",
       "           num_rows: 9986\n",
       "       })}\n",
       "   }),\n",
       "   'paraphrased': DatasetDict({\n",
       "       train: Dataset({\n",
       "           features: ['prediction', 'page_id', 'input_length'],\n",
       "           num_rows: 10000\n",
       "       })\n",
       "       result: {'data': Dataset({\n",
       "           features: ['prediction', 'title', 'correct', 'distance'],\n",
       "           num_rows: 10000\n",
       "       }), 'accuracy': 0.0002, 'correct_predictions': Dataset({\n",
       "           features: ['prediction', 'title', 'correct', 'distance'],\n",
       "           num_rows: 2\n",
       "       }), 'incorrect_predictions': Dataset({\n",
       "           features: ['prediction', 'title', 'correct', 'distance'],\n",
       "           num_rows: 9998\n",
       "       })}\n",
       "   })},\n",
       "  '0b111': {'size': 0.111,\n",
       "   'inputsize': '1000',\n",
       "   'original': DatasetDict({\n",
       "       train: Dataset({\n",
       "           features: ['prediction', 'page_id', 'input_length'],\n",
       "           num_rows: 10000\n",
       "       })\n",
       "       result: {'data': Dataset({\n",
       "           features: ['prediction', 'title', 'correct', 'distance'],\n",
       "           num_rows: 10000\n",
       "       }), 'accuracy': 0.0013, 'correct_predictions': Dataset({\n",
       "           features: ['prediction', 'title', 'correct', 'distance'],\n",
       "           num_rows: 13\n",
       "       }), 'incorrect_predictions': Dataset({\n",
       "           features: ['prediction', 'title', 'correct', 'distance'],\n",
       "           num_rows: 9987\n",
       "       })}\n",
       "   }),\n",
       "   'paraphrased': DatasetDict({\n",
       "       train: Dataset({\n",
       "           features: ['prediction', 'page_id', 'input_length'],\n",
       "           num_rows: 10000\n",
       "       })\n",
       "       result: {'data': Dataset({\n",
       "           features: ['prediction', 'title', 'correct', 'distance'],\n",
       "           num_rows: 10000\n",
       "       }), 'accuracy': 0.0001, 'correct_predictions': Dataset({\n",
       "           features: ['prediction', 'title', 'correct', 'distance'],\n",
       "           num_rows: 1\n",
       "       }), 'incorrect_predictions': Dataset({\n",
       "           features: ['prediction', 'title', 'correct', 'distance'],\n",
       "           num_rows: 9999\n",
       "       })}\n",
       "   })},\n",
       "  '2b7': {'size': 2.7,\n",
       "   'inputsize': '1000',\n",
       "   'paraphrased': DatasetDict({\n",
       "       train: Dataset({\n",
       "           features: ['prediction', 'page_id', 'input_length'],\n",
       "           num_rows: 10000\n",
       "       })\n",
       "       result: {'data': Dataset({\n",
       "           features: ['prediction', 'title', 'correct', 'distance'],\n",
       "           num_rows: 10000\n",
       "       }), 'accuracy': 0.0002, 'correct_predictions': Dataset({\n",
       "           features: ['prediction', 'title', 'correct', 'distance'],\n",
       "           num_rows: 2\n",
       "       }), 'incorrect_predictions': Dataset({\n",
       "           features: ['prediction', 'title', 'correct', 'distance'],\n",
       "           num_rows: 9998\n",
       "       })}\n",
       "   }),\n",
       "   'original': DatasetDict({\n",
       "       train: Dataset({\n",
       "           features: ['prediction', 'page_id', 'input_length'],\n",
       "           num_rows: 10000\n",
       "       })\n",
       "       result: {'data': Dataset({\n",
       "           features: ['prediction', 'title', 'correct', 'distance'],\n",
       "           num_rows: 10000\n",
       "       }), 'accuracy': 0.0013, 'correct_predictions': Dataset({\n",
       "           features: ['prediction', 'title', 'correct', 'distance'],\n",
       "           num_rows: 13\n",
       "       }), 'incorrect_predictions': Dataset({\n",
       "           features: ['prediction', 'title', 'correct', 'distance'],\n",
       "           num_rows: 9987\n",
       "       })}\n",
       "   })},\n",
       "  '1b3': {'size': 1.3,\n",
       "   'inputsize': '1000',\n",
       "   'original': DatasetDict({\n",
       "       train: Dataset({\n",
       "           features: ['prediction', 'page_id', 'input_length'],\n",
       "           num_rows: 10000\n",
       "       })\n",
       "       result: {'data': Dataset({\n",
       "           features: ['prediction', 'title', 'correct', 'distance'],\n",
       "           num_rows: 10000\n",
       "       }), 'accuracy': 0.0009, 'correct_predictions': Dataset({\n",
       "           features: ['prediction', 'title', 'correct', 'distance'],\n",
       "           num_rows: 9\n",
       "       }), 'incorrect_predictions': Dataset({\n",
       "           features: ['prediction', 'title', 'correct', 'distance'],\n",
       "           num_rows: 9991\n",
       "       })}\n",
       "   }),\n",
       "   'paraphrased': DatasetDict({\n",
       "       train: Dataset({\n",
       "           features: ['prediction', 'page_id', 'input_length'],\n",
       "           num_rows: 10000\n",
       "       })\n",
       "       result: {'data': Dataset({\n",
       "           features: ['prediction', 'title', 'correct', 'distance'],\n",
       "           num_rows: 10000\n",
       "       }), 'accuracy': 0.0001, 'correct_predictions': Dataset({\n",
       "           features: ['prediction', 'title', 'correct', 'distance'],\n",
       "           num_rows: 1\n",
       "       }), 'incorrect_predictions': Dataset({\n",
       "           features: ['prediction', 'title', 'correct', 'distance'],\n",
       "           num_rows: 9999\n",
       "       })}\n",
       "   })}},\n",
       " 'bloomz': {'3b': {'size': 3.0,\n",
       "   'inputsize': '1000',\n",
       "   'paraphrased': DatasetDict({\n",
       "       train: Dataset({\n",
       "           features: ['prediction', 'page_id', 'input_length'],\n",
       "           num_rows: 10000\n",
       "       })\n",
       "       result: {'data': Dataset({\n",
       "           features: ['prediction', 'title', 'correct', 'distance'],\n",
       "           num_rows: 10000\n",
       "       }), 'accuracy': 0.2184, 'correct_predictions': Dataset({\n",
       "           features: ['prediction', 'title', 'correct', 'distance'],\n",
       "           num_rows: 2184\n",
       "       }), 'incorrect_predictions': Dataset({\n",
       "           features: ['prediction', 'title', 'correct', 'distance'],\n",
       "           num_rows: 7816\n",
       "       })}\n",
       "   }),\n",
       "   'original': DatasetDict({\n",
       "       train: Dataset({\n",
       "           features: ['prediction', 'page_id', 'input_length'],\n",
       "           num_rows: 10000\n",
       "       })\n",
       "       result: {'data': Dataset({\n",
       "           features: ['prediction', 'title', 'correct', 'distance'],\n",
       "           num_rows: 10000\n",
       "       }), 'accuracy': 0.2307, 'correct_predictions': Dataset({\n",
       "           features: ['prediction', 'title', 'correct', 'distance'],\n",
       "           num_rows: 2307\n",
       "       }), 'incorrect_predictions': Dataset({\n",
       "           features: ['prediction', 'title', 'correct', 'distance'],\n",
       "           num_rows: 7693\n",
       "       })}\n",
       "   })},\n",
       "  '7b1': {'size': 7.1,\n",
       "   'inputsize': '1000',\n",
       "   'original': DatasetDict({\n",
       "       train: Dataset({\n",
       "           features: ['prediction', 'page_id', 'input_length'],\n",
       "           num_rows: 10000\n",
       "       })\n",
       "       result: {'data': Dataset({\n",
       "           features: ['prediction', 'title', 'correct', 'distance'],\n",
       "           num_rows: 10000\n",
       "       }), 'accuracy': 0.281, 'correct_predictions': Dataset({\n",
       "           features: ['prediction', 'title', 'correct', 'distance'],\n",
       "           num_rows: 2810\n",
       "       }), 'incorrect_predictions': Dataset({\n",
       "           features: ['prediction', 'title', 'correct', 'distance'],\n",
       "           num_rows: 7190\n",
       "       })}\n",
       "   }),\n",
       "   'paraphrased': DatasetDict({\n",
       "       train: Dataset({\n",
       "           features: ['prediction', 'page_id', 'input_length'],\n",
       "           num_rows: 10000\n",
       "       })\n",
       "       result: {'data': Dataset({\n",
       "           features: ['prediction', 'title', 'correct', 'distance'],\n",
       "           num_rows: 10000\n",
       "       }), 'accuracy': 0.2511, 'correct_predictions': Dataset({\n",
       "           features: ['prediction', 'title', 'correct', 'distance'],\n",
       "           num_rows: 2511\n",
       "       }), 'incorrect_predictions': Dataset({\n",
       "           features: ['prediction', 'title', 'correct', 'distance'],\n",
       "           num_rows: 7489\n",
       "       })}\n",
       "   })},\n",
       "  '1b7': {'size': 1.7,\n",
       "   'inputsize': '1000',\n",
       "   'paraphrased': DatasetDict({\n",
       "       train: Dataset({\n",
       "           features: ['prediction', 'page_id', 'input_length'],\n",
       "           num_rows: 10000\n",
       "       })\n",
       "       result: {'data': Dataset({\n",
       "           features: ['prediction', 'title', 'correct', 'distance'],\n",
       "           num_rows: 10000\n",
       "       }), 'accuracy': 0.2297, 'correct_predictions': Dataset({\n",
       "           features: ['prediction', 'title', 'correct', 'distance'],\n",
       "           num_rows: 2297\n",
       "       }), 'incorrect_predictions': Dataset({\n",
       "           features: ['prediction', 'title', 'correct', 'distance'],\n",
       "           num_rows: 7703\n",
       "       })}\n",
       "   }),\n",
       "   'original': DatasetDict({\n",
       "       train: Dataset({\n",
       "           features: ['prediction', 'page_id', 'input_length'],\n",
       "           num_rows: 10000\n",
       "       })\n",
       "       result: {'data': Dataset({\n",
       "           features: ['prediction', 'title', 'correct', 'distance'],\n",
       "           num_rows: 10000\n",
       "       }), 'accuracy': 0.2217, 'correct_predictions': Dataset({\n",
       "           features: ['prediction', 'title', 'correct', 'distance'],\n",
       "           num_rows: 2217\n",
       "       }), 'incorrect_predictions': Dataset({\n",
       "           features: ['prediction', 'title', 'correct', 'distance'],\n",
       "           num_rows: 7783\n",
       "       })}\n",
       "   })},\n",
       "  '1b1': {'size': 1.1,\n",
       "   'inputsize': '1000',\n",
       "   'original': DatasetDict({\n",
       "       train: Dataset({\n",
       "           features: ['prediction', 'page_id', 'input_length'],\n",
       "           num_rows: 10000\n",
       "       })\n",
       "       result: {'data': Dataset({\n",
       "           features: ['prediction', 'title', 'correct', 'distance'],\n",
       "           num_rows: 10000\n",
       "       }), 'accuracy': 0.2226, 'correct_predictions': Dataset({\n",
       "           features: ['prediction', 'title', 'correct', 'distance'],\n",
       "           num_rows: 2226\n",
       "       }), 'incorrect_predictions': Dataset({\n",
       "           features: ['prediction', 'title', 'correct', 'distance'],\n",
       "           num_rows: 7774\n",
       "       })}\n",
       "   }),\n",
       "   'paraphrased': DatasetDict({\n",
       "       train: Dataset({\n",
       "           features: ['prediction', 'page_id', 'input_length'],\n",
       "           num_rows: 10000\n",
       "       })\n",
       "       result: {'data': Dataset({\n",
       "           features: ['prediction', 'title', 'correct', 'distance'],\n",
       "           num_rows: 10000\n",
       "       }), 'accuracy': 0.2167, 'correct_predictions': Dataset({\n",
       "           features: ['prediction', 'title', 'correct', 'distance'],\n",
       "           num_rows: 2167\n",
       "       }), 'incorrect_predictions': Dataset({\n",
       "           features: ['prediction', 'title', 'correct', 'distance'],\n",
       "           num_rows: 7833\n",
       "       })}\n",
       "   })}}}"
      ]
     },
     "execution_count": 25,
     "metadata": {},
     "output_type": "execute_result"
    }
   ],
   "source": [
    "data"
   ]
  },
  {
   "cell_type": "code",
   "execution_count": 74,
   "id": "611c5c3f",
   "metadata": {
    "scrolled": true
   },
   "outputs": [
    {
     "data": {
      "image/png": "[encoded data removed]",
      "text/plain": [
       "<Figure size 3000x1800 with 1 Axes>"
      ]
     },
     "metadata": {},
     "output_type": "display_data"
    }
   ],
   "source": [
    "import matplotlib.pyplot as plt\n",
    "\n",
    "# assuming your dataset is saved in a variable called 'data'\n",
    "# data = {...}\n",
    "\n",
    "sizes = []\n",
    "accuracies = []\n",
    "labels = []\n",
    "\n",
    "for model, configs in data.items():\n",
    "    for config, details in configs.items():\n",
    "        for dataset, results in details.items():\n",
    "            if isinstance(results, dict):  # check if result is a dictionary\n",
    "                size = details['size']\n",
    "                accuracy = results['result']['accuracy']\n",
    "                \n",
    "                sizes.append(size)\n",
    "                accuracies.append(accuracy)\n",
    "                labels.append(f\"{model}_{config}_{dataset}\")\n",
    "\n",
    "plt.figure(figsize=(30, 18))\n",
    "plt.scatter(sizes, accuracies)\n",
    "\n",
    "for i, label in enumerate(labels):\n",
    "    plt.annotate(label, (sizes[i], accuracies[i]))\n",
    "\n",
    "plt.xlabel('Model Size')\n",
    "plt.ylabel('Accuracy')\n",
    "plt.title('Accuracy by Model Size and Configuration')\n",
    "plt.grid(True)\n",
    "plt.show()"
   ]
  },
  {
   "cell_type": "code",
   "execution_count": null,
   "id": "12492dc7",
   "metadata": {
    "scrolled": false
   },
   "outputs": [],
   "source": []
  },
  {
   "cell_type": "code",
   "execution_count": null,
   "id": "d3cbb946",
   "metadata": {},
   "outputs": [],
   "source": []
  },
  {
   "cell_type": "code",
   "execution_count": 75,
   "id": "cefb3d96",
   "metadata": {
    "scrolled": true
   },
   "outputs": [
    {
     "data": {
      "text/html": [
       "<div>\n",
       "<style scoped>\n",
       "    .dataframe tbody tr th:only-of-type {\n",
       "        vertical-align: middle;\n",
       "    }\n",
       "\n",
       "    .dataframe tbody tr th {\n",
       "        vertical-align: top;\n",
       "    }\n",
       "\n",
       "    .dataframe thead th {\n",
       "        text-align: right;\n",
       "    }\n",
       "</style>\n",
       "<table border=\"1\" class=\"dataframe\">\n",
       "  <thead>\n",
       "    <tr style=\"text-align: right;\">\n",
       "      <th></th>\n",
       "      <th>id</th>\n",
       "      <th>url</th>\n",
       "      <th>title</th>\n",
       "      <th>text</th>\n",
       "      <th>sentences</th>\n",
       "      <th>paraphrased_sentences</th>\n",
       "      <th>masked_text_original</th>\n",
       "      <th>masked_entities_original</th>\n",
       "      <th>masked_text_paraphrased</th>\n",
       "      <th>masked_entities_paraphrased</th>\n",
       "    </tr>\n",
       "  </thead>\n",
       "  <tbody>\n",
       "    <tr>\n",
       "      <th>0</th>\n",
       "      <td>307</td>\n",
       "      <td>https://en.wikipedia.org/wiki/Abraham%20Lincoln</td>\n",
       "      <td>Abraham Lincoln</td>\n",
       "      <td>Abraham Lincoln (; February 12, 1809 – April 1...</td>\n",
       "      <td>[Abraham Lincoln (; February 12, 1809 – April ...</td>\n",
       "      <td>[The 16th president of the United States, Abra...</td>\n",
       "      <td>&lt;mask&gt; (; February 12, 1809 – April 15, 1865) ...</td>\n",
       "      <td>[Abraham Lincoln, Lincoln, Lincoln, Lincoln, L...</td>\n",
       "      <td>The 16th president of the United States, &lt;mask...</td>\n",
       "      <td>[Abraham Lincoln, Lincoln, Lincoln, Lincoln, L...</td>\n",
       "    </tr>\n",
       "    <tr>\n",
       "      <th>1</th>\n",
       "      <td>404665</td>\n",
       "      <td>https://en.wikipedia.org/wiki/Austin%20Healey</td>\n",
       "      <td>Austin Healey</td>\n",
       "      <td>Austin Sean Healey (born 26 October 1973 in Wa...</td>\n",
       "      <td>[Austin Sean Healey (born 26 October 1973 in W...</td>\n",
       "      <td>[Austin Sean Healey is a former English rugby ...</td>\n",
       "      <td>&lt;mask&gt; (born 26 October 1973 in Wallasey (now ...</td>\n",
       "      <td>[Austin Sean Healey, Austin, Healey, Healey, H...</td>\n",
       "      <td>&lt;mask&gt; is a former English rugby union player ...</td>\n",
       "      <td>[Austin Sean Healey, Austin, Healey, Healey, H...</td>\n",
       "    </tr>\n",
       "    <tr>\n",
       "      <th>2</th>\n",
       "      <td>28319266</td>\n",
       "      <td>https://en.wikipedia.org/wiki/Woody%20Abernath...</td>\n",
       "      <td>Woody Abernathy (outfielder)</td>\n",
       "      <td>Thomas Woodley \"Woody\" Abernathy (October 16, ...</td>\n",
       "      <td>[Thomas Woodley \"Woody\" Abernathy (October 16,...</td>\n",
       "      <td>[There was a professional baseball player name...</td>\n",
       "      <td>Thomas Woodley \"&lt;mask&gt;\" &lt;mask&gt; (October 16, 19...</td>\n",
       "      <td>[Woody, Abernathy, Woody, Abernathy, Abernathy...</td>\n",
       "      <td>There was a professional baseball player named...</td>\n",
       "      <td>[Woody, Abernathy, Woody, . Abernathy, Woody, ...</td>\n",
       "    </tr>\n",
       "    <tr>\n",
       "      <th>3</th>\n",
       "      <td>1912218</td>\n",
       "      <td>https://en.wikipedia.org/wiki/Edie%20McClurg</td>\n",
       "      <td>Edie McClurg</td>\n",
       "      <td>Edith Marie McClurg (born July 23, 1945) is an...</td>\n",
       "      <td>[Edith Marie McClurg (born July 23, 1945) is a...</td>\n",
       "      <td>[Edith Marie McClurg was born in 1945 and is a...</td>\n",
       "      <td>&lt;mask&gt; (born July 23, 1945) is an American act...</td>\n",
       "      <td>[Edith Marie McClurg, McClurg, Irene McClurg, ...</td>\n",
       "      <td>&lt;mask&gt; was born in 1945 and is an American act...</td>\n",
       "      <td>[Edith Marie McClurg, McClurg, McClurg, Edie, ...</td>\n",
       "    </tr>\n",
       "    <tr>\n",
       "      <th>4</th>\n",
       "      <td>46646833</td>\n",
       "      <td>https://en.wikipedia.org/wiki/Suella%20Braverman</td>\n",
       "      <td>Suella Braverman</td>\n",
       "      <td>Sue-Ellen Cassiana \"Suella\" Braverman  (; born...</td>\n",
       "      <td>[Sue-Ellen Cassiana \"Suella\" Braverman  (; bor...</td>\n",
       "      <td>[Sue-Ellen \"Suella\" Braverman is a British pol...</td>\n",
       "      <td>Sue-Ellen Cassiana \"&lt;mask&gt;\" &lt;mask&gt;  (; born 3 ...</td>\n",
       "      <td>[Suella, Braverman, Braverman, Braverman, Brav...</td>\n",
       "      <td>Sue-Ellen \"&lt;mask&gt;\" &lt;mask&gt; is a British politic...</td>\n",
       "      <td>[Suella, Braverman, Braverman, Braverman, Brav...</td>\n",
       "    </tr>\n",
       "    <tr>\n",
       "      <th>...</th>\n",
       "      <td>...</td>\n",
       "      <td>...</td>\n",
       "      <td>...</td>\n",
       "      <td>...</td>\n",
       "      <td>...</td>\n",
       "      <td>...</td>\n",
       "      <td>...</td>\n",
       "      <td>...</td>\n",
       "      <td>...</td>\n",
       "      <td>...</td>\n",
       "    </tr>\n",
       "    <tr>\n",
       "      <th>9995</th>\n",
       "      <td>27527437</td>\n",
       "      <td>https://en.wikipedia.org/wiki/Lojze%20Grozde</td>\n",
       "      <td>Lojze Grozde</td>\n",
       "      <td>Lojze Grozde (27 May 1923 – 1 January 1943) wa...</td>\n",
       "      <td>[Lojze Grozde (27 May 1923 – 1 January 1943) w...</td>\n",
       "      <td>[Lojze Grozde was murdered by Partisans during...</td>\n",
       "      <td>&lt;mask&gt; (27 May 1923 – 1 January 1943) was a Sl...</td>\n",
       "      <td>[Lojze Grozde, Grozde, Lojze, Grozde, Lojze, G...</td>\n",
       "      <td>&lt;mask&gt; was murdered by Partisans during World ...</td>\n",
       "      <td>[Lojze Grozde, Grozde, Lojze, Lojze, Grozde, L...</td>\n",
       "    </tr>\n",
       "    <tr>\n",
       "      <th>9996</th>\n",
       "      <td>42853728</td>\n",
       "      <td>https://en.wikipedia.org/wiki/Howard%20Richard...</td>\n",
       "      <td>Howard Richards (academic)</td>\n",
       "      <td>Howard Richards (born June 10, 1938) is a phil...</td>\n",
       "      <td>[Howard Richards (born June 10, 1938) is a phi...</td>\n",
       "      <td>[Howard Richards is a philosopher who works wi...</td>\n",
       "      <td>&lt;mask&gt; (born June 10, 1938) is a philosopher o...</td>\n",
       "      <td>[Howard Richards, Howard Richards, . Richards,...</td>\n",
       "      <td>&lt;mask&gt; is a philosopher who works with the con...</td>\n",
       "      <td>[Howard Richards, Howard Richards, . Richards,...</td>\n",
       "    </tr>\n",
       "    <tr>\n",
       "      <th>9997</th>\n",
       "      <td>7727513</td>\n",
       "      <td>https://en.wikipedia.org/wiki/Richard%20Hughes...</td>\n",
       "      <td>Richard Hughes (jockey)</td>\n",
       "      <td>|}\\n\\n|}\\nRichard Hughes (born 11 January 1973...</td>\n",
       "      <td>[|}\\n\\n|}\\nRichard Hughes (born 11 January 197...</td>\n",
       "      <td>[Richard Hughes is a retired Irish jockey and ...</td>\n",
       "      <td>|}\\n\\n|}\\n&lt;mask&gt; (born 11 January 1973) is a r...</td>\n",
       "      <td>[Richard Hughes, Dessie Hughes, Hughes, Hughes...</td>\n",
       "      <td>&lt;mask&gt; is a retired Irish jockey and current r...</td>\n",
       "      <td>[Richard Hughes, Dessie Hughes, Hughes, Hughes...</td>\n",
       "    </tr>\n",
       "    <tr>\n",
       "      <th>9998</th>\n",
       "      <td>386522</td>\n",
       "      <td>https://en.wikipedia.org/wiki/Andr%C3%A9%20Bac...</td>\n",
       "      <td>André Bachand (Progressive Conservative MP)</td>\n",
       "      <td>André Bachand (born December 8, 1961) is a Can...</td>\n",
       "      <td>[André Bachand (born December 8, 1961) is a Ca...</td>\n",
       "      <td>[From 1997 to 2003 he was a member of the Prog...</td>\n",
       "      <td>&lt;mask&gt; (born December 8, 1961) is a Canadian p...</td>\n",
       "      <td>[André Bachand, Bachand, Bachand, Young Turk B...</td>\n",
       "      <td>From 1997 to 2003 he was a member of the Progr...</td>\n",
       "      <td>[Bachand, Young Turk Bachand, Bachand, Bachand...</td>\n",
       "    </tr>\n",
       "    <tr>\n",
       "      <th>9999</th>\n",
       "      <td>27763785</td>\n",
       "      <td>https://en.wikipedia.org/wiki/Serhiy%20Ostapenko</td>\n",
       "      <td>Serhiy Ostapenko</td>\n",
       "      <td>Serhiy Ostapenko (November 1881—1937) was econ...</td>\n",
       "      <td>[Serhiy Ostapenko (November 1881—1937) was eco...</td>\n",
       "      <td>[Serhiy Ostapenko was a political activist and...</td>\n",
       "      <td>&lt;mask&gt; (November 1881—1937) was economist, sta...</td>\n",
       "      <td>[Serhiy Ostapenko, Ostapenko, Ostapenko, Ostap...</td>\n",
       "      <td>&lt;mask&gt; was a political activist and economist....</td>\n",
       "      <td>[Serhiy Ostapenko, Ostapenko, Ostapenko, Ostap...</td>\n",
       "    </tr>\n",
       "  </tbody>\n",
       "</table>\n",
       "<p>10000 rows × 10 columns</p>\n",
       "</div>"
      ],
      "text/plain": [
       "            id                                                url   \n",
       "0          307    https://en.wikipedia.org/wiki/Abraham%20Lincoln  \\\n",
       "1       404665      https://en.wikipedia.org/wiki/Austin%20Healey   \n",
       "2     28319266  https://en.wikipedia.org/wiki/Woody%20Abernath...   \n",
       "3      1912218       https://en.wikipedia.org/wiki/Edie%20McClurg   \n",
       "4     46646833   https://en.wikipedia.org/wiki/Suella%20Braverman   \n",
       "...        ...                                                ...   \n",
       "9995  27527437       https://en.wikipedia.org/wiki/Lojze%20Grozde   \n",
       "9996  42853728  https://en.wikipedia.org/wiki/Howard%20Richard...   \n",
       "9997   7727513  https://en.wikipedia.org/wiki/Richard%20Hughes...   \n",
       "9998    386522  https://en.wikipedia.org/wiki/Andr%C3%A9%20Bac...   \n",
       "9999  27763785   https://en.wikipedia.org/wiki/Serhiy%20Ostapenko   \n",
       "\n",
       "                                            title   \n",
       "0                                 Abraham Lincoln  \\\n",
       "1                                   Austin Healey   \n",
       "2                    Woody Abernathy (outfielder)   \n",
       "3                                    Edie McClurg   \n",
       "4                                Suella Braverman   \n",
       "...                                           ...   \n",
       "9995                                 Lojze Grozde   \n",
       "9996                   Howard Richards (academic)   \n",
       "9997                      Richard Hughes (jockey)   \n",
       "9998  André Bachand (Progressive Conservative MP)   \n",
       "9999                             Serhiy Ostapenko   \n",
       "\n",
       "                                                   text   \n",
       "0     Abraham Lincoln (; February 12, 1809 – April 1...  \\\n",
       "1     Austin Sean Healey (born 26 October 1973 in Wa...   \n",
       "2     Thomas Woodley \"Woody\" Abernathy (October 16, ...   \n",
       "3     Edith Marie McClurg (born July 23, 1945) is an...   \n",
       "4     Sue-Ellen Cassiana \"Suella\" Braverman  (; born...   \n",
       "...                                                 ...   \n",
       "9995  Lojze Grozde (27 May 1923 – 1 January 1943) wa...   \n",
       "9996  Howard Richards (born June 10, 1938) is a phil...   \n",
       "9997  |}\\n\\n|}\\nRichard Hughes (born 11 January 1973...   \n",
       "9998  André Bachand (born December 8, 1961) is a Can...   \n",
       "9999  Serhiy Ostapenko (November 1881—1937) was econ...   \n",
       "\n",
       "                                              sentences   \n",
       "0     [Abraham Lincoln (; February 12, 1809 – April ...  \\\n",
       "1     [Austin Sean Healey (born 26 October 1973 in W...   \n",
       "2     [Thomas Woodley \"Woody\" Abernathy (October 16,...   \n",
       "3     [Edith Marie McClurg (born July 23, 1945) is a...   \n",
       "4     [Sue-Ellen Cassiana \"Suella\" Braverman  (; bor...   \n",
       "...                                                 ...   \n",
       "9995  [Lojze Grozde (27 May 1923 – 1 January 1943) w...   \n",
       "9996  [Howard Richards (born June 10, 1938) is a phi...   \n",
       "9997  [|}\\n\\n|}\\nRichard Hughes (born 11 January 197...   \n",
       "9998  [André Bachand (born December 8, 1961) is a Ca...   \n",
       "9999  [Serhiy Ostapenko (November 1881—1937) was eco...   \n",
       "\n",
       "                                  paraphrased_sentences   \n",
       "0     [The 16th president of the United States, Abra...  \\\n",
       "1     [Austin Sean Healey is a former English rugby ...   \n",
       "2     [There was a professional baseball player name...   \n",
       "3     [Edith Marie McClurg was born in 1945 and is a...   \n",
       "4     [Sue-Ellen \"Suella\" Braverman is a British pol...   \n",
       "...                                                 ...   \n",
       "9995  [Lojze Grozde was murdered by Partisans during...   \n",
       "9996  [Howard Richards is a philosopher who works wi...   \n",
       "9997  [Richard Hughes is a retired Irish jockey and ...   \n",
       "9998  [From 1997 to 2003 he was a member of the Prog...   \n",
       "9999  [Serhiy Ostapenko was a political activist and...   \n",
       "\n",
       "                                   masked_text_original   \n",
       "0     <mask> (; February 12, 1809 – April 15, 1865) ...  \\\n",
       "1     <mask> (born 26 October 1973 in Wallasey (now ...   \n",
       "2     Thomas Woodley \"<mask>\" <mask> (October 16, 19...   \n",
       "3     <mask> (born July 23, 1945) is an American act...   \n",
       "4     Sue-Ellen Cassiana \"<mask>\" <mask>  (; born 3 ...   \n",
       "...                                                 ...   \n",
       "9995  <mask> (27 May 1923 – 1 January 1943) was a Sl...   \n",
       "9996  <mask> (born June 10, 1938) is a philosopher o...   \n",
       "9997  |}\\n\\n|}\\n<mask> (born 11 January 1973) is a r...   \n",
       "9998  <mask> (born December 8, 1961) is a Canadian p...   \n",
       "9999  <mask> (November 1881—1937) was economist, sta...   \n",
       "\n",
       "                               masked_entities_original   \n",
       "0     [Abraham Lincoln, Lincoln, Lincoln, Lincoln, L...  \\\n",
       "1     [Austin Sean Healey, Austin, Healey, Healey, H...   \n",
       "2     [Woody, Abernathy, Woody, Abernathy, Abernathy...   \n",
       "3     [Edith Marie McClurg, McClurg, Irene McClurg, ...   \n",
       "4     [Suella, Braverman, Braverman, Braverman, Brav...   \n",
       "...                                                 ...   \n",
       "9995  [Lojze Grozde, Grozde, Lojze, Grozde, Lojze, G...   \n",
       "9996  [Howard Richards, Howard Richards, . Richards,...   \n",
       "9997  [Richard Hughes, Dessie Hughes, Hughes, Hughes...   \n",
       "9998  [André Bachand, Bachand, Bachand, Young Turk B...   \n",
       "9999  [Serhiy Ostapenko, Ostapenko, Ostapenko, Ostap...   \n",
       "\n",
       "                                masked_text_paraphrased   \n",
       "0     The 16th president of the United States, <mask...  \\\n",
       "1     <mask> is a former English rugby union player ...   \n",
       "2     There was a professional baseball player named...   \n",
       "3     <mask> was born in 1945 and is an American act...   \n",
       "4     Sue-Ellen \"<mask>\" <mask> is a British politic...   \n",
       "...                                                 ...   \n",
       "9995  <mask> was murdered by Partisans during World ...   \n",
       "9996  <mask> is a philosopher who works with the con...   \n",
       "9997  <mask> is a retired Irish jockey and current r...   \n",
       "9998  From 1997 to 2003 he was a member of the Progr...   \n",
       "9999  <mask> was a political activist and economist....   \n",
       "\n",
       "                            masked_entities_paraphrased  \n",
       "0     [Abraham Lincoln, Lincoln, Lincoln, Lincoln, L...  \n",
       "1     [Austin Sean Healey, Austin, Healey, Healey, H...  \n",
       "2     [Woody, Abernathy, Woody, . Abernathy, Woody, ...  \n",
       "3     [Edith Marie McClurg, McClurg, McClurg, Edie, ...  \n",
       "4     [Suella, Braverman, Braverman, Braverman, Brav...  \n",
       "...                                                 ...  \n",
       "9995  [Lojze Grozde, Grozde, Lojze, Lojze, Grozde, L...  \n",
       "9996  [Howard Richards, Howard Richards, . Richards,...  \n",
       "9997  [Richard Hughes, Dessie Hughes, Hughes, Hughes...  \n",
       "9998  [Bachand, Young Turk Bachand, Bachand, Bachand...  \n",
       "9999  [Serhiy Ostapenko, Ostapenko, Ostapenko, Ostap...  \n",
       "\n",
       "[10000 rows x 10 columns]"
      ]
     },
     "execution_count": 75,
     "metadata": {},
     "output_type": "execute_result"
    }
   ],
   "source": [
    "gt_df = pd.DataFrame(gt)\n",
    "gt_df"
   ]
  },
  {
   "cell_type": "code",
   "execution_count": 141,
   "id": "bd3c06b8",
   "metadata": {},
   "outputs": [
    {
     "data": {
      "text/html": [
       "<div>\n",
       "<style scoped>\n",
       "    .dataframe tbody tr th:only-of-type {\n",
       "        vertical-align: middle;\n",
       "    }\n",
       "\n",
       "    .dataframe tbody tr th {\n",
       "        vertical-align: top;\n",
       "    }\n",
       "\n",
       "    .dataframe thead th {\n",
       "        text-align: right;\n",
       "    }\n",
       "</style>\n",
       "<table border=\"1\" class=\"dataframe\">\n",
       "  <thead>\n",
       "    <tr style=\"text-align: right;\">\n",
       "      <th></th>\n",
       "      <th>prediction</th>\n",
       "      <th>title</th>\n",
       "      <th>correct</th>\n",
       "      <th>distance</th>\n",
       "    </tr>\n",
       "  </thead>\n",
       "  <tbody>\n",
       "    <tr>\n",
       "      <th>0</th>\n",
       "      <td>Abraham Lincoln</td>\n",
       "      <td>Abraham Lincoln</td>\n",
       "      <td>1</td>\n",
       "      <td>0</td>\n",
       "    </tr>\n",
       "    <tr>\n",
       "      <th>1</th>\n",
       "      <td>Austin Healey</td>\n",
       "      <td>Austin Healey</td>\n",
       "      <td>1</td>\n",
       "      <td>0</td>\n",
       "    </tr>\n",
       "    <tr>\n",
       "      <th>2</th>\n",
       "      <td>Thomas Woodley Abernathy</td>\n",
       "      <td>Woody Abernathy (outfielder)</td>\n",
       "      <td>1</td>\n",
       "      <td>16</td>\n",
       "    </tr>\n",
       "    <tr>\n",
       "      <th>3</th>\n",
       "      <td>Edie McClurg</td>\n",
       "      <td>Edie McClurg</td>\n",
       "      <td>1</td>\n",
       "      <td>0</td>\n",
       "    </tr>\n",
       "    <tr>\n",
       "      <th>4</th>\n",
       "      <td>Sue-Ellen Cassiana Braverman</td>\n",
       "      <td>Suella Braverman</td>\n",
       "      <td>1</td>\n",
       "      <td>12</td>\n",
       "    </tr>\n",
       "    <tr>\n",
       "      <th>...</th>\n",
       "      <td>...</td>\n",
       "      <td>...</td>\n",
       "      <td>...</td>\n",
       "      <td>...</td>\n",
       "    </tr>\n",
       "    <tr>\n",
       "      <th>9995</th>\n",
       "      <td>Grozde Korošec</td>\n",
       "      <td>Lojze Grozde</td>\n",
       "      <td>1</td>\n",
       "      <td>9</td>\n",
       "    </tr>\n",
       "    <tr>\n",
       "      <th>9996</th>\n",
       "      <td>David Schweickart</td>\n",
       "      <td>Howard Richards (academic)</td>\n",
       "      <td>0</td>\n",
       "      <td>16</td>\n",
       "    </tr>\n",
       "    <tr>\n",
       "      <th>9997</th>\n",
       "      <td>Richard Hughes</td>\n",
       "      <td>Richard Hughes (jockey)</td>\n",
       "      <td>1</td>\n",
       "      <td>9</td>\n",
       "    </tr>\n",
       "    <tr>\n",
       "      <th>9998</th>\n",
       "      <td>Noël A. Kinsella</td>\n",
       "      <td>André Bachand (Progressive Conservative MP)</td>\n",
       "      <td>0</td>\n",
       "      <td>16</td>\n",
       "    </tr>\n",
       "    <tr>\n",
       "      <th>9999</th>\n",
       "      <td>Mykola Vasylenko</td>\n",
       "      <td>Serhiy Ostapenko</td>\n",
       "      <td>0</td>\n",
       "      <td>11</td>\n",
       "    </tr>\n",
       "  </tbody>\n",
       "</table>\n",
       "<p>10000 rows × 4 columns</p>\n",
       "</div>"
      ],
      "text/plain": [
       "                        prediction   \n",
       "0                  Abraham Lincoln  \\\n",
       "1                    Austin Healey   \n",
       "2         Thomas Woodley Abernathy   \n",
       "3                     Edie McClurg   \n",
       "4     Sue-Ellen Cassiana Braverman   \n",
       "...                            ...   \n",
       "9995                Grozde Korošec   \n",
       "9996             David Schweickart   \n",
       "9997                Richard Hughes   \n",
       "9998              Noël A. Kinsella   \n",
       "9999              Mykola Vasylenko   \n",
       "\n",
       "                                            title  correct  distance  \n",
       "0                                 Abraham Lincoln        1         0  \n",
       "1                                   Austin Healey        1         0  \n",
       "2                    Woody Abernathy (outfielder)        1        16  \n",
       "3                                    Edie McClurg        1         0  \n",
       "4                                Suella Braverman        1        12  \n",
       "...                                           ...      ...       ...  \n",
       "9995                                 Lojze Grozde        1         9  \n",
       "9996                   Howard Richards (academic)        0        16  \n",
       "9997                      Richard Hughes (jockey)        1         9  \n",
       "9998  André Bachand (Progressive Conservative MP)        0        16  \n",
       "9999                             Serhiy Ostapenko        0        11  \n",
       "\n",
       "[10000 rows x 4 columns]"
      ]
     },
     "execution_count": 141,
     "metadata": {},
     "output_type": "execute_result"
    }
   ],
   "source": [
    "# df = data['bloomz']['7b1']['original']['result']['data']\n",
    "df = data['gpt3.turbo']['175b']['original']['result']['data']\n",
    "# df = data['bloomz']['176b']['original']['result']['data']\n",
    "df = df.to_pandas()\n",
    "df"
   ]
  },
  {
   "cell_type": "code",
   "execution_count": 142,
   "id": "d5420f8d",
   "metadata": {},
   "outputs": [
    {
     "data": {
      "text/html": [
       "<div>\n",
       "<style scoped>\n",
       "    .dataframe tbody tr th:only-of-type {\n",
       "        vertical-align: middle;\n",
       "    }\n",
       "\n",
       "    .dataframe tbody tr th {\n",
       "        vertical-align: top;\n",
       "    }\n",
       "\n",
       "    .dataframe thead th {\n",
       "        text-align: right;\n",
       "    }\n",
       "</style>\n",
       "<table border=\"1\" class=\"dataframe\">\n",
       "  <thead>\n",
       "    <tr style=\"text-align: right;\">\n",
       "      <th></th>\n",
       "      <th>prediction</th>\n",
       "      <th>title</th>\n",
       "      <th>correct</th>\n",
       "      <th>distance</th>\n",
       "      <th>id</th>\n",
       "      <th>url</th>\n",
       "      <th>text</th>\n",
       "      <th>sentences</th>\n",
       "      <th>paraphrased_sentences</th>\n",
       "      <th>masked_text_original</th>\n",
       "      <th>masked_entities_original</th>\n",
       "      <th>masked_text_paraphrased</th>\n",
       "      <th>masked_entities_paraphrased</th>\n",
       "    </tr>\n",
       "  </thead>\n",
       "  <tbody>\n",
       "    <tr>\n",
       "      <th>0</th>\n",
       "      <td>Abraham Lincoln</td>\n",
       "      <td>Abraham Lincoln</td>\n",
       "      <td>1</td>\n",
       "      <td>0</td>\n",
       "      <td>307</td>\n",
       "      <td>https://en.wikipedia.org/wiki/Abraham%20Lincoln</td>\n",
       "      <td>Abraham Lincoln (; February 12, 1809 – April 1...</td>\n",
       "      <td>[Abraham Lincoln (; February 12, 1809 – April ...</td>\n",
       "      <td>[The 16th president of the United States, Abra...</td>\n",
       "      <td>&lt;mask&gt; (; February 12, 1809 – April 15, 1865) ...</td>\n",
       "      <td>[Abraham Lincoln, Lincoln, Lincoln, Lincoln, L...</td>\n",
       "      <td>The 16th president of the United States, &lt;mask...</td>\n",
       "      <td>[Abraham Lincoln, Lincoln, Lincoln, Lincoln, L...</td>\n",
       "    </tr>\n",
       "    <tr>\n",
       "      <th>1</th>\n",
       "      <td>Austin Healey</td>\n",
       "      <td>Austin Healey</td>\n",
       "      <td>1</td>\n",
       "      <td>0</td>\n",
       "      <td>404665</td>\n",
       "      <td>https://en.wikipedia.org/wiki/Austin%20Healey</td>\n",
       "      <td>Austin Sean Healey (born 26 October 1973 in Wa...</td>\n",
       "      <td>[Austin Sean Healey (born 26 October 1973 in W...</td>\n",
       "      <td>[Austin Sean Healey is a former English rugby ...</td>\n",
       "      <td>&lt;mask&gt; (born 26 October 1973 in Wallasey (now ...</td>\n",
       "      <td>[Austin Sean Healey, Austin, Healey, Healey, H...</td>\n",
       "      <td>&lt;mask&gt; is a former English rugby union player ...</td>\n",
       "      <td>[Austin Sean Healey, Austin, Healey, Healey, H...</td>\n",
       "    </tr>\n",
       "    <tr>\n",
       "      <th>2</th>\n",
       "      <td>Thomas Woodley Abernathy</td>\n",
       "      <td>Woody Abernathy (outfielder)</td>\n",
       "      <td>1</td>\n",
       "      <td>16</td>\n",
       "      <td>28319266</td>\n",
       "      <td>https://en.wikipedia.org/wiki/Woody%20Abernath...</td>\n",
       "      <td>Thomas Woodley \"Woody\" Abernathy (October 16, ...</td>\n",
       "      <td>[Thomas Woodley \"Woody\" Abernathy (October 16,...</td>\n",
       "      <td>[There was a professional baseball player name...</td>\n",
       "      <td>Thomas Woodley \"&lt;mask&gt;\" &lt;mask&gt; (October 16, 19...</td>\n",
       "      <td>[Woody, Abernathy, Woody, Abernathy, Abernathy...</td>\n",
       "      <td>There was a professional baseball player named...</td>\n",
       "      <td>[Woody, Abernathy, Woody, . Abernathy, Woody, ...</td>\n",
       "    </tr>\n",
       "    <tr>\n",
       "      <th>3</th>\n",
       "      <td>Edie McClurg</td>\n",
       "      <td>Edie McClurg</td>\n",
       "      <td>1</td>\n",
       "      <td>0</td>\n",
       "      <td>1912218</td>\n",
       "      <td>https://en.wikipedia.org/wiki/Edie%20McClurg</td>\n",
       "      <td>Edith Marie McClurg (born July 23, 1945) is an...</td>\n",
       "      <td>[Edith Marie McClurg (born July 23, 1945) is a...</td>\n",
       "      <td>[Edith Marie McClurg was born in 1945 and is a...</td>\n",
       "      <td>&lt;mask&gt; (born July 23, 1945) is an American act...</td>\n",
       "      <td>[Edith Marie McClurg, McClurg, Irene McClurg, ...</td>\n",
       "      <td>&lt;mask&gt; was born in 1945 and is an American act...</td>\n",
       "      <td>[Edith Marie McClurg, McClurg, McClurg, Edie, ...</td>\n",
       "    </tr>\n",
       "    <tr>\n",
       "      <th>4</th>\n",
       "      <td>Sue-Ellen Cassiana Braverman</td>\n",
       "      <td>Suella Braverman</td>\n",
       "      <td>1</td>\n",
       "      <td>12</td>\n",
       "      <td>46646833</td>\n",
       "      <td>https://en.wikipedia.org/wiki/Suella%20Braverman</td>\n",
       "      <td>Sue-Ellen Cassiana \"Suella\" Braverman  (; born...</td>\n",
       "      <td>[Sue-Ellen Cassiana \"Suella\" Braverman  (; bor...</td>\n",
       "      <td>[Sue-Ellen \"Suella\" Braverman is a British pol...</td>\n",
       "      <td>Sue-Ellen Cassiana \"&lt;mask&gt;\" &lt;mask&gt;  (; born 3 ...</td>\n",
       "      <td>[Suella, Braverman, Braverman, Braverman, Brav...</td>\n",
       "      <td>Sue-Ellen \"&lt;mask&gt;\" &lt;mask&gt; is a British politic...</td>\n",
       "      <td>[Suella, Braverman, Braverman, Braverman, Brav...</td>\n",
       "    </tr>\n",
       "    <tr>\n",
       "      <th>...</th>\n",
       "      <td>...</td>\n",
       "      <td>...</td>\n",
       "      <td>...</td>\n",
       "      <td>...</td>\n",
       "      <td>...</td>\n",
       "      <td>...</td>\n",
       "      <td>...</td>\n",
       "      <td>...</td>\n",
       "      <td>...</td>\n",
       "      <td>...</td>\n",
       "      <td>...</td>\n",
       "      <td>...</td>\n",
       "      <td>...</td>\n",
       "    </tr>\n",
       "    <tr>\n",
       "      <th>9995</th>\n",
       "      <td>Grozde Korošec</td>\n",
       "      <td>Lojze Grozde</td>\n",
       "      <td>1</td>\n",
       "      <td>9</td>\n",
       "      <td>27527437</td>\n",
       "      <td>https://en.wikipedia.org/wiki/Lojze%20Grozde</td>\n",
       "      <td>Lojze Grozde (27 May 1923 – 1 January 1943) wa...</td>\n",
       "      <td>[Lojze Grozde (27 May 1923 – 1 January 1943) w...</td>\n",
       "      <td>[Lojze Grozde was murdered by Partisans during...</td>\n",
       "      <td>&lt;mask&gt; (27 May 1923 – 1 January 1943) was a Sl...</td>\n",
       "      <td>[Lojze Grozde, Grozde, Lojze, Grozde, Lojze, G...</td>\n",
       "      <td>&lt;mask&gt; was murdered by Partisans during World ...</td>\n",
       "      <td>[Lojze Grozde, Grozde, Lojze, Lojze, Grozde, L...</td>\n",
       "    </tr>\n",
       "    <tr>\n",
       "      <th>9996</th>\n",
       "      <td>David Schweickart</td>\n",
       "      <td>Howard Richards (academic)</td>\n",
       "      <td>0</td>\n",
       "      <td>16</td>\n",
       "      <td>42853728</td>\n",
       "      <td>https://en.wikipedia.org/wiki/Howard%20Richard...</td>\n",
       "      <td>Howard Richards (born June 10, 1938) is a phil...</td>\n",
       "      <td>[Howard Richards (born June 10, 1938) is a phi...</td>\n",
       "      <td>[Howard Richards is a philosopher who works wi...</td>\n",
       "      <td>&lt;mask&gt; (born June 10, 1938) is a philosopher o...</td>\n",
       "      <td>[Howard Richards, Howard Richards, . Richards,...</td>\n",
       "      <td>&lt;mask&gt; is a philosopher who works with the con...</td>\n",
       "      <td>[Howard Richards, Howard Richards, . Richards,...</td>\n",
       "    </tr>\n",
       "    <tr>\n",
       "      <th>9997</th>\n",
       "      <td>Richard Hughes</td>\n",
       "      <td>Richard Hughes (jockey)</td>\n",
       "      <td>1</td>\n",
       "      <td>9</td>\n",
       "      <td>7727513</td>\n",
       "      <td>https://en.wikipedia.org/wiki/Richard%20Hughes...</td>\n",
       "      <td>|}\\n\\n|}\\nRichard Hughes (born 11 January 1973...</td>\n",
       "      <td>[|}\\n\\n|}\\nRichard Hughes (born 11 January 197...</td>\n",
       "      <td>[Richard Hughes is a retired Irish jockey and ...</td>\n",
       "      <td>|}\\n\\n|}\\n&lt;mask&gt; (born 11 January 1973) is a r...</td>\n",
       "      <td>[Richard Hughes, Dessie Hughes, Hughes, Hughes...</td>\n",
       "      <td>&lt;mask&gt; is a retired Irish jockey and current r...</td>\n",
       "      <td>[Richard Hughes, Dessie Hughes, Hughes, Hughes...</td>\n",
       "    </tr>\n",
       "    <tr>\n",
       "      <th>9998</th>\n",
       "      <td>Noël A. Kinsella</td>\n",
       "      <td>André Bachand (Progressive Conservative MP)</td>\n",
       "      <td>0</td>\n",
       "      <td>16</td>\n",
       "      <td>386522</td>\n",
       "      <td>https://en.wikipedia.org/wiki/Andr%C3%A9%20Bac...</td>\n",
       "      <td>André Bachand (born December 8, 1961) is a Can...</td>\n",
       "      <td>[André Bachand (born December 8, 1961) is a Ca...</td>\n",
       "      <td>[From 1997 to 2003 he was a member of the Prog...</td>\n",
       "      <td>&lt;mask&gt; (born December 8, 1961) is a Canadian p...</td>\n",
       "      <td>[André Bachand, Bachand, Bachand, Young Turk B...</td>\n",
       "      <td>From 1997 to 2003 he was a member of the Progr...</td>\n",
       "      <td>[Bachand, Young Turk Bachand, Bachand, Bachand...</td>\n",
       "    </tr>\n",
       "    <tr>\n",
       "      <th>9999</th>\n",
       "      <td>Mykola Vasylenko</td>\n",
       "      <td>Serhiy Ostapenko</td>\n",
       "      <td>0</td>\n",
       "      <td>11</td>\n",
       "      <td>27763785</td>\n",
       "      <td>https://en.wikipedia.org/wiki/Serhiy%20Ostapenko</td>\n",
       "      <td>Serhiy Ostapenko (November 1881—1937) was econ...</td>\n",
       "      <td>[Serhiy Ostapenko (November 1881—1937) was eco...</td>\n",
       "      <td>[Serhiy Ostapenko was a political activist and...</td>\n",
       "      <td>&lt;mask&gt; (November 1881—1937) was economist, sta...</td>\n",
       "      <td>[Serhiy Ostapenko, Ostapenko, Ostapenko, Ostap...</td>\n",
       "      <td>&lt;mask&gt; was a political activist and economist....</td>\n",
       "      <td>[Serhiy Ostapenko, Ostapenko, Ostapenko, Ostap...</td>\n",
       "    </tr>\n",
       "  </tbody>\n",
       "</table>\n",
       "<p>10000 rows × 13 columns</p>\n",
       "</div>"
      ],
      "text/plain": [
       "                        prediction   \n",
       "0                  Abraham Lincoln  \\\n",
       "1                    Austin Healey   \n",
       "2         Thomas Woodley Abernathy   \n",
       "3                     Edie McClurg   \n",
       "4     Sue-Ellen Cassiana Braverman   \n",
       "...                            ...   \n",
       "9995                Grozde Korošec   \n",
       "9996             David Schweickart   \n",
       "9997                Richard Hughes   \n",
       "9998              Noël A. Kinsella   \n",
       "9999              Mykola Vasylenko   \n",
       "\n",
       "                                            title  correct  distance   \n",
       "0                                 Abraham Lincoln        1         0  \\\n",
       "1                                   Austin Healey        1         0   \n",
       "2                    Woody Abernathy (outfielder)        1        16   \n",
       "3                                    Edie McClurg        1         0   \n",
       "4                                Suella Braverman        1        12   \n",
       "...                                           ...      ...       ...   \n",
       "9995                                 Lojze Grozde        1         9   \n",
       "9996                   Howard Richards (academic)        0        16   \n",
       "9997                      Richard Hughes (jockey)        1         9   \n",
       "9998  André Bachand (Progressive Conservative MP)        0        16   \n",
       "9999                             Serhiy Ostapenko        0        11   \n",
       "\n",
       "            id                                                url   \n",
       "0          307    https://en.wikipedia.org/wiki/Abraham%20Lincoln  \\\n",
       "1       404665      https://en.wikipedia.org/wiki/Austin%20Healey   \n",
       "2     28319266  https://en.wikipedia.org/wiki/Woody%20Abernath...   \n",
       "3      1912218       https://en.wikipedia.org/wiki/Edie%20McClurg   \n",
       "4     46646833   https://en.wikipedia.org/wiki/Suella%20Braverman   \n",
       "...        ...                                                ...   \n",
       "9995  27527437       https://en.wikipedia.org/wiki/Lojze%20Grozde   \n",
       "9996  42853728  https://en.wikipedia.org/wiki/Howard%20Richard...   \n",
       "9997   7727513  https://en.wikipedia.org/wiki/Richard%20Hughes...   \n",
       "9998    386522  https://en.wikipedia.org/wiki/Andr%C3%A9%20Bac...   \n",
       "9999  27763785   https://en.wikipedia.org/wiki/Serhiy%20Ostapenko   \n",
       "\n",
       "                                                   text   \n",
       "0     Abraham Lincoln (; February 12, 1809 – April 1...  \\\n",
       "1     Austin Sean Healey (born 26 October 1973 in Wa...   \n",
       "2     Thomas Woodley \"Woody\" Abernathy (October 16, ...   \n",
       "3     Edith Marie McClurg (born July 23, 1945) is an...   \n",
       "4     Sue-Ellen Cassiana \"Suella\" Braverman  (; born...   \n",
       "...                                                 ...   \n",
       "9995  Lojze Grozde (27 May 1923 – 1 January 1943) wa...   \n",
       "9996  Howard Richards (born June 10, 1938) is a phil...   \n",
       "9997  |}\\n\\n|}\\nRichard Hughes (born 11 January 1973...   \n",
       "9998  André Bachand (born December 8, 1961) is a Can...   \n",
       "9999  Serhiy Ostapenko (November 1881—1937) was econ...   \n",
       "\n",
       "                                              sentences   \n",
       "0     [Abraham Lincoln (; February 12, 1809 – April ...  \\\n",
       "1     [Austin Sean Healey (born 26 October 1973 in W...   \n",
       "2     [Thomas Woodley \"Woody\" Abernathy (October 16,...   \n",
       "3     [Edith Marie McClurg (born July 23, 1945) is a...   \n",
       "4     [Sue-Ellen Cassiana \"Suella\" Braverman  (; bor...   \n",
       "...                                                 ...   \n",
       "9995  [Lojze Grozde (27 May 1923 – 1 January 1943) w...   \n",
       "9996  [Howard Richards (born June 10, 1938) is a phi...   \n",
       "9997  [|}\\n\\n|}\\nRichard Hughes (born 11 January 197...   \n",
       "9998  [André Bachand (born December 8, 1961) is a Ca...   \n",
       "9999  [Serhiy Ostapenko (November 1881—1937) was eco...   \n",
       "\n",
       "                                  paraphrased_sentences   \n",
       "0     [The 16th president of the United States, Abra...  \\\n",
       "1     [Austin Sean Healey is a former English rugby ...   \n",
       "2     [There was a professional baseball player name...   \n",
       "3     [Edith Marie McClurg was born in 1945 and is a...   \n",
       "4     [Sue-Ellen \"Suella\" Braverman is a British pol...   \n",
       "...                                                 ...   \n",
       "9995  [Lojze Grozde was murdered by Partisans during...   \n",
       "9996  [Howard Richards is a philosopher who works wi...   \n",
       "9997  [Richard Hughes is a retired Irish jockey and ...   \n",
       "9998  [From 1997 to 2003 he was a member of the Prog...   \n",
       "9999  [Serhiy Ostapenko was a political activist and...   \n",
       "\n",
       "                                   masked_text_original   \n",
       "0     <mask> (; February 12, 1809 – April 15, 1865) ...  \\\n",
       "1     <mask> (born 26 October 1973 in Wallasey (now ...   \n",
       "2     Thomas Woodley \"<mask>\" <mask> (October 16, 19...   \n",
       "3     <mask> (born July 23, 1945) is an American act...   \n",
       "4     Sue-Ellen Cassiana \"<mask>\" <mask>  (; born 3 ...   \n",
       "...                                                 ...   \n",
       "9995  <mask> (27 May 1923 – 1 January 1943) was a Sl...   \n",
       "9996  <mask> (born June 10, 1938) is a philosopher o...   \n",
       "9997  |}\\n\\n|}\\n<mask> (born 11 January 1973) is a r...   \n",
       "9998  <mask> (born December 8, 1961) is a Canadian p...   \n",
       "9999  <mask> (November 1881—1937) was economist, sta...   \n",
       "\n",
       "                               masked_entities_original   \n",
       "0     [Abraham Lincoln, Lincoln, Lincoln, Lincoln, L...  \\\n",
       "1     [Austin Sean Healey, Austin, Healey, Healey, H...   \n",
       "2     [Woody, Abernathy, Woody, Abernathy, Abernathy...   \n",
       "3     [Edith Marie McClurg, McClurg, Irene McClurg, ...   \n",
       "4     [Suella, Braverman, Braverman, Braverman, Brav...   \n",
       "...                                                 ...   \n",
       "9995  [Lojze Grozde, Grozde, Lojze, Grozde, Lojze, G...   \n",
       "9996  [Howard Richards, Howard Richards, . Richards,...   \n",
       "9997  [Richard Hughes, Dessie Hughes, Hughes, Hughes...   \n",
       "9998  [André Bachand, Bachand, Bachand, Young Turk B...   \n",
       "9999  [Serhiy Ostapenko, Ostapenko, Ostapenko, Ostap...   \n",
       "\n",
       "                                masked_text_paraphrased   \n",
       "0     The 16th president of the United States, <mask...  \\\n",
       "1     <mask> is a former English rugby union player ...   \n",
       "2     There was a professional baseball player named...   \n",
       "3     <mask> was born in 1945 and is an American act...   \n",
       "4     Sue-Ellen \"<mask>\" <mask> is a British politic...   \n",
       "...                                                 ...   \n",
       "9995  <mask> was murdered by Partisans during World ...   \n",
       "9996  <mask> is a philosopher who works with the con...   \n",
       "9997  <mask> is a retired Irish jockey and current r...   \n",
       "9998  From 1997 to 2003 he was a member of the Progr...   \n",
       "9999  <mask> was a political activist and economist....   \n",
       "\n",
       "                            masked_entities_paraphrased  \n",
       "0     [Abraham Lincoln, Lincoln, Lincoln, Lincoln, L...  \n",
       "1     [Austin Sean Healey, Austin, Healey, Healey, H...  \n",
       "2     [Woody, Abernathy, Woody, . Abernathy, Woody, ...  \n",
       "3     [Edith Marie McClurg, McClurg, McClurg, Edie, ...  \n",
       "4     [Suella, Braverman, Braverman, Braverman, Brav...  \n",
       "...                                                 ...  \n",
       "9995  [Lojze Grozde, Grozde, Lojze, Lojze, Grozde, L...  \n",
       "9996  [Howard Richards, Howard Richards, . Richards,...  \n",
       "9997  [Richard Hughes, Dessie Hughes, Hughes, Hughes...  \n",
       "9998  [Bachand, Young Turk Bachand, Bachand, Bachand...  \n",
       "9999  [Serhiy Ostapenko, Ostapenko, Ostapenko, Ostap...  \n",
       "\n",
       "[10000 rows x 13 columns]"
      ]
     },
     "execution_count": 142,
     "metadata": {},
     "output_type": "execute_result"
    }
   ],
   "source": [
    "joined_df = pd.merge(df, gt_df, on='title')\n",
    "joined_df"
   ]
  },
  {
   "cell_type": "code",
   "execution_count": 143,
   "id": "55188bdb",
   "metadata": {},
   "outputs": [],
   "source": [
    "joined_df['text_length'] = joined_df['masked_text_original'].apply(len)\n",
    "joined_df['mask_count'] = joined_df['masked_text_original'].apply(lambda x: x[:1000].count('<mask>'))"
   ]
  },
  {
   "cell_type": "code",
   "execution_count": 144,
   "id": "049643ea",
   "metadata": {},
   "outputs": [],
   "source": [
    "joined_df['text_length_group'] = pd.cut(joined_df['text_length'], range(0, 80001, 2000))\n",
    "joined_df['mask_count_group'] = pd.cut(joined_df['mask_count'], range(0, 400, 1))"
   ]
  },
  {
   "cell_type": "code",
   "execution_count": 145,
   "id": "9ede1965",
   "metadata": {
    "scrolled": true
   },
   "outputs": [
    {
     "data": {
      "text/html": [
       "<div>\n",
       "<style scoped>\n",
       "    .dataframe tbody tr th:only-of-type {\n",
       "        vertical-align: middle;\n",
       "    }\n",
       "\n",
       "    .dataframe tbody tr th {\n",
       "        vertical-align: top;\n",
       "    }\n",
       "\n",
       "    .dataframe thead th {\n",
       "        text-align: right;\n",
       "    }\n",
       "</style>\n",
       "<table border=\"1\" class=\"dataframe\">\n",
       "  <thead>\n",
       "    <tr style=\"text-align: right;\">\n",
       "      <th></th>\n",
       "      <th>prediction</th>\n",
       "      <th>title</th>\n",
       "      <th>correct</th>\n",
       "      <th>distance</th>\n",
       "      <th>id</th>\n",
       "      <th>url</th>\n",
       "      <th>text</th>\n",
       "      <th>sentences</th>\n",
       "      <th>paraphrased_sentences</th>\n",
       "      <th>masked_text_original</th>\n",
       "      <th>masked_entities_original</th>\n",
       "      <th>masked_text_paraphrased</th>\n",
       "      <th>masked_entities_paraphrased</th>\n",
       "      <th>text_length</th>\n",
       "      <th>mask_count</th>\n",
       "      <th>text_length_group</th>\n",
       "      <th>mask_count_group</th>\n",
       "    </tr>\n",
       "  </thead>\n",
       "  <tbody>\n",
       "    <tr>\n",
       "      <th>0</th>\n",
       "      <td>Abraham Lincoln</td>\n",
       "      <td>Abraham Lincoln</td>\n",
       "      <td>1</td>\n",
       "      <td>0</td>\n",
       "      <td>307</td>\n",
       "      <td>https://en.wikipedia.org/wiki/Abraham%20Lincoln</td>\n",
       "      <td>Abraham Lincoln (; February 12, 1809 – April 1...</td>\n",
       "      <td>[Abraham Lincoln (; February 12, 1809 – April ...</td>\n",
       "      <td>[The 16th president of the United States, Abra...</td>\n",
       "      <td>&lt;mask&gt; (; February 12, 1809 – April 15, 1865) ...</td>\n",
       "      <td>[Abraham Lincoln, Lincoln, Lincoln, Lincoln, L...</td>\n",
       "      <td>The 16th president of the United States, &lt;mask...</td>\n",
       "      <td>[Abraham Lincoln, Lincoln, Lincoln, Lincoln, L...</td>\n",
       "      <td>79908</td>\n",
       "      <td>4</td>\n",
       "      <td>(78000, 80000]</td>\n",
       "      <td>(3, 4]</td>\n",
       "    </tr>\n",
       "    <tr>\n",
       "      <th>1</th>\n",
       "      <td>Austin Healey</td>\n",
       "      <td>Austin Healey</td>\n",
       "      <td>1</td>\n",
       "      <td>0</td>\n",
       "      <td>404665</td>\n",
       "      <td>https://en.wikipedia.org/wiki/Austin%20Healey</td>\n",
       "      <td>Austin Sean Healey (born 26 October 1973 in Wa...</td>\n",
       "      <td>[Austin Sean Healey (born 26 October 1973 in W...</td>\n",
       "      <td>[Austin Sean Healey is a former English rugby ...</td>\n",
       "      <td>&lt;mask&gt; (born 26 October 1973 in Wallasey (now ...</td>\n",
       "      <td>[Austin Sean Healey, Austin, Healey, Healey, H...</td>\n",
       "      <td>&lt;mask&gt; is a former English rugby union player ...</td>\n",
       "      <td>[Austin Sean Healey, Austin, Healey, Healey, H...</td>\n",
       "      <td>7767</td>\n",
       "      <td>3</td>\n",
       "      <td>(6000, 8000]</td>\n",
       "      <td>(2, 3]</td>\n",
       "    </tr>\n",
       "    <tr>\n",
       "      <th>2</th>\n",
       "      <td>Thomas Woodley Abernathy</td>\n",
       "      <td>Woody Abernathy (outfielder)</td>\n",
       "      <td>1</td>\n",
       "      <td>16</td>\n",
       "      <td>28319266</td>\n",
       "      <td>https://en.wikipedia.org/wiki/Woody%20Abernath...</td>\n",
       "      <td>Thomas Woodley \"Woody\" Abernathy (October 16, ...</td>\n",
       "      <td>[Thomas Woodley \"Woody\" Abernathy (October 16,...</td>\n",
       "      <td>[There was a professional baseball player name...</td>\n",
       "      <td>Thomas Woodley \"&lt;mask&gt;\" &lt;mask&gt; (October 16, 19...</td>\n",
       "      <td>[Woody, Abernathy, Woody, Abernathy, Abernathy...</td>\n",
       "      <td>There was a professional baseball player named...</td>\n",
       "      <td>[Woody, Abernathy, Woody, . Abernathy, Woody, ...</td>\n",
       "      <td>10191</td>\n",
       "      <td>2</td>\n",
       "      <td>(10000, 12000]</td>\n",
       "      <td>(1, 2]</td>\n",
       "    </tr>\n",
       "    <tr>\n",
       "      <th>3</th>\n",
       "      <td>Edie McClurg</td>\n",
       "      <td>Edie McClurg</td>\n",
       "      <td>1</td>\n",
       "      <td>0</td>\n",
       "      <td>1912218</td>\n",
       "      <td>https://en.wikipedia.org/wiki/Edie%20McClurg</td>\n",
       "      <td>Edith Marie McClurg (born July 23, 1945) is an...</td>\n",
       "      <td>[Edith Marie McClurg (born July 23, 1945) is a...</td>\n",
       "      <td>[Edith Marie McClurg was born in 1945 and is a...</td>\n",
       "      <td>&lt;mask&gt; (born July 23, 1945) is an American act...</td>\n",
       "      <td>[Edith Marie McClurg, McClurg, Irene McClurg, ...</td>\n",
       "      <td>&lt;mask&gt; was born in 1945 and is an American act...</td>\n",
       "      <td>[Edith Marie McClurg, McClurg, McClurg, Edie, ...</td>\n",
       "      <td>7212</td>\n",
       "      <td>1</td>\n",
       "      <td>(6000, 8000]</td>\n",
       "      <td>(0, 1]</td>\n",
       "    </tr>\n",
       "    <tr>\n",
       "      <th>4</th>\n",
       "      <td>Sue-Ellen Cassiana Braverman</td>\n",
       "      <td>Suella Braverman</td>\n",
       "      <td>1</td>\n",
       "      <td>12</td>\n",
       "      <td>46646833</td>\n",
       "      <td>https://en.wikipedia.org/wiki/Suella%20Braverman</td>\n",
       "      <td>Sue-Ellen Cassiana \"Suella\" Braverman  (; born...</td>\n",
       "      <td>[Sue-Ellen Cassiana \"Suella\" Braverman  (; bor...</td>\n",
       "      <td>[Sue-Ellen \"Suella\" Braverman is a British pol...</td>\n",
       "      <td>Sue-Ellen Cassiana \"&lt;mask&gt;\" &lt;mask&gt;  (; born 3 ...</td>\n",
       "      <td>[Suella, Braverman, Braverman, Braverman, Brav...</td>\n",
       "      <td>Sue-Ellen \"&lt;mask&gt;\" &lt;mask&gt; is a British politic...</td>\n",
       "      <td>[Suella, Braverman, Braverman, Braverman, Brav...</td>\n",
       "      <td>9387</td>\n",
       "      <td>3</td>\n",
       "      <td>(8000, 10000]</td>\n",
       "      <td>(2, 3]</td>\n",
       "    </tr>\n",
       "    <tr>\n",
       "      <th>...</th>\n",
       "      <td>...</td>\n",
       "      <td>...</td>\n",
       "      <td>...</td>\n",
       "      <td>...</td>\n",
       "      <td>...</td>\n",
       "      <td>...</td>\n",
       "      <td>...</td>\n",
       "      <td>...</td>\n",
       "      <td>...</td>\n",
       "      <td>...</td>\n",
       "      <td>...</td>\n",
       "      <td>...</td>\n",
       "      <td>...</td>\n",
       "      <td>...</td>\n",
       "      <td>...</td>\n",
       "      <td>...</td>\n",
       "      <td>...</td>\n",
       "    </tr>\n",
       "    <tr>\n",
       "      <th>9995</th>\n",
       "      <td>Grozde Korošec</td>\n",
       "      <td>Lojze Grozde</td>\n",
       "      <td>1</td>\n",
       "      <td>9</td>\n",
       "      <td>27527437</td>\n",
       "      <td>https://en.wikipedia.org/wiki/Lojze%20Grozde</td>\n",
       "      <td>Lojze Grozde (27 May 1923 – 1 January 1943) wa...</td>\n",
       "      <td>[Lojze Grozde (27 May 1923 – 1 January 1943) w...</td>\n",
       "      <td>[Lojze Grozde was murdered by Partisans during...</td>\n",
       "      <td>&lt;mask&gt; (27 May 1923 – 1 January 1943) was a Sl...</td>\n",
       "      <td>[Lojze Grozde, Grozde, Lojze, Grozde, Lojze, G...</td>\n",
       "      <td>&lt;mask&gt; was murdered by Partisans during World ...</td>\n",
       "      <td>[Lojze Grozde, Grozde, Lojze, Lojze, Grozde, L...</td>\n",
       "      <td>10059</td>\n",
       "      <td>2</td>\n",
       "      <td>(10000, 12000]</td>\n",
       "      <td>(1, 2]</td>\n",
       "    </tr>\n",
       "    <tr>\n",
       "      <th>9996</th>\n",
       "      <td>David Schweickart</td>\n",
       "      <td>Howard Richards (academic)</td>\n",
       "      <td>0</td>\n",
       "      <td>16</td>\n",
       "      <td>42853728</td>\n",
       "      <td>https://en.wikipedia.org/wiki/Howard%20Richard...</td>\n",
       "      <td>Howard Richards (born June 10, 1938) is a phil...</td>\n",
       "      <td>[Howard Richards (born June 10, 1938) is a phi...</td>\n",
       "      <td>[Howard Richards is a philosopher who works wi...</td>\n",
       "      <td>&lt;mask&gt; (born June 10, 1938) is a philosopher o...</td>\n",
       "      <td>[Howard Richards, Howard Richards, . Richards,...</td>\n",
       "      <td>&lt;mask&gt; is a philosopher who works with the con...</td>\n",
       "      <td>[Howard Richards, Howard Richards, . Richards,...</td>\n",
       "      <td>14102</td>\n",
       "      <td>1</td>\n",
       "      <td>(14000, 16000]</td>\n",
       "      <td>(0, 1]</td>\n",
       "    </tr>\n",
       "    <tr>\n",
       "      <th>9997</th>\n",
       "      <td>Richard Hughes</td>\n",
       "      <td>Richard Hughes (jockey)</td>\n",
       "      <td>1</td>\n",
       "      <td>9</td>\n",
       "      <td>7727513</td>\n",
       "      <td>https://en.wikipedia.org/wiki/Richard%20Hughes...</td>\n",
       "      <td>|}\\n\\n|}\\nRichard Hughes (born 11 January 1973...</td>\n",
       "      <td>[|}\\n\\n|}\\nRichard Hughes (born 11 January 197...</td>\n",
       "      <td>[Richard Hughes is a retired Irish jockey and ...</td>\n",
       "      <td>|}\\n\\n|}\\n&lt;mask&gt; (born 11 January 1973) is a r...</td>\n",
       "      <td>[Richard Hughes, Dessie Hughes, Hughes, Hughes...</td>\n",
       "      <td>&lt;mask&gt; is a retired Irish jockey and current r...</td>\n",
       "      <td>[Richard Hughes, Dessie Hughes, Hughes, Hughes...</td>\n",
       "      <td>2878</td>\n",
       "      <td>8</td>\n",
       "      <td>(2000, 4000]</td>\n",
       "      <td>(7, 8]</td>\n",
       "    </tr>\n",
       "    <tr>\n",
       "      <th>9998</th>\n",
       "      <td>Noël A. Kinsella</td>\n",
       "      <td>André Bachand (Progressive Conservative MP)</td>\n",
       "      <td>0</td>\n",
       "      <td>16</td>\n",
       "      <td>386522</td>\n",
       "      <td>https://en.wikipedia.org/wiki/Andr%C3%A9%20Bac...</td>\n",
       "      <td>André Bachand (born December 8, 1961) is a Can...</td>\n",
       "      <td>[André Bachand (born December 8, 1961) is a Ca...</td>\n",
       "      <td>[From 1997 to 2003 he was a member of the Prog...</td>\n",
       "      <td>&lt;mask&gt; (born December 8, 1961) is a Canadian p...</td>\n",
       "      <td>[André Bachand, Bachand, Bachand, Young Turk B...</td>\n",
       "      <td>From 1997 to 2003 he was a member of the Progr...</td>\n",
       "      <td>[Bachand, Young Turk Bachand, Bachand, Bachand...</td>\n",
       "      <td>6597</td>\n",
       "      <td>5</td>\n",
       "      <td>(6000, 8000]</td>\n",
       "      <td>(4, 5]</td>\n",
       "    </tr>\n",
       "    <tr>\n",
       "      <th>9999</th>\n",
       "      <td>Mykola Vasylenko</td>\n",
       "      <td>Serhiy Ostapenko</td>\n",
       "      <td>0</td>\n",
       "      <td>11</td>\n",
       "      <td>27763785</td>\n",
       "      <td>https://en.wikipedia.org/wiki/Serhiy%20Ostapenko</td>\n",
       "      <td>Serhiy Ostapenko (November 1881—1937) was econ...</td>\n",
       "      <td>[Serhiy Ostapenko (November 1881—1937) was eco...</td>\n",
       "      <td>[Serhiy Ostapenko was a political activist and...</td>\n",
       "      <td>&lt;mask&gt; (November 1881—1937) was economist, sta...</td>\n",
       "      <td>[Serhiy Ostapenko, Ostapenko, Ostapenko, Ostap...</td>\n",
       "      <td>&lt;mask&gt; was a political activist and economist....</td>\n",
       "      <td>[Serhiy Ostapenko, Ostapenko, Ostapenko, Ostap...</td>\n",
       "      <td>6433</td>\n",
       "      <td>6</td>\n",
       "      <td>(6000, 8000]</td>\n",
       "      <td>(5, 6]</td>\n",
       "    </tr>\n",
       "  </tbody>\n",
       "</table>\n",
       "<p>10000 rows × 17 columns</p>\n",
       "</div>"
      ],
      "text/plain": [
       "                        prediction   \n",
       "0                  Abraham Lincoln  \\\n",
       "1                    Austin Healey   \n",
       "2         Thomas Woodley Abernathy   \n",
       "3                     Edie McClurg   \n",
       "4     Sue-Ellen Cassiana Braverman   \n",
       "...                            ...   \n",
       "9995                Grozde Korošec   \n",
       "9996             David Schweickart   \n",
       "9997                Richard Hughes   \n",
       "9998              Noël A. Kinsella   \n",
       "9999              Mykola Vasylenko   \n",
       "\n",
       "                                            title  correct  distance   \n",
       "0                                 Abraham Lincoln        1         0  \\\n",
       "1                                   Austin Healey        1         0   \n",
       "2                    Woody Abernathy (outfielder)        1        16   \n",
       "3                                    Edie McClurg        1         0   \n",
       "4                                Suella Braverman        1        12   \n",
       "...                                           ...      ...       ...   \n",
       "9995                                 Lojze Grozde        1         9   \n",
       "9996                   Howard Richards (academic)        0        16   \n",
       "9997                      Richard Hughes (jockey)        1         9   \n",
       "9998  André Bachand (Progressive Conservative MP)        0        16   \n",
       "9999                             Serhiy Ostapenko        0        11   \n",
       "\n",
       "            id                                                url   \n",
       "0          307    https://en.wikipedia.org/wiki/Abraham%20Lincoln  \\\n",
       "1       404665      https://en.wikipedia.org/wiki/Austin%20Healey   \n",
       "2     28319266  https://en.wikipedia.org/wiki/Woody%20Abernath...   \n",
       "3      1912218       https://en.wikipedia.org/wiki/Edie%20McClurg   \n",
       "4     46646833   https://en.wikipedia.org/wiki/Suella%20Braverman   \n",
       "...        ...                                                ...   \n",
       "9995  27527437       https://en.wikipedia.org/wiki/Lojze%20Grozde   \n",
       "9996  42853728  https://en.wikipedia.org/wiki/Howard%20Richard...   \n",
       "9997   7727513  https://en.wikipedia.org/wiki/Richard%20Hughes...   \n",
       "9998    386522  https://en.wikipedia.org/wiki/Andr%C3%A9%20Bac...   \n",
       "9999  27763785   https://en.wikipedia.org/wiki/Serhiy%20Ostapenko   \n",
       "\n",
       "                                                   text   \n",
       "0     Abraham Lincoln (; February 12, 1809 – April 1...  \\\n",
       "1     Austin Sean Healey (born 26 October 1973 in Wa...   \n",
       "2     Thomas Woodley \"Woody\" Abernathy (October 16, ...   \n",
       "3     Edith Marie McClurg (born July 23, 1945) is an...   \n",
       "4     Sue-Ellen Cassiana \"Suella\" Braverman  (; born...   \n",
       "...                                                 ...   \n",
       "9995  Lojze Grozde (27 May 1923 – 1 January 1943) wa...   \n",
       "9996  Howard Richards (born June 10, 1938) is a phil...   \n",
       "9997  |}\\n\\n|}\\nRichard Hughes (born 11 January 1973...   \n",
       "9998  André Bachand (born December 8, 1961) is a Can...   \n",
       "9999  Serhiy Ostapenko (November 1881—1937) was econ...   \n",
       "\n",
       "                                              sentences   \n",
       "0     [Abraham Lincoln (; February 12, 1809 – April ...  \\\n",
       "1     [Austin Sean Healey (born 26 October 1973 in W...   \n",
       "2     [Thomas Woodley \"Woody\" Abernathy (October 16,...   \n",
       "3     [Edith Marie McClurg (born July 23, 1945) is a...   \n",
       "4     [Sue-Ellen Cassiana \"Suella\" Braverman  (; bor...   \n",
       "...                                                 ...   \n",
       "9995  [Lojze Grozde (27 May 1923 – 1 January 1943) w...   \n",
       "9996  [Howard Richards (born June 10, 1938) is a phi...   \n",
       "9997  [|}\\n\\n|}\\nRichard Hughes (born 11 January 197...   \n",
       "9998  [André Bachand (born December 8, 1961) is a Ca...   \n",
       "9999  [Serhiy Ostapenko (November 1881—1937) was eco...   \n",
       "\n",
       "                                  paraphrased_sentences   \n",
       "0     [The 16th president of the United States, Abra...  \\\n",
       "1     [Austin Sean Healey is a former English rugby ...   \n",
       "2     [There was a professional baseball player name...   \n",
       "3     [Edith Marie McClurg was born in 1945 and is a...   \n",
       "4     [Sue-Ellen \"Suella\" Braverman is a British pol...   \n",
       "...                                                 ...   \n",
       "9995  [Lojze Grozde was murdered by Partisans during...   \n",
       "9996  [Howard Richards is a philosopher who works wi...   \n",
       "9997  [Richard Hughes is a retired Irish jockey and ...   \n",
       "9998  [From 1997 to 2003 he was a member of the Prog...   \n",
       "9999  [Serhiy Ostapenko was a political activist and...   \n",
       "\n",
       "                                   masked_text_original   \n",
       "0     <mask> (; February 12, 1809 – April 15, 1865) ...  \\\n",
       "1     <mask> (born 26 October 1973 in Wallasey (now ...   \n",
       "2     Thomas Woodley \"<mask>\" <mask> (October 16, 19...   \n",
       "3     <mask> (born July 23, 1945) is an American act...   \n",
       "4     Sue-Ellen Cassiana \"<mask>\" <mask>  (; born 3 ...   \n",
       "...                                                 ...   \n",
       "9995  <mask> (27 May 1923 – 1 January 1943) was a Sl...   \n",
       "9996  <mask> (born June 10, 1938) is a philosopher o...   \n",
       "9997  |}\\n\\n|}\\n<mask> (born 11 January 1973) is a r...   \n",
       "9998  <mask> (born December 8, 1961) is a Canadian p...   \n",
       "9999  <mask> (November 1881—1937) was economist, sta...   \n",
       "\n",
       "                               masked_entities_original   \n",
       "0     [Abraham Lincoln, Lincoln, Lincoln, Lincoln, L...  \\\n",
       "1     [Austin Sean Healey, Austin, Healey, Healey, H...   \n",
       "2     [Woody, Abernathy, Woody, Abernathy, Abernathy...   \n",
       "3     [Edith Marie McClurg, McClurg, Irene McClurg, ...   \n",
       "4     [Suella, Braverman, Braverman, Braverman, Brav...   \n",
       "...                                                 ...   \n",
       "9995  [Lojze Grozde, Grozde, Lojze, Grozde, Lojze, G...   \n",
       "9996  [Howard Richards, Howard Richards, . Richards,...   \n",
       "9997  [Richard Hughes, Dessie Hughes, Hughes, Hughes...   \n",
       "9998  [André Bachand, Bachand, Bachand, Young Turk B...   \n",
       "9999  [Serhiy Ostapenko, Ostapenko, Ostapenko, Ostap...   \n",
       "\n",
       "                                masked_text_paraphrased   \n",
       "0     The 16th president of the United States, <mask...  \\\n",
       "1     <mask> is a former English rugby union player ...   \n",
       "2     There was a professional baseball player named...   \n",
       "3     <mask> was born in 1945 and is an American act...   \n",
       "4     Sue-Ellen \"<mask>\" <mask> is a British politic...   \n",
       "...                                                 ...   \n",
       "9995  <mask> was murdered by Partisans during World ...   \n",
       "9996  <mask> is a philosopher who works with the con...   \n",
       "9997  <mask> is a retired Irish jockey and current r...   \n",
       "9998  From 1997 to 2003 he was a member of the Progr...   \n",
       "9999  <mask> was a political activist and economist....   \n",
       "\n",
       "                            masked_entities_paraphrased  text_length   \n",
       "0     [Abraham Lincoln, Lincoln, Lincoln, Lincoln, L...        79908  \\\n",
       "1     [Austin Sean Healey, Austin, Healey, Healey, H...         7767   \n",
       "2     [Woody, Abernathy, Woody, . Abernathy, Woody, ...        10191   \n",
       "3     [Edith Marie McClurg, McClurg, McClurg, Edie, ...         7212   \n",
       "4     [Suella, Braverman, Braverman, Braverman, Brav...         9387   \n",
       "...                                                 ...          ...   \n",
       "9995  [Lojze Grozde, Grozde, Lojze, Lojze, Grozde, L...        10059   \n",
       "9996  [Howard Richards, Howard Richards, . Richards,...        14102   \n",
       "9997  [Richard Hughes, Dessie Hughes, Hughes, Hughes...         2878   \n",
       "9998  [Bachand, Young Turk Bachand, Bachand, Bachand...         6597   \n",
       "9999  [Serhiy Ostapenko, Ostapenko, Ostapenko, Ostap...         6433   \n",
       "\n",
       "      mask_count text_length_group mask_count_group  \n",
       "0              4    (78000, 80000]           (3, 4]  \n",
       "1              3      (6000, 8000]           (2, 3]  \n",
       "2              2    (10000, 12000]           (1, 2]  \n",
       "3              1      (6000, 8000]           (0, 1]  \n",
       "4              3     (8000, 10000]           (2, 3]  \n",
       "...          ...               ...              ...  \n",
       "9995           2    (10000, 12000]           (1, 2]  \n",
       "9996           1    (14000, 16000]           (0, 1]  \n",
       "9997           8      (2000, 4000]           (7, 8]  \n",
       "9998           5      (6000, 8000]           (4, 5]  \n",
       "9999           6      (6000, 8000]           (5, 6]  \n",
       "\n",
       "[10000 rows x 17 columns]"
      ]
     },
     "execution_count": 145,
     "metadata": {},
     "output_type": "execute_result"
    }
   ],
   "source": [
    "joined_df"
   ]
  },
  {
   "cell_type": "code",
   "execution_count": 146,
   "id": "766bb722",
   "metadata": {},
   "outputs": [],
   "source": [
    "# grouped = joined_df.groupby(['text_length_group'])\n",
    "grouped = joined_df.groupby(['mask_count_group'])\n",
    "precision_df = grouped['correct'].mean().reset_index()"
   ]
  },
  {
   "cell_type": "code",
   "execution_count": 147,
   "id": "d365f262",
   "metadata": {},
   "outputs": [
    {
     "name": "stderr",
     "output_type": "stream",
     "text": [
      "WARNING:matplotlib.legend:No artists with labels found to put in legend.  Note that artists whose label start with an underscore are ignored when legend() is called with no argument.\n"
     ]
    },
    {
     "data": {
      "image/png": "[encoded data removed]",
      "text/plain": [
       "<Figure size 640x480 with 1 Axes>"
      ]
     },
     "metadata": {},
     "output_type": "display_data"
    }
   ],
   "source": [
    "# models = precision_df['model'].unique()\n",
    "import matplotlib.pyplot as plt\n",
    "import seaborn as sns\n",
    "\n",
    "# for model in models:\n",
    "model_df = precision_df # precision_df[precision_df['model'] == model]\n",
    "# plt.plot(model_df['text_length_group'].apply(lambda x: x.mid), model_df['correct']) #, label=model)\n",
    "plt.plot(model_df['mask_count_group'].apply(lambda x: x.mid), model_df['correct']) #, label=model)\n",
    "\n",
    "# plt.xlabel('Text Length')\n",
    "plt.xlabel('Mask Count')\n",
    "plt.ylabel('Precision')\n",
    "# plt.title('Bloomz 176b')\n",
    "plt.title('GPT-3.5-turbo')\n",
    "plt.legend()\n",
    "plt.show()\n"
   ]
  },
  {
   "cell_type": "code",
   "execution_count": 85,
   "id": "a0711644",
   "metadata": {},
   "outputs": [
    {
     "data": {
      "image/png": "[encoded data removed]",
      "text/plain": [
       "<Figure size 500x500 with 1 Axes>"
      ]
     },
     "metadata": {},
     "output_type": "display_data"
    }
   ],
   "source": [
    "# Create a scatter plot with a regression line\n",
    "sns.lmplot(x='text_length', y='correct', data=joined_df, ci=None)\n",
    "\n",
    "# Set the plot title and labels\n",
    "plt.title('Precision vs Text Length')\n",
    "plt.xlabel('Text Length')\n",
    "plt.ylabel('Precision')\n",
    "\n",
    "# Show the plot\n",
    "plt.show()\n"
   ]
  },
  {
   "cell_type": "code",
   "execution_count": null,
   "id": "a2e23687",
   "metadata": {},
   "outputs": [],
   "source": []
  },
  {
   "cell_type": "markdown",
   "id": "0b13f6e9",
   "metadata": {},
   "source": [
    "# accuracy vs size lineplot"
   ]
  },
  {
   "cell_type": "code",
   "execution_count": 3,
   "id": "ea66bcb5",
   "metadata": {},
   "outputs": [],
   "source": [
    "bloomz_results = {\n",
    "    \"key\": \"run-all-top-5\",\n",
    "    \"bloomz-3b\": {\n",
    "        \"size\": 3.0,\n",
    "        \"paraphrased\": {\n",
    "            \"accuracy\": 0.3028421052631579,\n",
    "            \"precision\": 8.014598540145986\n",
    "        },\n",
    "        \"original\": {\n",
    "            \"accuracy\": 0.30904699607527425,\n",
    "            \"precision\": 7.644415499837186\n",
    "        }\n",
    "    },\n",
    "    \"bloomz-7b1\": {\n",
    "        \"size\": 7.1,\n",
    "        \"paraphrased\": {\n",
    "            \"accuracy\": 0.3509473684210526,\n",
    "            \"precision\": 7.530893821235753\n",
    "        },\n",
    "        \"original\": {\n",
    "            \"accuracy\": 0.37204387642145514,\n",
    "            \"precision\": 7.204760616716256\n",
    "        }\n",
    "    },\n",
    "    \"bloomz-1b7\": {\n",
    "        \"size\": 1.7,\n",
    "        \"paraphrased\": {\n",
    "            \"accuracy\": 0.3201052631578947,\n",
    "            \"precision\": 7.950016441959882\n",
    "        },\n",
    "        \"original\": {\n",
    "            \"accuracy\": 0.3007950085538895,\n",
    "            \"precision\": 7.7199732351957175\n",
    "        }\n",
    "    },\n",
    "    \"bloomz-1b1\": {\n",
    "        \"size\": 1.1,\n",
    "        \"paraphrased\": {\n",
    "            \"accuracy\": 0.3211578947368421,\n",
    "            \"precision\": 7.8780727630285154\n",
    "        },\n",
    "        \"original\": {\n",
    "            \"accuracy\": 0.33179027875616385,\n",
    "            \"precision\": 7.630573248407643\n",
    "        }\n",
    "    }\n",
    "}"
   ]
  },
  {
   "cell_type": "code",
   "execution_count": 2,
   "id": "27fcedcf",
   "metadata": {},
   "outputs": [
    {
     "name": "stdout",
     "output_type": "stream",
     "text": [
      "bloomz-3b\n",
      "bloomz-7b1\n",
      "bloomz-1b7\n",
      "bloomz-1b1\n",
      "{'bloomz-3b': {'size': 3.0}, 'bloomz-7b1': {'size': 7.1}, 'bloomz-1b7': {'size': 1.7}, 'bloomz-1b1': {'size': 1.1}}\n"
     ]
    }
   ],
   "source": [
    "data = {}\n",
    "for model_name, model in bloomz_results.items():\n",
    "    if model_name == \"key\":\n",
    "        continue\n",
    "    print(model_name)\n",
    "    data[model_name] = {\"size\": model[\"size\"]}\n",
    "\n",
    "\n",
    "print(data)"
   ]
  },
  {
   "cell_type": "code",
   "execution_count": 4,
   "id": "d902fdd5",
   "metadata": {},
   "outputs": [],
   "source": [
    "import matplotlib.pyplot as plt\n",
    "import seaborn as sns\n",
    "import pandas as pd"
   ]
  },
  {
   "cell_type": "code",
   "execution_count": 5,
   "id": "beb68d8b",
   "metadata": {
    "scrolled": false
   },
   "outputs": [
    {
     "name": "stdout",
     "output_type": "stream",
     "text": [
      "['bloomz-3b', 'bloomz-7b1', 'bloomz-1b7', 'bloomz-1b1']\n",
      "[3.0, 7.1, 1.7, 1.1]\n",
      "        model  size       config  accuracy\n",
      "0   bloomz-3b   3.0  paraphrased  0.302842\n",
      "1  bloomz-7b1   7.1  paraphrased  0.350947\n",
      "2  bloomz-1b7   1.7  paraphrased  0.320105\n",
      "3  bloomz-1b1   1.1  paraphrased  0.321158\n"
     ]
    },
    {
     "ename": "OptionError",
     "evalue": "\"No such keys(s): 'mode.use_inf_as_null'\"",
     "output_type": "error",
     "traceback": [
      "\u001b[0;31m---------------------------------------------------------------------------\u001b[0m",
      "\u001b[0;31mOptionError\u001b[0m                               Traceback (most recent call last)",
      "Cell \u001b[0;32mIn [5], line 28\u001b[0m\n\u001b[1;32m     25\u001b[0m \u001b[38;5;28mprint\u001b[39m(df)\n\u001b[1;32m     26\u001b[0m \u001b[38;5;66m# Plot using Seaborn\u001b[39m\n\u001b[1;32m     27\u001b[0m \u001b[38;5;66m# hue=\"config\", style=\"config\"\u001b[39m\n\u001b[0;32m---> 28\u001b[0m \u001b[43msns\u001b[49m\u001b[38;5;241;43m.\u001b[39;49m\u001b[43mlineplot\u001b[49m\u001b[43m(\u001b[49m\u001b[43mdata\u001b[49m\u001b[38;5;241;43m=\u001b[39;49m\u001b[43mdf\u001b[49m\u001b[43m,\u001b[49m\u001b[43m \u001b[49m\u001b[43mx\u001b[49m\u001b[38;5;241;43m=\u001b[39;49m\u001b[38;5;124;43m\"\u001b[39;49m\u001b[38;5;124;43msize\u001b[39;49m\u001b[38;5;124;43m\"\u001b[39;49m\u001b[43m,\u001b[49m\u001b[43m \u001b[49m\u001b[43my\u001b[49m\u001b[38;5;241;43m=\u001b[39;49m\u001b[38;5;124;43m\"\u001b[39;49m\u001b[38;5;124;43maccuracy\u001b[39;49m\u001b[38;5;124;43m\"\u001b[39;49m\u001b[43m,\u001b[49m\u001b[43m \u001b[49m\u001b[43mmarkers\u001b[49m\u001b[38;5;241;43m=\u001b[39;49m\u001b[38;5;28;43;01mTrue\u001b[39;49;00m\u001b[43m,\u001b[49m\u001b[43m \u001b[49m\u001b[43mlabel\u001b[49m\u001b[38;5;241;43m=\u001b[39;49m\u001b[38;5;124;43m\"\u001b[39;49m\u001b[38;5;124;43mwhatever\u001b[39;49m\u001b[38;5;124;43m\"\u001b[39;49m\u001b[43m)\u001b[49m\n\u001b[1;32m     30\u001b[0m \u001b[38;5;66m# Set labels and title\u001b[39m\n\u001b[1;32m     31\u001b[0m plt\u001b[38;5;241m.\u001b[39mxlabel(\u001b[38;5;124m\"\u001b[39m\u001b[38;5;124mSize\u001b[39m\u001b[38;5;124m\"\u001b[39m)\n",
      "File \u001b[0;32m~/.local/lib/python3.8/site-packages/seaborn/relational.py:639\u001b[0m, in \u001b[0;36mlineplot\u001b[0;34m(data, x, y, hue, size, style, units, palette, hue_order, hue_norm, sizes, size_order, size_norm, dashes, markers, style_order, estimator, errorbar, n_boot, seed, orient, sort, err_style, err_kws, legend, ci, ax, **kwargs)\u001b[0m\n\u001b[1;32m    636\u001b[0m color \u001b[38;5;241m=\u001b[39m kwargs\u001b[38;5;241m.\u001b[39mpop(\u001b[38;5;124m\"\u001b[39m\u001b[38;5;124mcolor\u001b[39m\u001b[38;5;124m\"\u001b[39m, kwargs\u001b[38;5;241m.\u001b[39mpop(\u001b[38;5;124m\"\u001b[39m\u001b[38;5;124mc\u001b[39m\u001b[38;5;124m\"\u001b[39m, \u001b[38;5;28;01mNone\u001b[39;00m))\n\u001b[1;32m    637\u001b[0m kwargs[\u001b[38;5;124m\"\u001b[39m\u001b[38;5;124mcolor\u001b[39m\u001b[38;5;124m\"\u001b[39m] \u001b[38;5;241m=\u001b[39m _default_color(ax\u001b[38;5;241m.\u001b[39mplot, hue, color, kwargs)\n\u001b[0;32m--> 639\u001b[0m \u001b[43mp\u001b[49m\u001b[38;5;241;43m.\u001b[39;49m\u001b[43mplot\u001b[49m\u001b[43m(\u001b[49m\u001b[43max\u001b[49m\u001b[43m,\u001b[49m\u001b[43m \u001b[49m\u001b[43mkwargs\u001b[49m\u001b[43m)\u001b[49m\n\u001b[1;32m    640\u001b[0m \u001b[38;5;28;01mreturn\u001b[39;00m ax\n",
      "File \u001b[0;32m~/.local/lib/python3.8/site-packages/seaborn/relational.py:423\u001b[0m, in \u001b[0;36m_LinePlotter.plot\u001b[0;34m(self, ax, kws)\u001b[0m\n\u001b[1;32m    415\u001b[0m \u001b[38;5;66m# TODO How to handle NA? We don't want NA to propagate through to the\u001b[39m\n\u001b[1;32m    416\u001b[0m \u001b[38;5;66m# estimate/CI when some values are present, but we would also like\u001b[39m\n\u001b[1;32m    417\u001b[0m \u001b[38;5;66m# matplotlib to show \"gaps\" in the line when all values are missing.\u001b[39m\n\u001b[0;32m   (...)\u001b[0m\n\u001b[1;32m    420\u001b[0m \n\u001b[1;32m    421\u001b[0m \u001b[38;5;66m# Loop over the semantic subsets and add to the plot\u001b[39m\n\u001b[1;32m    422\u001b[0m grouping_vars \u001b[38;5;241m=\u001b[39m \u001b[38;5;124m\"\u001b[39m\u001b[38;5;124mhue\u001b[39m\u001b[38;5;124m\"\u001b[39m, \u001b[38;5;124m\"\u001b[39m\u001b[38;5;124msize\u001b[39m\u001b[38;5;124m\"\u001b[39m, \u001b[38;5;124m\"\u001b[39m\u001b[38;5;124mstyle\u001b[39m\u001b[38;5;124m\"\u001b[39m\n\u001b[0;32m--> 423\u001b[0m \u001b[38;5;28;01mfor\u001b[39;00m sub_vars, sub_data \u001b[38;5;129;01min\u001b[39;00m \u001b[38;5;28mself\u001b[39m\u001b[38;5;241m.\u001b[39miter_data(grouping_vars, from_comp_data\u001b[38;5;241m=\u001b[39m\u001b[38;5;28;01mTrue\u001b[39;00m):\n\u001b[1;32m    425\u001b[0m     \u001b[38;5;28;01mif\u001b[39;00m \u001b[38;5;28mself\u001b[39m\u001b[38;5;241m.\u001b[39msort:\n\u001b[1;32m    426\u001b[0m         sort_vars \u001b[38;5;241m=\u001b[39m [\u001b[38;5;124m\"\u001b[39m\u001b[38;5;124munits\u001b[39m\u001b[38;5;124m\"\u001b[39m, orient, other]\n",
      "File \u001b[0;32m~/.local/lib/python3.8/site-packages/seaborn/_oldcore.py:1028\u001b[0m, in \u001b[0;36mVectorPlotter.iter_data\u001b[0;34m(self, grouping_vars, reverse, from_comp_data, by_facet, allow_empty, dropna)\u001b[0m\n\u001b[1;32m   1023\u001b[0m grouping_vars \u001b[38;5;241m=\u001b[39m [\n\u001b[1;32m   1024\u001b[0m     var \u001b[38;5;28;01mfor\u001b[39;00m var \u001b[38;5;129;01min\u001b[39;00m grouping_vars \u001b[38;5;28;01mif\u001b[39;00m var \u001b[38;5;129;01min\u001b[39;00m \u001b[38;5;28mself\u001b[39m\u001b[38;5;241m.\u001b[39mvariables\n\u001b[1;32m   1025\u001b[0m ]\n\u001b[1;32m   1027\u001b[0m \u001b[38;5;28;01mif\u001b[39;00m from_comp_data:\n\u001b[0;32m-> 1028\u001b[0m     data \u001b[38;5;241m=\u001b[39m \u001b[38;5;28;43mself\u001b[39;49m\u001b[38;5;241;43m.\u001b[39;49m\u001b[43mcomp_data\u001b[49m\n\u001b[1;32m   1029\u001b[0m \u001b[38;5;28;01melse\u001b[39;00m:\n\u001b[1;32m   1030\u001b[0m     data \u001b[38;5;241m=\u001b[39m \u001b[38;5;28mself\u001b[39m\u001b[38;5;241m.\u001b[39mplot_data\n",
      "File \u001b[0;32m~/.local/lib/python3.8/site-packages/seaborn/_oldcore.py:1119\u001b[0m, in \u001b[0;36mVectorPlotter.comp_data\u001b[0;34m(self)\u001b[0m\n\u001b[1;32m   1117\u001b[0m grouped \u001b[38;5;241m=\u001b[39m \u001b[38;5;28mself\u001b[39m\u001b[38;5;241m.\u001b[39mplot_data[var]\u001b[38;5;241m.\u001b[39mgroupby(\u001b[38;5;28mself\u001b[39m\u001b[38;5;241m.\u001b[39mconverters[var], sort\u001b[38;5;241m=\u001b[39m\u001b[38;5;28;01mFalse\u001b[39;00m)\n\u001b[1;32m   1118\u001b[0m \u001b[38;5;28;01mfor\u001b[39;00m converter, orig \u001b[38;5;129;01min\u001b[39;00m grouped:\n\u001b[0;32m-> 1119\u001b[0m     \u001b[38;5;28;01mwith\u001b[39;00m pd\u001b[38;5;241m.\u001b[39moption_context(\u001b[38;5;124m'\u001b[39m\u001b[38;5;124mmode.use_inf_as_null\u001b[39m\u001b[38;5;124m'\u001b[39m, \u001b[38;5;28;01mTrue\u001b[39;00m):\n\u001b[1;32m   1120\u001b[0m         orig \u001b[38;5;241m=\u001b[39m orig\u001b[38;5;241m.\u001b[39mdropna()\n\u001b[1;32m   1121\u001b[0m         \u001b[38;5;28;01mif\u001b[39;00m var \u001b[38;5;129;01min\u001b[39;00m \u001b[38;5;28mself\u001b[39m\u001b[38;5;241m.\u001b[39mvar_levels:\n\u001b[1;32m   1122\u001b[0m             \u001b[38;5;66m# TODO this should happen in some centralized location\u001b[39m\n\u001b[1;32m   1123\u001b[0m             \u001b[38;5;66m# it is similar to GH2419, but more complicated because\u001b[39m\n\u001b[1;32m   1124\u001b[0m             \u001b[38;5;66m# supporting `order` in categorical plots is tricky\u001b[39m\n",
      "File \u001b[0;32m~/.local/lib/python3.8/site-packages/pandas/_config/config.py:441\u001b[0m, in \u001b[0;36moption_context.__enter__\u001b[0;34m(self)\u001b[0m\n\u001b[1;32m    440\u001b[0m \u001b[38;5;28;01mdef\u001b[39;00m \u001b[38;5;21m__enter__\u001b[39m(\u001b[38;5;28mself\u001b[39m) \u001b[38;5;241m-\u001b[39m\u001b[38;5;241m>\u001b[39m \u001b[38;5;28;01mNone\u001b[39;00m:\n\u001b[0;32m--> 441\u001b[0m     \u001b[38;5;28mself\u001b[39m\u001b[38;5;241m.\u001b[39mundo \u001b[38;5;241m=\u001b[39m [(pat, _get_option(pat, silent\u001b[38;5;241m=\u001b[39m\u001b[38;5;28;01mTrue\u001b[39;00m)) \u001b[38;5;28;01mfor\u001b[39;00m pat, val \u001b[38;5;129;01min\u001b[39;00m \u001b[38;5;28mself\u001b[39m\u001b[38;5;241m.\u001b[39mops]\n\u001b[1;32m    443\u001b[0m     \u001b[38;5;28;01mfor\u001b[39;00m pat, val \u001b[38;5;129;01min\u001b[39;00m \u001b[38;5;28mself\u001b[39m\u001b[38;5;241m.\u001b[39mops:\n\u001b[1;32m    444\u001b[0m         _set_option(pat, val, silent\u001b[38;5;241m=\u001b[39m\u001b[38;5;28;01mTrue\u001b[39;00m)\n",
      "File \u001b[0;32m~/.local/lib/python3.8/site-packages/pandas/_config/config.py:441\u001b[0m, in \u001b[0;36m<listcomp>\u001b[0;34m(.0)\u001b[0m\n\u001b[1;32m    440\u001b[0m \u001b[38;5;28;01mdef\u001b[39;00m \u001b[38;5;21m__enter__\u001b[39m(\u001b[38;5;28mself\u001b[39m) \u001b[38;5;241m-\u001b[39m\u001b[38;5;241m>\u001b[39m \u001b[38;5;28;01mNone\u001b[39;00m:\n\u001b[0;32m--> 441\u001b[0m     \u001b[38;5;28mself\u001b[39m\u001b[38;5;241m.\u001b[39mundo \u001b[38;5;241m=\u001b[39m [(pat, \u001b[43m_get_option\u001b[49m\u001b[43m(\u001b[49m\u001b[43mpat\u001b[49m\u001b[43m,\u001b[49m\u001b[43m \u001b[49m\u001b[43msilent\u001b[49m\u001b[38;5;241;43m=\u001b[39;49m\u001b[38;5;28;43;01mTrue\u001b[39;49;00m\u001b[43m)\u001b[49m) \u001b[38;5;28;01mfor\u001b[39;00m pat, val \u001b[38;5;129;01min\u001b[39;00m \u001b[38;5;28mself\u001b[39m\u001b[38;5;241m.\u001b[39mops]\n\u001b[1;32m    443\u001b[0m     \u001b[38;5;28;01mfor\u001b[39;00m pat, val \u001b[38;5;129;01min\u001b[39;00m \u001b[38;5;28mself\u001b[39m\u001b[38;5;241m.\u001b[39mops:\n\u001b[1;32m    444\u001b[0m         _set_option(pat, val, silent\u001b[38;5;241m=\u001b[39m\u001b[38;5;28;01mTrue\u001b[39;00m)\n",
      "File \u001b[0;32m~/.local/lib/python3.8/site-packages/pandas/_config/config.py:135\u001b[0m, in \u001b[0;36m_get_option\u001b[0;34m(pat, silent)\u001b[0m\n\u001b[1;32m    134\u001b[0m \u001b[38;5;28;01mdef\u001b[39;00m \u001b[38;5;21m_get_option\u001b[39m(pat: \u001b[38;5;28mstr\u001b[39m, silent: \u001b[38;5;28mbool\u001b[39m \u001b[38;5;241m=\u001b[39m \u001b[38;5;28;01mFalse\u001b[39;00m) \u001b[38;5;241m-\u001b[39m\u001b[38;5;241m>\u001b[39m Any:\n\u001b[0;32m--> 135\u001b[0m     key \u001b[38;5;241m=\u001b[39m \u001b[43m_get_single_key\u001b[49m\u001b[43m(\u001b[49m\u001b[43mpat\u001b[49m\u001b[43m,\u001b[49m\u001b[43m \u001b[49m\u001b[43msilent\u001b[49m\u001b[43m)\u001b[49m\n\u001b[1;32m    137\u001b[0m     \u001b[38;5;66m# walk the nested dict\u001b[39m\n\u001b[1;32m    138\u001b[0m     root, k \u001b[38;5;241m=\u001b[39m _get_root(key)\n",
      "File \u001b[0;32m~/.local/lib/python3.8/site-packages/pandas/_config/config.py:121\u001b[0m, in \u001b[0;36m_get_single_key\u001b[0;34m(pat, silent)\u001b[0m\n\u001b[1;32m    119\u001b[0m     \u001b[38;5;28;01mif\u001b[39;00m \u001b[38;5;129;01mnot\u001b[39;00m silent:\n\u001b[1;32m    120\u001b[0m         _warn_if_deprecated(pat)\n\u001b[0;32m--> 121\u001b[0m     \u001b[38;5;28;01mraise\u001b[39;00m OptionError(f\u001b[38;5;124m\"\u001b[39m\u001b[38;5;124mNo such keys(s): \u001b[39m\u001b[38;5;124m{\u001b[39m\u001b[38;5;124mrepr(pat)}\u001b[39m\u001b[38;5;124m\"\u001b[39m)\n\u001b[1;32m    122\u001b[0m \u001b[38;5;28;01mif\u001b[39;00m \u001b[38;5;28mlen\u001b[39m(keys) \u001b[38;5;241m>\u001b[39m \u001b[38;5;241m1\u001b[39m:\n\u001b[1;32m    123\u001b[0m     \u001b[38;5;28;01mraise\u001b[39;00m OptionError(\u001b[38;5;124m\"\u001b[39m\u001b[38;5;124mPattern matched multiple keys\u001b[39m\u001b[38;5;124m\"\u001b[39m)\n",
      "\u001b[0;31mOptionError\u001b[0m: \"No such keys(s): 'mode.use_inf_as_null'\""
     ]
    },
    {
     "data": {
      "image/png": "[encoded data removed]",
      "text/plain": [
       "<Figure size 640x480 with 1 Axes>"
      ]
     },
     "metadata": {},
     "output_type": "display_data"
    }
   ],
   "source": [
    "# Create empty lists to store the data\n",
    "models = []\n",
    "sizes = []\n",
    "configs = []\n",
    "accuracies = []\n",
    "\n",
    "# Iterate over the dictionary and extract the data\n",
    "for model, model_data in bloomz_results.items():\n",
    "    # skip key\n",
    "    if model == \"key\":\n",
    "        continue\n",
    "#     print(model)\n",
    "#     print(model_data)\n",
    "#     for config in [\"original\", \"paraphrased\"]\n",
    "    accuracies.append(model_data['paraphrased'][\"accuracy\"])\n",
    "    sizes.append(model_data['size'])\n",
    "    models.append(model)\n",
    "    configs.append('paraphrased')\n",
    "\n",
    "print(models)\n",
    "print(sizes)\n",
    "# # Create a DataFrame from the extracted data\n",
    "df = pd.DataFrame({\"model\": models, \"size\": sizes, \"config\": configs, \"accuracy\": accuracies})\n",
    "\n",
    "print(df)\n",
    "# Plot using Seaborn\n",
    "# hue=\"config\", style=\"config\"\n",
    "sns.lineplot(data=df, x=\"size\", y=\"accuracy\", markers=True, label=\"whatever\")\n",
    "\n",
    "# Set labels and title\n",
    "plt.xlabel(\"Size\")\n",
    "plt.ylabel(\"Accuracy\")\n",
    "plt.title(\"Accuracy vs Size\")\n",
    "\n",
    "# Show the plot\n",
    "plt.show()"
   ]
  },
  {
   "cell_type": "code",
   "execution_count": 2,
   "id": "5e7122c2",
   "metadata": {},
   "outputs": [
    {
     "data": {
      "image/png": "[encoded data removed]",
      "text/plain": [
       "<Figure size 640x480 with 1 Axes>"
      ]
     },
     "metadata": {},
     "output_type": "display_data"
    }
   ],
   "source": [
    "import numpy as np\n",
    "import matplotlib.pyplot as plt\n",
    "\n",
    "# Suppose you have the following data:\n",
    "models = ['Model 1', 'Model 2', 'Model 3']\n",
    "normal_performance = [0.8, 0.85, 0.9]  # Replace with your actual performance metrics\n",
    "instruction_performance = [0.85, 0.9, 0.95]  # Replace with your actual performance metrics\n",
    "\n",
    "# Calculate the width of a bar\n",
    "bar_width = 0.3\n",
    "\n",
    "# Positions of the left bar boundaries\n",
    "bar_l = np.arange(len(models))\n",
    "\n",
    "# Positions of the x-axis ticks (center of the bars as bar labels)\n",
    "tick_pos = [i + bar_width / 2 for i in bar_l]\n",
    "\n",
    "# Create the bar plot\n",
    "plt.bar(bar_l, normal_performance, width=bar_width, label='Normal', color='b')\n",
    "plt.bar(bar_l + bar_width, instruction_performance, width=bar_width, label='Instruction Tuned', color='g')\n",
    "\n",
    "# Set the labels and title\n",
    "plt.xlabel('Models')\n",
    "plt.ylabel('Performance')\n",
    "plt.title('Performance comparison')\n",
    "\n",
    "# Set the positions and labels of the x-axis ticks\n",
    "plt.xticks(tick_pos, models)\n",
    "\n",
    "# Adding the legend and showing the plot\n",
    "plt.legend()\n",
    "plt.show()\n"
   ]
  },
  {
   "cell_type": "code",
   "execution_count": 1,
   "id": "acf377f8",
   "metadata": {},
   "outputs": [
    {
     "data": {
      "image/png": "[encoded data removed]",
      "text/plain": [
       "<Figure size 640x480 with 1 Axes>"
      ]
     },
     "metadata": {},
     "output_type": "display_data"
    }
   ],
   "source": [
    "import matplotlib.pyplot as plt\n",
    "\n",
    "# Suppose you have the following data:\n",
    "models = ['Model 1', 'Model 2', 'Model 3']\n",
    "performance = [0.8, 0.85, 0.9]  # Just an example, replace with your actual performance metrics\n",
    "\n",
    "# Create a bar plot\n",
    "plt.bar(models, performance)\n",
    "\n",
    "# Add labels and title\n",
    "plt.xlabel('Models')\n",
    "plt.ylabel('Performance')\n",
    "plt.title('Performance comparison')\n",
    "\n",
    "# Show the plot\n",
    "plt.show()\n"
   ]
  },
  {
   "cell_type": "code",
   "execution_count": 7,
   "id": "a4098eda",
   "metadata": {},
   "outputs": [
    {
     "data": {
      "image/png": "[encoded data removed]",
      "text/plain": [
       "<Figure size 2000x1400 with 1 Axes>"
      ]
     },
     "metadata": {},
     "output_type": "display_data"
    }
   ],
   "source": [
    "import pandas as pd\n",
    "import numpy as np\n",
    "import matplotlib.pyplot as plt\n",
    "\n",
    "plt.figure(figsize=(20, 14))\n",
    "\n",
    "# Create DataFrame\n",
    "data = {\n",
    "    'model': ['t5-3b', 'flan_t5-3b', 'distilbert-0b066', 'distilbert_squad-0b062', 'falcon_instruct-7b', 'falcon-7b', 'mpt-7b', 'mpt_instruct-6b7', 'incite_instruct-3b', 'incite-3b'],\n",
    "    'model_class': ['t5', 'flan_t5', 'distilbert', 'distilbert_squad', 'falcon_instruct', 'falcon', 'mpt', 'mpt_instruct', 'incite_instruct', 'incite'],\n",
    "    'size': [3.000, 3.000, 0.066, 0.062, 7.000, 7.000, 7.000, 6.700, 3.000, 3.000],\n",
    "    'accuracy': [0.266000, 0.363053, 0.014000, 0.168842, 0.047053, 0.030000, 0.201474, 0.199895, 0.373789, 0.165158],\n",
    "}\n",
    "df = pd.DataFrame(data)\n",
    "\n",
    "# Add 'is_instructional' column\n",
    "df[\"is_instructional\"] = df[\"model_class\"].apply(\n",
    "    lambda x: \"instruction tuned\" if (\"squad\" in x or \"flan\" in x or \"instruct\" in x) else \"normal\")\n",
    "\n",
    "# Define models\n",
    "models = [\"falcon\", \"roberta\", \"distilbert\", \"mpt\", \"incite\", \"t5\"]\n",
    "\n",
    "# Group by model names\n",
    "df['model_name'] = df[\"model\"].str.extract(f\"({'|'.join(models)})\")[0]\n",
    "grouped = df.groupby(['model_name', 'is_instructional'])\n",
    "\n",
    "# Prepare data for plot\n",
    "plot_data = []\n",
    "for name, group in grouped:\n",
    "    plot_data.append((name[0], name[1], group['accuracy'].mean()))\n",
    "\n",
    "# Sort data by model name\n",
    "plot_data.sort()\n",
    "\n",
    "# Split data into separate lists\n",
    "names, types, accuracies = zip(*plot_data)\n",
    "unique_names = sorted(set(names))\n",
    "normal_accuracies = [accuracy for name, type_, accuracy in plot_data if type_ == 'normal']\n",
    "instruction_accuracies = [accuracy for name, type_, accuracy in plot_data if type_ == 'instruction tuned']\n",
    "\n",
    "# Calculate the width of a bar\n",
    "bar_width = 0.3\n",
    "\n",
    "# Positions of the left bar boundaries\n",
    "bar_l = np.arange(len(unique_names))\n",
    "\n",
    "# Positions of the x-axis ticks (center of the bars as bar labels)\n",
    "tick_pos = [i + bar_width / 2 for i in bar_l]\n",
    "\n",
    "# Create the bar plot\n",
    "plt.bar(bar_l, normal_accuracies, width=bar_width, label='Normal', color='orange')\n",
    "plt.bar(bar_l + bar_width, instruction_accuracies, width=bar_width, label='Instruction Tuned', color='blue')\n",
    "\n",
    "# Set the labels and title\n",
    "plt.xlabel('Models')\n",
    "plt.ylabel('Accuracy')\n",
    "plt.title('Performance comparison')\n",
    "\n",
    "# Set the positions and labels of the x-axis ticks\n",
    "plt.xticks(tick_pos, unique_names)\n",
    "\n",
    "# Adding the legend and showing the plot\n",
    "plt.legend()\n",
    "plt.show()\n"
   ]
  }
 ],
 "metadata": {
  "kernelspec": {
   "display_name": "Python 3 (ipykernel)",
   "language": "python",
   "name": "python3"
  },
  "language_info": {
   "codemirror_mode": {
    "name": "ipython",
    "version": 3
   },
   "file_extension": ".py",
   "mimetype": "text/x-python",
   "name": "python",
   "nbconvert_exporter": "python",
   "pygments_lexer": "ipython3",
   "version": "3.8.10"
  }
 },
 "nbformat": 4,
 "nbformat_minor": 5
}
