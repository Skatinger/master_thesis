{
 "cells": [
  {
   "cell_type": "code",
   "execution_count": 2,
   "id": "e893863b",
   "metadata": {},
   "outputs": [],
   "source": [
    "import pandas as pd\n",
    "import seaborn as sns\n",
    "from datasets import load_dataset\n",
    "from evaluation.loader import ResultLoader as loader\n",
    "from evaluation.single_prediction_eval import SinglePredictionEvaluator\n",
    "from models.model_runner import get_all_model_names, load_test_set\n",
    "loader = loader()"
   ]
  },
  {
   "cell_type": "code",
   "execution_count": 3,
   "id": "1fccd309",
   "metadata": {},
   "outputs": [
    {
     "name": "stderr",
     "output_type": "stream",
     "text": [
      "WARNING:datasets.builder:Using custom data configuration default-480adc9b1a137378\n",
      "WARNING:datasets.builder:Reusing dataset json (/home/nya/.cache/huggingface/datasets/json/default-480adc9b1a137378/0.0.0/a3e658c4731e59120d44081ac10bf85dc7e1388126b92338344ce9661907f253)\n"
     ]
    }
   ],
   "source": [
    "gt = load_dataset(\"json\", data_files=\"test_data.json\", split=\"train\")"
   ]
  },
  {
   "cell_type": "code",
   "execution_count": 4,
   "id": "da582a48",
   "metadata": {
    "scrolled": true
   },
   "outputs": [
    {
     "name": "stderr",
     "output_type": "stream",
     "text": [
      "INFO:root:loading dataset from: results/1000_basic/cerebras-6b7_original_1000.json\n",
      "WARNING:datasets.builder:Using custom data configuration default-259e10613adbe257\n",
      "WARNING:datasets.builder:Reusing dataset json (/home/nya/.cache/huggingface/datasets/json/default-259e10613adbe257/0.0.0/a3e658c4731e59120d44081ac10bf85dc7e1388126b92338344ce9661907f253)\n"
     ]
    },
    {
     "data": {
      "application/vnd.jupyter.widget-view+json": {
       "model_id": "5e74bab151d349b498c075702cc50a86",
       "version_major": 2,
       "version_minor": 0
      },
      "text/plain": [
       "  0%|          | 0/1 [00:00<?, ?it/s]"
      ]
     },
     "metadata": {},
     "output_type": "display_data"
    },
    {
     "name": "stderr",
     "output_type": "stream",
     "text": [
      "INFO:root:loading dataset from: results/1000_basic/bloomz-3b_paraphrased_1000.json\n",
      "WARNING:datasets.builder:Using custom data configuration default-bc004eb87119c454\n",
      "WARNING:datasets.builder:Reusing dataset json (/home/nya/.cache/huggingface/datasets/json/default-bc004eb87119c454/0.0.0/a3e658c4731e59120d44081ac10bf85dc7e1388126b92338344ce9661907f253)\n"
     ]
    },
    {
     "data": {
      "application/vnd.jupyter.widget-view+json": {
       "model_id": "d1c4e11b2ba9454e968b3f70369bcbfc",
       "version_major": 2,
       "version_minor": 0
      },
      "text/plain": [
       "  0%|          | 0/1 [00:00<?, ?it/s]"
      ]
     },
     "metadata": {},
     "output_type": "display_data"
    },
    {
     "name": "stderr",
     "output_type": "stream",
     "text": [
      "INFO:root:loading dataset from: results/1000_basic/cerebras-0b111_original_1000.json\n",
      "WARNING:datasets.builder:Using custom data configuration default-a55d8a7f596a4d52\n"
     ]
    },
    {
     "name": "stdout",
     "output_type": "stream",
     "text": [
      "Downloading and preparing dataset json/default to /home/nya/.cache/huggingface/datasets/json/default-a55d8a7f596a4d52/0.0.0/a3e658c4731e59120d44081ac10bf85dc7e1388126b92338344ce9661907f253...\n"
     ]
    },
    {
     "data": {
      "application/vnd.jupyter.widget-view+json": {
       "model_id": "22b7ec22438949d88707a67c00b7e25c",
       "version_major": 2,
       "version_minor": 0
      },
      "text/plain": [
       "Downloading data files:   0%|          | 0/1 [00:00<?, ?it/s]"
      ]
     },
     "metadata": {},
     "output_type": "display_data"
    },
    {
     "data": {
      "application/vnd.jupyter.widget-view+json": {
       "model_id": "a1807d8bd8414c4fbc9826196328d282",
       "version_major": 2,
       "version_minor": 0
      },
      "text/plain": [
       "Extracting data files:   0%|          | 0/1 [00:00<?, ?it/s]"
      ]
     },
     "metadata": {},
     "output_type": "display_data"
    },
    {
     "data": {
      "application/vnd.jupyter.widget-view+json": {
       "model_id": "",
       "version_major": 2,
       "version_minor": 0
      },
      "text/plain": [
       "0 tables [00:00, ? tables/s]"
      ]
     },
     "metadata": {},
     "output_type": "display_data"
    },
    {
     "name": "stdout",
     "output_type": "stream",
     "text": [
      "Dataset json downloaded and prepared to /home/nya/.cache/huggingface/datasets/json/default-a55d8a7f596a4d52/0.0.0/a3e658c4731e59120d44081ac10bf85dc7e1388126b92338344ce9661907f253. Subsequent calls will reuse this data.\n"
     ]
    },
    {
     "data": {
      "application/vnd.jupyter.widget-view+json": {
       "model_id": "1988c315e83041b0a95f5ca55ffdc895",
       "version_major": 2,
       "version_minor": 0
      },
      "text/plain": [
       "  0%|          | 0/1 [00:00<?, ?it/s]"
      ]
     },
     "metadata": {},
     "output_type": "display_data"
    },
    {
     "name": "stderr",
     "output_type": "stream",
     "text": [
      "INFO:root:loading dataset from: results/1000_basic/cerebras-2b7_paraphrased_1000.json\n",
      "WARNING:datasets.builder:Using custom data configuration default-5e21e2e481f56fcd\n",
      "WARNING:datasets.builder:Reusing dataset json (/home/nya/.cache/huggingface/datasets/json/default-5e21e2e481f56fcd/0.0.0/a3e658c4731e59120d44081ac10bf85dc7e1388126b92338344ce9661907f253)\n"
     ]
    },
    {
     "data": {
      "application/vnd.jupyter.widget-view+json": {
       "model_id": "28f3e7c0b29b4dccaf6e16d96519710e",
       "version_major": 2,
       "version_minor": 0
      },
      "text/plain": [
       "  0%|          | 0/1 [00:00<?, ?it/s]"
      ]
     },
     "metadata": {},
     "output_type": "display_data"
    },
    {
     "name": "stderr",
     "output_type": "stream",
     "text": [
      "INFO:root:loading dataset from: results/1000_basic/bloomz-7b1_original_1000.json\n",
      "WARNING:datasets.builder:Using custom data configuration default-09008cd37ccee985\n",
      "WARNING:datasets.builder:Reusing dataset json (/home/nya/.cache/huggingface/datasets/json/default-09008cd37ccee985/0.0.0/a3e658c4731e59120d44081ac10bf85dc7e1388126b92338344ce9661907f253)\n"
     ]
    },
    {
     "data": {
      "application/vnd.jupyter.widget-view+json": {
       "model_id": "7897d6ad15604c669d3e80e5645c8fbb",
       "version_major": 2,
       "version_minor": 0
      },
      "text/plain": [
       "  0%|          | 0/1 [00:00<?, ?it/s]"
      ]
     },
     "metadata": {},
     "output_type": "display_data"
    },
    {
     "name": "stderr",
     "output_type": "stream",
     "text": [
      "INFO:root:loading dataset from: results/1000_basic/bloomz-3b_original_1000.json\n",
      "WARNING:datasets.builder:Using custom data configuration default-2659a84c6cd452d5\n",
      "WARNING:datasets.builder:Reusing dataset json (/home/nya/.cache/huggingface/datasets/json/default-2659a84c6cd452d5/0.0.0/a3e658c4731e59120d44081ac10bf85dc7e1388126b92338344ce9661907f253)\n"
     ]
    },
    {
     "data": {
      "application/vnd.jupyter.widget-view+json": {
       "model_id": "7aaa85a7f3564cd2ab42cb40e75cf64e",
       "version_major": 2,
       "version_minor": 0
      },
      "text/plain": [
       "  0%|          | 0/1 [00:00<?, ?it/s]"
      ]
     },
     "metadata": {},
     "output_type": "display_data"
    },
    {
     "name": "stderr",
     "output_type": "stream",
     "text": [
      "INFO:root:loading dataset from: results/1000_basic/cerebras-0b111_paraphrased_1000.json\n",
      "WARNING:datasets.builder:Using custom data configuration default-5be1ccc812bf0df4\n"
     ]
    },
    {
     "name": "stdout",
     "output_type": "stream",
     "text": [
      "Downloading and preparing dataset json/default to /home/nya/.cache/huggingface/datasets/json/default-5be1ccc812bf0df4/0.0.0/a3e658c4731e59120d44081ac10bf85dc7e1388126b92338344ce9661907f253...\n"
     ]
    },
    {
     "data": {
      "application/vnd.jupyter.widget-view+json": {
       "model_id": "2f6215bdc7534c729a5d30c076249034",
       "version_major": 2,
       "version_minor": 0
      },
      "text/plain": [
       "Downloading data files:   0%|          | 0/1 [00:00<?, ?it/s]"
      ]
     },
     "metadata": {},
     "output_type": "display_data"
    },
    {
     "data": {
      "application/vnd.jupyter.widget-view+json": {
       "model_id": "4430a15dc49a48f18d5ae0b4a4ce0d3b",
       "version_major": 2,
       "version_minor": 0
      },
      "text/plain": [
       "Extracting data files:   0%|          | 0/1 [00:00<?, ?it/s]"
      ]
     },
     "metadata": {},
     "output_type": "display_data"
    },
    {
     "data": {
      "application/vnd.jupyter.widget-view+json": {
       "model_id": "",
       "version_major": 2,
       "version_minor": 0
      },
      "text/plain": [
       "0 tables [00:00, ? tables/s]"
      ]
     },
     "metadata": {},
     "output_type": "display_data"
    },
    {
     "name": "stdout",
     "output_type": "stream",
     "text": [
      "Dataset json downloaded and prepared to /home/nya/.cache/huggingface/datasets/json/default-5be1ccc812bf0df4/0.0.0/a3e658c4731e59120d44081ac10bf85dc7e1388126b92338344ce9661907f253. Subsequent calls will reuse this data.\n"
     ]
    },
    {
     "data": {
      "application/vnd.jupyter.widget-view+json": {
       "model_id": "0e226b227a224c0a9654b2f882f82fb5",
       "version_major": 2,
       "version_minor": 0
      },
      "text/plain": [
       "  0%|          | 0/1 [00:00<?, ?it/s]"
      ]
     },
     "metadata": {},
     "output_type": "display_data"
    },
    {
     "name": "stderr",
     "output_type": "stream",
     "text": [
      "INFO:root:loading dataset from: results/1000_basic/bloomz-1b7_paraphrased_1000.json\n",
      "WARNING:datasets.builder:Using custom data configuration default-961a73710ff8054c\n",
      "WARNING:datasets.builder:Reusing dataset json (/home/nya/.cache/huggingface/datasets/json/default-961a73710ff8054c/0.0.0/a3e658c4731e59120d44081ac10bf85dc7e1388126b92338344ce9661907f253)\n"
     ]
    },
    {
     "data": {
      "application/vnd.jupyter.widget-view+json": {
       "model_id": "e97da17fcc89465c997c0abf1d7b8274",
       "version_major": 2,
       "version_minor": 0
      },
      "text/plain": [
       "  0%|          | 0/1 [00:00<?, ?it/s]"
      ]
     },
     "metadata": {},
     "output_type": "display_data"
    },
    {
     "name": "stderr",
     "output_type": "stream",
     "text": [
      "INFO:root:loading dataset from: results/1000_basic/bloomz-7b1_paraphrased_1000.json\n",
      "WARNING:datasets.builder:Using custom data configuration default-935385c473f430f6\n",
      "WARNING:datasets.builder:Reusing dataset json (/home/nya/.cache/huggingface/datasets/json/default-935385c473f430f6/0.0.0/a3e658c4731e59120d44081ac10bf85dc7e1388126b92338344ce9661907f253)\n"
     ]
    },
    {
     "data": {
      "application/vnd.jupyter.widget-view+json": {
       "model_id": "2d9cba706c824c7f903b284d1e14bb25",
       "version_major": 2,
       "version_minor": 0
      },
      "text/plain": [
       "  0%|          | 0/1 [00:00<?, ?it/s]"
      ]
     },
     "metadata": {},
     "output_type": "display_data"
    },
    {
     "name": "stderr",
     "output_type": "stream",
     "text": [
      "INFO:root:loading dataset from: results/1000_basic/cerebras-6b7_paraphrased_1000.json\n",
      "WARNING:datasets.builder:Using custom data configuration default-21c19117f61b2054\n",
      "WARNING:datasets.builder:Reusing dataset json (/home/nya/.cache/huggingface/datasets/json/default-21c19117f61b2054/0.0.0/a3e658c4731e59120d44081ac10bf85dc7e1388126b92338344ce9661907f253)\n"
     ]
    },
    {
     "data": {
      "application/vnd.jupyter.widget-view+json": {
       "model_id": "13f30c06a734456f94cde02a0a624bb0",
       "version_major": 2,
       "version_minor": 0
      },
      "text/plain": [
       "  0%|          | 0/1 [00:00<?, ?it/s]"
      ]
     },
     "metadata": {},
     "output_type": "display_data"
    },
    {
     "name": "stderr",
     "output_type": "stream",
     "text": [
      "INFO:root:loading dataset from: results/1000_basic/bloomz-1b7_original_1000.json\n",
      "WARNING:datasets.builder:Using custom data configuration default-2b4520d97203f5b6\n",
      "WARNING:datasets.builder:Reusing dataset json (/home/nya/.cache/huggingface/datasets/json/default-2b4520d97203f5b6/0.0.0/a3e658c4731e59120d44081ac10bf85dc7e1388126b92338344ce9661907f253)\n"
     ]
    },
    {
     "data": {
      "application/vnd.jupyter.widget-view+json": {
       "model_id": "521c405b7bd54f2785227771a2fd14ed",
       "version_major": 2,
       "version_minor": 0
      },
      "text/plain": [
       "  0%|          | 0/1 [00:00<?, ?it/s]"
      ]
     },
     "metadata": {},
     "output_type": "display_data"
    },
    {
     "name": "stderr",
     "output_type": "stream",
     "text": [
      "INFO:root:loading dataset from: results/1000_basic/cerebras-2b7_original_1000.json\n",
      "WARNING:datasets.builder:Using custom data configuration default-b3be792c4e9e5ece\n",
      "WARNING:datasets.builder:Reusing dataset json (/home/nya/.cache/huggingface/datasets/json/default-b3be792c4e9e5ece/0.0.0/a3e658c4731e59120d44081ac10bf85dc7e1388126b92338344ce9661907f253)\n"
     ]
    },
    {
     "data": {
      "application/vnd.jupyter.widget-view+json": {
       "model_id": "7b8d306e2b9540608b541b7f4cd8b3c0",
       "version_major": 2,
       "version_minor": 0
      },
      "text/plain": [
       "  0%|          | 0/1 [00:00<?, ?it/s]"
      ]
     },
     "metadata": {},
     "output_type": "display_data"
    },
    {
     "name": "stderr",
     "output_type": "stream",
     "text": [
      "INFO:root:loading dataset from: results/1000_basic/bloomz-1b1_original_1000.json\n",
      "WARNING:datasets.builder:Using custom data configuration default-6ea4cc82747c4934\n",
      "WARNING:datasets.builder:Reusing dataset json (/home/nya/.cache/huggingface/datasets/json/default-6ea4cc82747c4934/0.0.0/a3e658c4731e59120d44081ac10bf85dc7e1388126b92338344ce9661907f253)\n"
     ]
    },
    {
     "data": {
      "application/vnd.jupyter.widget-view+json": {
       "model_id": "31f46e7323e049fc988c47a4211a9887",
       "version_major": 2,
       "version_minor": 0
      },
      "text/plain": [
       "  0%|          | 0/1 [00:00<?, ?it/s]"
      ]
     },
     "metadata": {},
     "output_type": "display_data"
    },
    {
     "name": "stderr",
     "output_type": "stream",
     "text": [
      "INFO:root:loading dataset from: results/1000_basic/cerebras-1b3_original_1000.json\n",
      "WARNING:datasets.builder:Using custom data configuration default-94dc98ce8c62c520\n",
      "WARNING:datasets.builder:Reusing dataset json (/home/nya/.cache/huggingface/datasets/json/default-94dc98ce8c62c520/0.0.0/a3e658c4731e59120d44081ac10bf85dc7e1388126b92338344ce9661907f253)\n"
     ]
    },
    {
     "data": {
      "application/vnd.jupyter.widget-view+json": {
       "model_id": "5fe43adaf17a48acac8b7e19d4925937",
       "version_major": 2,
       "version_minor": 0
      },
      "text/plain": [
       "  0%|          | 0/1 [00:00<?, ?it/s]"
      ]
     },
     "metadata": {},
     "output_type": "display_data"
    },
    {
     "name": "stderr",
     "output_type": "stream",
     "text": [
      "INFO:root:loading dataset from: results/1000_basic/cerebras-1b3_paraphrased_1000.json\n",
      "WARNING:datasets.builder:Using custom data configuration default-df8bdd26fa87e067\n",
      "WARNING:datasets.builder:Reusing dataset json (/home/nya/.cache/huggingface/datasets/json/default-df8bdd26fa87e067/0.0.0/a3e658c4731e59120d44081ac10bf85dc7e1388126b92338344ce9661907f253)\n"
     ]
    },
    {
     "data": {
      "application/vnd.jupyter.widget-view+json": {
       "model_id": "c38169ca021c4b8e9d9d9c2bf104ddb8",
       "version_major": 2,
       "version_minor": 0
      },
      "text/plain": [
       "  0%|          | 0/1 [00:00<?, ?it/s]"
      ]
     },
     "metadata": {},
     "output_type": "display_data"
    },
    {
     "name": "stderr",
     "output_type": "stream",
     "text": [
      "INFO:root:loading dataset from: results/1000_basic/bloomz-1b1_paraphrased_1000.json\n",
      "WARNING:datasets.builder:Using custom data configuration default-ce703d50659dad7f\n",
      "WARNING:datasets.builder:Reusing dataset json (/home/nya/.cache/huggingface/datasets/json/default-ce703d50659dad7f/0.0.0/a3e658c4731e59120d44081ac10bf85dc7e1388126b92338344ce9661907f253)\n"
     ]
    },
    {
     "data": {
      "application/vnd.jupyter.widget-view+json": {
       "model_id": "370756deb70f4d5ab279f6012bccc05b",
       "version_major": 2,
       "version_minor": 0
      },
      "text/plain": [
       "  0%|          | 0/1 [00:00<?, ?it/s]"
      ]
     },
     "metadata": {},
     "output_type": "display_data"
    }
   ],
   "source": [
    "data = loader.load('1000_basic')"
   ]
  },
  {
   "cell_type": "code",
   "execution_count": 5,
   "id": "f05168fd",
   "metadata": {},
   "outputs": [],
   "source": [
    "import Levenshtein\n",
    "import re\n",
    "def compute_precision_for_page(page):\n",
    "    distance = Levenshtein.distance(page[\"prediction\"], page[\"title\"], score_cutoff=15)\n",
    "    regex = \"|\".join(['.*(' + nameFragment + ').*' for nameFragment in page[\"title\"].split()])\n",
    "    if re.match(regex, page[\"prediction\"]):\n",
    "        return { \"correct\": 1, \"prediction\": page[\"prediction\"], \"title\": page[\"title\"], \"distance\": distance }\n",
    "    else:\n",
    "        return { \"correct\": 0, \"prediction\": page[\"prediction\"], \"title\": page[\"title\"], \"distance\": distance }"
   ]
  },
  {
   "cell_type": "code",
   "execution_count": 22,
   "id": "d520b8db",
   "metadata": {},
   "outputs": [
    {
     "name": "stderr",
     "output_type": "stream",
     "text": [
      "WARNING:datasets.arrow_dataset:Loading cached processed dataset at /home/nya/.cache/huggingface/datasets/json/default-480adc9b1a137378/0.0.0/a3e658c4731e59120d44081ac10bf85dc7e1388126b92338344ce9661907f253/cache-6d7221641e595508.arrow\n",
      "WARNING:datasets.arrow_dataset:Loading cached processed dataset at /home/nya/.cache/huggingface/datasets/json/default-480adc9b1a137378/0.0.0/a3e658c4731e59120d44081ac10bf85dc7e1388126b92338344ce9661907f253/cache-a8ef8d04196c9c0d.arrow\n"
     ]
    },
    {
     "name": "stdout",
     "output_type": "stream",
     "text": [
      "     "
     ]
    },
    {
     "name": "stderr",
     "output_type": "stream",
     "text": [
      "WARNING:datasets.arrow_dataset:Loading cached processed dataset at /home/nya/.cache/huggingface/datasets/json/default-259e10613adbe257/0.0.0/a3e658c4731e59120d44081ac10bf85dc7e1388126b92338344ce9661907f253/cache-6afaaa776a989091.arrow\n"
     ]
    },
    {
     "name": "stdout",
     "output_type": "stream",
     "text": [
      " "
     ]
    },
    {
     "name": "stderr",
     "output_type": "stream",
     "text": [
      "WARNING:datasets.arrow_dataset:Loading cached processed dataset at /home/nya/.cache/huggingface/datasets/json/default-259e10613adbe257/0.0.0/a3e658c4731e59120d44081ac10bf85dc7e1388126b92338344ce9661907f253/cache-9bb27e9f23b119d7.arrow\n"
     ]
    },
    {
     "name": "stdout",
     "output_type": "stream",
     "text": [
      " "
     ]
    },
    {
     "name": "stderr",
     "output_type": "stream",
     "text": [
      "WARNING:datasets.arrow_dataset:Loading cached processed dataset at /home/nya/.cache/huggingface/datasets/json/default-259e10613adbe257/0.0.0/a3e658c4731e59120d44081ac10bf85dc7e1388126b92338344ce9661907f253/cache-d013bb66e1fb7fc3.arrow\n"
     ]
    },
    {
     "name": "stdout",
     "output_type": "stream",
     "text": [
      " "
     ]
    },
    {
     "name": "stderr",
     "output_type": "stream",
     "text": [
      "WARNING:datasets.arrow_dataset:Loading cached processed dataset at /home/nya/.cache/huggingface/datasets/json/default-259e10613adbe257/0.0.0/a3e658c4731e59120d44081ac10bf85dc7e1388126b92338344ce9661907f253/cache-2de7bc3543d51782.arrow\n",
      "WARNING:datasets.arrow_dataset:Loading cached processed dataset at /home/nya/.cache/huggingface/datasets/json/default-259e10613adbe257/0.0.0/a3e658c4731e59120d44081ac10bf85dc7e1388126b92338344ce9661907f253/cache-c56671f18dc5a45c.arrow\n",
      "WARNING:datasets.arrow_dataset:Loading cached processed dataset at /home/nya/.cache/huggingface/datasets/json/default-259e10613adbe257/0.0.0/a3e658c4731e59120d44081ac10bf85dc7e1388126b92338344ce9661907f253/cache-df720d12b8a8538a.arrow\n"
     ]
    },
    {
     "name": "stdout",
     "output_type": "stream",
     "text": [
      "     "
     ]
    },
    {
     "name": "stderr",
     "output_type": "stream",
     "text": [
      "WARNING:datasets.arrow_dataset:Loading cached processed dataset at /home/nya/.cache/huggingface/datasets/json/default-21c19117f61b2054/0.0.0/a3e658c4731e59120d44081ac10bf85dc7e1388126b92338344ce9661907f253/cache-fefe907a7e6ef5a5.arrow\n"
     ]
    },
    {
     "name": "stdout",
     "output_type": "stream",
     "text": [
      " "
     ]
    },
    {
     "name": "stderr",
     "output_type": "stream",
     "text": [
      "WARNING:datasets.arrow_dataset:Loading cached processed dataset at /home/nya/.cache/huggingface/datasets/json/default-21c19117f61b2054/0.0.0/a3e658c4731e59120d44081ac10bf85dc7e1388126b92338344ce9661907f253/cache-ebdcc390ea4445ca.arrow\n"
     ]
    },
    {
     "name": "stdout",
     "output_type": "stream",
     "text": [
      " "
     ]
    },
    {
     "name": "stderr",
     "output_type": "stream",
     "text": [
      "WARNING:datasets.arrow_dataset:Loading cached processed dataset at /home/nya/.cache/huggingface/datasets/json/default-21c19117f61b2054/0.0.0/a3e658c4731e59120d44081ac10bf85dc7e1388126b92338344ce9661907f253/cache-2c1d5b657009336b.arrow\n"
     ]
    },
    {
     "name": "stdout",
     "output_type": "stream",
     "text": [
      " "
     ]
    },
    {
     "name": "stderr",
     "output_type": "stream",
     "text": [
      "WARNING:datasets.arrow_dataset:Loading cached processed dataset at /home/nya/.cache/huggingface/datasets/json/default-21c19117f61b2054/0.0.0/a3e658c4731e59120d44081ac10bf85dc7e1388126b92338344ce9661907f253/cache-4d28ca1a99e3ca96.arrow\n",
      "WARNING:datasets.arrow_dataset:Loading cached processed dataset at /home/nya/.cache/huggingface/datasets/json/default-21c19117f61b2054/0.0.0/a3e658c4731e59120d44081ac10bf85dc7e1388126b92338344ce9661907f253/cache-330aaf98890988d8.arrow\n",
      "WARNING:datasets.arrow_dataset:Loading cached processed dataset at /home/nya/.cache/huggingface/datasets/json/default-21c19117f61b2054/0.0.0/a3e658c4731e59120d44081ac10bf85dc7e1388126b92338344ce9661907f253/cache-2faea5c8ca07fb93.arrow\n"
     ]
    },
    {
     "name": "stdout",
     "output_type": "stream",
     "text": [
      "     "
     ]
    },
    {
     "name": "stderr",
     "output_type": "stream",
     "text": [
      "WARNING:datasets.arrow_dataset:Loading cached processed dataset at /home/nya/.cache/huggingface/datasets/json/default-a55d8a7f596a4d52/0.0.0/a3e658c4731e59120d44081ac10bf85dc7e1388126b92338344ce9661907f253/cache-874f9fdf7a410143.arrow\n"
     ]
    },
    {
     "name": "stdout",
     "output_type": "stream",
     "text": [
      " "
     ]
    },
    {
     "name": "stderr",
     "output_type": "stream",
     "text": [
      "WARNING:datasets.arrow_dataset:Loading cached processed dataset at /home/nya/.cache/huggingface/datasets/json/default-a55d8a7f596a4d52/0.0.0/a3e658c4731e59120d44081ac10bf85dc7e1388126b92338344ce9661907f253/cache-a30ffa7040517f34.arrow\n"
     ]
    },
    {
     "name": "stdout",
     "output_type": "stream",
     "text": [
      " "
     ]
    },
    {
     "name": "stderr",
     "output_type": "stream",
     "text": [
      "WARNING:datasets.arrow_dataset:Loading cached processed dataset at /home/nya/.cache/huggingface/datasets/json/default-a55d8a7f596a4d52/0.0.0/a3e658c4731e59120d44081ac10bf85dc7e1388126b92338344ce9661907f253/cache-654436d218503736.arrow\n"
     ]
    },
    {
     "name": "stdout",
     "output_type": "stream",
     "text": [
      " "
     ]
    },
    {
     "name": "stderr",
     "output_type": "stream",
     "text": [
      "WARNING:datasets.arrow_dataset:Loading cached processed dataset at /home/nya/.cache/huggingface/datasets/json/default-a55d8a7f596a4d52/0.0.0/a3e658c4731e59120d44081ac10bf85dc7e1388126b92338344ce9661907f253/cache-29808a10fa31d2af.arrow\n",
      "WARNING:datasets.arrow_dataset:Loading cached processed dataset at /home/nya/.cache/huggingface/datasets/json/default-a55d8a7f596a4d52/0.0.0/a3e658c4731e59120d44081ac10bf85dc7e1388126b92338344ce9661907f253/cache-3573233953c2dab2.arrow\n",
      "WARNING:datasets.arrow_dataset:Loading cached processed dataset at /home/nya/.cache/huggingface/datasets/json/default-a55d8a7f596a4d52/0.0.0/a3e658c4731e59120d44081ac10bf85dc7e1388126b92338344ce9661907f253/cache-c334bcd42340c495.arrow\n"
     ]
    },
    {
     "name": "stdout",
     "output_type": "stream",
     "text": [
      "     "
     ]
    },
    {
     "name": "stderr",
     "output_type": "stream",
     "text": [
      "WARNING:datasets.arrow_dataset:Loading cached processed dataset at /home/nya/.cache/huggingface/datasets/json/default-5be1ccc812bf0df4/0.0.0/a3e658c4731e59120d44081ac10bf85dc7e1388126b92338344ce9661907f253/cache-4a6aed17203b212c.arrow\n"
     ]
    },
    {
     "name": "stdout",
     "output_type": "stream",
     "text": [
      " "
     ]
    },
    {
     "name": "stderr",
     "output_type": "stream",
     "text": [
      "WARNING:datasets.arrow_dataset:Loading cached processed dataset at /home/nya/.cache/huggingface/datasets/json/default-5be1ccc812bf0df4/0.0.0/a3e658c4731e59120d44081ac10bf85dc7e1388126b92338344ce9661907f253/cache-8c35664b90c46985.arrow\n"
     ]
    },
    {
     "name": "stdout",
     "output_type": "stream",
     "text": [
      " "
     ]
    },
    {
     "name": "stderr",
     "output_type": "stream",
     "text": [
      "WARNING:datasets.arrow_dataset:Loading cached processed dataset at /home/nya/.cache/huggingface/datasets/json/default-5be1ccc812bf0df4/0.0.0/a3e658c4731e59120d44081ac10bf85dc7e1388126b92338344ce9661907f253/cache-0a56a584a7cedc21.arrow\n"
     ]
    },
    {
     "name": "stdout",
     "output_type": "stream",
     "text": [
      " "
     ]
    },
    {
     "name": "stderr",
     "output_type": "stream",
     "text": [
      "WARNING:datasets.arrow_dataset:Loading cached processed dataset at /home/nya/.cache/huggingface/datasets/json/default-5be1ccc812bf0df4/0.0.0/a3e658c4731e59120d44081ac10bf85dc7e1388126b92338344ce9661907f253/cache-d5917107755fc10b.arrow\n",
      "WARNING:datasets.arrow_dataset:Loading cached processed dataset at /home/nya/.cache/huggingface/datasets/json/default-5be1ccc812bf0df4/0.0.0/a3e658c4731e59120d44081ac10bf85dc7e1388126b92338344ce9661907f253/cache-08bdf5b256217dda.arrow\n",
      "WARNING:datasets.arrow_dataset:Loading cached processed dataset at /home/nya/.cache/huggingface/datasets/json/default-5be1ccc812bf0df4/0.0.0/a3e658c4731e59120d44081ac10bf85dc7e1388126b92338344ce9661907f253/cache-df8b9901e901082d.arrow\n"
     ]
    },
    {
     "name": "stdout",
     "output_type": "stream",
     "text": [
      "     "
     ]
    },
    {
     "name": "stderr",
     "output_type": "stream",
     "text": [
      "WARNING:datasets.arrow_dataset:Loading cached processed dataset at /home/nya/.cache/huggingface/datasets/json/default-b3be792c4e9e5ece/0.0.0/a3e658c4731e59120d44081ac10bf85dc7e1388126b92338344ce9661907f253/cache-408c522a93545c19.arrow\n",
      "WARNING:datasets.arrow_dataset:Loading cached processed dataset at /home/nya/.cache/huggingface/datasets/json/default-b3be792c4e9e5ece/0.0.0/a3e658c4731e59120d44081ac10bf85dc7e1388126b92338344ce9661907f253/cache-64e6eeb86f3b97ad.arrow\n"
     ]
    },
    {
     "name": "stdout",
     "output_type": "stream",
     "text": [
      "  "
     ]
    },
    {
     "name": "stderr",
     "output_type": "stream",
     "text": [
      "WARNING:datasets.arrow_dataset:Loading cached processed dataset at /home/nya/.cache/huggingface/datasets/json/default-b3be792c4e9e5ece/0.0.0/a3e658c4731e59120d44081ac10bf85dc7e1388126b92338344ce9661907f253/cache-bb8b495216d42d85.arrow\n"
     ]
    },
    {
     "name": "stdout",
     "output_type": "stream",
     "text": [
      " "
     ]
    },
    {
     "name": "stderr",
     "output_type": "stream",
     "text": [
      "WARNING:datasets.arrow_dataset:Loading cached processed dataset at /home/nya/.cache/huggingface/datasets/json/default-b3be792c4e9e5ece/0.0.0/a3e658c4731e59120d44081ac10bf85dc7e1388126b92338344ce9661907f253/cache-0e789bb39dd456e5.arrow\n",
      "WARNING:datasets.arrow_dataset:Loading cached processed dataset at /home/nya/.cache/huggingface/datasets/json/default-b3be792c4e9e5ece/0.0.0/a3e658c4731e59120d44081ac10bf85dc7e1388126b92338344ce9661907f253/cache-b89e3812f7dc1fe1.arrow\n",
      "WARNING:datasets.arrow_dataset:Loading cached processed dataset at /home/nya/.cache/huggingface/datasets/json/default-b3be792c4e9e5ece/0.0.0/a3e658c4731e59120d44081ac10bf85dc7e1388126b92338344ce9661907f253/cache-5c0d4e4c1079e77f.arrow\n"
     ]
    },
    {
     "name": "stdout",
     "output_type": "stream",
     "text": [
      "     "
     ]
    },
    {
     "name": "stderr",
     "output_type": "stream",
     "text": [
      "WARNING:datasets.arrow_dataset:Loading cached processed dataset at /home/nya/.cache/huggingface/datasets/json/default-5e21e2e481f56fcd/0.0.0/a3e658c4731e59120d44081ac10bf85dc7e1388126b92338344ce9661907f253/cache-8bfbcac91c501e7f.arrow\n"
     ]
    },
    {
     "name": "stdout",
     "output_type": "stream",
     "text": [
      " "
     ]
    },
    {
     "name": "stderr",
     "output_type": "stream",
     "text": [
      "WARNING:datasets.arrow_dataset:Loading cached processed dataset at /home/nya/.cache/huggingface/datasets/json/default-5e21e2e481f56fcd/0.0.0/a3e658c4731e59120d44081ac10bf85dc7e1388126b92338344ce9661907f253/cache-b5529391ebfda381.arrow\n"
     ]
    },
    {
     "name": "stdout",
     "output_type": "stream",
     "text": [
      " "
     ]
    },
    {
     "name": "stderr",
     "output_type": "stream",
     "text": [
      "WARNING:datasets.arrow_dataset:Loading cached processed dataset at /home/nya/.cache/huggingface/datasets/json/default-5e21e2e481f56fcd/0.0.0/a3e658c4731e59120d44081ac10bf85dc7e1388126b92338344ce9661907f253/cache-3bf5f62c7db9a978.arrow\n"
     ]
    },
    {
     "name": "stdout",
     "output_type": "stream",
     "text": [
      " "
     ]
    },
    {
     "name": "stderr",
     "output_type": "stream",
     "text": [
      "WARNING:datasets.arrow_dataset:Loading cached processed dataset at /home/nya/.cache/huggingface/datasets/json/default-5e21e2e481f56fcd/0.0.0/a3e658c4731e59120d44081ac10bf85dc7e1388126b92338344ce9661907f253/cache-9c4d81922812fb36.arrow\n",
      "WARNING:datasets.arrow_dataset:Loading cached processed dataset at /home/nya/.cache/huggingface/datasets/json/default-5e21e2e481f56fcd/0.0.0/a3e658c4731e59120d44081ac10bf85dc7e1388126b92338344ce9661907f253/cache-b90f258fdf704b6a.arrow\n",
      "WARNING:datasets.arrow_dataset:Loading cached processed dataset at /home/nya/.cache/huggingface/datasets/json/default-5e21e2e481f56fcd/0.0.0/a3e658c4731e59120d44081ac10bf85dc7e1388126b92338344ce9661907f253/cache-090f6747da8f5b03.arrow\n"
     ]
    },
    {
     "name": "stdout",
     "output_type": "stream",
     "text": [
      "     "
     ]
    },
    {
     "name": "stderr",
     "output_type": "stream",
     "text": [
      "WARNING:datasets.arrow_dataset:Loading cached processed dataset at /home/nya/.cache/huggingface/datasets/json/default-94dc98ce8c62c520/0.0.0/a3e658c4731e59120d44081ac10bf85dc7e1388126b92338344ce9661907f253/cache-c58c36c86437b41c.arrow\n"
     ]
    },
    {
     "name": "stdout",
     "output_type": "stream",
     "text": [
      " "
     ]
    },
    {
     "name": "stderr",
     "output_type": "stream",
     "text": [
      "WARNING:datasets.arrow_dataset:Loading cached processed dataset at /home/nya/.cache/huggingface/datasets/json/default-94dc98ce8c62c520/0.0.0/a3e658c4731e59120d44081ac10bf85dc7e1388126b92338344ce9661907f253/cache-21ac25a3733cecec.arrow\n"
     ]
    },
    {
     "name": "stdout",
     "output_type": "stream",
     "text": [
      " "
     ]
    },
    {
     "name": "stderr",
     "output_type": "stream",
     "text": [
      "WARNING:datasets.arrow_dataset:Loading cached processed dataset at /home/nya/.cache/huggingface/datasets/json/default-94dc98ce8c62c520/0.0.0/a3e658c4731e59120d44081ac10bf85dc7e1388126b92338344ce9661907f253/cache-538a41ff8a72b32c.arrow\n"
     ]
    },
    {
     "name": "stdout",
     "output_type": "stream",
     "text": [
      " "
     ]
    },
    {
     "name": "stderr",
     "output_type": "stream",
     "text": [
      "WARNING:datasets.arrow_dataset:Loading cached processed dataset at /home/nya/.cache/huggingface/datasets/json/default-94dc98ce8c62c520/0.0.0/a3e658c4731e59120d44081ac10bf85dc7e1388126b92338344ce9661907f253/cache-77c12cd59aaef2e5.arrow\n",
      "WARNING:datasets.arrow_dataset:Loading cached processed dataset at /home/nya/.cache/huggingface/datasets/json/default-94dc98ce8c62c520/0.0.0/a3e658c4731e59120d44081ac10bf85dc7e1388126b92338344ce9661907f253/cache-155c7e227b3c3df7.arrow\n",
      "WARNING:datasets.arrow_dataset:Loading cached processed dataset at /home/nya/.cache/huggingface/datasets/json/default-94dc98ce8c62c520/0.0.0/a3e658c4731e59120d44081ac10bf85dc7e1388126b92338344ce9661907f253/cache-b316104922f91138.arrow\n"
     ]
    },
    {
     "name": "stdout",
     "output_type": "stream",
     "text": [
      "     "
     ]
    },
    {
     "name": "stderr",
     "output_type": "stream",
     "text": [
      "WARNING:datasets.arrow_dataset:Loading cached processed dataset at /home/nya/.cache/huggingface/datasets/json/default-df8bdd26fa87e067/0.0.0/a3e658c4731e59120d44081ac10bf85dc7e1388126b92338344ce9661907f253/cache-735850ab59a1e9b5.arrow\n"
     ]
    },
    {
     "name": "stdout",
     "output_type": "stream",
     "text": [
      " "
     ]
    },
    {
     "name": "stderr",
     "output_type": "stream",
     "text": [
      "WARNING:datasets.arrow_dataset:Loading cached processed dataset at /home/nya/.cache/huggingface/datasets/json/default-df8bdd26fa87e067/0.0.0/a3e658c4731e59120d44081ac10bf85dc7e1388126b92338344ce9661907f253/cache-e5e5bc9bbc8b51e0.arrow\n"
     ]
    },
    {
     "name": "stdout",
     "output_type": "stream",
     "text": [
      " "
     ]
    },
    {
     "name": "stderr",
     "output_type": "stream",
     "text": [
      "WARNING:datasets.arrow_dataset:Loading cached processed dataset at /home/nya/.cache/huggingface/datasets/json/default-df8bdd26fa87e067/0.0.0/a3e658c4731e59120d44081ac10bf85dc7e1388126b92338344ce9661907f253/cache-dcf9299f1b369e4a.arrow\n"
     ]
    },
    {
     "name": "stdout",
     "output_type": "stream",
     "text": [
      " "
     ]
    },
    {
     "name": "stderr",
     "output_type": "stream",
     "text": [
      "WARNING:datasets.arrow_dataset:Loading cached processed dataset at /home/nya/.cache/huggingface/datasets/json/default-df8bdd26fa87e067/0.0.0/a3e658c4731e59120d44081ac10bf85dc7e1388126b92338344ce9661907f253/cache-56d2c5a15254854c.arrow\n",
      "WARNING:datasets.arrow_dataset:Loading cached processed dataset at /home/nya/.cache/huggingface/datasets/json/default-df8bdd26fa87e067/0.0.0/a3e658c4731e59120d44081ac10bf85dc7e1388126b92338344ce9661907f253/cache-ec060d20378fc3d1.arrow\n",
      "WARNING:datasets.arrow_dataset:Loading cached processed dataset at /home/nya/.cache/huggingface/datasets/json/default-df8bdd26fa87e067/0.0.0/a3e658c4731e59120d44081ac10bf85dc7e1388126b92338344ce9661907f253/cache-1d5db424596fcca6.arrow\n"
     ]
    },
    {
     "name": "stdout",
     "output_type": "stream",
     "text": [
      "     "
     ]
    },
    {
     "name": "stderr",
     "output_type": "stream",
     "text": [
      "WARNING:datasets.arrow_dataset:Loading cached processed dataset at /home/nya/.cache/huggingface/datasets/json/default-2659a84c6cd452d5/0.0.0/a3e658c4731e59120d44081ac10bf85dc7e1388126b92338344ce9661907f253/cache-2fbc11d723a7df23.arrow\n",
      "WARNING:datasets.arrow_dataset:Loading cached processed dataset at /home/nya/.cache/huggingface/datasets/json/default-2659a84c6cd452d5/0.0.0/a3e658c4731e59120d44081ac10bf85dc7e1388126b92338344ce9661907f253/cache-e40356af40e62a6a.arrow\n"
     ]
    },
    {
     "name": "stdout",
     "output_type": "stream",
     "text": [
      "  "
     ]
    },
    {
     "name": "stderr",
     "output_type": "stream",
     "text": [
      "WARNING:datasets.arrow_dataset:Loading cached processed dataset at /home/nya/.cache/huggingface/datasets/json/default-2659a84c6cd452d5/0.0.0/a3e658c4731e59120d44081ac10bf85dc7e1388126b92338344ce9661907f253/cache-fbe5e2b041f50747.arrow\n"
     ]
    },
    {
     "name": "stdout",
     "output_type": "stream",
     "text": [
      " "
     ]
    },
    {
     "name": "stderr",
     "output_type": "stream",
     "text": [
      "WARNING:datasets.arrow_dataset:Loading cached processed dataset at /home/nya/.cache/huggingface/datasets/json/default-2659a84c6cd452d5/0.0.0/a3e658c4731e59120d44081ac10bf85dc7e1388126b92338344ce9661907f253/cache-a45f53b026038b89.arrow\n",
      "WARNING:datasets.arrow_dataset:Loading cached processed dataset at /home/nya/.cache/huggingface/datasets/json/default-2659a84c6cd452d5/0.0.0/a3e658c4731e59120d44081ac10bf85dc7e1388126b92338344ce9661907f253/cache-06c128ae495f45e7.arrow\n",
      "WARNING:datasets.arrow_dataset:Loading cached processed dataset at /home/nya/.cache/huggingface/datasets/json/default-2659a84c6cd452d5/0.0.0/a3e658c4731e59120d44081ac10bf85dc7e1388126b92338344ce9661907f253/cache-7f60c784b0147c9c.arrow\n"
     ]
    },
    {
     "name": "stdout",
     "output_type": "stream",
     "text": [
      "     "
     ]
    },
    {
     "name": "stderr",
     "output_type": "stream",
     "text": [
      "WARNING:datasets.arrow_dataset:Loading cached processed dataset at /home/nya/.cache/huggingface/datasets/json/default-bc004eb87119c454/0.0.0/a3e658c4731e59120d44081ac10bf85dc7e1388126b92338344ce9661907f253/cache-bb7b3e8b2424792b.arrow\n"
     ]
    },
    {
     "name": "stdout",
     "output_type": "stream",
     "text": [
      " "
     ]
    },
    {
     "name": "stderr",
     "output_type": "stream",
     "text": [
      "WARNING:datasets.arrow_dataset:Loading cached processed dataset at /home/nya/.cache/huggingface/datasets/json/default-bc004eb87119c454/0.0.0/a3e658c4731e59120d44081ac10bf85dc7e1388126b92338344ce9661907f253/cache-bc6317d20d15f0c4.arrow\n"
     ]
    },
    {
     "name": "stdout",
     "output_type": "stream",
     "text": [
      " "
     ]
    },
    {
     "name": "stderr",
     "output_type": "stream",
     "text": [
      "WARNING:datasets.arrow_dataset:Loading cached processed dataset at /home/nya/.cache/huggingface/datasets/json/default-bc004eb87119c454/0.0.0/a3e658c4731e59120d44081ac10bf85dc7e1388126b92338344ce9661907f253/cache-e0cd76c5fbcb45cd.arrow\n"
     ]
    },
    {
     "name": "stdout",
     "output_type": "stream",
     "text": [
      " "
     ]
    },
    {
     "name": "stderr",
     "output_type": "stream",
     "text": [
      "WARNING:datasets.arrow_dataset:Loading cached processed dataset at /home/nya/.cache/huggingface/datasets/json/default-bc004eb87119c454/0.0.0/a3e658c4731e59120d44081ac10bf85dc7e1388126b92338344ce9661907f253/cache-1e06cb55a13d3880.arrow\n",
      "WARNING:datasets.arrow_dataset:Loading cached processed dataset at /home/nya/.cache/huggingface/datasets/json/default-bc004eb87119c454/0.0.0/a3e658c4731e59120d44081ac10bf85dc7e1388126b92338344ce9661907f253/cache-6987f901dbc962b6.arrow\n",
      "WARNING:datasets.arrow_dataset:Loading cached processed dataset at /home/nya/.cache/huggingface/datasets/json/default-bc004eb87119c454/0.0.0/a3e658c4731e59120d44081ac10bf85dc7e1388126b92338344ce9661907f253/cache-ace0933fa9422ab8.arrow\n"
     ]
    },
    {
     "name": "stdout",
     "output_type": "stream",
     "text": [
      "     "
     ]
    },
    {
     "name": "stderr",
     "output_type": "stream",
     "text": [
      "WARNING:datasets.arrow_dataset:Loading cached processed dataset at /home/nya/.cache/huggingface/datasets/json/default-09008cd37ccee985/0.0.0/a3e658c4731e59120d44081ac10bf85dc7e1388126b92338344ce9661907f253/cache-d6105836543b721b.arrow\n"
     ]
    },
    {
     "name": "stdout",
     "output_type": "stream",
     "text": [
      " "
     ]
    },
    {
     "name": "stderr",
     "output_type": "stream",
     "text": [
      "WARNING:datasets.arrow_dataset:Loading cached processed dataset at /home/nya/.cache/huggingface/datasets/json/default-09008cd37ccee985/0.0.0/a3e658c4731e59120d44081ac10bf85dc7e1388126b92338344ce9661907f253/cache-3e1b40eae9b8d53a.arrow\n"
     ]
    },
    {
     "name": "stdout",
     "output_type": "stream",
     "text": [
      " "
     ]
    },
    {
     "name": "stderr",
     "output_type": "stream",
     "text": [
      "WARNING:datasets.arrow_dataset:Loading cached processed dataset at /home/nya/.cache/huggingface/datasets/json/default-09008cd37ccee985/0.0.0/a3e658c4731e59120d44081ac10bf85dc7e1388126b92338344ce9661907f253/cache-0bcfbe924975a20a.arrow\n"
     ]
    },
    {
     "name": "stdout",
     "output_type": "stream",
     "text": [
      " "
     ]
    },
    {
     "name": "stderr",
     "output_type": "stream",
     "text": [
      "WARNING:datasets.arrow_dataset:Loading cached processed dataset at /home/nya/.cache/huggingface/datasets/json/default-09008cd37ccee985/0.0.0/a3e658c4731e59120d44081ac10bf85dc7e1388126b92338344ce9661907f253/cache-e011da472746a9a8.arrow\n",
      "WARNING:datasets.arrow_dataset:Loading cached processed dataset at /home/nya/.cache/huggingface/datasets/json/default-09008cd37ccee985/0.0.0/a3e658c4731e59120d44081ac10bf85dc7e1388126b92338344ce9661907f253/cache-0296c352fc5e1d04.arrow\n",
      "WARNING:datasets.arrow_dataset:Loading cached processed dataset at /home/nya/.cache/huggingface/datasets/json/default-09008cd37ccee985/0.0.0/a3e658c4731e59120d44081ac10bf85dc7e1388126b92338344ce9661907f253/cache-2cdb8e15c3710319.arrow\n"
     ]
    },
    {
     "name": "stdout",
     "output_type": "stream",
     "text": [
      "     "
     ]
    },
    {
     "name": "stderr",
     "output_type": "stream",
     "text": [
      "WARNING:datasets.arrow_dataset:Loading cached processed dataset at /home/nya/.cache/huggingface/datasets/json/default-935385c473f430f6/0.0.0/a3e658c4731e59120d44081ac10bf85dc7e1388126b92338344ce9661907f253/cache-48f10bee39221f19.arrow\n"
     ]
    },
    {
     "name": "stdout",
     "output_type": "stream",
     "text": [
      " "
     ]
    },
    {
     "name": "stderr",
     "output_type": "stream",
     "text": [
      "WARNING:datasets.arrow_dataset:Loading cached processed dataset at /home/nya/.cache/huggingface/datasets/json/default-935385c473f430f6/0.0.0/a3e658c4731e59120d44081ac10bf85dc7e1388126b92338344ce9661907f253/cache-ef4d1ad640426333.arrow\n"
     ]
    },
    {
     "name": "stdout",
     "output_type": "stream",
     "text": [
      " "
     ]
    },
    {
     "name": "stderr",
     "output_type": "stream",
     "text": [
      "WARNING:datasets.arrow_dataset:Loading cached processed dataset at /home/nya/.cache/huggingface/datasets/json/default-935385c473f430f6/0.0.0/a3e658c4731e59120d44081ac10bf85dc7e1388126b92338344ce9661907f253/cache-6d7f8e1b1fbc215f.arrow\n"
     ]
    },
    {
     "name": "stdout",
     "output_type": "stream",
     "text": [
      " "
     ]
    },
    {
     "name": "stderr",
     "output_type": "stream",
     "text": [
      "WARNING:datasets.arrow_dataset:Loading cached processed dataset at /home/nya/.cache/huggingface/datasets/json/default-935385c473f430f6/0.0.0/a3e658c4731e59120d44081ac10bf85dc7e1388126b92338344ce9661907f253/cache-50737fd9b2b6433e.arrow\n",
      "WARNING:datasets.arrow_dataset:Loading cached processed dataset at /home/nya/.cache/huggingface/datasets/json/default-935385c473f430f6/0.0.0/a3e658c4731e59120d44081ac10bf85dc7e1388126b92338344ce9661907f253/cache-55cc94eb4ae05366.arrow\n",
      "WARNING:datasets.arrow_dataset:Loading cached processed dataset at /home/nya/.cache/huggingface/datasets/json/default-935385c473f430f6/0.0.0/a3e658c4731e59120d44081ac10bf85dc7e1388126b92338344ce9661907f253/cache-e4d1e44b8dcec41f.arrow\n"
     ]
    },
    {
     "name": "stdout",
     "output_type": "stream",
     "text": [
      "     "
     ]
    },
    {
     "name": "stderr",
     "output_type": "stream",
     "text": [
      "WARNING:datasets.arrow_dataset:Loading cached processed dataset at /home/nya/.cache/huggingface/datasets/json/default-2b4520d97203f5b6/0.0.0/a3e658c4731e59120d44081ac10bf85dc7e1388126b92338344ce9661907f253/cache-bbaba26715015d09.arrow\n"
     ]
    },
    {
     "name": "stdout",
     "output_type": "stream",
     "text": [
      " "
     ]
    },
    {
     "name": "stderr",
     "output_type": "stream",
     "text": [
      "WARNING:datasets.arrow_dataset:Loading cached processed dataset at /home/nya/.cache/huggingface/datasets/json/default-2b4520d97203f5b6/0.0.0/a3e658c4731e59120d44081ac10bf85dc7e1388126b92338344ce9661907f253/cache-e391a47b5b8f992f.arrow\n"
     ]
    },
    {
     "name": "stdout",
     "output_type": "stream",
     "text": [
      " "
     ]
    },
    {
     "name": "stderr",
     "output_type": "stream",
     "text": [
      "WARNING:datasets.arrow_dataset:Loading cached processed dataset at /home/nya/.cache/huggingface/datasets/json/default-2b4520d97203f5b6/0.0.0/a3e658c4731e59120d44081ac10bf85dc7e1388126b92338344ce9661907f253/cache-8864b1058bc759a6.arrow\n"
     ]
    },
    {
     "name": "stdout",
     "output_type": "stream",
     "text": [
      " "
     ]
    },
    {
     "name": "stderr",
     "output_type": "stream",
     "text": [
      "WARNING:datasets.arrow_dataset:Loading cached processed dataset at /home/nya/.cache/huggingface/datasets/json/default-2b4520d97203f5b6/0.0.0/a3e658c4731e59120d44081ac10bf85dc7e1388126b92338344ce9661907f253/cache-1e180c14d2c980d3.arrow\n",
      "WARNING:datasets.arrow_dataset:Loading cached processed dataset at /home/nya/.cache/huggingface/datasets/json/default-2b4520d97203f5b6/0.0.0/a3e658c4731e59120d44081ac10bf85dc7e1388126b92338344ce9661907f253/cache-bc3c4dc12e8926be.arrow\n",
      "WARNING:datasets.arrow_dataset:Loading cached processed dataset at /home/nya/.cache/huggingface/datasets/json/default-2b4520d97203f5b6/0.0.0/a3e658c4731e59120d44081ac10bf85dc7e1388126b92338344ce9661907f253/cache-867a0ba32b935648.arrow\n"
     ]
    },
    {
     "name": "stdout",
     "output_type": "stream",
     "text": [
      "     "
     ]
    },
    {
     "name": "stderr",
     "output_type": "stream",
     "text": [
      "WARNING:datasets.arrow_dataset:Loading cached processed dataset at /home/nya/.cache/huggingface/datasets/json/default-961a73710ff8054c/0.0.0/a3e658c4731e59120d44081ac10bf85dc7e1388126b92338344ce9661907f253/cache-e23d87cd8ee15217.arrow\n"
     ]
    },
    {
     "name": "stdout",
     "output_type": "stream",
     "text": [
      " "
     ]
    },
    {
     "name": "stderr",
     "output_type": "stream",
     "text": [
      "WARNING:datasets.arrow_dataset:Loading cached processed dataset at /home/nya/.cache/huggingface/datasets/json/default-961a73710ff8054c/0.0.0/a3e658c4731e59120d44081ac10bf85dc7e1388126b92338344ce9661907f253/cache-65668e3d3c44f31f.arrow\n"
     ]
    },
    {
     "name": "stdout",
     "output_type": "stream",
     "text": [
      " "
     ]
    },
    {
     "name": "stderr",
     "output_type": "stream",
     "text": [
      "WARNING:datasets.arrow_dataset:Loading cached processed dataset at /home/nya/.cache/huggingface/datasets/json/default-961a73710ff8054c/0.0.0/a3e658c4731e59120d44081ac10bf85dc7e1388126b92338344ce9661907f253/cache-82fd4cd2ec47046a.arrow\n"
     ]
    },
    {
     "name": "stdout",
     "output_type": "stream",
     "text": [
      " "
     ]
    },
    {
     "name": "stderr",
     "output_type": "stream",
     "text": [
      "WARNING:datasets.arrow_dataset:Loading cached processed dataset at /home/nya/.cache/huggingface/datasets/json/default-961a73710ff8054c/0.0.0/a3e658c4731e59120d44081ac10bf85dc7e1388126b92338344ce9661907f253/cache-1897504c0b8d7777.arrow\n",
      "WARNING:datasets.arrow_dataset:Loading cached processed dataset at /home/nya/.cache/huggingface/datasets/json/default-961a73710ff8054c/0.0.0/a3e658c4731e59120d44081ac10bf85dc7e1388126b92338344ce9661907f253/cache-f795cca8b8c239c3.arrow\n",
      "WARNING:datasets.arrow_dataset:Loading cached processed dataset at /home/nya/.cache/huggingface/datasets/json/default-961a73710ff8054c/0.0.0/a3e658c4731e59120d44081ac10bf85dc7e1388126b92338344ce9661907f253/cache-9d480cd03f1609d0.arrow\n"
     ]
    },
    {
     "name": "stdout",
     "output_type": "stream",
     "text": [
      "     "
     ]
    },
    {
     "name": "stderr",
     "output_type": "stream",
     "text": [
      "WARNING:datasets.arrow_dataset:Loading cached processed dataset at /home/nya/.cache/huggingface/datasets/json/default-6ea4cc82747c4934/0.0.0/a3e658c4731e59120d44081ac10bf85dc7e1388126b92338344ce9661907f253/cache-e015aff2e4fdba77.arrow\n"
     ]
    },
    {
     "name": "stdout",
     "output_type": "stream",
     "text": [
      " "
     ]
    },
    {
     "name": "stderr",
     "output_type": "stream",
     "text": [
      "WARNING:datasets.arrow_dataset:Loading cached processed dataset at /home/nya/.cache/huggingface/datasets/json/default-6ea4cc82747c4934/0.0.0/a3e658c4731e59120d44081ac10bf85dc7e1388126b92338344ce9661907f253/cache-37ff0ee87b81e299.arrow\n"
     ]
    },
    {
     "name": "stdout",
     "output_type": "stream",
     "text": [
      " "
     ]
    },
    {
     "name": "stderr",
     "output_type": "stream",
     "text": [
      "WARNING:datasets.arrow_dataset:Loading cached processed dataset at /home/nya/.cache/huggingface/datasets/json/default-6ea4cc82747c4934/0.0.0/a3e658c4731e59120d44081ac10bf85dc7e1388126b92338344ce9661907f253/cache-ad7cfac9857b05fa.arrow\n"
     ]
    },
    {
     "name": "stdout",
     "output_type": "stream",
     "text": [
      " "
     ]
    },
    {
     "name": "stderr",
     "output_type": "stream",
     "text": [
      "WARNING:datasets.arrow_dataset:Loading cached processed dataset at /home/nya/.cache/huggingface/datasets/json/default-6ea4cc82747c4934/0.0.0/a3e658c4731e59120d44081ac10bf85dc7e1388126b92338344ce9661907f253/cache-61f8713081b7056b.arrow\n",
      "WARNING:datasets.arrow_dataset:Loading cached processed dataset at /home/nya/.cache/huggingface/datasets/json/default-6ea4cc82747c4934/0.0.0/a3e658c4731e59120d44081ac10bf85dc7e1388126b92338344ce9661907f253/cache-e8ce360d0a3d2463.arrow\n",
      "WARNING:datasets.arrow_dataset:Loading cached processed dataset at /home/nya/.cache/huggingface/datasets/json/default-6ea4cc82747c4934/0.0.0/a3e658c4731e59120d44081ac10bf85dc7e1388126b92338344ce9661907f253/cache-49b4397214724ecf.arrow\n"
     ]
    },
    {
     "name": "stdout",
     "output_type": "stream",
     "text": [
      "     "
     ]
    },
    {
     "name": "stderr",
     "output_type": "stream",
     "text": [
      "WARNING:datasets.arrow_dataset:Loading cached processed dataset at /home/nya/.cache/huggingface/datasets/json/default-ce703d50659dad7f/0.0.0/a3e658c4731e59120d44081ac10bf85dc7e1388126b92338344ce9661907f253/cache-85fa16e39bf4fabf.arrow\n"
     ]
    },
    {
     "name": "stdout",
     "output_type": "stream",
     "text": [
      " "
     ]
    },
    {
     "name": "stderr",
     "output_type": "stream",
     "text": [
      "WARNING:datasets.arrow_dataset:Loading cached processed dataset at /home/nya/.cache/huggingface/datasets/json/default-ce703d50659dad7f/0.0.0/a3e658c4731e59120d44081ac10bf85dc7e1388126b92338344ce9661907f253/cache-dc3aca17a4364345.arrow\n"
     ]
    },
    {
     "name": "stdout",
     "output_type": "stream",
     "text": [
      " "
     ]
    },
    {
     "name": "stderr",
     "output_type": "stream",
     "text": [
      "WARNING:datasets.arrow_dataset:Loading cached processed dataset at /home/nya/.cache/huggingface/datasets/json/default-ce703d50659dad7f/0.0.0/a3e658c4731e59120d44081ac10bf85dc7e1388126b92338344ce9661907f253/cache-c554a433ede5047a.arrow\n"
     ]
    },
    {
     "name": "stdout",
     "output_type": "stream",
     "text": [
      " "
     ]
    },
    {
     "name": "stderr",
     "output_type": "stream",
     "text": [
      "WARNING:datasets.arrow_dataset:Loading cached processed dataset at /home/nya/.cache/huggingface/datasets/json/default-ce703d50659dad7f/0.0.0/a3e658c4731e59120d44081ac10bf85dc7e1388126b92338344ce9661907f253/cache-9a303dd35a5200a0.arrow\n",
      "WARNING:datasets.arrow_dataset:Loading cached processed dataset at /home/nya/.cache/huggingface/datasets/json/default-ce703d50659dad7f/0.0.0/a3e658c4731e59120d44081ac10bf85dc7e1388126b92338344ce9661907f253/cache-c3a886ffcb9d4b1d.arrow\n",
      "WARNING:datasets.arrow_dataset:Loading cached processed dataset at /home/nya/.cache/huggingface/datasets/json/default-ce703d50659dad7f/0.0.0/a3e658c4731e59120d44081ac10bf85dc7e1388126b92338344ce9661907f253/cache-782fa058f3e691f0.arrow\n"
     ]
    }
   ],
   "source": [
    "results = {}\n",
    "# no_mask_page_ids = set()\n",
    "no_mask_original = gt.filter(lambda x: '<mask>' not in x['masked_text_original'][:1000])\n",
    "no_mask_paraphrased = gt.filter(lambda x: '<mask>' not in x['masked_text_paraphrased'][:1000])\n",
    "no_mask_page_ids = set(no_mask_original['id'] + no_mask_paraphrased['id'])\n",
    "for key, models in data.items():\n",
    "    for model_name, model in models.items():\n",
    "        for config in ['original', 'paraphrased']:\n",
    "            dataset = model[config]['train']\n",
    "            ## add ground truth label to each prediction\n",
    "            mappable = dataset.add_column(\"title\", gt[\"title\"])\n",
    "            # filter out examples which did not include a mask\n",
    "            \n",
    "            # compute precision\n",
    "            computed = mappable.map(compute_precision_for_page, num_proc=4, remove_columns=mappable.column_names)\n",
    "            # compute metrics over computed results\n",
    "            correct_predictions = computed.filter(lambda x: x['correct'] == 1)\n",
    "            incorrect_predictions = computed.filter(lambda x: x['correct'] == 0)\n",
    "            correct = len(correct_predictions)\n",
    "            model[config][\"result\"] = {}\n",
    "            model[config][\"result\"][\"data\"] = computed\n",
    "            model[config][\"result\"][\"accuracy\"] = correct / len(dataset)\n",
    "            model[config][\"result\"][\"correct_predictions\"] = correct_predictions\n",
    "            model[config][\"result\"][\"incorrect_predictions\"] = incorrect_predictions"
   ]
  },
  {
   "cell_type": "code",
   "execution_count": 16,
   "id": "fd8277a5",
   "metadata": {},
   "outputs": [
    {
     "data": {
      "text/plain": [
       "{'cerebras': {'6b7': {'size': 6.7,\n",
       "   'inputsize': '1000',\n",
       "   'original': DatasetDict({\n",
       "       train: Dataset({\n",
       "           features: ['prediction', 'page_id', 'input_length'],\n",
       "           num_rows: 10000\n",
       "       })\n",
       "       result: {'data': Dataset({\n",
       "           features: ['prediction', 'title', 'correct', 'distance'],\n",
       "           num_rows: 10000\n",
       "       }), 'accuracy': 0.0014, 'correct_predictions': Dataset({\n",
       "           features: ['prediction', 'title', 'correct', 'distance'],\n",
       "           num_rows: 14\n",
       "       }), 'incorrect_predictions': Dataset({\n",
       "           features: ['prediction', 'title', 'correct', 'distance'],\n",
       "           num_rows: 9986\n",
       "       })}\n",
       "   }),\n",
       "   'paraphrased': DatasetDict({\n",
       "       train: Dataset({\n",
       "           features: ['prediction', 'page_id', 'input_length'],\n",
       "           num_rows: 10000\n",
       "       })\n",
       "       result: {'data': Dataset({\n",
       "           features: ['prediction', 'title', 'correct', 'distance'],\n",
       "           num_rows: 10000\n",
       "       }), 'accuracy': 0.0002, 'correct_predictions': Dataset({\n",
       "           features: ['prediction', 'title', 'correct', 'distance'],\n",
       "           num_rows: 2\n",
       "       }), 'incorrect_predictions': Dataset({\n",
       "           features: ['prediction', 'title', 'correct', 'distance'],\n",
       "           num_rows: 9998\n",
       "       })}\n",
       "   })},\n",
       "  '0b111': {'size': 0.111,\n",
       "   'inputsize': '1000',\n",
       "   'original': DatasetDict({\n",
       "       train: Dataset({\n",
       "           features: ['prediction', 'page_id', 'input_length'],\n",
       "           num_rows: 10000\n",
       "       })\n",
       "       result: {'data': Dataset({\n",
       "           features: ['prediction', 'title', 'correct', 'distance'],\n",
       "           num_rows: 10000\n",
       "       }), 'accuracy': 0.0013, 'correct_predictions': Dataset({\n",
       "           features: ['prediction', 'title', 'correct', 'distance'],\n",
       "           num_rows: 13\n",
       "       }), 'incorrect_predictions': Dataset({\n",
       "           features: ['prediction', 'title', 'correct', 'distance'],\n",
       "           num_rows: 9987\n",
       "       })}\n",
       "   }),\n",
       "   'paraphrased': DatasetDict({\n",
       "       train: Dataset({\n",
       "           features: ['prediction', 'page_id', 'input_length'],\n",
       "           num_rows: 10000\n",
       "       })\n",
       "       result: {'data': Dataset({\n",
       "           features: ['prediction', 'title', 'correct', 'distance'],\n",
       "           num_rows: 10000\n",
       "       }), 'accuracy': 0.0001, 'correct_predictions': Dataset({\n",
       "           features: ['prediction', 'title', 'correct', 'distance'],\n",
       "           num_rows: 1\n",
       "       }), 'incorrect_predictions': Dataset({\n",
       "           features: ['prediction', 'title', 'correct', 'distance'],\n",
       "           num_rows: 9999\n",
       "       })}\n",
       "   })},\n",
       "  '2b7': {'size': 2.7,\n",
       "   'inputsize': '1000',\n",
       "   'paraphrased': DatasetDict({\n",
       "       train: Dataset({\n",
       "           features: ['prediction', 'page_id', 'input_length'],\n",
       "           num_rows: 10000\n",
       "       })\n",
       "       result: {'data': Dataset({\n",
       "           features: ['prediction', 'title', 'correct', 'distance'],\n",
       "           num_rows: 10000\n",
       "       }), 'accuracy': 0.0002, 'correct_predictions': Dataset({\n",
       "           features: ['prediction', 'title', 'correct', 'distance'],\n",
       "           num_rows: 2\n",
       "       }), 'incorrect_predictions': Dataset({\n",
       "           features: ['prediction', 'title', 'correct', 'distance'],\n",
       "           num_rows: 9998\n",
       "       })}\n",
       "   }),\n",
       "   'original': DatasetDict({\n",
       "       train: Dataset({\n",
       "           features: ['prediction', 'page_id', 'input_length'],\n",
       "           num_rows: 10000\n",
       "       })\n",
       "       result: {'data': Dataset({\n",
       "           features: ['prediction', 'title', 'correct', 'distance'],\n",
       "           num_rows: 10000\n",
       "       }), 'accuracy': 0.0013, 'correct_predictions': Dataset({\n",
       "           features: ['prediction', 'title', 'correct', 'distance'],\n",
       "           num_rows: 13\n",
       "       }), 'incorrect_predictions': Dataset({\n",
       "           features: ['prediction', 'title', 'correct', 'distance'],\n",
       "           num_rows: 9987\n",
       "       })}\n",
       "   })},\n",
       "  '1b3': {'size': 1.3,\n",
       "   'inputsize': '1000',\n",
       "   'original': DatasetDict({\n",
       "       train: Dataset({\n",
       "           features: ['prediction', 'page_id', 'input_length'],\n",
       "           num_rows: 10000\n",
       "       })\n",
       "       result: {'data': Dataset({\n",
       "           features: ['prediction', 'title', 'correct', 'distance'],\n",
       "           num_rows: 10000\n",
       "       }), 'accuracy': 0.0009, 'correct_predictions': Dataset({\n",
       "           features: ['prediction', 'title', 'correct', 'distance'],\n",
       "           num_rows: 9\n",
       "       }), 'incorrect_predictions': Dataset({\n",
       "           features: ['prediction', 'title', 'correct', 'distance'],\n",
       "           num_rows: 9991\n",
       "       })}\n",
       "   }),\n",
       "   'paraphrased': DatasetDict({\n",
       "       train: Dataset({\n",
       "           features: ['prediction', 'page_id', 'input_length'],\n",
       "           num_rows: 10000\n",
       "       })\n",
       "       result: {'data': Dataset({\n",
       "           features: ['prediction', 'title', 'correct', 'distance'],\n",
       "           num_rows: 10000\n",
       "       }), 'accuracy': 0.0001, 'correct_predictions': Dataset({\n",
       "           features: ['prediction', 'title', 'correct', 'distance'],\n",
       "           num_rows: 1\n",
       "       }), 'incorrect_predictions': Dataset({\n",
       "           features: ['prediction', 'title', 'correct', 'distance'],\n",
       "           num_rows: 9999\n",
       "       })}\n",
       "   })}},\n",
       " 'bloomz': {'3b': {'size': 3.0,\n",
       "   'inputsize': '1000',\n",
       "   'paraphrased': DatasetDict({\n",
       "       train: Dataset({\n",
       "           features: ['prediction', 'page_id', 'input_length'],\n",
       "           num_rows: 10000\n",
       "       })\n",
       "       result: {'data': Dataset({\n",
       "           features: ['prediction', 'title', 'correct', 'distance'],\n",
       "           num_rows: 10000\n",
       "       }), 'accuracy': 0.2184, 'correct_predictions': Dataset({\n",
       "           features: ['prediction', 'title', 'correct', 'distance'],\n",
       "           num_rows: 2184\n",
       "       }), 'incorrect_predictions': Dataset({\n",
       "           features: ['prediction', 'title', 'correct', 'distance'],\n",
       "           num_rows: 7816\n",
       "       })}\n",
       "   }),\n",
       "   'original': DatasetDict({\n",
       "       train: Dataset({\n",
       "           features: ['prediction', 'page_id', 'input_length'],\n",
       "           num_rows: 10000\n",
       "       })\n",
       "       result: {'data': Dataset({\n",
       "           features: ['prediction', 'title', 'correct', 'distance'],\n",
       "           num_rows: 10000\n",
       "       }), 'accuracy': 0.2307, 'correct_predictions': Dataset({\n",
       "           features: ['prediction', 'title', 'correct', 'distance'],\n",
       "           num_rows: 2307\n",
       "       }), 'incorrect_predictions': Dataset({\n",
       "           features: ['prediction', 'title', 'correct', 'distance'],\n",
       "           num_rows: 7693\n",
       "       })}\n",
       "   })},\n",
       "  '7b1': {'size': 7.1,\n",
       "   'inputsize': '1000',\n",
       "   'original': DatasetDict({\n",
       "       train: Dataset({\n",
       "           features: ['prediction', 'page_id', 'input_length'],\n",
       "           num_rows: 10000\n",
       "       })\n",
       "       result: {'data': Dataset({\n",
       "           features: ['prediction', 'title', 'correct', 'distance'],\n",
       "           num_rows: 10000\n",
       "       }), 'accuracy': 0.281, 'correct_predictions': Dataset({\n",
       "           features: ['prediction', 'title', 'correct', 'distance'],\n",
       "           num_rows: 2810\n",
       "       }), 'incorrect_predictions': Dataset({\n",
       "           features: ['prediction', 'title', 'correct', 'distance'],\n",
       "           num_rows: 7190\n",
       "       })}\n",
       "   }),\n",
       "   'paraphrased': DatasetDict({\n",
       "       train: Dataset({\n",
       "           features: ['prediction', 'page_id', 'input_length'],\n",
       "           num_rows: 10000\n",
       "       })\n",
       "       result: {'data': Dataset({\n",
       "           features: ['prediction', 'title', 'correct', 'distance'],\n",
       "           num_rows: 10000\n",
       "       }), 'accuracy': 0.2511, 'correct_predictions': Dataset({\n",
       "           features: ['prediction', 'title', 'correct', 'distance'],\n",
       "           num_rows: 2511\n",
       "       }), 'incorrect_predictions': Dataset({\n",
       "           features: ['prediction', 'title', 'correct', 'distance'],\n",
       "           num_rows: 7489\n",
       "       })}\n",
       "   })},\n",
       "  '1b7': {'size': 1.7,\n",
       "   'inputsize': '1000',\n",
       "   'paraphrased': DatasetDict({\n",
       "       train: Dataset({\n",
       "           features: ['prediction', 'page_id', 'input_length'],\n",
       "           num_rows: 10000\n",
       "       })\n",
       "       result: {'data': Dataset({\n",
       "           features: ['prediction', 'title', 'correct', 'distance'],\n",
       "           num_rows: 10000\n",
       "       }), 'accuracy': 0.2297, 'correct_predictions': Dataset({\n",
       "           features: ['prediction', 'title', 'correct', 'distance'],\n",
       "           num_rows: 2297\n",
       "       }), 'incorrect_predictions': Dataset({\n",
       "           features: ['prediction', 'title', 'correct', 'distance'],\n",
       "           num_rows: 7703\n",
       "       })}\n",
       "   }),\n",
       "   'original': DatasetDict({\n",
       "       train: Dataset({\n",
       "           features: ['prediction', 'page_id', 'input_length'],\n",
       "           num_rows: 10000\n",
       "       })\n",
       "       result: {'data': Dataset({\n",
       "           features: ['prediction', 'title', 'correct', 'distance'],\n",
       "           num_rows: 10000\n",
       "       }), 'accuracy': 0.2217, 'correct_predictions': Dataset({\n",
       "           features: ['prediction', 'title', 'correct', 'distance'],\n",
       "           num_rows: 2217\n",
       "       }), 'incorrect_predictions': Dataset({\n",
       "           features: ['prediction', 'title', 'correct', 'distance'],\n",
       "           num_rows: 7783\n",
       "       })}\n",
       "   })},\n",
       "  '1b1': {'size': 1.1,\n",
       "   'inputsize': '1000',\n",
       "   'original': DatasetDict({\n",
       "       train: Dataset({\n",
       "           features: ['prediction', 'page_id', 'input_length'],\n",
       "           num_rows: 10000\n",
       "       })\n",
       "       result: {'data': Dataset({\n",
       "           features: ['prediction', 'title', 'correct', 'distance'],\n",
       "           num_rows: 10000\n",
       "       }), 'accuracy': 0.2226, 'correct_predictions': Dataset({\n",
       "           features: ['prediction', 'title', 'correct', 'distance'],\n",
       "           num_rows: 2226\n",
       "       }), 'incorrect_predictions': Dataset({\n",
       "           features: ['prediction', 'title', 'correct', 'distance'],\n",
       "           num_rows: 7774\n",
       "       })}\n",
       "   }),\n",
       "   'paraphrased': DatasetDict({\n",
       "       train: Dataset({\n",
       "           features: ['prediction', 'page_id', 'input_length'],\n",
       "           num_rows: 10000\n",
       "       })\n",
       "       result: {'data': Dataset({\n",
       "           features: ['prediction', 'title', 'correct', 'distance'],\n",
       "           num_rows: 10000\n",
       "       }), 'accuracy': 0.2167, 'correct_predictions': Dataset({\n",
       "           features: ['prediction', 'title', 'correct', 'distance'],\n",
       "           num_rows: 2167\n",
       "       }), 'incorrect_predictions': Dataset({\n",
       "           features: ['prediction', 'title', 'correct', 'distance'],\n",
       "           num_rows: 7833\n",
       "       })}\n",
       "   })}}}"
      ]
     },
     "execution_count": 16,
     "metadata": {},
     "output_type": "execute_result"
    }
   ],
   "source": [
    "data"
   ]
  },
  {
   "cell_type": "code",
   "execution_count": 23,
   "id": "787a3144",
   "metadata": {},
   "outputs": [
    {
     "data": {
      "image/png": "[encoded data removed]",
      "text/plain": [
       "<Figure size 3000x1800 with 1 Axes>"
      ]
     },
     "metadata": {},
     "output_type": "display_data"
    }
   ],
   "source": [
    "import matplotlib.pyplot as plt\n",
    "\n",
    "# assuming your dataset is saved in a variable called 'data'\n",
    "# data = {...}\n",
    "\n",
    "sizes = []\n",
    "accuracies = []\n",
    "labels = []\n",
    "\n",
    "for model, configs in data.items():\n",
    "    for config, details in configs.items():\n",
    "        for dataset, results in details.items():\n",
    "            if isinstance(results, dict):  # check if result is a dictionary\n",
    "                size = details['size']\n",
    "                accuracy = results['result']['accuracy']\n",
    "                \n",
    "                sizes.append(size)\n",
    "                accuracies.append(accuracy)\n",
    "                labels.append(f\"{model}_{config}_{dataset}\")\n",
    "\n",
    "plt.figure(figsize=(30, 18))\n",
    "plt.scatter(sizes, accuracies)\n",
    "\n",
    "for i, label in enumerate(labels):\n",
    "    plt.annotate(label, (sizes[i], accuracies[i]))\n",
    "\n",
    "plt.xlabel('Model Size')\n",
    "plt.ylabel('Accuracy')\n",
    "plt.title('Accuracy by Model Size and Configuration')\n",
    "plt.grid(True)\n",
    "plt.show()"
   ]
  },
  {
   "cell_type": "code",
   "execution_count": null,
   "id": "2d8f81f1",
   "metadata": {
    "scrolled": false
   },
   "outputs": [],
   "source": []
  },
  {
   "cell_type": "code",
   "execution_count": null,
   "id": "a95f854e",
   "metadata": {},
   "outputs": [],
   "source": []
  },
  {
   "cell_type": "code",
   "execution_count": null,
   "id": "3c2b1a70",
   "metadata": {},
   "outputs": [],
   "source": []
  },
  {
   "cell_type": "code",
   "execution_count": null,
   "id": "c21ae38e",
   "metadata": {},
   "outputs": [],
   "source": []
  },
  {
   "cell_type": "code",
   "execution_count": 12,
   "id": "819080cc",
   "metadata": {},
   "outputs": [
    {
     "data": {
      "application/vnd.jupyter.widget-view+json": {
       "model_id": "01998071434641859511e28379633656",
       "version_major": 2,
       "version_minor": 0
      },
      "text/plain": [
       "  0%|          | 0/10 [00:00<?, ?ba/s]"
      ]
     },
     "metadata": {},
     "output_type": "display_data"
    },
    {
     "data": {
      "application/vnd.jupyter.widget-view+json": {
       "model_id": "ce61ed7f4b9a47dcb23310411dbb2619",
       "version_major": 2,
       "version_minor": 0
      },
      "text/plain": [
       "  0%|          | 0/10 [00:00<?, ?ba/s]"
      ]
     },
     "metadata": {},
     "output_type": "display_data"
    },
    {
     "name": "stdout",
     "output_type": "stream",
     "text": [
      "63\n",
      "500\n"
     ]
    }
   ],
   "source": [
    "### check if all examples actually had a mask. should not count any examples which did not\n",
    "no_mask_original = gt.filter(lambda x: '<mask>' not in x['masked_text_original'][:1000])\n",
    "no_mask_paraphrased = gt.filter(lambda x: '<mask>' not in x['masked_text_paraphrased'][:1000])\n",
    "print(len(no_mask_original))\n",
    "print(len(no_mask_paraphrased))"
   ]
  },
  {
   "cell_type": "code",
   "execution_count": 18,
   "id": "388796fe",
   "metadata": {},
   "outputs": [
    {
     "data": {
      "text/plain": [
       "DatasetDict({\n",
       "    train: Dataset({\n",
       "        features: ['prediction', 'page_id', 'input_length'],\n",
       "        num_rows: 10000\n",
       "    })\n",
       "    result: {'data': Dataset({\n",
       "        features: ['prediction', 'title', 'correct', 'distance'],\n",
       "        num_rows: 10000\n",
       "    }), 'accuracy': 0.0014, 'correct_predictions': Dataset({\n",
       "        features: ['prediction', 'title', 'correct', 'distance'],\n",
       "        num_rows: 14\n",
       "    }), 'incorrect_predictions': Dataset({\n",
       "        features: ['prediction', 'title', 'correct', 'distance'],\n",
       "        num_rows: 9986\n",
       "    })}\n",
       "})"
      ]
     },
     "execution_count": 18,
     "metadata": {},
     "output_type": "execute_result"
    }
   ],
   "source": [
    "data['cerebras']['6b7']['original']"
   ]
  }
 ],
 "metadata": {
  "kernelspec": {
   "display_name": "Python 3 (ipykernel)",
   "language": "python",
   "name": "python3"
  },
  "language_info": {
   "codemirror_mode": {
    "name": "ipython",
    "version": 3
   },
   "file_extension": ".py",
   "mimetype": "text/x-python",
   "name": "python",
   "nbconvert_exporter": "python",
   "pygments_lexer": "ipython3",
   "version": "3.8.10"
  }
 },
 "nbformat": 4,
 "nbformat_minor": 5
}
