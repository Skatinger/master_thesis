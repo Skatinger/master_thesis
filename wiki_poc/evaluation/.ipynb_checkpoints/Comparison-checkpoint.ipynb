{
 "cells": [
  {
   "cell_type": "code",
   "execution_count": 1,
   "id": "6a0471d3",
   "metadata": {},
   "outputs": [],
   "source": [
    "import pandas as pd\n",
    "import seaborn as sns"
   ]
  },
  {
   "cell_type": "code",
   "execution_count": 2,
   "id": "9476b686",
   "metadata": {},
   "outputs": [],
   "source": [
    "from single_prediction_eval import SinglePredictionEvaluator"
   ]
  },
  {
   "cell_type": "code",
   "execution_count": 3,
   "id": "c77f0dcc",
   "metadata": {},
   "outputs": [],
   "source": [
    "# configure models and results files\n",
    "models = {\n",
    "    \"gpt-3.5-turbo\": {\"size\": 154, \"input_size\": 1000 },\n",
    "    \"bloomz-petals\": { \"size\": 176, \"input_size\": 1000 }\n",
    "#     \"cerebras-7B\": { \"size\": 7 }\n",
    "}\n",
    "for model in models:\n",
    "    for config in ['original', 'paraphrased']:\n",
    "        models[model][config] = f\"../results/wiki_predictions_{model}_{config}.jsonl\""
   ]
  },
  {
   "cell_type": "code",
   "execution_count": 4,
   "id": "3b1c55dd",
   "metadata": {},
   "outputs": [
    {
     "data": {
      "text/plain": [
       "{'gpt-3.5-turbo': {'size': 154,\n",
       "  'input_size': 1000,\n",
       "  'original': '../results/wiki_predictions_gpt-3.5-turbo_original.jsonl',\n",
       "  'paraphrased': '../results/wiki_predictions_gpt-3.5-turbo_paraphrased.jsonl'},\n",
       " 'bloomz-petals': {'size': 176,\n",
       "  'input_size': 1000,\n",
       "  'original': '../results/wiki_predictions_bloomz-petals_original.jsonl',\n",
       "  'paraphrased': '../results/wiki_predictions_bloomz-petals_paraphrased.jsonl'}}"
      ]
     },
     "execution_count": 4,
     "metadata": {},
     "output_type": "execute_result"
    }
   ],
   "source": [
    "models"
   ]
  },
  {
   "cell_type": "code",
   "execution_count": 44,
   "id": "703f36f7",
   "metadata": {
    "scrolled": false
   },
   "outputs": [
    {
     "name": "stdout",
     "output_type": "stream",
     "text": [
      "Loading result dataset...\n"
     ]
    },
    {
     "name": "stderr",
     "output_type": "stream",
     "text": [
      "Using custom data configuration default-470db7c7ca307163\n",
      "Reusing dataset json (/home/nya/.cache/huggingface/datasets/json/default-470db7c7ca307163/0.0.0/a3e658c4731e59120d44081ac10bf85dc7e1388126b92338344ce9661907f253)\n",
      "Loading cached sorted indices for dataset at /home/nya/.cache/huggingface/datasets/json/default-470db7c7ca307163/0.0.0/a3e658c4731e59120d44081ac10bf85dc7e1388126b92338344ce9661907f253/cache-4c1bb6a39a775f99.arrow\n"
     ]
    },
    {
     "name": "stdout",
     "output_type": "stream",
     "text": [
      "Loading ground truth dataset...\n"
     ]
    },
    {
     "name": "stderr",
     "output_type": "stream",
     "text": [
      "Using custom data configuration Skatinger--wikipedia-persons-masked-476ecfa923442f0e\n",
      "Reusing dataset json (/home/nya/.cache/huggingface/datasets/Skatinger___json/Skatinger--wikipedia-persons-masked-476ecfa923442f0e/0.0.0/a3e658c4731e59120d44081ac10bf85dc7e1388126b92338344ce9661907f253)\n"
     ]
    },
    {
     "name": "stdout",
     "output_type": "stream",
     "text": [
      "Filtering ground truth dataset...\n",
      " "
     ]
    },
    {
     "name": "stderr",
     "output_type": "stream",
     "text": [
      "Loading cached processed dataset at /home/nya/.cache/huggingface/datasets/Skatinger___json/Skatinger--wikipedia-persons-masked-476ecfa923442f0e/0.0.0/a3e658c4731e59120d44081ac10bf85dc7e1388126b92338344ce9661907f253/cache-a5d70d43c6d6ee6d_00000_of_00004.arrow\n"
     ]
    },
    {
     "name": "stdout",
     "output_type": "stream",
     "text": [
      " "
     ]
    },
    {
     "name": "stderr",
     "output_type": "stream",
     "text": [
      "Loading cached processed dataset at /home/nya/.cache/huggingface/datasets/Skatinger___json/Skatinger--wikipedia-persons-masked-476ecfa923442f0e/0.0.0/a3e658c4731e59120d44081ac10bf85dc7e1388126b92338344ce9661907f253/cache-a5d70d43c6d6ee6d_00001_of_00004.arrow\n"
     ]
    },
    {
     "name": "stdout",
     "output_type": "stream",
     "text": [
      " "
     ]
    },
    {
     "name": "stderr",
     "output_type": "stream",
     "text": [
      "Loading cached processed dataset at /home/nya/.cache/huggingface/datasets/Skatinger___json/Skatinger--wikipedia-persons-masked-476ecfa923442f0e/0.0.0/a3e658c4731e59120d44081ac10bf85dc7e1388126b92338344ce9661907f253/cache-a5d70d43c6d6ee6d_00002_of_00004.arrow\n"
     ]
    },
    {
     "name": "stdout",
     "output_type": "stream",
     "text": [
      " "
     ]
    },
    {
     "name": "stderr",
     "output_type": "stream",
     "text": [
      "Loading cached processed dataset at /home/nya/.cache/huggingface/datasets/Skatinger___json/Skatinger--wikipedia-persons-masked-476ecfa923442f0e/0.0.0/a3e658c4731e59120d44081ac10bf85dc7e1388126b92338344ce9661907f253/cache-a5d70d43c6d6ee6d_00003_of_00004.arrow\n",
      "Loading cached sorted indices for dataset at /home/nya/.cache/huggingface/datasets/Skatinger___json/Skatinger--wikipedia-persons-masked-476ecfa923442f0e/0.0.0/a3e658c4731e59120d44081ac10bf85dc7e1388126b92338344ce9661907f253/cache-b5d60232f10247be.arrow\n"
     ]
    },
    {
     "name": "stdout",
     "output_type": "stream",
     "text": [
      "Joining datasets...\n"
     ]
    },
    {
     "name": "stderr",
     "output_type": "stream",
     "text": [
      "Loading cached processed dataset at /home/nya/.cache/huggingface/datasets/json/default-470db7c7ca307163/0.0.0/a3e658c4731e59120d44081ac10bf85dc7e1388126b92338344ce9661907f253/cache-1347d3391f59ecdd.arrow\n"
     ]
    },
    {
     "name": "stdout",
     "output_type": "stream",
     "text": [
      "Computing precision. This may take a while...\n",
      " "
     ]
    },
    {
     "name": "stderr",
     "output_type": "stream",
     "text": [
      "Loading cached processed dataset at /home/nya/.cache/huggingface/datasets/json/default-470db7c7ca307163/0.0.0/a3e658c4731e59120d44081ac10bf85dc7e1388126b92338344ce9661907f253/cache-d58f9285fa69e7f4.arrow\n"
     ]
    },
    {
     "name": "stdout",
     "output_type": "stream",
     "text": [
      " "
     ]
    },
    {
     "name": "stderr",
     "output_type": "stream",
     "text": [
      "Loading cached processed dataset at /home/nya/.cache/huggingface/datasets/json/default-470db7c7ca307163/0.0.0/a3e658c4731e59120d44081ac10bf85dc7e1388126b92338344ce9661907f253/cache-c787f524d673a669.arrow\n"
     ]
    },
    {
     "name": "stdout",
     "output_type": "stream",
     "text": [
      " "
     ]
    },
    {
     "name": "stderr",
     "output_type": "stream",
     "text": [
      "Loading cached processed dataset at /home/nya/.cache/huggingface/datasets/json/default-470db7c7ca307163/0.0.0/a3e658c4731e59120d44081ac10bf85dc7e1388126b92338344ce9661907f253/cache-f4651994ce1b0b1f.arrow\n"
     ]
    },
    {
     "name": "stdout",
     "output_type": "stream",
     "text": [
      " "
     ]
    },
    {
     "name": "stderr",
     "output_type": "stream",
     "text": [
      "Loading cached processed dataset at /home/nya/.cache/huggingface/datasets/json/default-470db7c7ca307163/0.0.0/a3e658c4731e59120d44081ac10bf85dc7e1388126b92338344ce9661907f253/cache-8c81bda6b534d6a4.arrow\n",
      "Loading cached processed dataset at /home/nya/.cache/huggingface/datasets/json/default-470db7c7ca307163/0.0.0/a3e658c4731e59120d44081ac10bf85dc7e1388126b92338344ce9661907f253/cache-3e79d76e1a7f69f4.arrow\n",
      "Loading cached processed dataset at /home/nya/.cache/huggingface/datasets/json/default-470db7c7ca307163/0.0.0/a3e658c4731e59120d44081ac10bf85dc7e1388126b92338344ce9661907f253/cache-9dd68a78c2889d5c.arrow\n",
      "Loading cached processed dataset at /home/nya/.cache/huggingface/datasets/json/default-470db7c7ca307163/0.0.0/a3e658c4731e59120d44081ac10bf85dc7e1388126b92338344ce9661907f253/cache-35daa43301ac3def.arrow\n",
      "Loading cached processed dataset at /home/nya/.cache/huggingface/datasets/json/default-470db7c7ca307163/0.0.0/a3e658c4731e59120d44081ac10bf85dc7e1388126b92338344ce9661907f253/cache-1031c7d34a43cb0a.arrow\n"
     ]
    },
    {
     "name": "stdout",
     "output_type": "stream",
     "text": [
      "Loading result dataset...\n"
     ]
    },
    {
     "name": "stderr",
     "output_type": "stream",
     "text": [
      "Using custom data configuration default-1729933de2403193\n",
      "Reusing dataset json (/home/nya/.cache/huggingface/datasets/json/default-1729933de2403193/0.0.0/a3e658c4731e59120d44081ac10bf85dc7e1388126b92338344ce9661907f253)\n",
      "Loading cached sorted indices for dataset at /home/nya/.cache/huggingface/datasets/json/default-1729933de2403193/0.0.0/a3e658c4731e59120d44081ac10bf85dc7e1388126b92338344ce9661907f253/cache-3dea14b149613c30.arrow\n"
     ]
    },
    {
     "name": "stdout",
     "output_type": "stream",
     "text": [
      "Loading ground truth dataset...\n"
     ]
    },
    {
     "name": "stderr",
     "output_type": "stream",
     "text": [
      "Using custom data configuration Skatinger--wikipedia-persons-masked-476ecfa923442f0e\n",
      "Reusing dataset json (/home/nya/.cache/huggingface/datasets/Skatinger___json/Skatinger--wikipedia-persons-masked-476ecfa923442f0e/0.0.0/a3e658c4731e59120d44081ac10bf85dc7e1388126b92338344ce9661907f253)\n"
     ]
    },
    {
     "name": "stdout",
     "output_type": "stream",
     "text": [
      "Filtering ground truth dataset...\n",
      " "
     ]
    },
    {
     "name": "stderr",
     "output_type": "stream",
     "text": [
      "Loading cached processed dataset at /home/nya/.cache/huggingface/datasets/Skatinger___json/Skatinger--wikipedia-persons-masked-476ecfa923442f0e/0.0.0/a3e658c4731e59120d44081ac10bf85dc7e1388126b92338344ce9661907f253/cache-a5d70d43c6d6ee6d_00000_of_00004.arrow\n"
     ]
    },
    {
     "name": "stdout",
     "output_type": "stream",
     "text": [
      " "
     ]
    },
    {
     "name": "stderr",
     "output_type": "stream",
     "text": [
      "Loading cached processed dataset at /home/nya/.cache/huggingface/datasets/Skatinger___json/Skatinger--wikipedia-persons-masked-476ecfa923442f0e/0.0.0/a3e658c4731e59120d44081ac10bf85dc7e1388126b92338344ce9661907f253/cache-a5d70d43c6d6ee6d_00001_of_00004.arrow\n"
     ]
    },
    {
     "name": "stdout",
     "output_type": "stream",
     "text": [
      " "
     ]
    },
    {
     "name": "stderr",
     "output_type": "stream",
     "text": [
      "Loading cached processed dataset at /home/nya/.cache/huggingface/datasets/Skatinger___json/Skatinger--wikipedia-persons-masked-476ecfa923442f0e/0.0.0/a3e658c4731e59120d44081ac10bf85dc7e1388126b92338344ce9661907f253/cache-a5d70d43c6d6ee6d_00002_of_00004.arrow\n"
     ]
    },
    {
     "name": "stdout",
     "output_type": "stream",
     "text": [
      " "
     ]
    },
    {
     "name": "stderr",
     "output_type": "stream",
     "text": [
      "Loading cached processed dataset at /home/nya/.cache/huggingface/datasets/Skatinger___json/Skatinger--wikipedia-persons-masked-476ecfa923442f0e/0.0.0/a3e658c4731e59120d44081ac10bf85dc7e1388126b92338344ce9661907f253/cache-a5d70d43c6d6ee6d_00003_of_00004.arrow\n",
      "Loading cached sorted indices for dataset at /home/nya/.cache/huggingface/datasets/Skatinger___json/Skatinger--wikipedia-persons-masked-476ecfa923442f0e/0.0.0/a3e658c4731e59120d44081ac10bf85dc7e1388126b92338344ce9661907f253/cache-b5d60232f10247be.arrow\n",
      "Loading cached processed dataset at /home/nya/.cache/huggingface/datasets/json/default-1729933de2403193/0.0.0/a3e658c4731e59120d44081ac10bf85dc7e1388126b92338344ce9661907f253/cache-703b2cfdb19ef5d2.arrow\n"
     ]
    },
    {
     "name": "stdout",
     "output_type": "stream",
     "text": [
      "Joining datasets...\n",
      "Computing precision. This may take a while...\n",
      " "
     ]
    },
    {
     "name": "stderr",
     "output_type": "stream",
     "text": [
      "Loading cached processed dataset at /home/nya/.cache/huggingface/datasets/json/default-1729933de2403193/0.0.0/a3e658c4731e59120d44081ac10bf85dc7e1388126b92338344ce9661907f253/cache-2f8d3e933d0a5c8a.arrow\n"
     ]
    },
    {
     "name": "stdout",
     "output_type": "stream",
     "text": [
      " "
     ]
    },
    {
     "name": "stderr",
     "output_type": "stream",
     "text": [
      "Loading cached processed dataset at /home/nya/.cache/huggingface/datasets/json/default-1729933de2403193/0.0.0/a3e658c4731e59120d44081ac10bf85dc7e1388126b92338344ce9661907f253/cache-84840f737cab14d2.arrow\n"
     ]
    },
    {
     "name": "stdout",
     "output_type": "stream",
     "text": [
      " "
     ]
    },
    {
     "name": "stderr",
     "output_type": "stream",
     "text": [
      "Loading cached processed dataset at /home/nya/.cache/huggingface/datasets/json/default-1729933de2403193/0.0.0/a3e658c4731e59120d44081ac10bf85dc7e1388126b92338344ce9661907f253/cache-9166d0a9a03e4750.arrow\n"
     ]
    },
    {
     "name": "stdout",
     "output_type": "stream",
     "text": [
      " "
     ]
    },
    {
     "name": "stderr",
     "output_type": "stream",
     "text": [
      "Loading cached processed dataset at /home/nya/.cache/huggingface/datasets/json/default-1729933de2403193/0.0.0/a3e658c4731e59120d44081ac10bf85dc7e1388126b92338344ce9661907f253/cache-b90aa89e64930361.arrow\n",
      "Loading cached processed dataset at /home/nya/.cache/huggingface/datasets/json/default-1729933de2403193/0.0.0/a3e658c4731e59120d44081ac10bf85dc7e1388126b92338344ce9661907f253/cache-6e64ba7edcc8cfea.arrow\n",
      "Loading cached processed dataset at /home/nya/.cache/huggingface/datasets/json/default-1729933de2403193/0.0.0/a3e658c4731e59120d44081ac10bf85dc7e1388126b92338344ce9661907f253/cache-ae4cb6b5a9239a8d.arrow\n",
      "Loading cached processed dataset at /home/nya/.cache/huggingface/datasets/json/default-1729933de2403193/0.0.0/a3e658c4731e59120d44081ac10bf85dc7e1388126b92338344ce9661907f253/cache-97968d3cff618c95.arrow\n",
      "Loading cached processed dataset at /home/nya/.cache/huggingface/datasets/json/default-1729933de2403193/0.0.0/a3e658c4731e59120d44081ac10bf85dc7e1388126b92338344ce9661907f253/cache-2465c52887a146fc.arrow\n"
     ]
    },
    {
     "name": "stdout",
     "output_type": "stream",
     "text": [
      "Loading result dataset...\n"
     ]
    },
    {
     "name": "stderr",
     "output_type": "stream",
     "text": [
      "Using custom data configuration default-3989285ee0f9ebc2\n",
      "Reusing dataset json (/home/nya/.cache/huggingface/datasets/json/default-3989285ee0f9ebc2/0.0.0/a3e658c4731e59120d44081ac10bf85dc7e1388126b92338344ce9661907f253)\n",
      "Loading cached sorted indices for dataset at /home/nya/.cache/huggingface/datasets/json/default-3989285ee0f9ebc2/0.0.0/a3e658c4731e59120d44081ac10bf85dc7e1388126b92338344ce9661907f253/cache-a87323bc4468c853.arrow\n"
     ]
    },
    {
     "name": "stdout",
     "output_type": "stream",
     "text": [
      "Loading ground truth dataset...\n"
     ]
    },
    {
     "name": "stderr",
     "output_type": "stream",
     "text": [
      "Using custom data configuration Skatinger--wikipedia-persons-masked-476ecfa923442f0e\n",
      "Reusing dataset json (/home/nya/.cache/huggingface/datasets/Skatinger___json/Skatinger--wikipedia-persons-masked-476ecfa923442f0e/0.0.0/a3e658c4731e59120d44081ac10bf85dc7e1388126b92338344ce9661907f253)\n"
     ]
    },
    {
     "name": "stdout",
     "output_type": "stream",
     "text": [
      "Filtering ground truth dataset...\n",
      " "
     ]
    },
    {
     "name": "stderr",
     "output_type": "stream",
     "text": [
      "Loading cached processed dataset at /home/nya/.cache/huggingface/datasets/Skatinger___json/Skatinger--wikipedia-persons-masked-476ecfa923442f0e/0.0.0/a3e658c4731e59120d44081ac10bf85dc7e1388126b92338344ce9661907f253/cache-dcd43300dbabc230_00000_of_00004.arrow\n"
     ]
    },
    {
     "name": "stdout",
     "output_type": "stream",
     "text": [
      " "
     ]
    },
    {
     "name": "stderr",
     "output_type": "stream",
     "text": [
      "Loading cached processed dataset at /home/nya/.cache/huggingface/datasets/Skatinger___json/Skatinger--wikipedia-persons-masked-476ecfa923442f0e/0.0.0/a3e658c4731e59120d44081ac10bf85dc7e1388126b92338344ce9661907f253/cache-dcd43300dbabc230_00001_of_00004.arrow\n"
     ]
    },
    {
     "name": "stdout",
     "output_type": "stream",
     "text": [
      " "
     ]
    },
    {
     "name": "stderr",
     "output_type": "stream",
     "text": [
      "Loading cached processed dataset at /home/nya/.cache/huggingface/datasets/Skatinger___json/Skatinger--wikipedia-persons-masked-476ecfa923442f0e/0.0.0/a3e658c4731e59120d44081ac10bf85dc7e1388126b92338344ce9661907f253/cache-dcd43300dbabc230_00002_of_00004.arrow\n"
     ]
    },
    {
     "name": "stdout",
     "output_type": "stream",
     "text": [
      " "
     ]
    },
    {
     "name": "stderr",
     "output_type": "stream",
     "text": [
      "Loading cached processed dataset at /home/nya/.cache/huggingface/datasets/Skatinger___json/Skatinger--wikipedia-persons-masked-476ecfa923442f0e/0.0.0/a3e658c4731e59120d44081ac10bf85dc7e1388126b92338344ce9661907f253/cache-dcd43300dbabc230_00003_of_00004.arrow\n",
      "Loading cached sorted indices for dataset at /home/nya/.cache/huggingface/datasets/Skatinger___json/Skatinger--wikipedia-persons-masked-476ecfa923442f0e/0.0.0/a3e658c4731e59120d44081ac10bf85dc7e1388126b92338344ce9661907f253/cache-ae8285e5c1cb969f.arrow\n",
      "Loading cached processed dataset at /home/nya/.cache/huggingface/datasets/json/default-3989285ee0f9ebc2/0.0.0/a3e658c4731e59120d44081ac10bf85dc7e1388126b92338344ce9661907f253/cache-c0e01f192d3a8f3d.arrow\n"
     ]
    },
    {
     "name": "stdout",
     "output_type": "stream",
     "text": [
      "Joining datasets...\n",
      "Computing precision. This may take a while...\n",
      " "
     ]
    },
    {
     "name": "stderr",
     "output_type": "stream",
     "text": [
      "Loading cached processed dataset at /home/nya/.cache/huggingface/datasets/json/default-3989285ee0f9ebc2/0.0.0/a3e658c4731e59120d44081ac10bf85dc7e1388126b92338344ce9661907f253/cache-995a0dd976469abc.arrow\n"
     ]
    },
    {
     "name": "stdout",
     "output_type": "stream",
     "text": [
      " "
     ]
    },
    {
     "name": "stderr",
     "output_type": "stream",
     "text": [
      "Loading cached processed dataset at /home/nya/.cache/huggingface/datasets/json/default-3989285ee0f9ebc2/0.0.0/a3e658c4731e59120d44081ac10bf85dc7e1388126b92338344ce9661907f253/cache-a4d5eff1fedf733f.arrow\n"
     ]
    },
    {
     "name": "stdout",
     "output_type": "stream",
     "text": [
      " "
     ]
    },
    {
     "name": "stderr",
     "output_type": "stream",
     "text": [
      "Loading cached processed dataset at /home/nya/.cache/huggingface/datasets/json/default-3989285ee0f9ebc2/0.0.0/a3e658c4731e59120d44081ac10bf85dc7e1388126b92338344ce9661907f253/cache-d2b889324eca4cb4.arrow\n"
     ]
    },
    {
     "name": "stdout",
     "output_type": "stream",
     "text": [
      " "
     ]
    },
    {
     "name": "stderr",
     "output_type": "stream",
     "text": [
      "Loading cached processed dataset at /home/nya/.cache/huggingface/datasets/json/default-3989285ee0f9ebc2/0.0.0/a3e658c4731e59120d44081ac10bf85dc7e1388126b92338344ce9661907f253/cache-b918a55357a13a0e.arrow\n",
      "Loading cached processed dataset at /home/nya/.cache/huggingface/datasets/json/default-3989285ee0f9ebc2/0.0.0/a3e658c4731e59120d44081ac10bf85dc7e1388126b92338344ce9661907f253/cache-db22c4670afea59b.arrow\n",
      "Loading cached processed dataset at /home/nya/.cache/huggingface/datasets/json/default-3989285ee0f9ebc2/0.0.0/a3e658c4731e59120d44081ac10bf85dc7e1388126b92338344ce9661907f253/cache-ae62b7243babd838.arrow\n",
      "Loading cached processed dataset at /home/nya/.cache/huggingface/datasets/json/default-3989285ee0f9ebc2/0.0.0/a3e658c4731e59120d44081ac10bf85dc7e1388126b92338344ce9661907f253/cache-f15577ed95dd65c8.arrow\n",
      "Loading cached processed dataset at /home/nya/.cache/huggingface/datasets/json/default-3989285ee0f9ebc2/0.0.0/a3e658c4731e59120d44081ac10bf85dc7e1388126b92338344ce9661907f253/cache-9b6d6ec0486b861f.arrow\n"
     ]
    },
    {
     "name": "stdout",
     "output_type": "stream",
     "text": [
      "Loading result dataset...\n"
     ]
    },
    {
     "name": "stderr",
     "output_type": "stream",
     "text": [
      "Using custom data configuration default-f1ea6794226d7db2\n",
      "Reusing dataset json (/home/nya/.cache/huggingface/datasets/json/default-f1ea6794226d7db2/0.0.0/a3e658c4731e59120d44081ac10bf85dc7e1388126b92338344ce9661907f253)\n",
      "Loading cached sorted indices for dataset at /home/nya/.cache/huggingface/datasets/json/default-f1ea6794226d7db2/0.0.0/a3e658c4731e59120d44081ac10bf85dc7e1388126b92338344ce9661907f253/cache-d843f83c7e4322c7.arrow\n"
     ]
    },
    {
     "name": "stdout",
     "output_type": "stream",
     "text": [
      "Loading ground truth dataset...\n"
     ]
    },
    {
     "name": "stderr",
     "output_type": "stream",
     "text": [
      "Using custom data configuration Skatinger--wikipedia-persons-masked-476ecfa923442f0e\n",
      "Reusing dataset json (/home/nya/.cache/huggingface/datasets/Skatinger___json/Skatinger--wikipedia-persons-masked-476ecfa923442f0e/0.0.0/a3e658c4731e59120d44081ac10bf85dc7e1388126b92338344ce9661907f253)\n"
     ]
    },
    {
     "name": "stdout",
     "output_type": "stream",
     "text": [
      "Filtering ground truth dataset...\n",
      " "
     ]
    },
    {
     "name": "stderr",
     "output_type": "stream",
     "text": [
      "Loading cached processed dataset at /home/nya/.cache/huggingface/datasets/Skatinger___json/Skatinger--wikipedia-persons-masked-476ecfa923442f0e/0.0.0/a3e658c4731e59120d44081ac10bf85dc7e1388126b92338344ce9661907f253/cache-a5d70d43c6d6ee6d_00000_of_00004.arrow\n"
     ]
    },
    {
     "name": "stdout",
     "output_type": "stream",
     "text": [
      " "
     ]
    },
    {
     "name": "stderr",
     "output_type": "stream",
     "text": [
      "Loading cached processed dataset at /home/nya/.cache/huggingface/datasets/Skatinger___json/Skatinger--wikipedia-persons-masked-476ecfa923442f0e/0.0.0/a3e658c4731e59120d44081ac10bf85dc7e1388126b92338344ce9661907f253/cache-a5d70d43c6d6ee6d_00001_of_00004.arrow\n"
     ]
    },
    {
     "name": "stdout",
     "output_type": "stream",
     "text": [
      " "
     ]
    },
    {
     "name": "stderr",
     "output_type": "stream",
     "text": [
      "Loading cached processed dataset at /home/nya/.cache/huggingface/datasets/Skatinger___json/Skatinger--wikipedia-persons-masked-476ecfa923442f0e/0.0.0/a3e658c4731e59120d44081ac10bf85dc7e1388126b92338344ce9661907f253/cache-a5d70d43c6d6ee6d_00002_of_00004.arrow\n"
     ]
    },
    {
     "name": "stdout",
     "output_type": "stream",
     "text": [
      " "
     ]
    },
    {
     "name": "stderr",
     "output_type": "stream",
     "text": [
      "Loading cached processed dataset at /home/nya/.cache/huggingface/datasets/Skatinger___json/Skatinger--wikipedia-persons-masked-476ecfa923442f0e/0.0.0/a3e658c4731e59120d44081ac10bf85dc7e1388126b92338344ce9661907f253/cache-a5d70d43c6d6ee6d_00003_of_00004.arrow\n",
      "Loading cached sorted indices for dataset at /home/nya/.cache/huggingface/datasets/Skatinger___json/Skatinger--wikipedia-persons-masked-476ecfa923442f0e/0.0.0/a3e658c4731e59120d44081ac10bf85dc7e1388126b92338344ce9661907f253/cache-b5d60232f10247be.arrow\n"
     ]
    },
    {
     "name": "stdout",
     "output_type": "stream",
     "text": [
      "Joining datasets...\n"
     ]
    },
    {
     "name": "stderr",
     "output_type": "stream",
     "text": [
      "Loading cached processed dataset at /home/nya/.cache/huggingface/datasets/json/default-f1ea6794226d7db2/0.0.0/a3e658c4731e59120d44081ac10bf85dc7e1388126b92338344ce9661907f253/cache-14174ada390278e5.arrow\n"
     ]
    },
    {
     "name": "stdout",
     "output_type": "stream",
     "text": [
      "Computing precision. This may take a while...\n",
      " "
     ]
    },
    {
     "name": "stderr",
     "output_type": "stream",
     "text": [
      "Loading cached processed dataset at /home/nya/.cache/huggingface/datasets/json/default-f1ea6794226d7db2/0.0.0/a3e658c4731e59120d44081ac10bf85dc7e1388126b92338344ce9661907f253/cache-03a5871159b95a7a.arrow\n"
     ]
    },
    {
     "name": "stdout",
     "output_type": "stream",
     "text": [
      " "
     ]
    },
    {
     "name": "stderr",
     "output_type": "stream",
     "text": [
      "Loading cached processed dataset at /home/nya/.cache/huggingface/datasets/json/default-f1ea6794226d7db2/0.0.0/a3e658c4731e59120d44081ac10bf85dc7e1388126b92338344ce9661907f253/cache-5be17cbc1cf16c48.arrow\n"
     ]
    },
    {
     "name": "stdout",
     "output_type": "stream",
     "text": [
      " "
     ]
    },
    {
     "name": "stderr",
     "output_type": "stream",
     "text": [
      "Loading cached processed dataset at /home/nya/.cache/huggingface/datasets/json/default-f1ea6794226d7db2/0.0.0/a3e658c4731e59120d44081ac10bf85dc7e1388126b92338344ce9661907f253/cache-57838e73a40a3589.arrow\n"
     ]
    },
    {
     "name": "stdout",
     "output_type": "stream",
     "text": [
      " "
     ]
    },
    {
     "name": "stderr",
     "output_type": "stream",
     "text": [
      "Loading cached processed dataset at /home/nya/.cache/huggingface/datasets/json/default-f1ea6794226d7db2/0.0.0/a3e658c4731e59120d44081ac10bf85dc7e1388126b92338344ce9661907f253/cache-0df735169a5cae67.arrow\n",
      "Loading cached processed dataset at /home/nya/.cache/huggingface/datasets/json/default-f1ea6794226d7db2/0.0.0/a3e658c4731e59120d44081ac10bf85dc7e1388126b92338344ce9661907f253/cache-610fd4e80d50b5e0.arrow\n",
      "Loading cached processed dataset at /home/nya/.cache/huggingface/datasets/json/default-f1ea6794226d7db2/0.0.0/a3e658c4731e59120d44081ac10bf85dc7e1388126b92338344ce9661907f253/cache-98052b30b765d5ce.arrow\n",
      "Loading cached processed dataset at /home/nya/.cache/huggingface/datasets/json/default-f1ea6794226d7db2/0.0.0/a3e658c4731e59120d44081ac10bf85dc7e1388126b92338344ce9661907f253/cache-8917dfe200ac68ee.arrow\n",
      "Loading cached processed dataset at /home/nya/.cache/huggingface/datasets/json/default-f1ea6794226d7db2/0.0.0/a3e658c4731e59120d44081ac10bf85dc7e1388126b92338344ce9661907f253/cache-2f88c317306d4317.arrow\n"
     ]
    }
   ],
   "source": [
    "for key, model in models.items():\n",
    "    model['results'] = {}\n",
    "    for config in ['original', 'paraphrased']:\n",
    "        ev = SinglePredictionEvaluator(models[key][config])\n",
    "        accuracy, correct, incorrect, results = ev.compute_precision()\n",
    "\n",
    "        res = {}\n",
    "        res['all_results'] = results\n",
    "        res['accuracy'] = accuracy\n",
    "        res['correct'] = correct\n",
    "        res['incorrect'] = incorrect\n",
    "        res['levenstein_below_3_in_correct'] = correct.filter(lambda x: x['distance'] < 3)\n",
    "        res['levenstein_below_3_in_incorrect'] = incorrect.filter(lambda x: x['distance'] < 3)\n",
    "        res['average_levenstein_correct'] = sum(correct['distance']) / len(correct)\n",
    "        res['average_levenstein_incorrect'] = sum(incorrect['distance']) / len(incorrect)\n",
    "        \n",
    "        model['results'][config] = res"
   ]
  },
  {
   "cell_type": "markdown",
   "id": "7a067740",
   "metadata": {},
   "source": [
    "# Plots"
   ]
  },
  {
   "cell_type": "code",
   "execution_count": 6,
   "id": "4d748d93",
   "metadata": {
    "scrolled": true
   },
   "outputs": [
    {
     "data": {
      "image/png": "[encoded data removed]",
      "text/plain": [
       "<Figure size 1500x1000 with 1 Axes>"
      ]
     },
     "metadata": {},
     "output_type": "display_data"
    }
   ],
   "source": [
    "import matplotlib.pyplot as plt\n",
    "\n",
    "data = []\n",
    "for key, model in models.items():\n",
    "    color = \"C\" + str(hash(key) % 10)\n",
    "    for config in ['original', 'paraphrased']:\n",
    "        m = model[\"results\"][config]\n",
    "        name = f\"{key}-{config[0]}\"\n",
    "        data.append((model[\"size\"], m[\"accuracy\"], name, color))\n",
    "\n",
    "# Create scatter plot\n",
    "fig, ax = plt.subplots()\n",
    "for value in data:\n",
    "    size, acc, name, color = value\n",
    "    ax.scatter(size, acc, label=name, color=color)\n",
    "    ax.annotate(name, (size, acc), textcoords=\"offset points\", xytext=(0,5), ha='center')\n",
    "\n",
    "fig.set_size_inches(15, 10)\n",
    "# fig.set_dpi(100)\n",
    "    \n",
    "# settings\n",
    "ax.set_ylim([0,1])\n",
    "ax.set_xlim([0, 180])\n",
    "# Set title and labels\n",
    "ax.set_title(\"Accuracy vs Number of Parameters for NLP Models\")\n",
    "ax.set_xlabel(\"Number of Parameters\")\n",
    "ax.set_ylabel(\"Accuracy\")\n",
    "\n",
    "# Display plot\n",
    "plt.show()\n"
   ]
  },
  {
   "cell_type": "code",
   "execution_count": null,
   "id": "34753509",
   "metadata": {},
   "outputs": [],
   "source": [
    "import matplotlib.pyplot as plt\n",
    "\n",
    "data = []\n",
    "for key, model in models.items():\n",
    "    color = \"C\" + str(hash(key) % 10)\n",
    "    for config in ['original', 'paraphrased']:\n",
    "        m = model[\"results\"][config]\n",
    "        name = f\"{key}-{config[0]}\"\n",
    "        lev_below_3 = len(m[\"levenstein_below_3_in_correct\"]) / len(m['correct'])\n",
    "        data.append((model[\"size\"], lev_below_3, name, color))\n",
    "\n",
    "# Create scatter plot\n",
    "fig, ax = plt.subplots()\n",
    "for value in data:\n",
    "    size, acc, name, color = value\n",
    "    ax.scatter(size, acc, label=name, color=color)\n",
    "    ax.annotate(name, (size, acc), textcoords=\"offset points\", xytext=(0,5), ha='center')\n",
    "\n",
    "fig.set_size_inches(15, 10)\n",
    "# fig.set_dpi(100)\n",
    "    \n",
    "# settings\n",
    "# ax.set_ylim([0,1])\n",
    "ax.set_xlim([0, 180])\n",
    "# Set title and labels\n",
    "ax.set_title(\"Accuracy vs Number of Parameters for NLP Models\")\n",
    "ax.set_xlabel(\"Number of Parameters\")\n",
    "ax.set_ylabel(\"% of very correct\")\n",
    "\n",
    "# Display plot\n",
    "plt.show()\n"
   ]
  },
  {
   "cell_type": "code",
   "execution_count": 48,
   "id": "7dec2623",
   "metadata": {},
   "outputs": [
    {
     "data": {
      "image/png": "[encoded data removed]",
      "text/plain": [
       "<Figure size 1200x800 with 1 Axes>"
      ]
     },
     "metadata": {},
     "output_type": "display_data"
    },
    {
     "data": {
      "text/plain": [
       "'\\nInteresting, because it shows that edit-distance around 8 would\\ngive the same results as counting first or last name as correct.\\n'"
      ]
     },
     "execution_count": 48,
     "metadata": {},
     "output_type": "execute_result"
    }
   ],
   "source": [
    "import seaborn as sns\n",
    "import pandas as pd\n",
    "\n",
    "\n",
    "## Plot by levensthein distance\n",
    "results = models['bloomz-petals']['results']['paraphrased']['all_results']\n",
    "\n",
    "# Convert the data to a pandas DataFrame\n",
    "df = pd.DataFrame({ 'distance': results['distance'], 'correct': results['correct']})\n",
    "df\n",
    "# # Group the data by score and correctness to count the entries with the same score\n",
    "df_agg = df.groupby(['distance', 'correct']).size().reset_index(name='count')\n",
    "\n",
    "# Map the values of the 'correct' column to their respective terms\n",
    "df_agg['correctness'] = df_agg['correct'].replace({1: 'correct', 0: 'incorrect'})\n",
    "df_agg.drop('correct', axis=1, inplace=True)\n",
    "\n",
    "plt.figure(figsize=(12,8))\n",
    "\n",
    "# Define the barplot using seaborn\n",
    "ax = sns.barplot(x='distance', y='count', hue='correctness', data=df_agg)\n",
    "\n",
    "# # Add labels and a title\n",
    "plt.xlabel('Score')\n",
    "plt.ylabel('Count')\n",
    "ax.legend(title=\"\") # , labels = ['Correct', 'Incorrect'])\n",
    "plt.title('Results by Score and Correctness')\n",
    "\n",
    "# # Display the plot\n",
    "plt.show()\n",
    "\n",
    "#######\n",
    "\"\"\"\n",
    "Interesting, because it shows that edit-distance around 8 would\n",
    "give the same results as counting first or last name as correct.\n",
    "\"\"\""
   ]
  },
  {
   "cell_type": "code",
   "execution_count": 49,
   "id": "44b4abae",
   "metadata": {},
   "outputs": [
    {
     "data": {
      "image/png": "[encoded data removed]",
      "text/plain": [
       "<Figure size 1200x800 with 1 Axes>"
      ]
     },
     "metadata": {},
     "output_type": "display_data"
    },
    {
     "data": {
      "text/plain": [
       "'\\nInteresting, because it shows that edit-distance around 8 would\\ngive the same results as counting first or last name as correct.\\n'"
      ]
     },
     "execution_count": 49,
     "metadata": {},
     "output_type": "execute_result"
    }
   ],
   "source": [
    "import seaborn as sns\n",
    "import pandas as pd\n",
    "\n",
    "\n",
    "## Plot by levensthein distance\n",
    "results = models['bloomz-petals']['results']['original']['all_results']\n",
    "\n",
    "# Convert the data to a pandas DataFrame\n",
    "df = pd.DataFrame({ 'distance': results['distance'], 'correct': results['correct']})\n",
    "df\n",
    "# # Group the data by score and correctness to count the entries with the same score\n",
    "df_agg = df.groupby(['distance', 'correct']).size().reset_index(name='count')\n",
    "\n",
    "# Map the values of the 'correct' column to their respective terms\n",
    "df_agg['correctness'] = df_agg['correct'].replace({1: 'correct', 0: 'incorrect'})\n",
    "df_agg.drop('correct', axis=1, inplace=True)\n",
    "\n",
    "plt.figure(figsize=(12,8))\n",
    "\n",
    "# Define the barplot using seaborn\n",
    "ax = sns.barplot(x='distance', y='count', hue='correctness', data=df_agg)\n",
    "\n",
    "# # Add labels and a title\n",
    "plt.xlabel('Score')\n",
    "plt.ylabel('Count')\n",
    "ax.legend(title=\"\") # , labels = ['Correct', 'Incorrect'])\n",
    "plt.title('Results by Score and Correctness')\n",
    "\n",
    "# # Display the plot\n",
    "plt.show()\n",
    "\n",
    "#######\n",
    "\"\"\"\n",
    "Interesting, because it shows that edit-distance around 8 would\n",
    "give the same results as counting first or last name as correct.\n",
    "\"\"\""
   ]
  },
  {
   "cell_type": "code",
   "execution_count": 46,
   "id": "52cab748",
   "metadata": {
    "scrolled": false
   },
   "outputs": [
    {
     "data": {
      "image/png": "[encoded data removed]",
      "text/plain": [
       "<Figure size 1200x800 with 1 Axes>"
      ]
     },
     "metadata": {},
     "output_type": "display_data"
    },
    {
     "data": {
      "text/plain": [
       "'\\nInteresting, because it shows that edit-distance around 8 would\\ngive the same results as counting first or last name as correct.\\n'"
      ]
     },
     "execution_count": 46,
     "metadata": {},
     "output_type": "execute_result"
    }
   ],
   "source": [
    "import seaborn as sns\n",
    "import pandas as pd\n",
    "\n",
    "\n",
    "## Plot by levensthein distance\n",
    "results = models['gpt-3.5-turbo']['results']['paraphrased']['all_results']\n",
    "\n",
    "# Convert the data to a pandas DataFrame\n",
    "df = pd.DataFrame({ 'distance': results['distance'], 'correct': results['correct']})\n",
    "df\n",
    "# # Group the data by score and correctness to count the entries with the same score\n",
    "df_agg = df.groupby(['distance', 'correct']).size().reset_index(name='count')\n",
    "\n",
    "# Map the values of the 'correct' column to their respective terms\n",
    "df_agg['correctness'] = df_agg['correct'].replace({1: 'correct', 0: 'incorrect'})\n",
    "df_agg.drop('correct', axis=1, inplace=True)\n",
    "\n",
    "plt.figure(figsize=(12,8))\n",
    "\n",
    "# Define the barplot using seaborn\n",
    "ax = sns.barplot(x='distance', y='count', hue='correctness', data=df_agg)\n",
    "\n",
    "# # Add labels and a title\n",
    "plt.xlabel('Score')\n",
    "plt.ylabel('Count')\n",
    "ax.legend(title=\"\") # , labels = ['Correct', 'Incorrect'])\n",
    "plt.title('Results by Score and Correctness')\n",
    "\n",
    "# # Display the plot\n",
    "plt.show()\n",
    "\n",
    "#######\n",
    "\"\"\"\n",
    "Interesting, because it shows that edit-distance around 8 would\n",
    "give the same results as counting first or last name as correct.\n",
    "\"\"\""
   ]
  },
  {
   "cell_type": "code",
   "execution_count": 45,
   "id": "2301807f",
   "metadata": {},
   "outputs": [
    {
     "data": {
      "image/png": "[encoded data removed]",
      "text/plain": [
       "<Figure size 1200x800 with 1 Axes>"
      ]
     },
     "metadata": {},
     "output_type": "display_data"
    },
    {
     "data": {
      "text/plain": [
       "'\\nInteresting, because it shows that edit-distance around 8 would\\ngive the same results as counting first or last name as correct.\\n'"
      ]
     },
     "execution_count": 45,
     "metadata": {},
     "output_type": "execute_result"
    }
   ],
   "source": [
    "import seaborn as sns\n",
    "import pandas as pd\n",
    "\n",
    "\n",
    "## Plot by levensthein distance\n",
    "results = models['gpt-3.5-turbo']['results']['original']['all_results']\n",
    "\n",
    "# Convert the data to a pandas DataFrame\n",
    "df = pd.DataFrame({ 'distance': results['distance'], 'correct': results['correct']})\n",
    "df\n",
    "# # Group the data by score and correctness to count the entries with the same score\n",
    "df_agg = df.groupby(['distance', 'correct']).size().reset_index(name='count')\n",
    "\n",
    "# Map the values of the 'correct' column to their respective terms\n",
    "df_agg['correctness'] = df_agg['correct'].replace({1: 'correct', 0: 'incorrect'})\n",
    "df_agg.drop('correct', axis=1, inplace=True)\n",
    "\n",
    "plt.figure(figsize=(12,8))\n",
    "\n",
    "# Define the barplot using seaborn\n",
    "ax = sns.barplot(x='distance', y='count', hue='correctness', data=df_agg)\n",
    "\n",
    "# # Add labels and a title\n",
    "plt.xlabel('Score')\n",
    "plt.ylabel('Count')\n",
    "ax.legend(title=\"\") # , labels = ['Correct', 'Incorrect'])\n",
    "plt.title('Results by Score and Correctness')\n",
    "\n",
    "# # Display the plot\n",
    "plt.show()\n",
    "\n",
    "#######\n",
    "\"\"\"\n",
    "Interesting, because it shows that edit-distance around 8 would\n",
    "give the same results as counting first or last name as correct.\n",
    "\"\"\""
   ]
  },
  {
   "cell_type": "code",
   "execution_count": null,
   "id": "d57cd7b3",
   "metadata": {},
   "outputs": [],
   "source": [
    "# accuracy compared by model type (fill-mask, text-generation)"
   ]
  },
  {
   "cell_type": "markdown",
   "id": "6b0b787f",
   "metadata": {},
   "source": [
    "## Questions\n",
    "\n",
    "- How do models react to input length? default is 1k characters\n",
    "- How do models compare with same default inputs\n",
    "- paraphrased vs original"
   ]
  },
  {
   "cell_type": "code",
   "execution_count": null,
   "id": "0e6e8e2c",
   "metadata": {},
   "outputs": [],
   "source": [
    "# write results to json file\n",
    "import json\n",
    "file_name = result_path.split(\"/\")[-1].split(\".\")[0]\n",
    "save_path = f\"results-{file_name}.json\"\n",
    "print(f\"Writing results to {save_path}\")\n",
    "results.to_json(save_path)"
   ]
  }
 ],
 "metadata": {
  "kernelspec": {
   "display_name": "Python 3 (ipykernel)",
   "language": "python",
   "name": "python3"
  },
  "language_info": {
   "codemirror_mode": {
    "name": "ipython",
    "version": 3
   },
   "file_extension": ".py",
   "mimetype": "text/x-python",
   "name": "python",
   "nbconvert_exporter": "python",
   "pygments_lexer": "ipython3",
   "version": "3.8.10"
  }
 },
 "nbformat": 4,
 "nbformat_minor": 5
}
