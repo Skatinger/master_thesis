{
 "cells": [
  {
   "cell_type": "code",
   "execution_count": 1,
   "id": "6a0471d3",
   "metadata": {},
   "outputs": [],
   "source": [
    "import pandas as pd\n",
    "import seaborn as sns"
   ]
  },
  {
   "cell_type": "code",
   "execution_count": 2,
   "id": "9476b686",
   "metadata": {},
   "outputs": [],
   "source": [
    "from single_prediction_eval import SinglePredictionEvaluator"
   ]
  },
  {
   "cell_type": "code",
   "execution_count": 21,
   "id": "c77f0dcc",
   "metadata": {},
   "outputs": [],
   "source": [
    "# configure models and results files\n",
    "models = {\n",
    "#     \"gpt-3.5-turbo\": {\"size\": 154, \"input_size\": 1000 },\n",
    "#     \"bloomz-petals\": { \"size\": 176, \"input_size\": 1000 },\n",
    "    \"bloomz-1b1\": { \"size\": 1.1, \"input_size\": 1000 },\n",
    "    \"bloomz-1b7\": { \"size\": 1.7, \"input_size\": 1000 },\n",
    "    \"bloomz-3b\": { \"size\": 3, \"input_size\": 1000 },\n",
    "    \"bloomz-7b1\": { \"size\": 7.1, \"input_size\": 1000 },\n",
    "    \"cerebras-1b3\": { \"size\": 1.3, \"input_size\": 1000 },\n",
    "    \"cerebras-2b7\": { \"size\": 2.7, \"input_size\": 1000 },\n",
    "    \"cerebras-6b7\": { \"size\": 6.7, \"input_size\": 1000 },\n",
    "    \"cerebras-13b\": { \"size\": 13, \"input_size\": 1000 },\n",
    "    \"llama-7b\": { \"size\": 7, \"input_size\": 1000 }\n",
    "}\n",
    "for model in models:\n",
    "    for config in ['original', 'paraphrased']:\n",
    "        models[model][config] = f\"../results/wiki_predictions_{model}_{config}.jsonl\""
   ]
  },
  {
   "cell_type": "code",
   "execution_count": 22,
   "id": "3b1c55dd",
   "metadata": {},
   "outputs": [
    {
     "data": {
      "text/plain": [
       "{'bloomz-1b1': {'size': 1.1,\n",
       "  'input_size': 1000,\n",
       "  'original': '../results/wiki_predictions_bloomz-1b1_original.jsonl',\n",
       "  'paraphrased': '../results/wiki_predictions_bloomz-1b1_paraphrased.jsonl'},\n",
       " 'bloomz-1b7': {'size': 1.7,\n",
       "  'input_size': 1000,\n",
       "  'original': '../results/wiki_predictions_bloomz-1b7_original.jsonl',\n",
       "  'paraphrased': '../results/wiki_predictions_bloomz-1b7_paraphrased.jsonl'},\n",
       " 'bloomz-3b': {'size': 3,\n",
       "  'input_size': 1000,\n",
       "  'original': '../results/wiki_predictions_bloomz-3b_original.jsonl',\n",
       "  'paraphrased': '../results/wiki_predictions_bloomz-3b_paraphrased.jsonl'},\n",
       " 'bloomz-7b1': {'size': 7.1,\n",
       "  'input_size': 1000,\n",
       "  'original': '../results/wiki_predictions_bloomz-7b1_original.jsonl',\n",
       "  'paraphrased': '../results/wiki_predictions_bloomz-7b1_paraphrased.jsonl'},\n",
       " 'cerebras-1b3': {'size': 1.3,\n",
       "  'input_size': 1000,\n",
       "  'original': '../results/wiki_predictions_cerebras-1b3_original.jsonl',\n",
       "  'paraphrased': '../results/wiki_predictions_cerebras-1b3_paraphrased.jsonl'},\n",
       " 'cerebras-2b7': {'size': 2.7,\n",
       "  'input_size': 1000,\n",
       "  'original': '../results/wiki_predictions_cerebras-2b7_original.jsonl',\n",
       "  'paraphrased': '../results/wiki_predictions_cerebras-2b7_paraphrased.jsonl'},\n",
       " 'cerebras-6b7': {'size': 6.7,\n",
       "  'input_size': 1000,\n",
       "  'original': '../results/wiki_predictions_cerebras-6b7_original.jsonl',\n",
       "  'paraphrased': '../results/wiki_predictions_cerebras-6b7_paraphrased.jsonl'},\n",
       " 'cerebras-13b': {'size': 13,\n",
       "  'input_size': 1000,\n",
       "  'original': '../results/wiki_predictions_cerebras-13b_original.jsonl',\n",
       "  'paraphrased': '../results/wiki_predictions_cerebras-13b_paraphrased.jsonl'}}"
      ]
     },
     "execution_count": 22,
     "metadata": {},
     "output_type": "execute_result"
    }
   ],
   "source": [
    "models"
   ]
  },
  {
   "cell_type": "code",
   "execution_count": 23,
   "id": "7f50fc66",
   "metadata": {},
   "outputs": [
    {
     "name": "stderr",
     "output_type": "stream",
     "text": [
      "Using custom data configuration Skatinger--wikipedia-persons-masked-476ecfa923442f0e\n",
      "Reusing dataset json (/home/nya/.cache/huggingface/datasets/Skatinger___json/Skatinger--wikipedia-persons-masked-476ecfa923442f0e/0.0.0/a3e658c4731e59120d44081ac10bf85dc7e1388126b92338344ce9661907f253)\n"
     ]
    }
   ],
   "source": [
    "from datasets import load_dataset\n",
    "gt = load_dataset(\"Skatinger/wikipedia-persons-masked\", split=\"train\")\n",
    "# dataset = load_dataset(\"json\", data_files=, split=\"train\").sort(\"page_id\")"
   ]
  },
  {
   "cell_type": "code",
   "execution_count": 24,
   "id": "703f36f7",
   "metadata": {
    "scrolled": true
   },
   "outputs": [
    {
     "name": "stdout",
     "output_type": "stream",
     "text": [
      "Loading result dataset...\n"
     ]
    },
    {
     "name": "stderr",
     "output_type": "stream",
     "text": [
      "Using custom data configuration default-2ff5ce200e4fab69\n",
      "Reusing dataset json (/home/nya/.cache/huggingface/datasets/json/default-2ff5ce200e4fab69/0.0.0/a3e658c4731e59120d44081ac10bf85dc7e1388126b92338344ce9661907f253)\n",
      "Loading cached sorted indices for dataset at /home/nya/.cache/huggingface/datasets/json/default-2ff5ce200e4fab69/0.0.0/a3e658c4731e59120d44081ac10bf85dc7e1388126b92338344ce9661907f253/cache-247e8bb79a1f2ba9.arrow\n"
     ]
    },
    {
     "name": "stdout",
     "output_type": "stream",
     "text": [
      "Filtering ground truth dataset...\n",
      " "
     ]
    },
    {
     "name": "stderr",
     "output_type": "stream",
     "text": [
      "Loading cached processed dataset at /home/nya/.cache/huggingface/datasets/Skatinger___json/Skatinger--wikipedia-persons-masked-476ecfa923442f0e/0.0.0/a3e658c4731e59120d44081ac10bf85dc7e1388126b92338344ce9661907f253/cache-cf26ada08187e21b_00000_of_00004.arrow\n"
     ]
    },
    {
     "name": "stdout",
     "output_type": "stream",
     "text": [
      " "
     ]
    },
    {
     "name": "stderr",
     "output_type": "stream",
     "text": [
      "Loading cached processed dataset at /home/nya/.cache/huggingface/datasets/Skatinger___json/Skatinger--wikipedia-persons-masked-476ecfa923442f0e/0.0.0/a3e658c4731e59120d44081ac10bf85dc7e1388126b92338344ce9661907f253/cache-cf26ada08187e21b_00001_of_00004.arrow\n"
     ]
    },
    {
     "name": "stdout",
     "output_type": "stream",
     "text": [
      " "
     ]
    },
    {
     "name": "stderr",
     "output_type": "stream",
     "text": [
      "Loading cached processed dataset at /home/nya/.cache/huggingface/datasets/Skatinger___json/Skatinger--wikipedia-persons-masked-476ecfa923442f0e/0.0.0/a3e658c4731e59120d44081ac10bf85dc7e1388126b92338344ce9661907f253/cache-cf26ada08187e21b_00002_of_00004.arrow\n"
     ]
    },
    {
     "name": "stdout",
     "output_type": "stream",
     "text": [
      " "
     ]
    },
    {
     "name": "stderr",
     "output_type": "stream",
     "text": [
      "Loading cached processed dataset at /home/nya/.cache/huggingface/datasets/Skatinger___json/Skatinger--wikipedia-persons-masked-476ecfa923442f0e/0.0.0/a3e658c4731e59120d44081ac10bf85dc7e1388126b92338344ce9661907f253/cache-cf26ada08187e21b_00003_of_00004.arrow\n",
      "Loading cached sorted indices for dataset at /home/nya/.cache/huggingface/datasets/Skatinger___json/Skatinger--wikipedia-persons-masked-476ecfa923442f0e/0.0.0/a3e658c4731e59120d44081ac10bf85dc7e1388126b92338344ce9661907f253/cache-375cfc61b14637a4.arrow\n"
     ]
    },
    {
     "name": "stdout",
     "output_type": "stream",
     "text": [
      "Joining datasets...\n"
     ]
    },
    {
     "name": "stderr",
     "output_type": "stream",
     "text": [
      "Loading cached processed dataset at /home/nya/.cache/huggingface/datasets/json/default-2ff5ce200e4fab69/0.0.0/a3e658c4731e59120d44081ac10bf85dc7e1388126b92338344ce9661907f253/cache-4ddc1ab0551c00fe.arrow\n"
     ]
    },
    {
     "name": "stdout",
     "output_type": "stream",
     "text": [
      "Computing precision. This may take a while...\n",
      " "
     ]
    },
    {
     "name": "stderr",
     "output_type": "stream",
     "text": [
      "Loading cached processed dataset at /home/nya/.cache/huggingface/datasets/json/default-2ff5ce200e4fab69/0.0.0/a3e658c4731e59120d44081ac10bf85dc7e1388126b92338344ce9661907f253/cache-b8ce9658c214660f.arrow\n"
     ]
    },
    {
     "name": "stdout",
     "output_type": "stream",
     "text": [
      " "
     ]
    },
    {
     "name": "stderr",
     "output_type": "stream",
     "text": [
      "Loading cached processed dataset at /home/nya/.cache/huggingface/datasets/json/default-2ff5ce200e4fab69/0.0.0/a3e658c4731e59120d44081ac10bf85dc7e1388126b92338344ce9661907f253/cache-0f6230c3344d9c91.arrow\n"
     ]
    },
    {
     "name": "stdout",
     "output_type": "stream",
     "text": [
      " "
     ]
    },
    {
     "name": "stderr",
     "output_type": "stream",
     "text": [
      "Loading cached processed dataset at /home/nya/.cache/huggingface/datasets/json/default-2ff5ce200e4fab69/0.0.0/a3e658c4731e59120d44081ac10bf85dc7e1388126b92338344ce9661907f253/cache-37f5ecc7e27f8723.arrow\n"
     ]
    },
    {
     "name": "stdout",
     "output_type": "stream",
     "text": [
      " "
     ]
    },
    {
     "name": "stderr",
     "output_type": "stream",
     "text": [
      "Loading cached processed dataset at /home/nya/.cache/huggingface/datasets/json/default-2ff5ce200e4fab69/0.0.0/a3e658c4731e59120d44081ac10bf85dc7e1388126b92338344ce9661907f253/cache-41753afa925871c0.arrow\n",
      "Loading cached processed dataset at /home/nya/.cache/huggingface/datasets/json/default-2ff5ce200e4fab69/0.0.0/a3e658c4731e59120d44081ac10bf85dc7e1388126b92338344ce9661907f253/cache-5d54ae5d22bc133a.arrow\n",
      "Loading cached processed dataset at /home/nya/.cache/huggingface/datasets/json/default-2ff5ce200e4fab69/0.0.0/a3e658c4731e59120d44081ac10bf85dc7e1388126b92338344ce9661907f253/cache-3b3ae96990cae573.arrow\n",
      "Loading cached processed dataset at /home/nya/.cache/huggingface/datasets/json/default-2ff5ce200e4fab69/0.0.0/a3e658c4731e59120d44081ac10bf85dc7e1388126b92338344ce9661907f253/cache-cfac92a726fbf6f0.arrow\n",
      "Loading cached processed dataset at /home/nya/.cache/huggingface/datasets/json/default-2ff5ce200e4fab69/0.0.0/a3e658c4731e59120d44081ac10bf85dc7e1388126b92338344ce9661907f253/cache-c6a1516f444959df.arrow\n"
     ]
    },
    {
     "name": "stdout",
     "output_type": "stream",
     "text": [
      "Loading result dataset...\n"
     ]
    },
    {
     "name": "stderr",
     "output_type": "stream",
     "text": [
      "Using custom data configuration default-fa228fe9f1dc93f5\n",
      "Reusing dataset json (/home/nya/.cache/huggingface/datasets/json/default-fa228fe9f1dc93f5/0.0.0/a3e658c4731e59120d44081ac10bf85dc7e1388126b92338344ce9661907f253)\n",
      "Loading cached sorted indices for dataset at /home/nya/.cache/huggingface/datasets/json/default-fa228fe9f1dc93f5/0.0.0/a3e658c4731e59120d44081ac10bf85dc7e1388126b92338344ce9661907f253/cache-1250202ac6714cbe.arrow\n"
     ]
    },
    {
     "name": "stdout",
     "output_type": "stream",
     "text": [
      "Filtering ground truth dataset...\n",
      " "
     ]
    },
    {
     "name": "stderr",
     "output_type": "stream",
     "text": [
      "Loading cached processed dataset at /home/nya/.cache/huggingface/datasets/Skatinger___json/Skatinger--wikipedia-persons-masked-476ecfa923442f0e/0.0.0/a3e658c4731e59120d44081ac10bf85dc7e1388126b92338344ce9661907f253/cache-cf26ada08187e21b_00000_of_00004.arrow\n"
     ]
    },
    {
     "name": "stdout",
     "output_type": "stream",
     "text": [
      " "
     ]
    },
    {
     "name": "stderr",
     "output_type": "stream",
     "text": [
      "Loading cached processed dataset at /home/nya/.cache/huggingface/datasets/Skatinger___json/Skatinger--wikipedia-persons-masked-476ecfa923442f0e/0.0.0/a3e658c4731e59120d44081ac10bf85dc7e1388126b92338344ce9661907f253/cache-cf26ada08187e21b_00001_of_00004.arrow\n"
     ]
    },
    {
     "name": "stdout",
     "output_type": "stream",
     "text": [
      " "
     ]
    },
    {
     "name": "stderr",
     "output_type": "stream",
     "text": [
      "Loading cached processed dataset at /home/nya/.cache/huggingface/datasets/Skatinger___json/Skatinger--wikipedia-persons-masked-476ecfa923442f0e/0.0.0/a3e658c4731e59120d44081ac10bf85dc7e1388126b92338344ce9661907f253/cache-cf26ada08187e21b_00002_of_00004.arrow\n"
     ]
    },
    {
     "name": "stdout",
     "output_type": "stream",
     "text": [
      " "
     ]
    },
    {
     "name": "stderr",
     "output_type": "stream",
     "text": [
      "Loading cached processed dataset at /home/nya/.cache/huggingface/datasets/Skatinger___json/Skatinger--wikipedia-persons-masked-476ecfa923442f0e/0.0.0/a3e658c4731e59120d44081ac10bf85dc7e1388126b92338344ce9661907f253/cache-cf26ada08187e21b_00003_of_00004.arrow\n",
      "Loading cached sorted indices for dataset at /home/nya/.cache/huggingface/datasets/Skatinger___json/Skatinger--wikipedia-persons-masked-476ecfa923442f0e/0.0.0/a3e658c4731e59120d44081ac10bf85dc7e1388126b92338344ce9661907f253/cache-375cfc61b14637a4.arrow\n",
      "Loading cached processed dataset at /home/nya/.cache/huggingface/datasets/json/default-fa228fe9f1dc93f5/0.0.0/a3e658c4731e59120d44081ac10bf85dc7e1388126b92338344ce9661907f253/cache-17cc38a11b2f542a.arrow\n"
     ]
    },
    {
     "name": "stdout",
     "output_type": "stream",
     "text": [
      "Joining datasets...\n",
      "Computing precision. This may take a while...\n",
      " "
     ]
    },
    {
     "name": "stderr",
     "output_type": "stream",
     "text": [
      "Loading cached processed dataset at /home/nya/.cache/huggingface/datasets/json/default-fa228fe9f1dc93f5/0.0.0/a3e658c4731e59120d44081ac10bf85dc7e1388126b92338344ce9661907f253/cache-bf56420c5aed4092.arrow\n"
     ]
    },
    {
     "name": "stdout",
     "output_type": "stream",
     "text": [
      " "
     ]
    },
    {
     "name": "stderr",
     "output_type": "stream",
     "text": [
      "Loading cached processed dataset at /home/nya/.cache/huggingface/datasets/json/default-fa228fe9f1dc93f5/0.0.0/a3e658c4731e59120d44081ac10bf85dc7e1388126b92338344ce9661907f253/cache-cdb0a0c46a630532.arrow\n"
     ]
    },
    {
     "name": "stdout",
     "output_type": "stream",
     "text": [
      " "
     ]
    },
    {
     "name": "stderr",
     "output_type": "stream",
     "text": [
      "Loading cached processed dataset at /home/nya/.cache/huggingface/datasets/json/default-fa228fe9f1dc93f5/0.0.0/a3e658c4731e59120d44081ac10bf85dc7e1388126b92338344ce9661907f253/cache-d930f7f50cc50903.arrow\n"
     ]
    },
    {
     "name": "stdout",
     "output_type": "stream",
     "text": [
      " "
     ]
    },
    {
     "name": "stderr",
     "output_type": "stream",
     "text": [
      "Loading cached processed dataset at /home/nya/.cache/huggingface/datasets/json/default-fa228fe9f1dc93f5/0.0.0/a3e658c4731e59120d44081ac10bf85dc7e1388126b92338344ce9661907f253/cache-0e40d5a3741a3aa9.arrow\n",
      "Loading cached processed dataset at /home/nya/.cache/huggingface/datasets/json/default-fa228fe9f1dc93f5/0.0.0/a3e658c4731e59120d44081ac10bf85dc7e1388126b92338344ce9661907f253/cache-b0ce109c4efaa1c1.arrow\n",
      "Loading cached processed dataset at /home/nya/.cache/huggingface/datasets/json/default-fa228fe9f1dc93f5/0.0.0/a3e658c4731e59120d44081ac10bf85dc7e1388126b92338344ce9661907f253/cache-5254af1004cd34ca.arrow\n",
      "Loading cached processed dataset at /home/nya/.cache/huggingface/datasets/json/default-fa228fe9f1dc93f5/0.0.0/a3e658c4731e59120d44081ac10bf85dc7e1388126b92338344ce9661907f253/cache-2ec826641fe10b5f.arrow\n",
      "Loading cached processed dataset at /home/nya/.cache/huggingface/datasets/json/default-fa228fe9f1dc93f5/0.0.0/a3e658c4731e59120d44081ac10bf85dc7e1388126b92338344ce9661907f253/cache-84898ed7629f720d.arrow\n"
     ]
    },
    {
     "name": "stdout",
     "output_type": "stream",
     "text": [
      "Loading result dataset...\n"
     ]
    },
    {
     "name": "stderr",
     "output_type": "stream",
     "text": [
      "Using custom data configuration default-814bc2201a8a9aff\n",
      "Reusing dataset json (/home/nya/.cache/huggingface/datasets/json/default-814bc2201a8a9aff/0.0.0/a3e658c4731e59120d44081ac10bf85dc7e1388126b92338344ce9661907f253)\n",
      "Loading cached sorted indices for dataset at /home/nya/.cache/huggingface/datasets/json/default-814bc2201a8a9aff/0.0.0/a3e658c4731e59120d44081ac10bf85dc7e1388126b92338344ce9661907f253/cache-2bd42124c8d2ff85.arrow\n"
     ]
    },
    {
     "name": "stdout",
     "output_type": "stream",
     "text": [
      "Filtering ground truth dataset...\n",
      " "
     ]
    },
    {
     "name": "stderr",
     "output_type": "stream",
     "text": [
      "Loading cached processed dataset at /home/nya/.cache/huggingface/datasets/Skatinger___json/Skatinger--wikipedia-persons-masked-476ecfa923442f0e/0.0.0/a3e658c4731e59120d44081ac10bf85dc7e1388126b92338344ce9661907f253/cache-cf26ada08187e21b_00000_of_00004.arrow\n"
     ]
    },
    {
     "name": "stdout",
     "output_type": "stream",
     "text": [
      " "
     ]
    },
    {
     "name": "stderr",
     "output_type": "stream",
     "text": [
      "Loading cached processed dataset at /home/nya/.cache/huggingface/datasets/Skatinger___json/Skatinger--wikipedia-persons-masked-476ecfa923442f0e/0.0.0/a3e658c4731e59120d44081ac10bf85dc7e1388126b92338344ce9661907f253/cache-cf26ada08187e21b_00001_of_00004.arrow\n"
     ]
    },
    {
     "name": "stdout",
     "output_type": "stream",
     "text": [
      " "
     ]
    },
    {
     "name": "stderr",
     "output_type": "stream",
     "text": [
      "Loading cached processed dataset at /home/nya/.cache/huggingface/datasets/Skatinger___json/Skatinger--wikipedia-persons-masked-476ecfa923442f0e/0.0.0/a3e658c4731e59120d44081ac10bf85dc7e1388126b92338344ce9661907f253/cache-cf26ada08187e21b_00002_of_00004.arrow\n"
     ]
    },
    {
     "name": "stdout",
     "output_type": "stream",
     "text": [
      " "
     ]
    },
    {
     "name": "stderr",
     "output_type": "stream",
     "text": [
      "Loading cached processed dataset at /home/nya/.cache/huggingface/datasets/Skatinger___json/Skatinger--wikipedia-persons-masked-476ecfa923442f0e/0.0.0/a3e658c4731e59120d44081ac10bf85dc7e1388126b92338344ce9661907f253/cache-cf26ada08187e21b_00003_of_00004.arrow\n",
      "Loading cached sorted indices for dataset at /home/nya/.cache/huggingface/datasets/Skatinger___json/Skatinger--wikipedia-persons-masked-476ecfa923442f0e/0.0.0/a3e658c4731e59120d44081ac10bf85dc7e1388126b92338344ce9661907f253/cache-375cfc61b14637a4.arrow\n",
      "Loading cached processed dataset at /home/nya/.cache/huggingface/datasets/json/default-814bc2201a8a9aff/0.0.0/a3e658c4731e59120d44081ac10bf85dc7e1388126b92338344ce9661907f253/cache-06c9871f27c5c7cc.arrow\n"
     ]
    },
    {
     "name": "stdout",
     "output_type": "stream",
     "text": [
      "Joining datasets...\n",
      "Computing precision. This may take a while...\n",
      " "
     ]
    },
    {
     "name": "stderr",
     "output_type": "stream",
     "text": [
      "Loading cached processed dataset at /home/nya/.cache/huggingface/datasets/json/default-814bc2201a8a9aff/0.0.0/a3e658c4731e59120d44081ac10bf85dc7e1388126b92338344ce9661907f253/cache-0208fafaa342893c.arrow\n"
     ]
    },
    {
     "name": "stdout",
     "output_type": "stream",
     "text": [
      " "
     ]
    },
    {
     "name": "stderr",
     "output_type": "stream",
     "text": [
      "Loading cached processed dataset at /home/nya/.cache/huggingface/datasets/json/default-814bc2201a8a9aff/0.0.0/a3e658c4731e59120d44081ac10bf85dc7e1388126b92338344ce9661907f253/cache-fca5c6e4ab810f72.arrow\n"
     ]
    },
    {
     "name": "stdout",
     "output_type": "stream",
     "text": [
      " "
     ]
    },
    {
     "name": "stderr",
     "output_type": "stream",
     "text": [
      "Loading cached processed dataset at /home/nya/.cache/huggingface/datasets/json/default-814bc2201a8a9aff/0.0.0/a3e658c4731e59120d44081ac10bf85dc7e1388126b92338344ce9661907f253/cache-4753b2fab1f55e51.arrow\n"
     ]
    },
    {
     "name": "stdout",
     "output_type": "stream",
     "text": [
      " "
     ]
    },
    {
     "name": "stderr",
     "output_type": "stream",
     "text": [
      "Loading cached processed dataset at /home/nya/.cache/huggingface/datasets/json/default-814bc2201a8a9aff/0.0.0/a3e658c4731e59120d44081ac10bf85dc7e1388126b92338344ce9661907f253/cache-47a40962e24f4b69.arrow\n",
      "Loading cached processed dataset at /home/nya/.cache/huggingface/datasets/json/default-814bc2201a8a9aff/0.0.0/a3e658c4731e59120d44081ac10bf85dc7e1388126b92338344ce9661907f253/cache-14627415b681d7c9.arrow\n",
      "Loading cached processed dataset at /home/nya/.cache/huggingface/datasets/json/default-814bc2201a8a9aff/0.0.0/a3e658c4731e59120d44081ac10bf85dc7e1388126b92338344ce9661907f253/cache-42814f37313adc81.arrow\n",
      "Loading cached processed dataset at /home/nya/.cache/huggingface/datasets/json/default-814bc2201a8a9aff/0.0.0/a3e658c4731e59120d44081ac10bf85dc7e1388126b92338344ce9661907f253/cache-87384a1ff8f7158f.arrow\n",
      "Loading cached processed dataset at /home/nya/.cache/huggingface/datasets/json/default-814bc2201a8a9aff/0.0.0/a3e658c4731e59120d44081ac10bf85dc7e1388126b92338344ce9661907f253/cache-e2b5871dc1fe668c.arrow\n"
     ]
    },
    {
     "name": "stdout",
     "output_type": "stream",
     "text": [
      "Loading result dataset...\n"
     ]
    },
    {
     "name": "stderr",
     "output_type": "stream",
     "text": [
      "Using custom data configuration default-c6a23c492b32ae7c\n",
      "Reusing dataset json (/home/nya/.cache/huggingface/datasets/json/default-c6a23c492b32ae7c/0.0.0/a3e658c4731e59120d44081ac10bf85dc7e1388126b92338344ce9661907f253)\n",
      "Loading cached sorted indices for dataset at /home/nya/.cache/huggingface/datasets/json/default-c6a23c492b32ae7c/0.0.0/a3e658c4731e59120d44081ac10bf85dc7e1388126b92338344ce9661907f253/cache-08e06b79eb6b6e31.arrow\n"
     ]
    },
    {
     "name": "stdout",
     "output_type": "stream",
     "text": [
      "Filtering ground truth dataset...\n",
      " "
     ]
    },
    {
     "name": "stderr",
     "output_type": "stream",
     "text": [
      "Loading cached processed dataset at /home/nya/.cache/huggingface/datasets/Skatinger___json/Skatinger--wikipedia-persons-masked-476ecfa923442f0e/0.0.0/a3e658c4731e59120d44081ac10bf85dc7e1388126b92338344ce9661907f253/cache-cf26ada08187e21b_00000_of_00004.arrow\n"
     ]
    },
    {
     "name": "stdout",
     "output_type": "stream",
     "text": [
      " "
     ]
    },
    {
     "name": "stderr",
     "output_type": "stream",
     "text": [
      "Loading cached processed dataset at /home/nya/.cache/huggingface/datasets/Skatinger___json/Skatinger--wikipedia-persons-masked-476ecfa923442f0e/0.0.0/a3e658c4731e59120d44081ac10bf85dc7e1388126b92338344ce9661907f253/cache-cf26ada08187e21b_00001_of_00004.arrow\n"
     ]
    },
    {
     "name": "stdout",
     "output_type": "stream",
     "text": [
      " "
     ]
    },
    {
     "name": "stderr",
     "output_type": "stream",
     "text": [
      "Loading cached processed dataset at /home/nya/.cache/huggingface/datasets/Skatinger___json/Skatinger--wikipedia-persons-masked-476ecfa923442f0e/0.0.0/a3e658c4731e59120d44081ac10bf85dc7e1388126b92338344ce9661907f253/cache-cf26ada08187e21b_00002_of_00004.arrow\n"
     ]
    },
    {
     "name": "stdout",
     "output_type": "stream",
     "text": [
      " "
     ]
    },
    {
     "name": "stderr",
     "output_type": "stream",
     "text": [
      "Loading cached processed dataset at /home/nya/.cache/huggingface/datasets/Skatinger___json/Skatinger--wikipedia-persons-masked-476ecfa923442f0e/0.0.0/a3e658c4731e59120d44081ac10bf85dc7e1388126b92338344ce9661907f253/cache-cf26ada08187e21b_00003_of_00004.arrow\n",
      "Loading cached sorted indices for dataset at /home/nya/.cache/huggingface/datasets/Skatinger___json/Skatinger--wikipedia-persons-masked-476ecfa923442f0e/0.0.0/a3e658c4731e59120d44081ac10bf85dc7e1388126b92338344ce9661907f253/cache-375cfc61b14637a4.arrow\n",
      "Loading cached processed dataset at /home/nya/.cache/huggingface/datasets/json/default-c6a23c492b32ae7c/0.0.0/a3e658c4731e59120d44081ac10bf85dc7e1388126b92338344ce9661907f253/cache-f01a83a1d4987684.arrow\n"
     ]
    },
    {
     "name": "stdout",
     "output_type": "stream",
     "text": [
      "Joining datasets...\n",
      "Computing precision. This may take a while...\n",
      " "
     ]
    },
    {
     "name": "stderr",
     "output_type": "stream",
     "text": [
      "Loading cached processed dataset at /home/nya/.cache/huggingface/datasets/json/default-c6a23c492b32ae7c/0.0.0/a3e658c4731e59120d44081ac10bf85dc7e1388126b92338344ce9661907f253/cache-7ef31e0d9952be30.arrow\n"
     ]
    },
    {
     "name": "stdout",
     "output_type": "stream",
     "text": [
      " "
     ]
    },
    {
     "name": "stderr",
     "output_type": "stream",
     "text": [
      "Loading cached processed dataset at /home/nya/.cache/huggingface/datasets/json/default-c6a23c492b32ae7c/0.0.0/a3e658c4731e59120d44081ac10bf85dc7e1388126b92338344ce9661907f253/cache-bfb51f6b1d8f9103.arrow\n"
     ]
    },
    {
     "name": "stdout",
     "output_type": "stream",
     "text": [
      " "
     ]
    },
    {
     "name": "stderr",
     "output_type": "stream",
     "text": [
      "Loading cached processed dataset at /home/nya/.cache/huggingface/datasets/json/default-c6a23c492b32ae7c/0.0.0/a3e658c4731e59120d44081ac10bf85dc7e1388126b92338344ce9661907f253/cache-bf5eec15e155a101.arrow\n"
     ]
    },
    {
     "name": "stdout",
     "output_type": "stream",
     "text": [
      " "
     ]
    },
    {
     "name": "stderr",
     "output_type": "stream",
     "text": [
      "Loading cached processed dataset at /home/nya/.cache/huggingface/datasets/json/default-c6a23c492b32ae7c/0.0.0/a3e658c4731e59120d44081ac10bf85dc7e1388126b92338344ce9661907f253/cache-2ab0e4d846cbca68.arrow\n",
      "Loading cached processed dataset at /home/nya/.cache/huggingface/datasets/json/default-c6a23c492b32ae7c/0.0.0/a3e658c4731e59120d44081ac10bf85dc7e1388126b92338344ce9661907f253/cache-f6479f3ea22e0a09.arrow\n",
      "Loading cached processed dataset at /home/nya/.cache/huggingface/datasets/json/default-c6a23c492b32ae7c/0.0.0/a3e658c4731e59120d44081ac10bf85dc7e1388126b92338344ce9661907f253/cache-7ac8857dd7248f76.arrow\n",
      "Loading cached processed dataset at /home/nya/.cache/huggingface/datasets/json/default-c6a23c492b32ae7c/0.0.0/a3e658c4731e59120d44081ac10bf85dc7e1388126b92338344ce9661907f253/cache-63b59bdab6613480.arrow\n",
      "Loading cached processed dataset at /home/nya/.cache/huggingface/datasets/json/default-c6a23c492b32ae7c/0.0.0/a3e658c4731e59120d44081ac10bf85dc7e1388126b92338344ce9661907f253/cache-74157ebfb78862ea.arrow\n"
     ]
    },
    {
     "name": "stdout",
     "output_type": "stream",
     "text": [
      "Loading result dataset...\n"
     ]
    },
    {
     "name": "stderr",
     "output_type": "stream",
     "text": [
      "Using custom data configuration default-749731cd34f108c5\n",
      "Reusing dataset json (/home/nya/.cache/huggingface/datasets/json/default-749731cd34f108c5/0.0.0/a3e658c4731e59120d44081ac10bf85dc7e1388126b92338344ce9661907f253)\n",
      "Loading cached sorted indices for dataset at /home/nya/.cache/huggingface/datasets/json/default-749731cd34f108c5/0.0.0/a3e658c4731e59120d44081ac10bf85dc7e1388126b92338344ce9661907f253/cache-3b77b5232d7ba083.arrow\n"
     ]
    },
    {
     "name": "stdout",
     "output_type": "stream",
     "text": [
      "Filtering ground truth dataset...\n",
      " "
     ]
    },
    {
     "name": "stderr",
     "output_type": "stream",
     "text": [
      "Loading cached processed dataset at /home/nya/.cache/huggingface/datasets/Skatinger___json/Skatinger--wikipedia-persons-masked-476ecfa923442f0e/0.0.0/a3e658c4731e59120d44081ac10bf85dc7e1388126b92338344ce9661907f253/cache-cf26ada08187e21b_00000_of_00004.arrow\n"
     ]
    },
    {
     "name": "stdout",
     "output_type": "stream",
     "text": [
      " "
     ]
    },
    {
     "name": "stderr",
     "output_type": "stream",
     "text": [
      "Loading cached processed dataset at /home/nya/.cache/huggingface/datasets/Skatinger___json/Skatinger--wikipedia-persons-masked-476ecfa923442f0e/0.0.0/a3e658c4731e59120d44081ac10bf85dc7e1388126b92338344ce9661907f253/cache-cf26ada08187e21b_00001_of_00004.arrow\n"
     ]
    },
    {
     "name": "stdout",
     "output_type": "stream",
     "text": [
      " "
     ]
    },
    {
     "name": "stderr",
     "output_type": "stream",
     "text": [
      "Loading cached processed dataset at /home/nya/.cache/huggingface/datasets/Skatinger___json/Skatinger--wikipedia-persons-masked-476ecfa923442f0e/0.0.0/a3e658c4731e59120d44081ac10bf85dc7e1388126b92338344ce9661907f253/cache-cf26ada08187e21b_00002_of_00004.arrow\n"
     ]
    },
    {
     "name": "stdout",
     "output_type": "stream",
     "text": [
      " "
     ]
    },
    {
     "name": "stderr",
     "output_type": "stream",
     "text": [
      "Loading cached processed dataset at /home/nya/.cache/huggingface/datasets/Skatinger___json/Skatinger--wikipedia-persons-masked-476ecfa923442f0e/0.0.0/a3e658c4731e59120d44081ac10bf85dc7e1388126b92338344ce9661907f253/cache-cf26ada08187e21b_00003_of_00004.arrow\n",
      "Loading cached sorted indices for dataset at /home/nya/.cache/huggingface/datasets/Skatinger___json/Skatinger--wikipedia-persons-masked-476ecfa923442f0e/0.0.0/a3e658c4731e59120d44081ac10bf85dc7e1388126b92338344ce9661907f253/cache-375cfc61b14637a4.arrow\n",
      "Loading cached processed dataset at /home/nya/.cache/huggingface/datasets/json/default-749731cd34f108c5/0.0.0/a3e658c4731e59120d44081ac10bf85dc7e1388126b92338344ce9661907f253/cache-74be921c5d34d97f.arrow\n"
     ]
    },
    {
     "name": "stdout",
     "output_type": "stream",
     "text": [
      "Joining datasets...\n",
      "Computing precision. This may take a while...\n",
      " "
     ]
    },
    {
     "name": "stderr",
     "output_type": "stream",
     "text": [
      "Loading cached processed dataset at /home/nya/.cache/huggingface/datasets/json/default-749731cd34f108c5/0.0.0/a3e658c4731e59120d44081ac10bf85dc7e1388126b92338344ce9661907f253/cache-5df5c49e65e91bda.arrow\n"
     ]
    },
    {
     "name": "stdout",
     "output_type": "stream",
     "text": [
      " "
     ]
    },
    {
     "name": "stderr",
     "output_type": "stream",
     "text": [
      "Loading cached processed dataset at /home/nya/.cache/huggingface/datasets/json/default-749731cd34f108c5/0.0.0/a3e658c4731e59120d44081ac10bf85dc7e1388126b92338344ce9661907f253/cache-b3a99fbbd8251665.arrow\n"
     ]
    },
    {
     "name": "stdout",
     "output_type": "stream",
     "text": [
      " "
     ]
    },
    {
     "name": "stderr",
     "output_type": "stream",
     "text": [
      "Loading cached processed dataset at /home/nya/.cache/huggingface/datasets/json/default-749731cd34f108c5/0.0.0/a3e658c4731e59120d44081ac10bf85dc7e1388126b92338344ce9661907f253/cache-5162c3ca383c5d41.arrow\n"
     ]
    },
    {
     "name": "stdout",
     "output_type": "stream",
     "text": [
      " "
     ]
    },
    {
     "name": "stderr",
     "output_type": "stream",
     "text": [
      "Loading cached processed dataset at /home/nya/.cache/huggingface/datasets/json/default-749731cd34f108c5/0.0.0/a3e658c4731e59120d44081ac10bf85dc7e1388126b92338344ce9661907f253/cache-8c34ff155948798f.arrow\n",
      "Loading cached processed dataset at /home/nya/.cache/huggingface/datasets/json/default-749731cd34f108c5/0.0.0/a3e658c4731e59120d44081ac10bf85dc7e1388126b92338344ce9661907f253/cache-b64725ac8e84f5a6.arrow\n",
      "Loading cached processed dataset at /home/nya/.cache/huggingface/datasets/json/default-749731cd34f108c5/0.0.0/a3e658c4731e59120d44081ac10bf85dc7e1388126b92338344ce9661907f253/cache-9944f935a45f206e.arrow\n",
      "Loading cached processed dataset at /home/nya/.cache/huggingface/datasets/json/default-749731cd34f108c5/0.0.0/a3e658c4731e59120d44081ac10bf85dc7e1388126b92338344ce9661907f253/cache-c019c6c7088ca65a.arrow\n",
      "Loading cached processed dataset at /home/nya/.cache/huggingface/datasets/json/default-749731cd34f108c5/0.0.0/a3e658c4731e59120d44081ac10bf85dc7e1388126b92338344ce9661907f253/cache-7f42a1c426696d5f.arrow\n"
     ]
    },
    {
     "name": "stdout",
     "output_type": "stream",
     "text": [
      "Loading result dataset...\n"
     ]
    },
    {
     "name": "stderr",
     "output_type": "stream",
     "text": [
      "Using custom data configuration default-5696ee8f95cf789e\n",
      "Reusing dataset json (/home/nya/.cache/huggingface/datasets/json/default-5696ee8f95cf789e/0.0.0/a3e658c4731e59120d44081ac10bf85dc7e1388126b92338344ce9661907f253)\n",
      "Loading cached sorted indices for dataset at /home/nya/.cache/huggingface/datasets/json/default-5696ee8f95cf789e/0.0.0/a3e658c4731e59120d44081ac10bf85dc7e1388126b92338344ce9661907f253/cache-578865906d2f195e.arrow\n"
     ]
    },
    {
     "name": "stdout",
     "output_type": "stream",
     "text": [
      "Filtering ground truth dataset...\n",
      " "
     ]
    },
    {
     "name": "stderr",
     "output_type": "stream",
     "text": [
      "Loading cached processed dataset at /home/nya/.cache/huggingface/datasets/Skatinger___json/Skatinger--wikipedia-persons-masked-476ecfa923442f0e/0.0.0/a3e658c4731e59120d44081ac10bf85dc7e1388126b92338344ce9661907f253/cache-cf26ada08187e21b_00000_of_00004.arrow\n"
     ]
    },
    {
     "name": "stdout",
     "output_type": "stream",
     "text": [
      " "
     ]
    },
    {
     "name": "stderr",
     "output_type": "stream",
     "text": [
      "Loading cached processed dataset at /home/nya/.cache/huggingface/datasets/Skatinger___json/Skatinger--wikipedia-persons-masked-476ecfa923442f0e/0.0.0/a3e658c4731e59120d44081ac10bf85dc7e1388126b92338344ce9661907f253/cache-cf26ada08187e21b_00001_of_00004.arrow\n"
     ]
    },
    {
     "name": "stdout",
     "output_type": "stream",
     "text": [
      " "
     ]
    },
    {
     "name": "stderr",
     "output_type": "stream",
     "text": [
      "Loading cached processed dataset at /home/nya/.cache/huggingface/datasets/Skatinger___json/Skatinger--wikipedia-persons-masked-476ecfa923442f0e/0.0.0/a3e658c4731e59120d44081ac10bf85dc7e1388126b92338344ce9661907f253/cache-cf26ada08187e21b_00002_of_00004.arrow\n"
     ]
    },
    {
     "name": "stdout",
     "output_type": "stream",
     "text": [
      " "
     ]
    },
    {
     "name": "stderr",
     "output_type": "stream",
     "text": [
      "Loading cached processed dataset at /home/nya/.cache/huggingface/datasets/Skatinger___json/Skatinger--wikipedia-persons-masked-476ecfa923442f0e/0.0.0/a3e658c4731e59120d44081ac10bf85dc7e1388126b92338344ce9661907f253/cache-cf26ada08187e21b_00003_of_00004.arrow\n",
      "Loading cached sorted indices for dataset at /home/nya/.cache/huggingface/datasets/Skatinger___json/Skatinger--wikipedia-persons-masked-476ecfa923442f0e/0.0.0/a3e658c4731e59120d44081ac10bf85dc7e1388126b92338344ce9661907f253/cache-375cfc61b14637a4.arrow\n",
      "Loading cached processed dataset at /home/nya/.cache/huggingface/datasets/json/default-5696ee8f95cf789e/0.0.0/a3e658c4731e59120d44081ac10bf85dc7e1388126b92338344ce9661907f253/cache-925b077d23d03ba0.arrow\n"
     ]
    },
    {
     "name": "stdout",
     "output_type": "stream",
     "text": [
      "Joining datasets...\n",
      "Computing precision. This may take a while...\n",
      " "
     ]
    },
    {
     "name": "stderr",
     "output_type": "stream",
     "text": [
      "Loading cached processed dataset at /home/nya/.cache/huggingface/datasets/json/default-5696ee8f95cf789e/0.0.0/a3e658c4731e59120d44081ac10bf85dc7e1388126b92338344ce9661907f253/cache-0681eb04b2991ba9.arrow\n"
     ]
    },
    {
     "name": "stdout",
     "output_type": "stream",
     "text": [
      " "
     ]
    },
    {
     "name": "stderr",
     "output_type": "stream",
     "text": [
      "Loading cached processed dataset at /home/nya/.cache/huggingface/datasets/json/default-5696ee8f95cf789e/0.0.0/a3e658c4731e59120d44081ac10bf85dc7e1388126b92338344ce9661907f253/cache-0bf116dd6c51dc1c.arrow\n"
     ]
    },
    {
     "name": "stdout",
     "output_type": "stream",
     "text": [
      " "
     ]
    },
    {
     "name": "stderr",
     "output_type": "stream",
     "text": [
      "Loading cached processed dataset at /home/nya/.cache/huggingface/datasets/json/default-5696ee8f95cf789e/0.0.0/a3e658c4731e59120d44081ac10bf85dc7e1388126b92338344ce9661907f253/cache-d6e243974d21fab8.arrow\n"
     ]
    },
    {
     "name": "stdout",
     "output_type": "stream",
     "text": [
      " "
     ]
    },
    {
     "name": "stderr",
     "output_type": "stream",
     "text": [
      "Loading cached processed dataset at /home/nya/.cache/huggingface/datasets/json/default-5696ee8f95cf789e/0.0.0/a3e658c4731e59120d44081ac10bf85dc7e1388126b92338344ce9661907f253/cache-f3f2318e889b024c.arrow\n",
      "Loading cached processed dataset at /home/nya/.cache/huggingface/datasets/json/default-5696ee8f95cf789e/0.0.0/a3e658c4731e59120d44081ac10bf85dc7e1388126b92338344ce9661907f253/cache-a61a8146025ec12f.arrow\n",
      "Loading cached processed dataset at /home/nya/.cache/huggingface/datasets/json/default-5696ee8f95cf789e/0.0.0/a3e658c4731e59120d44081ac10bf85dc7e1388126b92338344ce9661907f253/cache-3a3668fcadcf8b78.arrow\n",
      "Loading cached processed dataset at /home/nya/.cache/huggingface/datasets/json/default-5696ee8f95cf789e/0.0.0/a3e658c4731e59120d44081ac10bf85dc7e1388126b92338344ce9661907f253/cache-9a6da104e0c305ef.arrow\n",
      "Loading cached processed dataset at /home/nya/.cache/huggingface/datasets/json/default-5696ee8f95cf789e/0.0.0/a3e658c4731e59120d44081ac10bf85dc7e1388126b92338344ce9661907f253/cache-6e31ccad7219984d.arrow\n"
     ]
    },
    {
     "name": "stdout",
     "output_type": "stream",
     "text": [
      "Loading result dataset...\n"
     ]
    },
    {
     "name": "stderr",
     "output_type": "stream",
     "text": [
      "Using custom data configuration default-207682a8bc0ef491\n",
      "Reusing dataset json (/home/nya/.cache/huggingface/datasets/json/default-207682a8bc0ef491/0.0.0/a3e658c4731e59120d44081ac10bf85dc7e1388126b92338344ce9661907f253)\n",
      "Loading cached sorted indices for dataset at /home/nya/.cache/huggingface/datasets/json/default-207682a8bc0ef491/0.0.0/a3e658c4731e59120d44081ac10bf85dc7e1388126b92338344ce9661907f253/cache-4ada224b5c076b5c.arrow\n"
     ]
    },
    {
     "name": "stdout",
     "output_type": "stream",
     "text": [
      "Filtering ground truth dataset...\n",
      " "
     ]
    },
    {
     "name": "stderr",
     "output_type": "stream",
     "text": [
      "Loading cached processed dataset at /home/nya/.cache/huggingface/datasets/Skatinger___json/Skatinger--wikipedia-persons-masked-476ecfa923442f0e/0.0.0/a3e658c4731e59120d44081ac10bf85dc7e1388126b92338344ce9661907f253/cache-cf26ada08187e21b_00000_of_00004.arrow\n"
     ]
    },
    {
     "name": "stdout",
     "output_type": "stream",
     "text": [
      " "
     ]
    },
    {
     "name": "stderr",
     "output_type": "stream",
     "text": [
      "Loading cached processed dataset at /home/nya/.cache/huggingface/datasets/Skatinger___json/Skatinger--wikipedia-persons-masked-476ecfa923442f0e/0.0.0/a3e658c4731e59120d44081ac10bf85dc7e1388126b92338344ce9661907f253/cache-cf26ada08187e21b_00001_of_00004.arrow\n"
     ]
    },
    {
     "name": "stdout",
     "output_type": "stream",
     "text": [
      " "
     ]
    },
    {
     "name": "stderr",
     "output_type": "stream",
     "text": [
      "Loading cached processed dataset at /home/nya/.cache/huggingface/datasets/Skatinger___json/Skatinger--wikipedia-persons-masked-476ecfa923442f0e/0.0.0/a3e658c4731e59120d44081ac10bf85dc7e1388126b92338344ce9661907f253/cache-cf26ada08187e21b_00002_of_00004.arrow\n"
     ]
    },
    {
     "name": "stdout",
     "output_type": "stream",
     "text": [
      " "
     ]
    },
    {
     "name": "stderr",
     "output_type": "stream",
     "text": [
      "Loading cached processed dataset at /home/nya/.cache/huggingface/datasets/Skatinger___json/Skatinger--wikipedia-persons-masked-476ecfa923442f0e/0.0.0/a3e658c4731e59120d44081ac10bf85dc7e1388126b92338344ce9661907f253/cache-cf26ada08187e21b_00003_of_00004.arrow\n",
      "Loading cached sorted indices for dataset at /home/nya/.cache/huggingface/datasets/Skatinger___json/Skatinger--wikipedia-persons-masked-476ecfa923442f0e/0.0.0/a3e658c4731e59120d44081ac10bf85dc7e1388126b92338344ce9661907f253/cache-375cfc61b14637a4.arrow\n",
      "Loading cached processed dataset at /home/nya/.cache/huggingface/datasets/json/default-207682a8bc0ef491/0.0.0/a3e658c4731e59120d44081ac10bf85dc7e1388126b92338344ce9661907f253/cache-b2b95d7552e00f91.arrow\n"
     ]
    },
    {
     "name": "stdout",
     "output_type": "stream",
     "text": [
      "Joining datasets...\n",
      "Computing precision. This may take a while...\n",
      " "
     ]
    },
    {
     "name": "stderr",
     "output_type": "stream",
     "text": [
      "Loading cached processed dataset at /home/nya/.cache/huggingface/datasets/json/default-207682a8bc0ef491/0.0.0/a3e658c4731e59120d44081ac10bf85dc7e1388126b92338344ce9661907f253/cache-258a2333965e7ea8.arrow\n"
     ]
    },
    {
     "name": "stdout",
     "output_type": "stream",
     "text": [
      " "
     ]
    },
    {
     "name": "stderr",
     "output_type": "stream",
     "text": [
      "Loading cached processed dataset at /home/nya/.cache/huggingface/datasets/json/default-207682a8bc0ef491/0.0.0/a3e658c4731e59120d44081ac10bf85dc7e1388126b92338344ce9661907f253/cache-972f9dfb07e5ab8c.arrow\n"
     ]
    },
    {
     "name": "stdout",
     "output_type": "stream",
     "text": [
      " "
     ]
    },
    {
     "name": "stderr",
     "output_type": "stream",
     "text": [
      "Loading cached processed dataset at /home/nya/.cache/huggingface/datasets/json/default-207682a8bc0ef491/0.0.0/a3e658c4731e59120d44081ac10bf85dc7e1388126b92338344ce9661907f253/cache-0cb239140cc41f3d.arrow\n"
     ]
    },
    {
     "name": "stdout",
     "output_type": "stream",
     "text": [
      " "
     ]
    },
    {
     "name": "stderr",
     "output_type": "stream",
     "text": [
      "Loading cached processed dataset at /home/nya/.cache/huggingface/datasets/json/default-207682a8bc0ef491/0.0.0/a3e658c4731e59120d44081ac10bf85dc7e1388126b92338344ce9661907f253/cache-bae3556b3a57462d.arrow\n",
      "Loading cached processed dataset at /home/nya/.cache/huggingface/datasets/json/default-207682a8bc0ef491/0.0.0/a3e658c4731e59120d44081ac10bf85dc7e1388126b92338344ce9661907f253/cache-cf82994bb45d7da1.arrow\n",
      "Loading cached processed dataset at /home/nya/.cache/huggingface/datasets/json/default-207682a8bc0ef491/0.0.0/a3e658c4731e59120d44081ac10bf85dc7e1388126b92338344ce9661907f253/cache-b1a0613cb53e3c3d.arrow\n",
      "Loading cached processed dataset at /home/nya/.cache/huggingface/datasets/json/default-207682a8bc0ef491/0.0.0/a3e658c4731e59120d44081ac10bf85dc7e1388126b92338344ce9661907f253/cache-0715760d208b600a.arrow\n",
      "Loading cached processed dataset at /home/nya/.cache/huggingface/datasets/json/default-207682a8bc0ef491/0.0.0/a3e658c4731e59120d44081ac10bf85dc7e1388126b92338344ce9661907f253/cache-b8b2338bc01a254b.arrow\n"
     ]
    },
    {
     "name": "stdout",
     "output_type": "stream",
     "text": [
      "Loading result dataset...\n"
     ]
    },
    {
     "name": "stderr",
     "output_type": "stream",
     "text": [
      "Using custom data configuration default-c70ca3a8fcff438c\n",
      "Reusing dataset json (/home/nya/.cache/huggingface/datasets/json/default-c70ca3a8fcff438c/0.0.0/a3e658c4731e59120d44081ac10bf85dc7e1388126b92338344ce9661907f253)\n",
      "Loading cached sorted indices for dataset at /home/nya/.cache/huggingface/datasets/json/default-c70ca3a8fcff438c/0.0.0/a3e658c4731e59120d44081ac10bf85dc7e1388126b92338344ce9661907f253/cache-6d1eb80653fa0e0b.arrow\n"
     ]
    },
    {
     "name": "stdout",
     "output_type": "stream",
     "text": [
      "Filtering ground truth dataset...\n",
      " "
     ]
    },
    {
     "name": "stderr",
     "output_type": "stream",
     "text": [
      "Loading cached processed dataset at /home/nya/.cache/huggingface/datasets/Skatinger___json/Skatinger--wikipedia-persons-masked-476ecfa923442f0e/0.0.0/a3e658c4731e59120d44081ac10bf85dc7e1388126b92338344ce9661907f253/cache-cf26ada08187e21b_00000_of_00004.arrow\n"
     ]
    },
    {
     "name": "stdout",
     "output_type": "stream",
     "text": [
      " "
     ]
    },
    {
     "name": "stderr",
     "output_type": "stream",
     "text": [
      "Loading cached processed dataset at /home/nya/.cache/huggingface/datasets/Skatinger___json/Skatinger--wikipedia-persons-masked-476ecfa923442f0e/0.0.0/a3e658c4731e59120d44081ac10bf85dc7e1388126b92338344ce9661907f253/cache-cf26ada08187e21b_00001_of_00004.arrow\n"
     ]
    },
    {
     "name": "stdout",
     "output_type": "stream",
     "text": [
      " "
     ]
    },
    {
     "name": "stderr",
     "output_type": "stream",
     "text": [
      "Loading cached processed dataset at /home/nya/.cache/huggingface/datasets/Skatinger___json/Skatinger--wikipedia-persons-masked-476ecfa923442f0e/0.0.0/a3e658c4731e59120d44081ac10bf85dc7e1388126b92338344ce9661907f253/cache-cf26ada08187e21b_00002_of_00004.arrow\n"
     ]
    },
    {
     "name": "stdout",
     "output_type": "stream",
     "text": [
      " "
     ]
    },
    {
     "name": "stderr",
     "output_type": "stream",
     "text": [
      "Loading cached processed dataset at /home/nya/.cache/huggingface/datasets/Skatinger___json/Skatinger--wikipedia-persons-masked-476ecfa923442f0e/0.0.0/a3e658c4731e59120d44081ac10bf85dc7e1388126b92338344ce9661907f253/cache-cf26ada08187e21b_00003_of_00004.arrow\n",
      "Loading cached sorted indices for dataset at /home/nya/.cache/huggingface/datasets/Skatinger___json/Skatinger--wikipedia-persons-masked-476ecfa923442f0e/0.0.0/a3e658c4731e59120d44081ac10bf85dc7e1388126b92338344ce9661907f253/cache-375cfc61b14637a4.arrow\n",
      "Loading cached processed dataset at /home/nya/.cache/huggingface/datasets/json/default-c70ca3a8fcff438c/0.0.0/a3e658c4731e59120d44081ac10bf85dc7e1388126b92338344ce9661907f253/cache-8a105628fd17ab65.arrow\n"
     ]
    },
    {
     "name": "stdout",
     "output_type": "stream",
     "text": [
      "Joining datasets...\n",
      "Computing precision. This may take a while...\n",
      " "
     ]
    },
    {
     "name": "stderr",
     "output_type": "stream",
     "text": [
      "Loading cached processed dataset at /home/nya/.cache/huggingface/datasets/json/default-c70ca3a8fcff438c/0.0.0/a3e658c4731e59120d44081ac10bf85dc7e1388126b92338344ce9661907f253/cache-aab813bfbe560548.arrow\n"
     ]
    },
    {
     "name": "stdout",
     "output_type": "stream",
     "text": [
      " "
     ]
    },
    {
     "name": "stderr",
     "output_type": "stream",
     "text": [
      "Loading cached processed dataset at /home/nya/.cache/huggingface/datasets/json/default-c70ca3a8fcff438c/0.0.0/a3e658c4731e59120d44081ac10bf85dc7e1388126b92338344ce9661907f253/cache-1b6ec666e75e4ca4.arrow\n"
     ]
    },
    {
     "name": "stdout",
     "output_type": "stream",
     "text": [
      " "
     ]
    },
    {
     "name": "stderr",
     "output_type": "stream",
     "text": [
      "Loading cached processed dataset at /home/nya/.cache/huggingface/datasets/json/default-c70ca3a8fcff438c/0.0.0/a3e658c4731e59120d44081ac10bf85dc7e1388126b92338344ce9661907f253/cache-b85ec4e142f30aa3.arrow\n"
     ]
    },
    {
     "name": "stdout",
     "output_type": "stream",
     "text": [
      " "
     ]
    },
    {
     "name": "stderr",
     "output_type": "stream",
     "text": [
      "Loading cached processed dataset at /home/nya/.cache/huggingface/datasets/json/default-c70ca3a8fcff438c/0.0.0/a3e658c4731e59120d44081ac10bf85dc7e1388126b92338344ce9661907f253/cache-1458414f082c6576.arrow\n",
      "Loading cached processed dataset at /home/nya/.cache/huggingface/datasets/json/default-c70ca3a8fcff438c/0.0.0/a3e658c4731e59120d44081ac10bf85dc7e1388126b92338344ce9661907f253/cache-a4788149fbcac913.arrow\n",
      "Loading cached processed dataset at /home/nya/.cache/huggingface/datasets/json/default-c70ca3a8fcff438c/0.0.0/a3e658c4731e59120d44081ac10bf85dc7e1388126b92338344ce9661907f253/cache-5c6d752ffbaf37b2.arrow\n",
      "Loading cached processed dataset at /home/nya/.cache/huggingface/datasets/json/default-c70ca3a8fcff438c/0.0.0/a3e658c4731e59120d44081ac10bf85dc7e1388126b92338344ce9661907f253/cache-8f3b9ac886d87902.arrow\n",
      "Loading cached processed dataset at /home/nya/.cache/huggingface/datasets/json/default-c70ca3a8fcff438c/0.0.0/a3e658c4731e59120d44081ac10bf85dc7e1388126b92338344ce9661907f253/cache-a8423f93ceb99a86.arrow\n"
     ]
    },
    {
     "name": "stdout",
     "output_type": "stream",
     "text": [
      "Loading result dataset...\n"
     ]
    },
    {
     "name": "stderr",
     "output_type": "stream",
     "text": [
      "Using custom data configuration default-503b064c81c1954a\n",
      "Reusing dataset json (/home/nya/.cache/huggingface/datasets/json/default-503b064c81c1954a/0.0.0/a3e658c4731e59120d44081ac10bf85dc7e1388126b92338344ce9661907f253)\n",
      "Loading cached sorted indices for dataset at /home/nya/.cache/huggingface/datasets/json/default-503b064c81c1954a/0.0.0/a3e658c4731e59120d44081ac10bf85dc7e1388126b92338344ce9661907f253/cache-f881b1ef5a2e3fe7.arrow\n"
     ]
    },
    {
     "name": "stdout",
     "output_type": "stream",
     "text": [
      "Filtering ground truth dataset...\n",
      " "
     ]
    },
    {
     "name": "stderr",
     "output_type": "stream",
     "text": [
      "Loading cached processed dataset at /home/nya/.cache/huggingface/datasets/Skatinger___json/Skatinger--wikipedia-persons-masked-476ecfa923442f0e/0.0.0/a3e658c4731e59120d44081ac10bf85dc7e1388126b92338344ce9661907f253/cache-cf26ada08187e21b_00000_of_00004.arrow\n"
     ]
    },
    {
     "name": "stdout",
     "output_type": "stream",
     "text": [
      " "
     ]
    },
    {
     "name": "stderr",
     "output_type": "stream",
     "text": [
      "Loading cached processed dataset at /home/nya/.cache/huggingface/datasets/Skatinger___json/Skatinger--wikipedia-persons-masked-476ecfa923442f0e/0.0.0/a3e658c4731e59120d44081ac10bf85dc7e1388126b92338344ce9661907f253/cache-cf26ada08187e21b_00001_of_00004.arrow\n"
     ]
    },
    {
     "name": "stdout",
     "output_type": "stream",
     "text": [
      " "
     ]
    },
    {
     "name": "stderr",
     "output_type": "stream",
     "text": [
      "Loading cached processed dataset at /home/nya/.cache/huggingface/datasets/Skatinger___json/Skatinger--wikipedia-persons-masked-476ecfa923442f0e/0.0.0/a3e658c4731e59120d44081ac10bf85dc7e1388126b92338344ce9661907f253/cache-cf26ada08187e21b_00002_of_00004.arrow\n"
     ]
    },
    {
     "name": "stdout",
     "output_type": "stream",
     "text": [
      " "
     ]
    },
    {
     "name": "stderr",
     "output_type": "stream",
     "text": [
      "Loading cached processed dataset at /home/nya/.cache/huggingface/datasets/Skatinger___json/Skatinger--wikipedia-persons-masked-476ecfa923442f0e/0.0.0/a3e658c4731e59120d44081ac10bf85dc7e1388126b92338344ce9661907f253/cache-cf26ada08187e21b_00003_of_00004.arrow\n",
      "Loading cached sorted indices for dataset at /home/nya/.cache/huggingface/datasets/Skatinger___json/Skatinger--wikipedia-persons-masked-476ecfa923442f0e/0.0.0/a3e658c4731e59120d44081ac10bf85dc7e1388126b92338344ce9661907f253/cache-375cfc61b14637a4.arrow\n",
      "Loading cached processed dataset at /home/nya/.cache/huggingface/datasets/json/default-503b064c81c1954a/0.0.0/a3e658c4731e59120d44081ac10bf85dc7e1388126b92338344ce9661907f253/cache-bbf93507ae00727c.arrow\n"
     ]
    },
    {
     "name": "stdout",
     "output_type": "stream",
     "text": [
      "Joining datasets...\n",
      "Computing precision. This may take a while...\n",
      " "
     ]
    },
    {
     "name": "stderr",
     "output_type": "stream",
     "text": [
      "Loading cached processed dataset at /home/nya/.cache/huggingface/datasets/json/default-503b064c81c1954a/0.0.0/a3e658c4731e59120d44081ac10bf85dc7e1388126b92338344ce9661907f253/cache-01cf7f061eba7067.arrow\n"
     ]
    },
    {
     "name": "stdout",
     "output_type": "stream",
     "text": [
      " "
     ]
    },
    {
     "name": "stderr",
     "output_type": "stream",
     "text": [
      "Loading cached processed dataset at /home/nya/.cache/huggingface/datasets/json/default-503b064c81c1954a/0.0.0/a3e658c4731e59120d44081ac10bf85dc7e1388126b92338344ce9661907f253/cache-d5b6b3785f45c42f.arrow\n"
     ]
    },
    {
     "name": "stdout",
     "output_type": "stream",
     "text": [
      " "
     ]
    },
    {
     "name": "stderr",
     "output_type": "stream",
     "text": [
      "Loading cached processed dataset at /home/nya/.cache/huggingface/datasets/json/default-503b064c81c1954a/0.0.0/a3e658c4731e59120d44081ac10bf85dc7e1388126b92338344ce9661907f253/cache-b5df57033e59ee0a.arrow\n"
     ]
    },
    {
     "name": "stdout",
     "output_type": "stream",
     "text": [
      " "
     ]
    },
    {
     "name": "stderr",
     "output_type": "stream",
     "text": [
      "Loading cached processed dataset at /home/nya/.cache/huggingface/datasets/json/default-503b064c81c1954a/0.0.0/a3e658c4731e59120d44081ac10bf85dc7e1388126b92338344ce9661907f253/cache-68584689cead5298.arrow\n",
      "Loading cached processed dataset at /home/nya/.cache/huggingface/datasets/json/default-503b064c81c1954a/0.0.0/a3e658c4731e59120d44081ac10bf85dc7e1388126b92338344ce9661907f253/cache-25702382211df7f2.arrow\n",
      "Loading cached processed dataset at /home/nya/.cache/huggingface/datasets/json/default-503b064c81c1954a/0.0.0/a3e658c4731e59120d44081ac10bf85dc7e1388126b92338344ce9661907f253/cache-94fac6c3e05a08b9.arrow\n",
      "Loading cached processed dataset at /home/nya/.cache/huggingface/datasets/json/default-503b064c81c1954a/0.0.0/a3e658c4731e59120d44081ac10bf85dc7e1388126b92338344ce9661907f253/cache-0a6c66d1b4da364a.arrow\n",
      "Loading cached processed dataset at /home/nya/.cache/huggingface/datasets/json/default-503b064c81c1954a/0.0.0/a3e658c4731e59120d44081ac10bf85dc7e1388126b92338344ce9661907f253/cache-a883774be5b09f26.arrow\n"
     ]
    },
    {
     "name": "stdout",
     "output_type": "stream",
     "text": [
      "Loading result dataset...\n"
     ]
    },
    {
     "name": "stderr",
     "output_type": "stream",
     "text": [
      "Using custom data configuration default-2e56aba2626e5050\n",
      "Reusing dataset json (/home/nya/.cache/huggingface/datasets/json/default-2e56aba2626e5050/0.0.0/a3e658c4731e59120d44081ac10bf85dc7e1388126b92338344ce9661907f253)\n",
      "Loading cached sorted indices for dataset at /home/nya/.cache/huggingface/datasets/json/default-2e56aba2626e5050/0.0.0/a3e658c4731e59120d44081ac10bf85dc7e1388126b92338344ce9661907f253/cache-fee12dbe299d69a5.arrow\n"
     ]
    },
    {
     "name": "stdout",
     "output_type": "stream",
     "text": [
      "Filtering ground truth dataset...\n",
      " "
     ]
    },
    {
     "name": "stderr",
     "output_type": "stream",
     "text": [
      "Loading cached processed dataset at /home/nya/.cache/huggingface/datasets/Skatinger___json/Skatinger--wikipedia-persons-masked-476ecfa923442f0e/0.0.0/a3e658c4731e59120d44081ac10bf85dc7e1388126b92338344ce9661907f253/cache-cf26ada08187e21b_00000_of_00004.arrow\n"
     ]
    },
    {
     "name": "stdout",
     "output_type": "stream",
     "text": [
      " "
     ]
    },
    {
     "name": "stderr",
     "output_type": "stream",
     "text": [
      "Loading cached processed dataset at /home/nya/.cache/huggingface/datasets/Skatinger___json/Skatinger--wikipedia-persons-masked-476ecfa923442f0e/0.0.0/a3e658c4731e59120d44081ac10bf85dc7e1388126b92338344ce9661907f253/cache-cf26ada08187e21b_00001_of_00004.arrow\n"
     ]
    },
    {
     "name": "stdout",
     "output_type": "stream",
     "text": [
      " "
     ]
    },
    {
     "name": "stderr",
     "output_type": "stream",
     "text": [
      "Loading cached processed dataset at /home/nya/.cache/huggingface/datasets/Skatinger___json/Skatinger--wikipedia-persons-masked-476ecfa923442f0e/0.0.0/a3e658c4731e59120d44081ac10bf85dc7e1388126b92338344ce9661907f253/cache-cf26ada08187e21b_00002_of_00004.arrow\n"
     ]
    },
    {
     "name": "stdout",
     "output_type": "stream",
     "text": [
      " "
     ]
    },
    {
     "name": "stderr",
     "output_type": "stream",
     "text": [
      "Loading cached processed dataset at /home/nya/.cache/huggingface/datasets/Skatinger___json/Skatinger--wikipedia-persons-masked-476ecfa923442f0e/0.0.0/a3e658c4731e59120d44081ac10bf85dc7e1388126b92338344ce9661907f253/cache-cf26ada08187e21b_00003_of_00004.arrow\n",
      "Loading cached sorted indices for dataset at /home/nya/.cache/huggingface/datasets/Skatinger___json/Skatinger--wikipedia-persons-masked-476ecfa923442f0e/0.0.0/a3e658c4731e59120d44081ac10bf85dc7e1388126b92338344ce9661907f253/cache-375cfc61b14637a4.arrow\n",
      "Loading cached processed dataset at /home/nya/.cache/huggingface/datasets/json/default-2e56aba2626e5050/0.0.0/a3e658c4731e59120d44081ac10bf85dc7e1388126b92338344ce9661907f253/cache-7ad727f6f0de0893.arrow\n"
     ]
    },
    {
     "name": "stdout",
     "output_type": "stream",
     "text": [
      "Joining datasets...\n",
      "Computing precision. This may take a while...\n",
      " "
     ]
    },
    {
     "name": "stderr",
     "output_type": "stream",
     "text": [
      "Loading cached processed dataset at /home/nya/.cache/huggingface/datasets/json/default-2e56aba2626e5050/0.0.0/a3e658c4731e59120d44081ac10bf85dc7e1388126b92338344ce9661907f253/cache-5f9cd643e300aa1c.arrow\n"
     ]
    },
    {
     "name": "stdout",
     "output_type": "stream",
     "text": [
      " "
     ]
    },
    {
     "name": "stderr",
     "output_type": "stream",
     "text": [
      "Loading cached processed dataset at /home/nya/.cache/huggingface/datasets/json/default-2e56aba2626e5050/0.0.0/a3e658c4731e59120d44081ac10bf85dc7e1388126b92338344ce9661907f253/cache-fdb8ebce5cf4d75c.arrow\n"
     ]
    },
    {
     "name": "stdout",
     "output_type": "stream",
     "text": [
      " "
     ]
    },
    {
     "name": "stderr",
     "output_type": "stream",
     "text": [
      "Loading cached processed dataset at /home/nya/.cache/huggingface/datasets/json/default-2e56aba2626e5050/0.0.0/a3e658c4731e59120d44081ac10bf85dc7e1388126b92338344ce9661907f253/cache-eaf4897353455c6a.arrow\n"
     ]
    },
    {
     "name": "stdout",
     "output_type": "stream",
     "text": [
      " "
     ]
    },
    {
     "name": "stderr",
     "output_type": "stream",
     "text": [
      "Loading cached processed dataset at /home/nya/.cache/huggingface/datasets/json/default-2e56aba2626e5050/0.0.0/a3e658c4731e59120d44081ac10bf85dc7e1388126b92338344ce9661907f253/cache-2f66195ded327cf7.arrow\n",
      "Loading cached processed dataset at /home/nya/.cache/huggingface/datasets/json/default-2e56aba2626e5050/0.0.0/a3e658c4731e59120d44081ac10bf85dc7e1388126b92338344ce9661907f253/cache-a092caf931f5c7f9.arrow\n",
      "Loading cached processed dataset at /home/nya/.cache/huggingface/datasets/json/default-2e56aba2626e5050/0.0.0/a3e658c4731e59120d44081ac10bf85dc7e1388126b92338344ce9661907f253/cache-93a4d819436add7d.arrow\n",
      "Loading cached processed dataset at /home/nya/.cache/huggingface/datasets/json/default-2e56aba2626e5050/0.0.0/a3e658c4731e59120d44081ac10bf85dc7e1388126b92338344ce9661907f253/cache-de013d9f393fc81b.arrow\n",
      "Loading cached processed dataset at /home/nya/.cache/huggingface/datasets/json/default-2e56aba2626e5050/0.0.0/a3e658c4731e59120d44081ac10bf85dc7e1388126b92338344ce9661907f253/cache-6b0a0a7b8867bf10.arrow\n"
     ]
    },
    {
     "name": "stdout",
     "output_type": "stream",
     "text": [
      "Loading result dataset...\n"
     ]
    },
    {
     "name": "stderr",
     "output_type": "stream",
     "text": [
      "Using custom data configuration default-0e9b4a86f86bc0b8\n",
      "Reusing dataset json (/home/nya/.cache/huggingface/datasets/json/default-0e9b4a86f86bc0b8/0.0.0/a3e658c4731e59120d44081ac10bf85dc7e1388126b92338344ce9661907f253)\n",
      "Loading cached sorted indices for dataset at /home/nya/.cache/huggingface/datasets/json/default-0e9b4a86f86bc0b8/0.0.0/a3e658c4731e59120d44081ac10bf85dc7e1388126b92338344ce9661907f253/cache-3ef14194b20274ef.arrow\n"
     ]
    },
    {
     "name": "stdout",
     "output_type": "stream",
     "text": [
      "Filtering ground truth dataset...\n",
      " "
     ]
    },
    {
     "name": "stderr",
     "output_type": "stream",
     "text": [
      "Loading cached processed dataset at /home/nya/.cache/huggingface/datasets/Skatinger___json/Skatinger--wikipedia-persons-masked-476ecfa923442f0e/0.0.0/a3e658c4731e59120d44081ac10bf85dc7e1388126b92338344ce9661907f253/cache-cf26ada08187e21b_00000_of_00004.arrow\n"
     ]
    },
    {
     "name": "stdout",
     "output_type": "stream",
     "text": [
      " "
     ]
    },
    {
     "name": "stderr",
     "output_type": "stream",
     "text": [
      "Loading cached processed dataset at /home/nya/.cache/huggingface/datasets/Skatinger___json/Skatinger--wikipedia-persons-masked-476ecfa923442f0e/0.0.0/a3e658c4731e59120d44081ac10bf85dc7e1388126b92338344ce9661907f253/cache-cf26ada08187e21b_00001_of_00004.arrow\n"
     ]
    },
    {
     "name": "stdout",
     "output_type": "stream",
     "text": [
      " "
     ]
    },
    {
     "name": "stderr",
     "output_type": "stream",
     "text": [
      "Loading cached processed dataset at /home/nya/.cache/huggingface/datasets/Skatinger___json/Skatinger--wikipedia-persons-masked-476ecfa923442f0e/0.0.0/a3e658c4731e59120d44081ac10bf85dc7e1388126b92338344ce9661907f253/cache-cf26ada08187e21b_00002_of_00004.arrow\n"
     ]
    },
    {
     "name": "stdout",
     "output_type": "stream",
     "text": [
      " "
     ]
    },
    {
     "name": "stderr",
     "output_type": "stream",
     "text": [
      "Loading cached processed dataset at /home/nya/.cache/huggingface/datasets/Skatinger___json/Skatinger--wikipedia-persons-masked-476ecfa923442f0e/0.0.0/a3e658c4731e59120d44081ac10bf85dc7e1388126b92338344ce9661907f253/cache-cf26ada08187e21b_00003_of_00004.arrow\n",
      "Loading cached sorted indices for dataset at /home/nya/.cache/huggingface/datasets/Skatinger___json/Skatinger--wikipedia-persons-masked-476ecfa923442f0e/0.0.0/a3e658c4731e59120d44081ac10bf85dc7e1388126b92338344ce9661907f253/cache-375cfc61b14637a4.arrow\n"
     ]
    },
    {
     "name": "stdout",
     "output_type": "stream",
     "text": [
      "Joining datasets...\n"
     ]
    },
    {
     "name": "stderr",
     "output_type": "stream",
     "text": [
      "Loading cached processed dataset at /home/nya/.cache/huggingface/datasets/json/default-0e9b4a86f86bc0b8/0.0.0/a3e658c4731e59120d44081ac10bf85dc7e1388126b92338344ce9661907f253/cache-1ddd5df60a4140f5.arrow\n"
     ]
    },
    {
     "name": "stdout",
     "output_type": "stream",
     "text": [
      "Computing precision. This may take a while...\n",
      " "
     ]
    },
    {
     "name": "stderr",
     "output_type": "stream",
     "text": [
      "Loading cached processed dataset at /home/nya/.cache/huggingface/datasets/json/default-0e9b4a86f86bc0b8/0.0.0/a3e658c4731e59120d44081ac10bf85dc7e1388126b92338344ce9661907f253/cache-fef52e59a34f3719.arrow\n"
     ]
    },
    {
     "name": "stdout",
     "output_type": "stream",
     "text": [
      " "
     ]
    },
    {
     "name": "stderr",
     "output_type": "stream",
     "text": [
      "Loading cached processed dataset at /home/nya/.cache/huggingface/datasets/json/default-0e9b4a86f86bc0b8/0.0.0/a3e658c4731e59120d44081ac10bf85dc7e1388126b92338344ce9661907f253/cache-6b12616803e81bc3.arrow\n"
     ]
    },
    {
     "name": "stdout",
     "output_type": "stream",
     "text": [
      " "
     ]
    },
    {
     "name": "stderr",
     "output_type": "stream",
     "text": [
      "Loading cached processed dataset at /home/nya/.cache/huggingface/datasets/json/default-0e9b4a86f86bc0b8/0.0.0/a3e658c4731e59120d44081ac10bf85dc7e1388126b92338344ce9661907f253/cache-72ffebc2a0ce2415.arrow\n"
     ]
    },
    {
     "name": "stdout",
     "output_type": "stream",
     "text": [
      " "
     ]
    },
    {
     "name": "stderr",
     "output_type": "stream",
     "text": [
      "Loading cached processed dataset at /home/nya/.cache/huggingface/datasets/json/default-0e9b4a86f86bc0b8/0.0.0/a3e658c4731e59120d44081ac10bf85dc7e1388126b92338344ce9661907f253/cache-b60747e42412dcf0.arrow\n",
      "Loading cached processed dataset at /home/nya/.cache/huggingface/datasets/json/default-0e9b4a86f86bc0b8/0.0.0/a3e658c4731e59120d44081ac10bf85dc7e1388126b92338344ce9661907f253/cache-4141afeaa1022888.arrow\n",
      "Loading cached processed dataset at /home/nya/.cache/huggingface/datasets/json/default-0e9b4a86f86bc0b8/0.0.0/a3e658c4731e59120d44081ac10bf85dc7e1388126b92338344ce9661907f253/cache-a7918a207fc73260.arrow\n",
      "Loading cached processed dataset at /home/nya/.cache/huggingface/datasets/json/default-0e9b4a86f86bc0b8/0.0.0/a3e658c4731e59120d44081ac10bf85dc7e1388126b92338344ce9661907f253/cache-d2a12bd3880f39a1.arrow\n",
      "Loading cached processed dataset at /home/nya/.cache/huggingface/datasets/json/default-0e9b4a86f86bc0b8/0.0.0/a3e658c4731e59120d44081ac10bf85dc7e1388126b92338344ce9661907f253/cache-3edda2a4e4b4477b.arrow\n"
     ]
    },
    {
     "name": "stdout",
     "output_type": "stream",
     "text": [
      "Loading result dataset...\n"
     ]
    },
    {
     "name": "stderr",
     "output_type": "stream",
     "text": [
      "Using custom data configuration default-94ca5f98b943ed8e\n",
      "Reusing dataset json (/home/nya/.cache/huggingface/datasets/json/default-94ca5f98b943ed8e/0.0.0/a3e658c4731e59120d44081ac10bf85dc7e1388126b92338344ce9661907f253)\n",
      "Loading cached sorted indices for dataset at /home/nya/.cache/huggingface/datasets/json/default-94ca5f98b943ed8e/0.0.0/a3e658c4731e59120d44081ac10bf85dc7e1388126b92338344ce9661907f253/cache-bd83f2b5c4b4719a.arrow\n"
     ]
    },
    {
     "name": "stdout",
     "output_type": "stream",
     "text": [
      "Filtering ground truth dataset...\n",
      " "
     ]
    },
    {
     "name": "stderr",
     "output_type": "stream",
     "text": [
      "Loading cached processed dataset at /home/nya/.cache/huggingface/datasets/Skatinger___json/Skatinger--wikipedia-persons-masked-476ecfa923442f0e/0.0.0/a3e658c4731e59120d44081ac10bf85dc7e1388126b92338344ce9661907f253/cache-cf26ada08187e21b_00000_of_00004.arrow\n"
     ]
    },
    {
     "name": "stdout",
     "output_type": "stream",
     "text": [
      " "
     ]
    },
    {
     "name": "stderr",
     "output_type": "stream",
     "text": [
      "Loading cached processed dataset at /home/nya/.cache/huggingface/datasets/Skatinger___json/Skatinger--wikipedia-persons-masked-476ecfa923442f0e/0.0.0/a3e658c4731e59120d44081ac10bf85dc7e1388126b92338344ce9661907f253/cache-cf26ada08187e21b_00001_of_00004.arrow\n"
     ]
    },
    {
     "name": "stdout",
     "output_type": "stream",
     "text": [
      " "
     ]
    },
    {
     "name": "stderr",
     "output_type": "stream",
     "text": [
      "Loading cached processed dataset at /home/nya/.cache/huggingface/datasets/Skatinger___json/Skatinger--wikipedia-persons-masked-476ecfa923442f0e/0.0.0/a3e658c4731e59120d44081ac10bf85dc7e1388126b92338344ce9661907f253/cache-cf26ada08187e21b_00002_of_00004.arrow\n"
     ]
    },
    {
     "name": "stdout",
     "output_type": "stream",
     "text": [
      " "
     ]
    },
    {
     "name": "stderr",
     "output_type": "stream",
     "text": [
      "Loading cached processed dataset at /home/nya/.cache/huggingface/datasets/Skatinger___json/Skatinger--wikipedia-persons-masked-476ecfa923442f0e/0.0.0/a3e658c4731e59120d44081ac10bf85dc7e1388126b92338344ce9661907f253/cache-cf26ada08187e21b_00003_of_00004.arrow\n",
      "Loading cached sorted indices for dataset at /home/nya/.cache/huggingface/datasets/Skatinger___json/Skatinger--wikipedia-persons-masked-476ecfa923442f0e/0.0.0/a3e658c4731e59120d44081ac10bf85dc7e1388126b92338344ce9661907f253/cache-375cfc61b14637a4.arrow\n",
      "Loading cached processed dataset at /home/nya/.cache/huggingface/datasets/json/default-94ca5f98b943ed8e/0.0.0/a3e658c4731e59120d44081ac10bf85dc7e1388126b92338344ce9661907f253/cache-2bbf3c1032f1430f.arrow\n"
     ]
    },
    {
     "name": "stdout",
     "output_type": "stream",
     "text": [
      "Joining datasets...\n",
      "Computing precision. This may take a while...\n",
      " "
     ]
    },
    {
     "name": "stderr",
     "output_type": "stream",
     "text": [
      "Loading cached processed dataset at /home/nya/.cache/huggingface/datasets/json/default-94ca5f98b943ed8e/0.0.0/a3e658c4731e59120d44081ac10bf85dc7e1388126b92338344ce9661907f253/cache-586c49aa8c07855c.arrow\n"
     ]
    },
    {
     "name": "stdout",
     "output_type": "stream",
     "text": [
      " "
     ]
    },
    {
     "name": "stderr",
     "output_type": "stream",
     "text": [
      "Loading cached processed dataset at /home/nya/.cache/huggingface/datasets/json/default-94ca5f98b943ed8e/0.0.0/a3e658c4731e59120d44081ac10bf85dc7e1388126b92338344ce9661907f253/cache-5635458a58ea1ee2.arrow\n"
     ]
    },
    {
     "name": "stdout",
     "output_type": "stream",
     "text": [
      " "
     ]
    },
    {
     "name": "stderr",
     "output_type": "stream",
     "text": [
      "Loading cached processed dataset at /home/nya/.cache/huggingface/datasets/json/default-94ca5f98b943ed8e/0.0.0/a3e658c4731e59120d44081ac10bf85dc7e1388126b92338344ce9661907f253/cache-f4e0b2cc607368c9.arrow\n"
     ]
    },
    {
     "name": "stdout",
     "output_type": "stream",
     "text": [
      " "
     ]
    },
    {
     "name": "stderr",
     "output_type": "stream",
     "text": [
      "Loading cached processed dataset at /home/nya/.cache/huggingface/datasets/json/default-94ca5f98b943ed8e/0.0.0/a3e658c4731e59120d44081ac10bf85dc7e1388126b92338344ce9661907f253/cache-2cacd291b440b838.arrow\n",
      "Loading cached processed dataset at /home/nya/.cache/huggingface/datasets/json/default-94ca5f98b943ed8e/0.0.0/a3e658c4731e59120d44081ac10bf85dc7e1388126b92338344ce9661907f253/cache-97e0e97604f0e258.arrow\n",
      "Loading cached processed dataset at /home/nya/.cache/huggingface/datasets/json/default-94ca5f98b943ed8e/0.0.0/a3e658c4731e59120d44081ac10bf85dc7e1388126b92338344ce9661907f253/cache-0c2ee39d0b90c6b7.arrow\n",
      "Loading cached processed dataset at /home/nya/.cache/huggingface/datasets/json/default-94ca5f98b943ed8e/0.0.0/a3e658c4731e59120d44081ac10bf85dc7e1388126b92338344ce9661907f253/cache-1625b4ae4732fee9.arrow\n",
      "Loading cached processed dataset at /home/nya/.cache/huggingface/datasets/json/default-94ca5f98b943ed8e/0.0.0/a3e658c4731e59120d44081ac10bf85dc7e1388126b92338344ce9661907f253/cache-37ce52823931905f.arrow\n"
     ]
    },
    {
     "name": "stdout",
     "output_type": "stream",
     "text": [
      "Loading result dataset...\n"
     ]
    },
    {
     "name": "stderr",
     "output_type": "stream",
     "text": [
      "Using custom data configuration default-6be341ea23141995\n",
      "Reusing dataset json (/home/nya/.cache/huggingface/datasets/json/default-6be341ea23141995/0.0.0/a3e658c4731e59120d44081ac10bf85dc7e1388126b92338344ce9661907f253)\n",
      "Loading cached sorted indices for dataset at /home/nya/.cache/huggingface/datasets/json/default-6be341ea23141995/0.0.0/a3e658c4731e59120d44081ac10bf85dc7e1388126b92338344ce9661907f253/cache-34c6524845d8892f.arrow\n"
     ]
    },
    {
     "name": "stdout",
     "output_type": "stream",
     "text": [
      "Filtering ground truth dataset...\n",
      " "
     ]
    },
    {
     "name": "stderr",
     "output_type": "stream",
     "text": [
      "Loading cached processed dataset at /home/nya/.cache/huggingface/datasets/Skatinger___json/Skatinger--wikipedia-persons-masked-476ecfa923442f0e/0.0.0/a3e658c4731e59120d44081ac10bf85dc7e1388126b92338344ce9661907f253/cache-cf26ada08187e21b_00000_of_00004.arrow\n"
     ]
    },
    {
     "name": "stdout",
     "output_type": "stream",
     "text": [
      " "
     ]
    },
    {
     "name": "stderr",
     "output_type": "stream",
     "text": [
      "Loading cached processed dataset at /home/nya/.cache/huggingface/datasets/Skatinger___json/Skatinger--wikipedia-persons-masked-476ecfa923442f0e/0.0.0/a3e658c4731e59120d44081ac10bf85dc7e1388126b92338344ce9661907f253/cache-cf26ada08187e21b_00001_of_00004.arrow\n"
     ]
    },
    {
     "name": "stdout",
     "output_type": "stream",
     "text": [
      " "
     ]
    },
    {
     "name": "stderr",
     "output_type": "stream",
     "text": [
      "Loading cached processed dataset at /home/nya/.cache/huggingface/datasets/Skatinger___json/Skatinger--wikipedia-persons-masked-476ecfa923442f0e/0.0.0/a3e658c4731e59120d44081ac10bf85dc7e1388126b92338344ce9661907f253/cache-cf26ada08187e21b_00002_of_00004.arrow\n"
     ]
    },
    {
     "name": "stdout",
     "output_type": "stream",
     "text": [
      " "
     ]
    },
    {
     "name": "stderr",
     "output_type": "stream",
     "text": [
      "Loading cached processed dataset at /home/nya/.cache/huggingface/datasets/Skatinger___json/Skatinger--wikipedia-persons-masked-476ecfa923442f0e/0.0.0/a3e658c4731e59120d44081ac10bf85dc7e1388126b92338344ce9661907f253/cache-cf26ada08187e21b_00003_of_00004.arrow\n",
      "Loading cached sorted indices for dataset at /home/nya/.cache/huggingface/datasets/Skatinger___json/Skatinger--wikipedia-persons-masked-476ecfa923442f0e/0.0.0/a3e658c4731e59120d44081ac10bf85dc7e1388126b92338344ce9661907f253/cache-375cfc61b14637a4.arrow\n",
      "Loading cached processed dataset at /home/nya/.cache/huggingface/datasets/json/default-6be341ea23141995/0.0.0/a3e658c4731e59120d44081ac10bf85dc7e1388126b92338344ce9661907f253/cache-07feb906a78793a1.arrow\n"
     ]
    },
    {
     "name": "stdout",
     "output_type": "stream",
     "text": [
      "Joining datasets...\n",
      "Computing precision. This may take a while...\n",
      " "
     ]
    },
    {
     "name": "stderr",
     "output_type": "stream",
     "text": [
      "Loading cached processed dataset at /home/nya/.cache/huggingface/datasets/json/default-6be341ea23141995/0.0.0/a3e658c4731e59120d44081ac10bf85dc7e1388126b92338344ce9661907f253/cache-0b7e3830c0a14401.arrow\n"
     ]
    },
    {
     "name": "stdout",
     "output_type": "stream",
     "text": [
      " "
     ]
    },
    {
     "name": "stderr",
     "output_type": "stream",
     "text": [
      "Loading cached processed dataset at /home/nya/.cache/huggingface/datasets/json/default-6be341ea23141995/0.0.0/a3e658c4731e59120d44081ac10bf85dc7e1388126b92338344ce9661907f253/cache-1c4c9eb3fd33afd8.arrow\n"
     ]
    },
    {
     "name": "stdout",
     "output_type": "stream",
     "text": [
      " "
     ]
    },
    {
     "name": "stderr",
     "output_type": "stream",
     "text": [
      "Loading cached processed dataset at /home/nya/.cache/huggingface/datasets/json/default-6be341ea23141995/0.0.0/a3e658c4731e59120d44081ac10bf85dc7e1388126b92338344ce9661907f253/cache-9dd601489a8cb0e6.arrow\n"
     ]
    },
    {
     "name": "stdout",
     "output_type": "stream",
     "text": [
      " "
     ]
    },
    {
     "name": "stderr",
     "output_type": "stream",
     "text": [
      "Loading cached processed dataset at /home/nya/.cache/huggingface/datasets/json/default-6be341ea23141995/0.0.0/a3e658c4731e59120d44081ac10bf85dc7e1388126b92338344ce9661907f253/cache-04bce5b3b19b59de.arrow\n",
      "Loading cached processed dataset at /home/nya/.cache/huggingface/datasets/json/default-6be341ea23141995/0.0.0/a3e658c4731e59120d44081ac10bf85dc7e1388126b92338344ce9661907f253/cache-e6eb40d78430986f.arrow\n",
      "Loading cached processed dataset at /home/nya/.cache/huggingface/datasets/json/default-6be341ea23141995/0.0.0/a3e658c4731e59120d44081ac10bf85dc7e1388126b92338344ce9661907f253/cache-9f4f233105ee1ba1.arrow\n",
      "Loading cached processed dataset at /home/nya/.cache/huggingface/datasets/json/default-6be341ea23141995/0.0.0/a3e658c4731e59120d44081ac10bf85dc7e1388126b92338344ce9661907f253/cache-e65f88060043b640.arrow\n",
      "Loading cached processed dataset at /home/nya/.cache/huggingface/datasets/json/default-6be341ea23141995/0.0.0/a3e658c4731e59120d44081ac10bf85dc7e1388126b92338344ce9661907f253/cache-7b00c3ca58744798.arrow\n"
     ]
    },
    {
     "name": "stdout",
     "output_type": "stream",
     "text": [
      "Loading result dataset...\n"
     ]
    },
    {
     "name": "stderr",
     "output_type": "stream",
     "text": [
      "Using custom data configuration default-848c27d719eddb76\n",
      "Reusing dataset json (/home/nya/.cache/huggingface/datasets/json/default-848c27d719eddb76/0.0.0/a3e658c4731e59120d44081ac10bf85dc7e1388126b92338344ce9661907f253)\n",
      "Loading cached sorted indices for dataset at /home/nya/.cache/huggingface/datasets/json/default-848c27d719eddb76/0.0.0/a3e658c4731e59120d44081ac10bf85dc7e1388126b92338344ce9661907f253/cache-708f41a7ac364b93.arrow\n"
     ]
    },
    {
     "name": "stdout",
     "output_type": "stream",
     "text": [
      "Filtering ground truth dataset...\n",
      " "
     ]
    },
    {
     "name": "stderr",
     "output_type": "stream",
     "text": [
      "Loading cached processed dataset at /home/nya/.cache/huggingface/datasets/Skatinger___json/Skatinger--wikipedia-persons-masked-476ecfa923442f0e/0.0.0/a3e658c4731e59120d44081ac10bf85dc7e1388126b92338344ce9661907f253/cache-cf26ada08187e21b_00000_of_00004.arrow\n"
     ]
    },
    {
     "name": "stdout",
     "output_type": "stream",
     "text": [
      " "
     ]
    },
    {
     "name": "stderr",
     "output_type": "stream",
     "text": [
      "Loading cached processed dataset at /home/nya/.cache/huggingface/datasets/Skatinger___json/Skatinger--wikipedia-persons-masked-476ecfa923442f0e/0.0.0/a3e658c4731e59120d44081ac10bf85dc7e1388126b92338344ce9661907f253/cache-cf26ada08187e21b_00001_of_00004.arrow\n"
     ]
    },
    {
     "name": "stdout",
     "output_type": "stream",
     "text": [
      " "
     ]
    },
    {
     "name": "stderr",
     "output_type": "stream",
     "text": [
      "Loading cached processed dataset at /home/nya/.cache/huggingface/datasets/Skatinger___json/Skatinger--wikipedia-persons-masked-476ecfa923442f0e/0.0.0/a3e658c4731e59120d44081ac10bf85dc7e1388126b92338344ce9661907f253/cache-cf26ada08187e21b_00002_of_00004.arrow\n"
     ]
    },
    {
     "name": "stdout",
     "output_type": "stream",
     "text": [
      " "
     ]
    },
    {
     "name": "stderr",
     "output_type": "stream",
     "text": [
      "Loading cached processed dataset at /home/nya/.cache/huggingface/datasets/Skatinger___json/Skatinger--wikipedia-persons-masked-476ecfa923442f0e/0.0.0/a3e658c4731e59120d44081ac10bf85dc7e1388126b92338344ce9661907f253/cache-cf26ada08187e21b_00003_of_00004.arrow\n",
      "Loading cached sorted indices for dataset at /home/nya/.cache/huggingface/datasets/Skatinger___json/Skatinger--wikipedia-persons-masked-476ecfa923442f0e/0.0.0/a3e658c4731e59120d44081ac10bf85dc7e1388126b92338344ce9661907f253/cache-375cfc61b14637a4.arrow\n"
     ]
    },
    {
     "name": "stdout",
     "output_type": "stream",
     "text": [
      "Joining datasets...\n"
     ]
    },
    {
     "name": "stderr",
     "output_type": "stream",
     "text": [
      "Loading cached processed dataset at /home/nya/.cache/huggingface/datasets/json/default-848c27d719eddb76/0.0.0/a3e658c4731e59120d44081ac10bf85dc7e1388126b92338344ce9661907f253/cache-d77f0f1b353bcf4c.arrow\n"
     ]
    },
    {
     "name": "stdout",
     "output_type": "stream",
     "text": [
      "Computing precision. This may take a while...\n",
      " "
     ]
    },
    {
     "name": "stderr",
     "output_type": "stream",
     "text": [
      "Loading cached processed dataset at /home/nya/.cache/huggingface/datasets/json/default-848c27d719eddb76/0.0.0/a3e658c4731e59120d44081ac10bf85dc7e1388126b92338344ce9661907f253/cache-e24a05a5958d2328.arrow\n"
     ]
    },
    {
     "name": "stdout",
     "output_type": "stream",
     "text": [
      " "
     ]
    },
    {
     "name": "stderr",
     "output_type": "stream",
     "text": [
      "Loading cached processed dataset at /home/nya/.cache/huggingface/datasets/json/default-848c27d719eddb76/0.0.0/a3e658c4731e59120d44081ac10bf85dc7e1388126b92338344ce9661907f253/cache-ccfbed92a4d9aade.arrow\n"
     ]
    },
    {
     "name": "stdout",
     "output_type": "stream",
     "text": [
      " "
     ]
    },
    {
     "name": "stderr",
     "output_type": "stream",
     "text": [
      "Loading cached processed dataset at /home/nya/.cache/huggingface/datasets/json/default-848c27d719eddb76/0.0.0/a3e658c4731e59120d44081ac10bf85dc7e1388126b92338344ce9661907f253/cache-8290d4824a176a75.arrow\n"
     ]
    },
    {
     "name": "stdout",
     "output_type": "stream",
     "text": [
      " "
     ]
    },
    {
     "name": "stderr",
     "output_type": "stream",
     "text": [
      "Loading cached processed dataset at /home/nya/.cache/huggingface/datasets/json/default-848c27d719eddb76/0.0.0/a3e658c4731e59120d44081ac10bf85dc7e1388126b92338344ce9661907f253/cache-6feead7c33533df7.arrow\n",
      "Loading cached processed dataset at /home/nya/.cache/huggingface/datasets/json/default-848c27d719eddb76/0.0.0/a3e658c4731e59120d44081ac10bf85dc7e1388126b92338344ce9661907f253/cache-d736534b670747d6.arrow\n",
      "Loading cached processed dataset at /home/nya/.cache/huggingface/datasets/json/default-848c27d719eddb76/0.0.0/a3e658c4731e59120d44081ac10bf85dc7e1388126b92338344ce9661907f253/cache-4c6d0b50080addae.arrow\n",
      "Loading cached processed dataset at /home/nya/.cache/huggingface/datasets/json/default-848c27d719eddb76/0.0.0/a3e658c4731e59120d44081ac10bf85dc7e1388126b92338344ce9661907f253/cache-cf75558adbb6021b.arrow\n",
      "Loading cached processed dataset at /home/nya/.cache/huggingface/datasets/json/default-848c27d719eddb76/0.0.0/a3e658c4731e59120d44081ac10bf85dc7e1388126b92338344ce9661907f253/cache-b29553f3d9e808b6.arrow\n"
     ]
    },
    {
     "name": "stdout",
     "output_type": "stream",
     "text": [
      "Loading result dataset...\n"
     ]
    },
    {
     "ename": "FileNotFoundError",
     "evalue": "Unable to find '/home/nya/master/thesis/master_thesis/wiki_poc/evaluation/../results/wiki_predictions_cerebras-13b_original.jsonl' at /home/nya/master/thesis/master_thesis/wiki_poc/evaluation",
     "output_type": "error",
     "traceback": [
      "\u001b[0;31m---------------------------------------------------------------------------\u001b[0m",
      "\u001b[0;31mFileNotFoundError\u001b[0m                         Traceback (most recent call last)",
      "Cell \u001b[0;32mIn [24], line 4\u001b[0m\n\u001b[1;32m      2\u001b[0m model[\u001b[38;5;124m'\u001b[39m\u001b[38;5;124mresults\u001b[39m\u001b[38;5;124m'\u001b[39m] \u001b[38;5;241m=\u001b[39m {}\n\u001b[1;32m      3\u001b[0m \u001b[38;5;28;01mfor\u001b[39;00m config \u001b[38;5;129;01min\u001b[39;00m [\u001b[38;5;124m'\u001b[39m\u001b[38;5;124moriginal\u001b[39m\u001b[38;5;124m'\u001b[39m, \u001b[38;5;124m'\u001b[39m\u001b[38;5;124mparaphrased\u001b[39m\u001b[38;5;124m'\u001b[39m]:\n\u001b[0;32m----> 4\u001b[0m     ev \u001b[38;5;241m=\u001b[39m \u001b[43mSinglePredictionEvaluator\u001b[49m\u001b[43m(\u001b[49m\u001b[43mmodels\u001b[49m\u001b[43m[\u001b[49m\u001b[43mkey\u001b[49m\u001b[43m]\u001b[49m\u001b[43m[\u001b[49m\u001b[43mconfig\u001b[49m\u001b[43m]\u001b[49m\u001b[43m,\u001b[49m\u001b[43m \u001b[49m\u001b[43mgt\u001b[49m\u001b[43m)\u001b[49m\n\u001b[1;32m      5\u001b[0m     accuracy, correct, incorrect, results \u001b[38;5;241m=\u001b[39m ev\u001b[38;5;241m.\u001b[39mcompute_precision()\n\u001b[1;32m      7\u001b[0m     res \u001b[38;5;241m=\u001b[39m {}\n",
      "File \u001b[0;32m~/master/thesis/master_thesis/wiki_poc/evaluation/single_prediction_eval.py:10\u001b[0m, in \u001b[0;36mSinglePredictionEvaluator.__init__\u001b[0;34m(self, result_path, gt)\u001b[0m\n\u001b[1;32m      8\u001b[0m \u001b[38;5;28;01mdef\u001b[39;00m \u001b[38;5;21m__init__\u001b[39m(\u001b[38;5;28mself\u001b[39m, result_path: \u001b[38;5;28mstr\u001b[39m, gt: Dataset \u001b[38;5;241m=\u001b[39m \u001b[38;5;28;01mNone\u001b[39;00m):\n\u001b[1;32m      9\u001b[0m     \u001b[38;5;28mprint\u001b[39m(\u001b[38;5;124m\"\u001b[39m\u001b[38;5;124mLoading result dataset...\u001b[39m\u001b[38;5;124m\"\u001b[39m)\n\u001b[0;32m---> 10\u001b[0m     \u001b[38;5;28mself\u001b[39m\u001b[38;5;241m.\u001b[39mdataset \u001b[38;5;241m=\u001b[39m \u001b[43mload_dataset\u001b[49m\u001b[43m(\u001b[49m\u001b[38;5;124;43m\"\u001b[39;49m\u001b[38;5;124;43mjson\u001b[39;49m\u001b[38;5;124;43m\"\u001b[39;49m\u001b[43m,\u001b[49m\u001b[43m \u001b[49m\u001b[43mdata_files\u001b[49m\u001b[38;5;241;43m=\u001b[39;49m\u001b[43mresult_path\u001b[49m\u001b[43m,\u001b[49m\u001b[43m \u001b[49m\u001b[43msplit\u001b[49m\u001b[38;5;241;43m=\u001b[39;49m\u001b[38;5;124;43m\"\u001b[39;49m\u001b[38;5;124;43mtrain\u001b[39;49m\u001b[38;5;124;43m\"\u001b[39;49m\u001b[43m)\u001b[49m\u001b[38;5;241m.\u001b[39msort(\u001b[38;5;124m\"\u001b[39m\u001b[38;5;124mpage_id\u001b[39m\u001b[38;5;124m\"\u001b[39m)\n\u001b[1;32m     11\u001b[0m     \u001b[38;5;28;01mif\u001b[39;00m \u001b[38;5;129;01mnot\u001b[39;00m gt:\n\u001b[1;32m     12\u001b[0m         \u001b[38;5;28mprint\u001b[39m(\u001b[38;5;124m\"\u001b[39m\u001b[38;5;124mLoading ground truth dataset...\u001b[39m\u001b[38;5;124m\"\u001b[39m)\n",
      "File \u001b[0;32m~/.local/lib/python3.8/site-packages/datasets/load.py:1723\u001b[0m, in \u001b[0;36mload_dataset\u001b[0;34m(path, name, data_dir, data_files, split, cache_dir, features, download_config, download_mode, ignore_verifications, keep_in_memory, save_infos, revision, use_auth_token, task, streaming, **config_kwargs)\u001b[0m\n\u001b[1;32m   1720\u001b[0m ignore_verifications \u001b[38;5;241m=\u001b[39m ignore_verifications \u001b[38;5;129;01mor\u001b[39;00m save_infos\n\u001b[1;32m   1722\u001b[0m \u001b[38;5;66m# Create a dataset builder\u001b[39m\n\u001b[0;32m-> 1723\u001b[0m builder_instance \u001b[38;5;241m=\u001b[39m \u001b[43mload_dataset_builder\u001b[49m\u001b[43m(\u001b[49m\n\u001b[1;32m   1724\u001b[0m \u001b[43m    \u001b[49m\u001b[43mpath\u001b[49m\u001b[38;5;241;43m=\u001b[39;49m\u001b[43mpath\u001b[49m\u001b[43m,\u001b[49m\n\u001b[1;32m   1725\u001b[0m \u001b[43m    \u001b[49m\u001b[43mname\u001b[49m\u001b[38;5;241;43m=\u001b[39;49m\u001b[43mname\u001b[49m\u001b[43m,\u001b[49m\n\u001b[1;32m   1726\u001b[0m \u001b[43m    \u001b[49m\u001b[43mdata_dir\u001b[49m\u001b[38;5;241;43m=\u001b[39;49m\u001b[43mdata_dir\u001b[49m\u001b[43m,\u001b[49m\n\u001b[1;32m   1727\u001b[0m \u001b[43m    \u001b[49m\u001b[43mdata_files\u001b[49m\u001b[38;5;241;43m=\u001b[39;49m\u001b[43mdata_files\u001b[49m\u001b[43m,\u001b[49m\n\u001b[1;32m   1728\u001b[0m \u001b[43m    \u001b[49m\u001b[43mcache_dir\u001b[49m\u001b[38;5;241;43m=\u001b[39;49m\u001b[43mcache_dir\u001b[49m\u001b[43m,\u001b[49m\n\u001b[1;32m   1729\u001b[0m \u001b[43m    \u001b[49m\u001b[43mfeatures\u001b[49m\u001b[38;5;241;43m=\u001b[39;49m\u001b[43mfeatures\u001b[49m\u001b[43m,\u001b[49m\n\u001b[1;32m   1730\u001b[0m \u001b[43m    \u001b[49m\u001b[43mdownload_config\u001b[49m\u001b[38;5;241;43m=\u001b[39;49m\u001b[43mdownload_config\u001b[49m\u001b[43m,\u001b[49m\n\u001b[1;32m   1731\u001b[0m \u001b[43m    \u001b[49m\u001b[43mdownload_mode\u001b[49m\u001b[38;5;241;43m=\u001b[39;49m\u001b[43mdownload_mode\u001b[49m\u001b[43m,\u001b[49m\n\u001b[1;32m   1732\u001b[0m \u001b[43m    \u001b[49m\u001b[43mrevision\u001b[49m\u001b[38;5;241;43m=\u001b[39;49m\u001b[43mrevision\u001b[49m\u001b[43m,\u001b[49m\n\u001b[1;32m   1733\u001b[0m \u001b[43m    \u001b[49m\u001b[43muse_auth_token\u001b[49m\u001b[38;5;241;43m=\u001b[39;49m\u001b[43muse_auth_token\u001b[49m\u001b[43m,\u001b[49m\n\u001b[1;32m   1734\u001b[0m \u001b[43m    \u001b[49m\u001b[38;5;241;43m*\u001b[39;49m\u001b[38;5;241;43m*\u001b[39;49m\u001b[43mconfig_kwargs\u001b[49m\u001b[43m,\u001b[49m\n\u001b[1;32m   1735\u001b[0m \u001b[43m\u001b[49m\u001b[43m)\u001b[49m\n\u001b[1;32m   1737\u001b[0m \u001b[38;5;66m# Return iterable dataset in case of streaming\u001b[39m\n\u001b[1;32m   1738\u001b[0m \u001b[38;5;28;01mif\u001b[39;00m streaming:\n",
      "File \u001b[0;32m~/.local/lib/python3.8/site-packages/datasets/load.py:1500\u001b[0m, in \u001b[0;36mload_dataset_builder\u001b[0;34m(path, name, data_dir, data_files, cache_dir, features, download_config, download_mode, revision, use_auth_token, **config_kwargs)\u001b[0m\n\u001b[1;32m   1498\u001b[0m     download_config \u001b[38;5;241m=\u001b[39m download_config\u001b[38;5;241m.\u001b[39mcopy() \u001b[38;5;28;01mif\u001b[39;00m download_config \u001b[38;5;28;01melse\u001b[39;00m DownloadConfig()\n\u001b[1;32m   1499\u001b[0m     download_config\u001b[38;5;241m.\u001b[39muse_auth_token \u001b[38;5;241m=\u001b[39m use_auth_token\n\u001b[0;32m-> 1500\u001b[0m dataset_module \u001b[38;5;241m=\u001b[39m \u001b[43mdataset_module_factory\u001b[49m\u001b[43m(\u001b[49m\n\u001b[1;32m   1501\u001b[0m \u001b[43m    \u001b[49m\u001b[43mpath\u001b[49m\u001b[43m,\u001b[49m\n\u001b[1;32m   1502\u001b[0m \u001b[43m    \u001b[49m\u001b[43mrevision\u001b[49m\u001b[38;5;241;43m=\u001b[39;49m\u001b[43mrevision\u001b[49m\u001b[43m,\u001b[49m\n\u001b[1;32m   1503\u001b[0m \u001b[43m    \u001b[49m\u001b[43mdownload_config\u001b[49m\u001b[38;5;241;43m=\u001b[39;49m\u001b[43mdownload_config\u001b[49m\u001b[43m,\u001b[49m\n\u001b[1;32m   1504\u001b[0m \u001b[43m    \u001b[49m\u001b[43mdownload_mode\u001b[49m\u001b[38;5;241;43m=\u001b[39;49m\u001b[43mdownload_mode\u001b[49m\u001b[43m,\u001b[49m\n\u001b[1;32m   1505\u001b[0m \u001b[43m    \u001b[49m\u001b[43mdata_dir\u001b[49m\u001b[38;5;241;43m=\u001b[39;49m\u001b[43mdata_dir\u001b[49m\u001b[43m,\u001b[49m\n\u001b[1;32m   1506\u001b[0m \u001b[43m    \u001b[49m\u001b[43mdata_files\u001b[49m\u001b[38;5;241;43m=\u001b[39;49m\u001b[43mdata_files\u001b[49m\u001b[43m,\u001b[49m\n\u001b[1;32m   1507\u001b[0m \u001b[43m\u001b[49m\u001b[43m)\u001b[49m\n\u001b[1;32m   1509\u001b[0m \u001b[38;5;66m# Get dataset builder class from the processing script\u001b[39m\n\u001b[1;32m   1510\u001b[0m builder_cls \u001b[38;5;241m=\u001b[39m import_main_class(dataset_module\u001b[38;5;241m.\u001b[39mmodule_path)\n",
      "File \u001b[0;32m~/.local/lib/python3.8/site-packages/datasets/load.py:1148\u001b[0m, in \u001b[0;36mdataset_module_factory\u001b[0;34m(path, revision, download_config, download_mode, dynamic_modules_path, data_dir, data_files, **download_kwargs)\u001b[0m\n\u001b[1;32m   1128\u001b[0m \u001b[38;5;66m# We have several ways to get a dataset builder:\u001b[39m\n\u001b[1;32m   1129\u001b[0m \u001b[38;5;66m#\u001b[39m\n\u001b[1;32m   1130\u001b[0m \u001b[38;5;66m# - if path is the name of a packaged dataset module\u001b[39m\n\u001b[0;32m   (...)\u001b[0m\n\u001b[1;32m   1145\u001b[0m \n\u001b[1;32m   1146\u001b[0m \u001b[38;5;66m# Try packaged\u001b[39m\n\u001b[1;32m   1147\u001b[0m \u001b[38;5;28;01mif\u001b[39;00m path \u001b[38;5;129;01min\u001b[39;00m _PACKAGED_DATASETS_MODULES:\n\u001b[0;32m-> 1148\u001b[0m     \u001b[38;5;28;01mreturn\u001b[39;00m \u001b[43mPackagedDatasetModuleFactory\u001b[49m\u001b[43m(\u001b[49m\n\u001b[1;32m   1149\u001b[0m \u001b[43m        \u001b[49m\u001b[43mpath\u001b[49m\u001b[43m,\u001b[49m\n\u001b[1;32m   1150\u001b[0m \u001b[43m        \u001b[49m\u001b[43mdata_dir\u001b[49m\u001b[38;5;241;43m=\u001b[39;49m\u001b[43mdata_dir\u001b[49m\u001b[43m,\u001b[49m\n\u001b[1;32m   1151\u001b[0m \u001b[43m        \u001b[49m\u001b[43mdata_files\u001b[49m\u001b[38;5;241;43m=\u001b[39;49m\u001b[43mdata_files\u001b[49m\u001b[43m,\u001b[49m\n\u001b[1;32m   1152\u001b[0m \u001b[43m        \u001b[49m\u001b[43mdownload_config\u001b[49m\u001b[38;5;241;43m=\u001b[39;49m\u001b[43mdownload_config\u001b[49m\u001b[43m,\u001b[49m\n\u001b[1;32m   1153\u001b[0m \u001b[43m        \u001b[49m\u001b[43mdownload_mode\u001b[49m\u001b[38;5;241;43m=\u001b[39;49m\u001b[43mdownload_mode\u001b[49m\u001b[43m,\u001b[49m\n\u001b[1;32m   1154\u001b[0m \u001b[43m    \u001b[49m\u001b[43m)\u001b[49m\u001b[38;5;241;43m.\u001b[39;49m\u001b[43mget_module\u001b[49m\u001b[43m(\u001b[49m\u001b[43m)\u001b[49m\n\u001b[1;32m   1155\u001b[0m \u001b[38;5;66m# Try locally\u001b[39m\n\u001b[1;32m   1156\u001b[0m \u001b[38;5;28;01melif\u001b[39;00m path\u001b[38;5;241m.\u001b[39mendswith(filename):\n",
      "File \u001b[0;32m~/.local/lib/python3.8/site-packages/datasets/load.py:765\u001b[0m, in \u001b[0;36mPackagedDatasetModuleFactory.get_module\u001b[0;34m(self)\u001b[0m\n\u001b[1;32m    757\u001b[0m base_path \u001b[38;5;241m=\u001b[39m \u001b[38;5;28mstr\u001b[39m(Path(\u001b[38;5;28mself\u001b[39m\u001b[38;5;241m.\u001b[39mdata_dir)\u001b[38;5;241m.\u001b[39mresolve()) \u001b[38;5;28;01mif\u001b[39;00m \u001b[38;5;28mself\u001b[39m\u001b[38;5;241m.\u001b[39mdata_dir \u001b[38;5;129;01mis\u001b[39;00m \u001b[38;5;129;01mnot\u001b[39;00m \u001b[38;5;28;01mNone\u001b[39;00m \u001b[38;5;28;01melse\u001b[39;00m \u001b[38;5;28mstr\u001b[39m(Path()\u001b[38;5;241m.\u001b[39mresolve())\n\u001b[1;32m    758\u001b[0m patterns \u001b[38;5;241m=\u001b[39m (\n\u001b[1;32m    759\u001b[0m     sanitize_patterns(\u001b[38;5;28mself\u001b[39m\u001b[38;5;241m.\u001b[39mdata_files)\n\u001b[1;32m    760\u001b[0m     \u001b[38;5;28;01mif\u001b[39;00m \u001b[38;5;28mself\u001b[39m\u001b[38;5;241m.\u001b[39mdata_files \u001b[38;5;129;01mis\u001b[39;00m \u001b[38;5;129;01mnot\u001b[39;00m \u001b[38;5;28;01mNone\u001b[39;00m\n\u001b[0;32m   (...)\u001b[0m\n\u001b[1;32m    763\u001b[0m     \u001b[38;5;28;01melse\u001b[39;00m get_data_patterns_locally(base_path)\n\u001b[1;32m    764\u001b[0m )\n\u001b[0;32m--> 765\u001b[0m data_files \u001b[38;5;241m=\u001b[39m \u001b[43mDataFilesDict\u001b[49m\u001b[38;5;241;43m.\u001b[39;49m\u001b[43mfrom_local_or_remote\u001b[49m\u001b[43m(\u001b[49m\n\u001b[1;32m    766\u001b[0m \u001b[43m    \u001b[49m\u001b[43mpatterns\u001b[49m\u001b[43m,\u001b[49m\n\u001b[1;32m    767\u001b[0m \u001b[43m    \u001b[49m\u001b[43muse_auth_token\u001b[49m\u001b[38;5;241;43m=\u001b[39;49m\u001b[38;5;28;43mself\u001b[39;49m\u001b[38;5;241;43m.\u001b[39;49m\u001b[43mdownload_config\u001b[49m\u001b[38;5;241;43m.\u001b[39;49m\u001b[43muse_auth_token\u001b[49m\u001b[43m,\u001b[49m\n\u001b[1;32m    768\u001b[0m \u001b[43m    \u001b[49m\u001b[43mbase_path\u001b[49m\u001b[38;5;241;43m=\u001b[39;49m\u001b[43mbase_path\u001b[49m\u001b[43m,\u001b[49m\n\u001b[1;32m    769\u001b[0m \u001b[43m\u001b[49m\u001b[43m)\u001b[49m\n\u001b[1;32m    770\u001b[0m \u001b[38;5;28;01mif\u001b[39;00m \u001b[38;5;28mself\u001b[39m\u001b[38;5;241m.\u001b[39mdata_files \u001b[38;5;129;01mis\u001b[39;00m \u001b[38;5;28;01mNone\u001b[39;00m \u001b[38;5;129;01mand\u001b[39;00m \u001b[38;5;28mself\u001b[39m\u001b[38;5;241m.\u001b[39mname \u001b[38;5;129;01min\u001b[39;00m _MODULE_SUPPORTS_METADATA \u001b[38;5;129;01mand\u001b[39;00m patterns \u001b[38;5;241m!=\u001b[39m DEFAULT_PATTERNS_ALL:\n\u001b[1;32m    771\u001b[0m     \u001b[38;5;28;01mtry\u001b[39;00m:\n",
      "File \u001b[0;32m~/.local/lib/python3.8/site-packages/datasets/data_files.py:786\u001b[0m, in \u001b[0;36mDataFilesDict.from_local_or_remote\u001b[0;34m(cls, patterns, base_path, allowed_extensions, use_auth_token)\u001b[0m\n\u001b[1;32m    783\u001b[0m out \u001b[38;5;241m=\u001b[39m \u001b[38;5;28mcls\u001b[39m()\n\u001b[1;32m    784\u001b[0m \u001b[38;5;28;01mfor\u001b[39;00m key, patterns_for_key \u001b[38;5;129;01min\u001b[39;00m patterns\u001b[38;5;241m.\u001b[39mitems():\n\u001b[1;32m    785\u001b[0m     out[key] \u001b[38;5;241m=\u001b[39m (\n\u001b[0;32m--> 786\u001b[0m         \u001b[43mDataFilesList\u001b[49m\u001b[38;5;241;43m.\u001b[39;49m\u001b[43mfrom_local_or_remote\u001b[49m\u001b[43m(\u001b[49m\n\u001b[1;32m    787\u001b[0m \u001b[43m            \u001b[49m\u001b[43mpatterns_for_key\u001b[49m\u001b[43m,\u001b[49m\n\u001b[1;32m    788\u001b[0m \u001b[43m            \u001b[49m\u001b[43mbase_path\u001b[49m\u001b[38;5;241;43m=\u001b[39;49m\u001b[43mbase_path\u001b[49m\u001b[43m,\u001b[49m\n\u001b[1;32m    789\u001b[0m \u001b[43m            \u001b[49m\u001b[43mallowed_extensions\u001b[49m\u001b[38;5;241;43m=\u001b[39;49m\u001b[43mallowed_extensions\u001b[49m\u001b[43m,\u001b[49m\n\u001b[1;32m    790\u001b[0m \u001b[43m            \u001b[49m\u001b[43muse_auth_token\u001b[49m\u001b[38;5;241;43m=\u001b[39;49m\u001b[43muse_auth_token\u001b[49m\u001b[43m,\u001b[49m\n\u001b[1;32m    791\u001b[0m \u001b[43m        \u001b[49m\u001b[43m)\u001b[49m\n\u001b[1;32m    792\u001b[0m         \u001b[38;5;28;01mif\u001b[39;00m \u001b[38;5;129;01mnot\u001b[39;00m \u001b[38;5;28misinstance\u001b[39m(patterns_for_key, DataFilesList)\n\u001b[1;32m    793\u001b[0m         \u001b[38;5;28;01melse\u001b[39;00m patterns_for_key\n\u001b[1;32m    794\u001b[0m     )\n\u001b[1;32m    795\u001b[0m \u001b[38;5;28;01mreturn\u001b[39;00m out\n",
      "File \u001b[0;32m~/.local/lib/python3.8/site-packages/datasets/data_files.py:754\u001b[0m, in \u001b[0;36mDataFilesList.from_local_or_remote\u001b[0;34m(cls, patterns, base_path, allowed_extensions, use_auth_token)\u001b[0m\n\u001b[1;32m    745\u001b[0m \u001b[38;5;129m@classmethod\u001b[39m\n\u001b[1;32m    746\u001b[0m \u001b[38;5;28;01mdef\u001b[39;00m \u001b[38;5;21mfrom_local_or_remote\u001b[39m(\n\u001b[1;32m    747\u001b[0m     \u001b[38;5;28mcls\u001b[39m,\n\u001b[0;32m   (...)\u001b[0m\n\u001b[1;32m    751\u001b[0m     use_auth_token: Optional[Union[\u001b[38;5;28mbool\u001b[39m, \u001b[38;5;28mstr\u001b[39m]] \u001b[38;5;241m=\u001b[39m \u001b[38;5;28;01mNone\u001b[39;00m,\n\u001b[1;32m    752\u001b[0m ) \u001b[38;5;241m-\u001b[39m\u001b[38;5;241m>\u001b[39m \u001b[38;5;124m\"\u001b[39m\u001b[38;5;124mDataFilesList\u001b[39m\u001b[38;5;124m\"\u001b[39m:\n\u001b[1;32m    753\u001b[0m     base_path \u001b[38;5;241m=\u001b[39m base_path \u001b[38;5;28;01mif\u001b[39;00m base_path \u001b[38;5;129;01mis\u001b[39;00m \u001b[38;5;129;01mnot\u001b[39;00m \u001b[38;5;28;01mNone\u001b[39;00m \u001b[38;5;28;01melse\u001b[39;00m \u001b[38;5;28mstr\u001b[39m(Path()\u001b[38;5;241m.\u001b[39mresolve())\n\u001b[0;32m--> 754\u001b[0m     data_files \u001b[38;5;241m=\u001b[39m \u001b[43mresolve_patterns_locally_or_by_urls\u001b[49m\u001b[43m(\u001b[49m\u001b[43mbase_path\u001b[49m\u001b[43m,\u001b[49m\u001b[43m \u001b[49m\u001b[43mpatterns\u001b[49m\u001b[43m,\u001b[49m\u001b[43m \u001b[49m\u001b[43mallowed_extensions\u001b[49m\u001b[43m)\u001b[49m\n\u001b[1;32m    755\u001b[0m     origin_metadata \u001b[38;5;241m=\u001b[39m _get_origin_metadata_locally_or_by_urls(data_files, use_auth_token\u001b[38;5;241m=\u001b[39muse_auth_token)\n\u001b[1;32m    756\u001b[0m     \u001b[38;5;28;01mreturn\u001b[39;00m \u001b[38;5;28mcls\u001b[39m(data_files, origin_metadata)\n",
      "File \u001b[0;32m~/.local/lib/python3.8/site-packages/datasets/data_files.py:352\u001b[0m, in \u001b[0;36mresolve_patterns_locally_or_by_urls\u001b[0;34m(base_path, patterns, allowed_extensions)\u001b[0m\n\u001b[1;32m    350\u001b[0m         data_files\u001b[38;5;241m.\u001b[39mappend(Url(pattern))\n\u001b[1;32m    351\u001b[0m     \u001b[38;5;28;01melse\u001b[39;00m:\n\u001b[0;32m--> 352\u001b[0m         \u001b[38;5;28;01mfor\u001b[39;00m path \u001b[38;5;129;01min\u001b[39;00m \u001b[43m_resolve_single_pattern_locally\u001b[49m\u001b[43m(\u001b[49m\u001b[43mbase_path\u001b[49m\u001b[43m,\u001b[49m\u001b[43m \u001b[49m\u001b[43mpattern\u001b[49m\u001b[43m,\u001b[49m\u001b[43m \u001b[49m\u001b[43mallowed_extensions\u001b[49m\u001b[43m)\u001b[49m:\n\u001b[1;32m    353\u001b[0m             data_files\u001b[38;5;241m.\u001b[39mappend(path)\n\u001b[1;32m    355\u001b[0m \u001b[38;5;28;01mif\u001b[39;00m \u001b[38;5;129;01mnot\u001b[39;00m data_files:\n",
      "File \u001b[0;32m~/.local/lib/python3.8/site-packages/datasets/data_files.py:296\u001b[0m, in \u001b[0;36m_resolve_single_pattern_locally\u001b[0;34m(base_path, pattern, allowed_extensions)\u001b[0m\n\u001b[1;32m    294\u001b[0m     \u001b[38;5;28;01mif\u001b[39;00m allowed_extensions \u001b[38;5;129;01mis\u001b[39;00m \u001b[38;5;129;01mnot\u001b[39;00m \u001b[38;5;28;01mNone\u001b[39;00m:\n\u001b[1;32m    295\u001b[0m         error_msg \u001b[38;5;241m+\u001b[39m\u001b[38;5;241m=\u001b[39m f\u001b[38;5;124m\"\u001b[39m\u001b[38;5;124m with any supported extension \u001b[39m\u001b[38;5;124m{\u001b[39m\u001b[38;5;124mlist(allowed_extensions)}\u001b[39m\u001b[38;5;124m\"\u001b[39m\n\u001b[0;32m--> 296\u001b[0m     \u001b[38;5;28;01mraise\u001b[39;00m \u001b[38;5;167;01mFileNotFoundError\u001b[39;00m(error_msg)\n\u001b[1;32m    297\u001b[0m \u001b[38;5;28;01mreturn\u001b[39;00m \u001b[38;5;28msorted\u001b[39m(out)\n",
      "\u001b[0;31mFileNotFoundError\u001b[0m: Unable to find '/home/nya/master/thesis/master_thesis/wiki_poc/evaluation/../results/wiki_predictions_cerebras-13b_original.jsonl' at /home/nya/master/thesis/master_thesis/wiki_poc/evaluation"
     ]
    }
   ],
   "source": [
    "for key, model in models.items():\n",
    "    model['results'] = {}\n",
    "    for config in ['original', 'paraphrased']:\n",
    "        ev = SinglePredictionEvaluator(models[key][config], gt)\n",
    "        accuracy, correct, incorrect, results = ev.compute_precision()\n",
    "\n",
    "        res = {}\n",
    "        res['all_results'] = results\n",
    "        res['accuracy'] = accuracy\n",
    "        res['correct'] = correct\n",
    "        res['incorrect'] = incorrect\n",
    "        res['levenstein_below_3_in_correct'] = correct.filter(lambda x: x['distance'] < 3)\n",
    "        res['levenstein_below_3_in_incorrect'] = incorrect.filter(lambda x: x['distance'] < 3)\n",
    "        res['average_levenstein_correct'] = sum(correct['distance']) / len(correct)\n",
    "        res['average_levenstein_incorrect'] = sum(incorrect['distance']) / len(incorrect)\n",
    "        \n",
    "        model['results'][config] = res"
   ]
  },
  {
   "cell_type": "markdown",
   "id": "7a067740",
   "metadata": {},
   "source": [
    "# Plots"
   ]
  },
  {
   "cell_type": "code",
   "execution_count": 20,
   "id": "4d748d93",
   "metadata": {
    "scrolled": false
   },
   "outputs": [
    {
     "ename": "KeyError",
     "evalue": "'original'",
     "output_type": "error",
     "traceback": [
      "\u001b[0;31m---------------------------------------------------------------------------\u001b[0m",
      "\u001b[0;31mKeyError\u001b[0m                                  Traceback (most recent call last)",
      "Cell \u001b[0;32mIn [20], line 7\u001b[0m\n\u001b[1;32m      5\u001b[0m color \u001b[38;5;241m=\u001b[39m \u001b[38;5;124m\"\u001b[39m\u001b[38;5;124mC\u001b[39m\u001b[38;5;124m\"\u001b[39m \u001b[38;5;241m+\u001b[39m \u001b[38;5;28mstr\u001b[39m(\u001b[38;5;28mhash\u001b[39m(key) \u001b[38;5;241m%\u001b[39m \u001b[38;5;241m10\u001b[39m)\n\u001b[1;32m      6\u001b[0m \u001b[38;5;28;01mfor\u001b[39;00m config \u001b[38;5;129;01min\u001b[39;00m [\u001b[38;5;124m'\u001b[39m\u001b[38;5;124moriginal\u001b[39m\u001b[38;5;124m'\u001b[39m, \u001b[38;5;124m'\u001b[39m\u001b[38;5;124mparaphrased\u001b[39m\u001b[38;5;124m'\u001b[39m]:\n\u001b[0;32m----> 7\u001b[0m     m \u001b[38;5;241m=\u001b[39m \u001b[43mmodel\u001b[49m\u001b[43m[\u001b[49m\u001b[38;5;124;43m\"\u001b[39;49m\u001b[38;5;124;43mresults\u001b[39;49m\u001b[38;5;124;43m\"\u001b[39;49m\u001b[43m]\u001b[49m\u001b[43m[\u001b[49m\u001b[43mconfig\u001b[49m\u001b[43m]\u001b[49m\n\u001b[1;32m      8\u001b[0m     name \u001b[38;5;241m=\u001b[39m f\u001b[38;5;124m\"\u001b[39m\u001b[38;5;132;01m{key}\u001b[39;00m\u001b[38;5;124m-\u001b[39m\u001b[38;5;132;01m{config[0]}\u001b[39;00m\u001b[38;5;124m\"\u001b[39m\n\u001b[1;32m      9\u001b[0m     data\u001b[38;5;241m.\u001b[39mappend((model[\u001b[38;5;124m\"\u001b[39m\u001b[38;5;124msize\u001b[39m\u001b[38;5;124m\"\u001b[39m], m[\u001b[38;5;124m\"\u001b[39m\u001b[38;5;124maccuracy\u001b[39m\u001b[38;5;124m\"\u001b[39m], name, color))\n",
      "\u001b[0;31mKeyError\u001b[0m: 'original'"
     ]
    }
   ],
   "source": [
    "import matplotlib.pyplot as plt\n",
    "\n",
    "data = []\n",
    "for key, model in models.items():\n",
    "    color = \"C\" + str(hash(key) % 10)\n",
    "    for config in ['original', 'paraphrased']:\n",
    "        m = model[\"results\"][config]\n",
    "        name = f\"{key}-{config[0]}\"\n",
    "        data.append((model[\"size\"], m[\"accuracy\"], name, color))\n",
    "\n",
    "# Create scatter plot\n",
    "fig, ax = plt.subplots()\n",
    "for value in data:\n",
    "    size, acc, name, color = value\n",
    "    ax.scatter(size, acc, label=name, color=color)\n",
    "    ax.annotate(name, (size, acc), textcoords=\"offset points\", xytext=(0,5), ha='center')\n",
    "\n",
    "fig.set_size_inches(15, 10)\n",
    "# fig.set_dpi(100)\n",
    "    \n",
    "# settings\n",
    "# ax.set_ylim([0,1])\n",
    "# ax.set_xlim([-5, 15])\n",
    "# Set title and labels\n",
    "ax.set_title(\"Accuracy vs Number of Parameters for NLP Models\")\n",
    "ax.set_xlabel(\"Number of Parameters (Billions)\")\n",
    "ax.set_ylabel(\"Accuracy\")\n",
    "\n",
    "# Display plot\n",
    "plt.show()\n"
   ]
  },
  {
   "cell_type": "code",
   "execution_count": 12,
   "id": "34753509",
   "metadata": {},
   "outputs": [
    {
     "data": {
      "image/png": "[encoded data removed]",
      "text/plain": [
       "<Figure size 1500x1000 with 1 Axes>"
      ]
     },
     "metadata": {},
     "output_type": "display_data"
    }
   ],
   "source": [
    "import matplotlib.pyplot as plt\n",
    "\n",
    "data = []\n",
    "for key, model in models.items():\n",
    "    color = \"C\" + str(hash(key) % 10)\n",
    "    for config in ['original', 'paraphrased']:\n",
    "        m = model[\"results\"][config]\n",
    "        name = f\"{key}-{config[0]}\"\n",
    "        lev_below_3 = len(m[\"levenstein_below_3_in_correct\"]) / len(m['correct'])\n",
    "        data.append((model[\"size\"], lev_below_3, name, color))\n",
    "\n",
    "# Create scatter plot\n",
    "fig, ax = plt.subplots()\n",
    "for value in data:\n",
    "    size, acc, name, color = value\n",
    "    ax.scatter(size, acc, label=name, color=color)\n",
    "    ax.annotate(name, (size, acc), textcoords=\"offset points\", xytext=(0,5), ha='center')\n",
    "\n",
    "fig.set_size_inches(15, 10)\n",
    "# fig.set_dpi(100)\n",
    "    \n",
    "# settings\n",
    "# ax.set_ylim([0,1])\n",
    "# ax.set_xlim([0, 180])\n",
    "# Set title and labels\n",
    "ax.set_title(\"Accuracy vs Number of Parameters for NLP Models\")\n",
    "ax.set_xlabel(\"Number of Parameters\")\n",
    "ax.set_ylabel(\"% of very correct\")\n",
    "\n",
    "# Display plot\n",
    "plt.show()\n"
   ]
  },
  {
   "cell_type": "code",
   "execution_count": 14,
   "id": "7dec2623",
   "metadata": {},
   "outputs": [
    {
     "data": {
      "image/png": "[encoded data removed]",
      "text/plain": [
       "<Figure size 1200x800 with 1 Axes>"
      ]
     },
     "metadata": {},
     "output_type": "display_data"
    },
    {
     "data": {
      "text/plain": [
       "'\\nInteresting, because it shows that edit-distance around 8 would\\ngive the same results as counting first or last name as correct.\\n'"
      ]
     },
     "execution_count": 14,
     "metadata": {},
     "output_type": "execute_result"
    }
   ],
   "source": [
    "import seaborn as sns\n",
    "import pandas as pd\n",
    "\n",
    "\n",
    "## Plot by levensthein distance\n",
    "# results = models['bloomz-petals']['results']['paraphrased']['all_results']\n",
    "results = models['bloomz-1b1']['results']['paraphrased']['all_results']\n",
    "\n",
    "\n",
    "# Convert the data to a pandas DataFrame\n",
    "df = pd.DataFrame({ 'distance': results['distance'], 'correct': results['correct']})\n",
    "df\n",
    "# # Group the data by score and correctness to count the entries with the same score\n",
    "df_agg = df.groupby(['distance', 'correct']).size().reset_index(name='count')\n",
    "\n",
    "# Map the values of the 'correct' column to their respective terms\n",
    "df_agg['correctness'] = df_agg['correct'].replace({1: 'correct', 0: 'incorrect'})\n",
    "df_agg.drop('correct', axis=1, inplace=True)\n",
    "\n",
    "plt.figure(figsize=(12,8))\n",
    "\n",
    "# Define the barplot using seaborn\n",
    "ax = sns.barplot(x='distance', y='count', hue='correctness', data=df_agg)\n",
    "\n",
    "# # Add labels and a title\n",
    "plt.xlabel('Score')\n",
    "plt.ylabel('Count')\n",
    "ax.legend(title=\"\") # , labels = ['Correct', 'Incorrect'])\n",
    "plt.title('Results by Score and Correctness')\n",
    "\n",
    "# # Display the plot\n",
    "plt.show()\n",
    "\n",
    "#######\n",
    "\"\"\"\n",
    "Interesting, because it shows that edit-distance around 8 would\n",
    "give the same results as counting first or last name as correct.\n",
    "\"\"\""
   ]
  },
  {
   "cell_type": "code",
   "execution_count": 15,
   "id": "6ec71d4f",
   "metadata": {},
   "outputs": [
    {
     "data": {
      "image/png": "[encoded data removed]",
      "text/plain": [
       "<Figure size 1200x800 with 1 Axes>"
      ]
     },
     "metadata": {},
     "output_type": "display_data"
    },
    {
     "data": {
      "text/plain": [
       "'\\nInteresting, because it shows that edit-distance around 8 would\\ngive the same results as counting first or last name as correct.\\n'"
      ]
     },
     "execution_count": 15,
     "metadata": {},
     "output_type": "execute_result"
    }
   ],
   "source": [
    "import seaborn as sns\n",
    "import pandas as pd\n",
    "\n",
    "\n",
    "## Plot by levensthein distance\n",
    "# results = models['bloomz-petals']['results']['paraphrased']['all_results']\n",
    "results = models['bloomz-7b1']['results']['paraphrased']['all_results']\n",
    "\n",
    "\n",
    "# Convert the data to a pandas DataFrame\n",
    "df = pd.DataFrame({ 'distance': results['distance'], 'correct': results['correct']})\n",
    "df\n",
    "# # Group the data by score and correctness to count the entries with the same score\n",
    "df_agg = df.groupby(['distance', 'correct']).size().reset_index(name='count')\n",
    "\n",
    "# Map the values of the 'correct' column to their respective terms\n",
    "df_agg['correctness'] = df_agg['correct'].replace({1: 'correct', 0: 'incorrect'})\n",
    "df_agg.drop('correct', axis=1, inplace=True)\n",
    "\n",
    "plt.figure(figsize=(12,8))\n",
    "\n",
    "# Define the barplot using seaborn\n",
    "ax = sns.barplot(x='distance', y='count', hue='correctness', data=df_agg)\n",
    "\n",
    "# # Add labels and a title\n",
    "plt.xlabel('Score')\n",
    "plt.ylabel('Count')\n",
    "ax.legend(title=\"\") # , labels = ['Correct', 'Incorrect'])\n",
    "plt.title('Results by Score and Correctness')\n",
    "\n",
    "# # Display the plot\n",
    "plt.show()\n",
    "\n",
    "#######\n",
    "\"\"\"\n",
    "Interesting, because it shows that edit-distance around 8 would\n",
    "give the same results as counting first or last name as correct.\n",
    "\"\"\""
   ]
  },
  {
   "cell_type": "code",
   "execution_count": 15,
   "id": "44b4abae",
   "metadata": {},
   "outputs": [
    {
     "data": {
      "image/png": "[encoded data removed]",
      "text/plain": [
       "<Figure size 1200x800 with 1 Axes>"
      ]
     },
     "metadata": {},
     "output_type": "display_data"
    },
    {
     "data": {
      "text/plain": [
       "'\\nInteresting, because it shows that edit-distance around 8 would\\ngive the same results as counting first or last name as correct.\\n'"
      ]
     },
     "execution_count": 15,
     "metadata": {},
     "output_type": "execute_result"
    }
   ],
   "source": [
    "import seaborn as sns\n",
    "import pandas as pd\n",
    "\n",
    "\n",
    "## Plot by levensthein distance\n",
    "# results = models['bloomz-petals']['results']['original']['all_results']\n",
    "results = models['bloomz-1B']['results']['paraphrased']['all_results']\n",
    "\n",
    "# Convert the data to a pandas DataFrame\n",
    "df = pd.DataFrame({ 'distance': results['distance'], 'correct': results['correct']})\n",
    "df\n",
    "# # Group the data by score and correctness to count the entries with the same score\n",
    "df_agg = df.groupby(['distance', 'correct']).size().reset_index(name='count')\n",
    "\n",
    "# Map the values of the 'correct' column to their respective terms\n",
    "df_agg['correctness'] = df_agg['correct'].replace({1: 'correct', 0: 'incorrect'})\n",
    "df_agg.drop('correct', axis=1, inplace=True)\n",
    "\n",
    "plt.figure(figsize=(12,8))\n",
    "\n",
    "# Define the barplot using seaborn\n",
    "ax = sns.barplot(x='distance', y='count', hue='correctness', data=df_agg)\n",
    "\n",
    "# # Add labels and a title\n",
    "plt.xlabel('Score')\n",
    "plt.ylabel('Count')\n",
    "ax.legend(title=\"\") # , labels = ['Correct', 'Incorrect'])\n",
    "plt.title('Results by Score and Correctness')\n",
    "\n",
    "# # Display the plot\n",
    "plt.show()\n",
    "\n",
    "#######\n",
    "\"\"\"\n",
    "Interesting, because it shows that edit-distance around 8 would\n",
    "give the same results as counting first or last name as correct.\n",
    "\"\"\""
   ]
  },
  {
   "cell_type": "code",
   "execution_count": null,
   "id": "52cab748",
   "metadata": {
    "scrolled": false
   },
   "outputs": [],
   "source": [
    "import seaborn as sns\n",
    "import pandas as pd\n",
    "\n",
    "\n",
    "## Plot by levensthein distance\n",
    "results = models['gpt-3.5-turbo']['results']['paraphrased']['all_results']\n",
    "\n",
    "# Convert the data to a pandas DataFrame\n",
    "df = pd.DataFrame({ 'distance': results['distance'], 'correct': results['correct']})\n",
    "df\n",
    "# # Group the data by score and correctness to count the entries with the same score\n",
    "df_agg = df.groupby(['distance', 'correct']).size().reset_index(name='count')\n",
    "\n",
    "# Map the values of the 'correct' column to their respective terms\n",
    "df_agg['correctness'] = df_agg['correct'].replace({1: 'correct', 0: 'incorrect'})\n",
    "df_agg.drop('correct', axis=1, inplace=True)\n",
    "\n",
    "plt.figure(figsize=(12,8))\n",
    "\n",
    "# Define the barplot using seaborn\n",
    "ax = sns.barplot(x='distance', y='count', hue='correctness', data=df_agg)\n",
    "\n",
    "# # Add labels and a title\n",
    "plt.xlabel('Score')\n",
    "plt.ylabel('Count')\n",
    "ax.legend(title=\"\") # , labels = ['Correct', 'Incorrect'])\n",
    "plt.title('Results by Score and Correctness')\n",
    "\n",
    "# # Display the plot\n",
    "plt.show()\n",
    "\n",
    "#######\n",
    "\"\"\"\n",
    "Interesting, because it shows that edit-distance around 8 would\n",
    "give the same results as counting first or last name as correct.\n",
    "\"\"\""
   ]
  },
  {
   "cell_type": "code",
   "execution_count": null,
   "id": "2301807f",
   "metadata": {},
   "outputs": [],
   "source": [
    "import seaborn as sns\n",
    "import pandas as pd\n",
    "\n",
    "\n",
    "## Plot by levensthein distance\n",
    "results = models['gpt-3.5-turbo']['results']['original']['all_results']\n",
    "\n",
    "# Convert the data to a pandas DataFrame\n",
    "df = pd.DataFrame({ 'distance': results['distance'], 'correct': results['correct']})\n",
    "df\n",
    "# # Group the data by score and correctness to count the entries with the same score\n",
    "df_agg = df.groupby(['distance', 'correct']).size().reset_index(name='count')\n",
    "\n",
    "# Map the values of the 'correct' column to their respective terms\n",
    "df_agg['correctness'] = df_agg['correct'].replace({1: 'correct', 0: 'incorrect'})\n",
    "df_agg.drop('correct', axis=1, inplace=True)\n",
    "\n",
    "plt.figure(figsize=(12,8))\n",
    "\n",
    "# Define the barplot using seaborn\n",
    "ax = sns.barplot(x='distance', y='count', hue='correctness', data=df_agg)\n",
    "\n",
    "# # Add labels and a title\n",
    "plt.xlabel('Score')\n",
    "plt.ylabel('Count')\n",
    "ax.legend(title=\"\") # , labels = ['Correct', 'Incorrect'])\n",
    "plt.title('Results by Score and Correctness')\n",
    "\n",
    "# # Display the plot\n",
    "plt.show()\n",
    "\n",
    "#######\n",
    "\"\"\"\n",
    "Interesting, because it shows that edit-distance around 8 would\n",
    "give the same results as counting first or last name as correct.\n",
    "\"\"\""
   ]
  },
  {
   "cell_type": "code",
   "execution_count": null,
   "id": "d57cd7b3",
   "metadata": {},
   "outputs": [],
   "source": [
    "# accuracy compared by model type (fill-mask, text-generation)"
   ]
  },
  {
   "cell_type": "markdown",
   "id": "6b0b787f",
   "metadata": {},
   "source": [
    "## Questions\n",
    "\n",
    "- How do models react to input length? default is 1k characters\n",
    "- How do models compare with same default inputs\n",
    "- paraphrased vs original"
   ]
  },
  {
   "cell_type": "code",
   "execution_count": null,
   "id": "0e6e8e2c",
   "metadata": {},
   "outputs": [],
   "source": [
    "# write results to json file\n",
    "import json\n",
    "file_name = result_path.split(\"/\")[-1].split(\".\")[0]\n",
    "save_path = f\"results-{file_name}.json\"\n",
    "print(f\"Writing results to {save_path}\")\n",
    "results.to_json(save_path)"
   ]
  },
  {
   "cell_type": "code",
   "execution_count": null,
   "id": "5dbe8100",
   "metadata": {},
   "outputs": [],
   "source": []
  },
  {
   "cell_type": "markdown",
   "id": "a7a91e5e",
   "metadata": {},
   "source": [
    "# Playground"
   ]
  },
  {
   "cell_type": "code",
   "execution_count": null,
   "id": "4e020663",
   "metadata": {},
   "outputs": [],
   "source": [
    "df = pd.read_csv('wiki_predictions_bloomz-3b_paraphrased.jsonl')\n",
    "df"
   ]
  },
  {
   "cell_type": "code",
   "execution_count": null,
   "id": "5fd6a812",
   "metadata": {},
   "outputs": [],
   "source": []
  },
  {
   "cell_type": "code",
   "execution_count": null,
   "id": "c8fef6af",
   "metadata": {},
   "outputs": [],
   "source": []
  },
  {
   "cell_type": "markdown",
   "id": "3ee9f39d",
   "metadata": {},
   "source": [
    "# all bloomz compared"
   ]
  },
  {
   "cell_type": "code",
   "execution_count": null,
   "id": "04fb47f5",
   "metadata": {},
   "outputs": [],
   "source": [
    "bloomz_models = {\n",
    "    \n",
    "}"
   ]
  },
  {
   "cell_type": "code",
   "execution_count": null,
   "id": "bfa4e94e",
   "metadata": {},
   "outputs": [],
   "source": []
  }
 ],
 "metadata": {
  "kernelspec": {
   "display_name": "Python 3 (ipykernel)",
   "language": "python",
   "name": "python3"
  },
  "language_info": {
   "codemirror_mode": {
    "name": "ipython",
    "version": 3
   },
   "file_extension": ".py",
   "mimetype": "text/x-python",
   "name": "python",
   "nbconvert_exporter": "python",
   "pygments_lexer": "ipython3",
   "version": "3.8.10"
  }
 },
 "nbformat": 4,
 "nbformat_minor": 5
}
