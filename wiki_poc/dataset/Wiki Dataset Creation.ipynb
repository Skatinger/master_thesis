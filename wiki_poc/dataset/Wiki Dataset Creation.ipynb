{
 "cells": [
  {
   "cell_type": "markdown",
   "id": "3dc62f84",
   "metadata": {},
   "source": [
    "# Build and analyze base dataset\n",
    "\n",
    "To build an entity reidentification on wikipedia articles, a base dataset is required. For that the following steps are required:\n",
    "\n",
    "#### Retrieve Base Data\n",
    "- retrieve a list of all pages concerning persons on wikipedia\n",
    "- retrieve a list of all wikipedia page texts for those persons\n",
    "- combine both lists to a usable dataset\n",
    "\n",
    "#### Cleaning\n",
    "- preprocess texts by:\n",
    "  - splitting texts into sentences\n",
    "  - trimming the texts to the maximum length allowed by our model / performance limit\n",
    " \n",
    "#### Preprocessing\n",
    "  - paraphrasing sentences to harden the problem of predicting masked entities as sentences are now unknown to the trained model\n",
    "  - recognize the entity within the text by\n",
    "    - using regex\n",
    "    - using NER models\n",
    "  - mask recognized entities\n",
    "\n",
    "#### Analyzing\n",
    "- Compare regex vs NER for entity recognition\n",
    "- Compare paraphrasing vs no paraphrasing in terms of occurences of named entity\n",
    "- \n",
    "  "
   ]
  },
  {
   "cell_type": "markdown",
   "id": "a1f1be49",
   "metadata": {},
   "source": [
    "## Retrieve Base Data"
   ]
  },
  {
   "cell_type": "code",
   "execution_count": 11,
   "id": "bf0826fe",
   "metadata": {
    "scrolled": false
   },
   "outputs": [
    {
     "name": "stderr",
     "output_type": "stream",
     "text": [
      "Reusing dataset wikipedia (/home/nya/.cache/huggingface/datasets/wikipedia/20220301.en/2.0.0/aa542ed919df55cc5d3347f42dd4521d05ca68751f50dbc32bae2a7f1e167559)\n"
     ]
    }
   ],
   "source": [
    "# retrieve full wiki dataset\n",
    "from datasets import load_dataset\n",
    "dataset = load_dataset(\"wikipedia\", \"20220301.en\", split=\"train\") # use train split, as it only has train, no other splits"
   ]
  },
  {
   "cell_type": "code",
   "execution_count": 2,
   "id": "71c3dec3",
   "metadata": {},
   "outputs": [
    {
     "data": {
      "text/plain": [
       "['George Washington',\n",
       " 'Pierre Corneille',\n",
       " 'Kofi Annan',\n",
       " 'George W. Bush',\n",
       " 'Douglas Adams',\n",
       " 'Leonard Cohen',\n",
       " 'Abel Mutai',\n",
       " 'Oscar Luigi Scalfaro',\n",
       " 'Charles Baudelaire',\n",
       " 'Plato']"
      ]
     },
     "execution_count": 2,
     "metadata": {},
     "output_type": "execute_result"
    }
   ],
   "source": [
    "# retrieve 30k of wikipedia persons (approx max. allowed return)\n",
    "from custom.wiki import query_wiki_persons\n",
    "persons = query_wiki_persons(10)\n",
    "persons"
   ]
  },
  {
   "cell_type": "code",
   "execution_count": 10,
   "id": "23b8833f",
   "metadata": {},
   "outputs": [],
   "source": [
    "# concat datasets\n",
    "from custom.wiki import extract_text\n",
    "import pandas as pd\n",
    "\n",
    "articles = extract_text(dataset, persons)\n",
    "df = pd.DataFrame(articles)"
   ]
  },
  {
   "cell_type": "code",
   "execution_count": 8,
   "id": "5a0b3984",
   "metadata": {},
   "outputs": [],
   "source": []
  },
  {
   "cell_type": "code",
   "execution_count": 9,
   "id": "b0c31ec4",
   "metadata": {},
   "outputs": [
    {
     "data": {
      "text/html": [
       "<div>\n",
       "<style scoped>\n",
       "    .dataframe tbody tr th:only-of-type {\n",
       "        vertical-align: middle;\n",
       "    }\n",
       "\n",
       "    .dataframe tbody tr th {\n",
       "        vertical-align: top;\n",
       "    }\n",
       "\n",
       "    .dataframe thead th {\n",
       "        text-align: right;\n",
       "    }\n",
       "</style>\n",
       "<table border=\"1\" class=\"dataframe\">\n",
       "  <thead>\n",
       "    <tr style=\"text-align: right;\">\n",
       "      <th></th>\n",
       "      <th>id</th>\n",
       "      <th>url</th>\n",
       "      <th>title</th>\n",
       "      <th>text</th>\n",
       "    </tr>\n",
       "  </thead>\n",
       "  <tbody>\n",
       "    <tr>\n",
       "      <th>0</th>\n",
       "      <td>11968</td>\n",
       "      <td>https://en.wikipedia.org/wiki/George%20Washington</td>\n",
       "      <td>George Washington</td>\n",
       "      <td>George Washington (February 22, 1732, 1799) wa...</td>\n",
       "    </tr>\n",
       "    <tr>\n",
       "      <th>1</th>\n",
       "      <td>58193</td>\n",
       "      <td>https://en.wikipedia.org/wiki/Pierre%20Corneille</td>\n",
       "      <td>Pierre Corneille</td>\n",
       "      <td>Pierre Corneille (; 6 June 1606 – 1 October 16...</td>\n",
       "    </tr>\n",
       "    <tr>\n",
       "      <th>2</th>\n",
       "      <td>23192127</td>\n",
       "      <td>https://en.wikipedia.org/wiki/Ashton%20Eaton</td>\n",
       "      <td>Ashton Eaton</td>\n",
       "      <td>Ashton James Eaton (born January 21, 1988) is ...</td>\n",
       "    </tr>\n",
       "    <tr>\n",
       "      <th>3</th>\n",
       "      <td>26260416</td>\n",
       "      <td>https://en.wikipedia.org/wiki/Abel%20Mutai</td>\n",
       "      <td>Abel Mutai</td>\n",
       "      <td>Abel Kiprop Mutai (born 2 October 1988) is a K...</td>\n",
       "    </tr>\n",
       "    <tr>\n",
       "      <th>4</th>\n",
       "      <td>33616917</td>\n",
       "      <td>https://en.wikipedia.org/wiki/%C3%89rick%20Bar...</td>\n",
       "      <td>Érick Barrondo</td>\n",
       "      <td>Érick Bernabé Barrondo García (born 14 June 19...</td>\n",
       "    </tr>\n",
       "    <tr>\n",
       "      <th>5</th>\n",
       "      <td>22954</td>\n",
       "      <td>https://en.wikipedia.org/wiki/Plato</td>\n",
       "      <td>Plato</td>\n",
       "      <td>Plato ( ;  ; 428/427 or 424/423 – 348/347 BC) ...</td>\n",
       "    </tr>\n",
       "    <tr>\n",
       "      <th>6</th>\n",
       "      <td>8091</td>\n",
       "      <td>https://en.wikipedia.org/wiki/Douglas%20Adams</td>\n",
       "      <td>Douglas Adams</td>\n",
       "      <td>Douglas Noel Adams (11 March 1952 – 11 May 200...</td>\n",
       "    </tr>\n",
       "    <tr>\n",
       "      <th>7</th>\n",
       "      <td>5804</td>\n",
       "      <td>https://en.wikipedia.org/wiki/Charles%20Baudel...</td>\n",
       "      <td>Charles Baudelaire</td>\n",
       "      <td>Charles Pierre Baudelaire (, ; ; 9 April 1821 ...</td>\n",
       "    </tr>\n",
       "    <tr>\n",
       "      <th>8</th>\n",
       "      <td>2346975</td>\n",
       "      <td>https://en.wikipedia.org/wiki/Ban%20Ki-moon</td>\n",
       "      <td>Ban Ki-moon</td>\n",
       "      <td>Ban Ki-moon (; ; born 13 June 1944) is a South...</td>\n",
       "    </tr>\n",
       "    <tr>\n",
       "      <th>9</th>\n",
       "      <td>16844</td>\n",
       "      <td>https://en.wikipedia.org/wiki/Kofi%20Annan</td>\n",
       "      <td>Kofi Annan</td>\n",
       "      <td>Kofi Atta Annan (; 8 April 193818 August 2018)...</td>\n",
       "    </tr>\n",
       "  </tbody>\n",
       "</table>\n",
       "</div>"
      ],
      "text/plain": [
       "         id                                                url  \\\n",
       "0     11968  https://en.wikipedia.org/wiki/George%20Washington   \n",
       "1     58193   https://en.wikipedia.org/wiki/Pierre%20Corneille   \n",
       "2  23192127       https://en.wikipedia.org/wiki/Ashton%20Eaton   \n",
       "3  26260416         https://en.wikipedia.org/wiki/Abel%20Mutai   \n",
       "4  33616917  https://en.wikipedia.org/wiki/%C3%89rick%20Bar...   \n",
       "5     22954                https://en.wikipedia.org/wiki/Plato   \n",
       "6      8091      https://en.wikipedia.org/wiki/Douglas%20Adams   \n",
       "7      5804  https://en.wikipedia.org/wiki/Charles%20Baudel...   \n",
       "8   2346975        https://en.wikipedia.org/wiki/Ban%20Ki-moon   \n",
       "9     16844         https://en.wikipedia.org/wiki/Kofi%20Annan   \n",
       "\n",
       "                title                                               text  \n",
       "0   George Washington  George Washington (February 22, 1732, 1799) wa...  \n",
       "1    Pierre Corneille  Pierre Corneille (; 6 June 1606 – 1 October 16...  \n",
       "2        Ashton Eaton  Ashton James Eaton (born January 21, 1988) is ...  \n",
       "3          Abel Mutai  Abel Kiprop Mutai (born 2 October 1988) is a K...  \n",
       "4      Érick Barrondo  Érick Bernabé Barrondo García (born 14 June 19...  \n",
       "5               Plato  Plato ( ;  ; 428/427 or 424/423 – 348/347 BC) ...  \n",
       "6       Douglas Adams  Douglas Noel Adams (11 March 1952 – 11 May 200...  \n",
       "7  Charles Baudelaire  Charles Pierre Baudelaire (, ; ; 9 April 1821 ...  \n",
       "8         Ban Ki-moon  Ban Ki-moon (; ; born 13 June 1944) is a South...  \n",
       "9          Kofi Annan  Kofi Atta Annan (; 8 April 193818 August 2018)...  "
      ]
     },
     "execution_count": 9,
     "metadata": {},
     "output_type": "execute_result"
    }
   ],
   "source": []
  }
 ],
 "metadata": {
  "kernelspec": {
   "display_name": "Python 3 (ipykernel)",
   "language": "python",
   "name": "python3"
  },
  "language_info": {
   "codemirror_mode": {
    "name": "ipython",
    "version": 3
   },
   "file_extension": ".py",
   "mimetype": "text/x-python",
   "name": "python",
   "nbconvert_exporter": "python",
   "pygments_lexer": "ipython3",
   "version": "3.8.10"
  }
 },
 "nbformat": 4,
 "nbformat_minor": 5
}
